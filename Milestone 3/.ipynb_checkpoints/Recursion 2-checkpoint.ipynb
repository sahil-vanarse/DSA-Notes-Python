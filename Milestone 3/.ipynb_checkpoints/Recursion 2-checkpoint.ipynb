{
 "cells": [
  {
   "cell_type": "code",
   "execution_count": 13,
   "id": "37038a17",
   "metadata": {},
   "outputs": [
    {
     "name": "stdout",
     "output_type": "stream",
     "text": [
      "hfsdefeiweiow\n",
      "w\n",
      "n\n"
     ]
    },
    {
     "data": {
      "text/plain": [
       "'hfsdefeineion'"
      ]
     },
     "execution_count": 13,
     "metadata": {},
     "output_type": "execute_result"
    }
   ],
   "source": [
    "def replaceChar(str, cur_val, cng_val):\n",
    "    if len(str) == 0:\n",
    "        return str\n",
    "    if str[0] == cur_val:\n",
    "        return cng_val + replaceChar(str[1:], cur_val, cng_val)\n",
    "    return str[0] + replaceChar(str[1:], cur_val, cng_val)\n",
    "\n",
    "str = input()\n",
    "cur_val = input()\n",
    "cng_val = input()\n",
    "replaceChar(str, cur_val, cng_val)"
   ]
  },
  {
   "cell_type": "code",
   "execution_count": 10,
   "id": "fe951802",
   "metadata": {},
   "outputs": [
    {
     "name": "stdout",
     "output_type": "stream",
     "text": [
      "sapihil\n"
     ]
    },
    {
     "data": {
      "text/plain": [
       "'sa3.14hil'"
      ]
     },
     "execution_count": 10,
     "metadata": {},
     "output_type": "execute_result"
    }
   ],
   "source": [
    "def replacePi(string):\n",
    "    if len(string) <= 1:\n",
    "        return string\n",
    "    if string[0] == \"p\" and string[1] == \"i\":\n",
    "        return \"3.14\" + replacePi(string[2:])\n",
    "    return string[0] + replacePi(string[1:])\n",
    "string = input()\n",
    "replacePi(string)"
   ]
  },
  {
   "cell_type": "code",
   "execution_count": 2,
   "id": "a1ec46cc",
   "metadata": {},
   "outputs": [
    {
     "name": "stdin",
     "output_type": "stream",
     "text": [
      " 1 2 3 4 5 6 7 8 9 10 11 12 13 14 15 16 17 18\n",
      " 15\n"
     ]
    },
    {
     "data": {
      "text/plain": [
       "14"
      ]
     },
     "execution_count": 2,
     "metadata": {},
     "output_type": "execute_result"
    }
   ],
   "source": [
    "#### binary search using recursion\n",
    "def binaryRecur(arr, target, start_index , end_index ):\n",
    "    if start_index > end_index:\n",
    "        return -1\n",
    "    mid = (start_index + end_index) // 2\n",
    "    if arr[mid] == target:\n",
    "        return mid\n",
    "    elif arr[mid] < target :\n",
    "        return binaryRecur(arr, target, mid + 1, end_index)\n",
    "    else:\n",
    "        return binaryRecur(arr, target, start_index , end_index = mid-1)\n",
    "\n",
    "arr = [int(x) for x in input().split()]\n",
    "target = int(input())\n",
    "binaryRecur(arr, target, 0, len(arr)-1)"
   ]
  },
  {
   "cell_type": "code",
   "execution_count": 39,
   "id": "edc3ccd0",
   "metadata": {},
   "outputs": [
    {
     "data": {
      "text/plain": [
       "[0, 1, 2, 3, 4, 5, 6, 7, 8, 34]"
      ]
     },
     "execution_count": 39,
     "metadata": {},
     "output_type": "execute_result"
    }
   ],
   "source": [
    "#### Merge Sort\n",
    "def mergeSort(arr1,left,right):\n",
    "    # check if the left portion is less than right\n",
    "    if left < right:\n",
    "        # pick out the middle part\n",
    "        mid = (left + right) // 2\n",
    "        \n",
    "        # assume that the both of the sub arrays are sorted by the PMI. Dont think much of it\n",
    "        mergeSort(arr1,left,mid)\n",
    "        mergeSort(arr1,mid+1,right)\n",
    "        \n",
    "        # we are calling the final call after merging the array\n",
    "        merge(arr1, left, mid, right)\n",
    "        \n",
    "        \n",
    "def merge(arr1, left, mid, right):\n",
    "    # left part means that from start ( 0 ) to the middle of the array\n",
    "    left_part = arr1[left:mid+1]\n",
    "    \n",
    "    # right part means that from middle to the end of the array\n",
    "    right_part = arr1[mid+1:right+1]\n",
    "    \n",
    "    \n",
    "    # len of both the sub arrays\n",
    "    left_len =  len(left_part)\n",
    "    right_len =  len(right_part)\n",
    "    \n",
    "    \n",
    "    # i and j are the indexing for the two sub arrays\n",
    "    i = 0\n",
    "    j = 0\n",
    "    \n",
    "    # k is the indexing for the final array as it is given left means that we have passed 0 in the above function\n",
    "    # so we have writtedn left means it is the indexing of the actual array full array\n",
    "    k = left\n",
    "    \n",
    "    while (i < left_len) and (j < right_len):\n",
    "        if left_part[i] < right_part[j]:\n",
    "            arr1[k] = left_part[i]\n",
    "            i = i + 1\n",
    "            k = k + 1\n",
    "        else:\n",
    "            arr1[k] = right_part[j]\n",
    "            j = j + 1\n",
    "            k = k + 1\n",
    "            \n",
    "    while i < left_len:\n",
    "        arr1[k] = left_part[i]\n",
    "        i = i + 1\n",
    "        k = k + 1\n",
    "        \n",
    "    while j < right_len:\n",
    "        arr1[k] = right_part[j]\n",
    "        j = j + 1\n",
    "        k = k + 1\n",
    "        \n",
    "\n",
    "arr1 = [8,2,5,7,1,3,4,6,0,34]\n",
    "mergeSort(arr1,left = 0,right = len(arr1)-1)\n",
    "arr1"
   ]
  },
  {
   "cell_type": "code",
   "execution_count": 2,
   "id": "d356b84c",
   "metadata": {},
   "outputs": [
    {
     "name": "stdout",
     "output_type": "stream",
     "text": [
      "Sorted Array in Ascending Order:\n",
      "[0, 1, 2, 3, 4, 5, 6, 7, 8, 34]\n"
     ]
    }
   ],
   "source": [
    "# it is using list comprehension\n",
    "def quicksort(arr):\n",
    "    if len(arr) <= 1:\n",
    "        return arr\n",
    "    else:\n",
    "        pivot = arr[0]\n",
    "        left = [x for x in arr[1:] if x < pivot]\n",
    "        right = [x for x in arr[1:] if x >= pivot]\n",
    "        return quicksort(left) + [pivot] + quicksort(right)\n",
    " \n",
    "# Example usage\n",
    "arr = [8,2,5,7,1,3,4,6,0,34]\n",
    "sorted_arr = quicksort(arr)\n",
    "print(\"Sorted Array in Ascending Order:\")\n",
    "print(sorted_arr)"
   ]
  },
  {
   "cell_type": "code",
   "execution_count": 46,
   "id": "abf3297f",
   "metadata": {},
   "outputs": [
    {
     "data": {
      "text/plain": [
       "[0, 1, 2, 3, 4, 5, 6, 7, 8, 34]"
      ]
     },
     "execution_count": 46,
     "metadata": {},
     "output_type": "execute_result"
    }
   ],
   "source": [
    "# simplest way to do quicksort\n",
    "def quickSort(arr):\n",
    "    if len(arr) <= 1:\n",
    "        return arr\n",
    "    else:\n",
    "        # pivot will contain last element of the array\n",
    "        pivot = arr.pop()\n",
    "\n",
    "    # now create array for greater element\n",
    "    greater = []\n",
    "\n",
    "    # now create array for greater element\n",
    "    lower = []\n",
    "\n",
    "    # now check for the the elements present in the array are smaller or greater\n",
    "    for i in range(len(arr)):\n",
    "        if arr[i] > pivot:\n",
    "            greater.append(arr[i])\n",
    "        else:\n",
    "            lower.append(arr[i])\n",
    "\n",
    "    # we have to do this for all the sub arrays\n",
    "    return quickSort(lower) + [pivot] + quickSort(greater)\n",
    "\n",
    "arr = [8,2,5,7,1,3,4,6,0,34]\n",
    "quickSort(arr)"
   ]
  },
  {
   "cell_type": "code",
   "execution_count": 2,
   "id": "f63c5f24",
   "metadata": {},
   "outputs": [
    {
     "name": "stdout",
     "output_type": "stream",
     "text": [
      "move 1st disc from  src  to dest\n",
      "move  2  th disc from  src  to  hlp\n",
      "move 1st disc from  dest  to hlp\n",
      "move  3  th disc from  src  to  dest\n",
      "move 1st disc from  hlp  to src\n",
      "move  2  th disc from  hlp  to  dest\n",
      "move 1st disc from  src  to dest\n"
     ]
    }
   ],
   "source": [
    "### tower of hanoi\n",
    "def tower_hanoi(n, src, hlp, dest):\n",
    "    # if n == 1 means that we dont need helper directly move from src to dest\n",
    "    if n == 1:\n",
    "        print(\"move 1st disc from \",src,\" to\",dest)\n",
    "        return\n",
    "    \n",
    "    # here as we done n-1 means suppose we have taken 3disc 2 will be moved to the help and 1 will be moved to the dest\n",
    "    tower_hanoi(n-1, src, dest, hlp)\n",
    "    print(\"move \",n,\" th disc from \", src,\" to \", dest)\n",
    "    \n",
    "    # here at the end hlp will have 2 tower and src will be empty then using src as help we can move other tower from\n",
    "    # hlp to dest\n",
    "    tower_hanoi(n-1, hlp, src, dest)\n",
    "tower_hanoi(3, \"src\", \"hlp\", \"dest\")   "
   ]
  },
  {
   "cell_type": "code",
   "execution_count": null,
   "id": "12a1e99a",
   "metadata": {},
   "outputs": [],
   "source": []
  }
 ],
 "metadata": {
  "kernelspec": {
   "display_name": "Python 3 (ipykernel)",
   "language": "python",
   "name": "python3"
  },
  "language_info": {
   "codemirror_mode": {
    "name": "ipython",
    "version": 3
   },
   "file_extension": ".py",
   "mimetype": "text/x-python",
   "name": "python",
   "nbconvert_exporter": "python",
   "pygments_lexer": "ipython3",
   "version": "3.10.7"
  }
 },
 "nbformat": 4,
 "nbformat_minor": 5
}
