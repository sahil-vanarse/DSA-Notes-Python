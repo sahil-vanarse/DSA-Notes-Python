{
 "cells": [
  {
   "cell_type": "markdown",
   "id": "3752dc15",
   "metadata": {},
   "source": [
    "# Self is not a keyword in python it is convention (we can use anything in place of self but self improves code readbility)"
   ]
  },
  {
   "cell_type": "markdown",
   "id": "be059351",
   "metadata": {},
   "source": [
    "# Inheritance"
   ]
  },
  {
   "cell_type": "code",
   "execution_count": 54,
   "id": "aef76fc3",
   "metadata": {},
   "outputs": [
    {
     "name": "stdout",
     "output_type": "stream",
     "text": [
      "This is best dumble\n",
      "deepen.jpg\n"
     ]
    },
    {
     "data": {
      "text/plain": [
       "True"
      ]
     },
     "execution_count": 54,
     "metadata": {},
     "output_type": "execute_result"
    }
   ],
   "source": [
    "# In this example we see that both the classes are completed\n",
    "class Product:\n",
    "    def __init__(self,description, img):\n",
    "        self.description = description\n",
    "        self.img = img\n",
    "       \n",
    "    def print_product_description(self):\n",
    "        print(self.description)\n",
    "        print(self.img)\n",
    "        \n",
    "class LightWeightProduct(Product):\n",
    "    max_weight = 5\n",
    "    \n",
    "    def __init__(self, description, img, weight):\n",
    "        self.weight = weight\n",
    "        \n",
    "        # to access the parent class data to the child class we use super()\n",
    "        super().__init__(description,img)\n",
    "        \n",
    "    def validate_weight(self):\n",
    "        return self.weight <= self.max_weight\n",
    "    \n",
    "obj = LightWeightProduct(\"This is best dumble\", \"deepen.jpg\", 2)\n",
    "\n",
    "# Call the parent class method using the child class object\n",
    "obj.print_product_description()\n",
    "\n",
    "# Call the validate_weight method\n",
    "obj.validate_weight()"
   ]
  },
  {
   "cell_type": "code",
   "execution_count": 2,
   "id": "e0455b0d",
   "metadata": {},
   "outputs": [
    {
     "data": {
      "text/plain": [
       "['__class__',\n",
       " '__delattr__',\n",
       " '__dict__',\n",
       " '__dir__',\n",
       " '__doc__',\n",
       " '__eq__',\n",
       " '__format__',\n",
       " '__ge__',\n",
       " '__getattribute__',\n",
       " '__gt__',\n",
       " '__hash__',\n",
       " '__init__',\n",
       " '__init_subclass__',\n",
       " '__le__',\n",
       " '__lt__',\n",
       " '__module__',\n",
       " '__ne__',\n",
       " '__new__',\n",
       " '__reduce__',\n",
       " '__reduce_ex__',\n",
       " '__repr__',\n",
       " '__setattr__',\n",
       " '__sizeof__',\n",
       " '__str__',\n",
       " '__subclasshook__',\n",
       " '__weakref__',\n",
       " 'description',\n",
       " 'img',\n",
       " 'max_weight',\n",
       " 'print_product_description',\n",
       " 'validate_weight',\n",
       " 'weight']"
      ]
     },
     "execution_count": 2,
     "metadata": {},
     "output_type": "execute_result"
    }
   ],
   "source": [
    "dir(obj)"
   ]
  },
  {
   "cell_type": "code",
   "execution_count": 3,
   "id": "ff43eef3",
   "metadata": {},
   "outputs": [
    {
     "name": "stdout",
     "output_type": "stream",
     "text": [
      "This is best Bat\n"
     ]
    }
   ],
   "source": [
    "# In this example we see that Parent class is completed but the child class is empty\n",
    "# bu still we can create a child class object pass the values in it and get the parent class details\n",
    "# Parent class comes to the child class if the child class is totally empty\n",
    "# Parent class __init__ method will get overridden by the child class __init__ method\n",
    "\n",
    "class Product:\n",
    "    def __init__(self,description):\n",
    "        self.description = description\n",
    "       \n",
    "    def print_product_description(self):\n",
    "        print(self.description)\n",
    "               \n",
    "class LightWeightProduct(Product):\n",
    "    pass\n",
    "\n",
    "\n",
    "obj1= LightWeightProduct(\"This is best Bat\")\n",
    "\n",
    "# Call the parent class method using the child class object\n",
    "obj1.print_product_description()"
   ]
  },
  {
   "cell_type": "markdown",
   "id": "bdba0140",
   "metadata": {},
   "source": [
    "# Accessing Parent class attributes"
   ]
  },
  {
   "cell_type": "code",
   "execution_count": 4,
   "id": "035aaacd",
   "metadata": {},
   "outputs": [
    {
     "data": {
      "text/plain": [
       "1000"
      ]
     },
     "execution_count": 4,
     "metadata": {},
     "output_type": "execute_result"
    }
   ],
   "source": [
    "class Product:\n",
    "    def __init__(self, price):\n",
    "        self.price = price\n",
    "        \n",
    "class Light(Product):\n",
    "    def getPrice(self):\n",
    "        return self.price\n",
    "\n",
    "# as here our child class does not have any input it will automaticlly calls parent class\n",
    "p = Light(1000)\n",
    "p.getPrice()"
   ]
  },
  {
   "cell_type": "code",
   "execution_count": 8,
   "id": "9e9dca11",
   "metadata": {},
   "outputs": [
    {
     "name": "stdout",
     "output_type": "stream",
     "text": [
      "This is best dumble\n"
     ]
    }
   ],
   "source": [
    "# In this example we see that both the classes are completed\n",
    "class Product:\n",
    "    def __init__(self,description):\n",
    "        self.__description = description\n",
    "       \n",
    "    def print_product_description(self):\n",
    "        print(self.__description)\n",
    "        \n",
    "class LightWeightProduct(Product):\n",
    "    max_weight = 5\n",
    "    \n",
    "    def __init__(self, description, weight):\n",
    "        self.weight = weight\n",
    "        \n",
    "        # to access the parent class data to the child class we use super()\n",
    "        super().__init__(description)\n",
    "        \n",
    "    def validate_weight(self):\n",
    "        return self.weight <= self.max_weight\n",
    "    \n",
    "obj = LightWeightProduct(\"This is best dumble\", 2)\n",
    "\n",
    "# Call the parent class method using the child class object\n",
    "obj.print_product_description()\n"
   ]
  },
  {
   "cell_type": "code",
   "execution_count": 50,
   "id": "c82e7dc0",
   "metadata": {},
   "outputs": [
    {
     "ename": "AttributeError",
     "evalue": "'LightWeightProduct' object has no attribute '_LightWeightProduct__description'",
     "output_type": "error",
     "traceback": [
      "\u001b[1;31m---------------------------------------------------------------------------\u001b[0m",
      "\u001b[1;31mAttributeError\u001b[0m                            Traceback (most recent call last)",
      "Cell \u001b[1;32mIn[50], line 28\u001b[0m\n\u001b[0;32m     25\u001b[0m obj \u001b[38;5;241m=\u001b[39m LightWeightProduct(\u001b[38;5;124m\"\u001b[39m\u001b[38;5;124mThis is best dumble\u001b[39m\u001b[38;5;124m\"\u001b[39m, \u001b[38;5;241m2\u001b[39m)\n\u001b[0;32m     27\u001b[0m \u001b[38;5;66;03m# Call the parent class method using the child class object\u001b[39;00m\n\u001b[1;32m---> 28\u001b[0m \u001b[43mobj\u001b[49m\u001b[38;5;241;43m.\u001b[39;49m\u001b[43mgetDescription\u001b[49m\u001b[43m(\u001b[49m\u001b[43m)\u001b[49m\n",
      "Cell \u001b[1;32mIn[50], line 23\u001b[0m, in \u001b[0;36mLightWeightProduct.getDescription\u001b[1;34m(self)\u001b[0m\n\u001b[0;32m     22\u001b[0m \u001b[38;5;28;01mdef\u001b[39;00m \u001b[38;5;21mgetDescription\u001b[39m(\u001b[38;5;28mself\u001b[39m):\n\u001b[1;32m---> 23\u001b[0m     \u001b[38;5;28mprint\u001b[39m(\u001b[38;5;28;43mself\u001b[39;49m\u001b[38;5;241;43m.\u001b[39;49m\u001b[43m__description\u001b[49m)\n",
      "\u001b[1;31mAttributeError\u001b[0m: 'LightWeightProduct' object has no attribute '_LightWeightProduct__description'"
     ]
    }
   ],
   "source": [
    "# In this example we see that both the classes are completed\n",
    "class Product:\n",
    "    def __init__(self,description):\n",
    "        self.__description = description\n",
    "       \n",
    "    def print_product_description(self):\n",
    "        print(self.__description)\n",
    "        \n",
    "class LightWeightProduct(Product):\n",
    "    max_weight = 5\n",
    "    \n",
    "    def __init__(self, description, weight):\n",
    "        self.weight = weight\n",
    "        \n",
    "        # to access the parent class data to the child class we use super()\n",
    "        super().__init__(description)\n",
    "        \n",
    "    def validate_weight(self):\n",
    "        return self.weight <= self.max_weight\n",
    "    \n",
    "# if we directly type __description as it is private we will get error as python stops us to use private variable in other class\n",
    "    def getDescription(self):\n",
    "        print(self.__description)\n",
    "    \n",
    "obj = LightWeightProduct(\"This is best dumble\", 2)\n",
    "\n",
    "# Call the parent class method using the child class object\n",
    "obj.getDescription()"
   ]
  },
  {
   "cell_type": "code",
   "execution_count": 32,
   "id": "a6376add",
   "metadata": {},
   "outputs": [
    {
     "name": "stdout",
     "output_type": "stream",
     "text": [
      "This is best dumble\n",
      "None\n",
      "This is best dumble\n",
      "None\n"
     ]
    }
   ],
   "source": [
    "# In this example we see that both the classes are completed\n",
    "class Product:\n",
    "    def __init__(self,description):\n",
    "        self.__description = description\n",
    "       \n",
    "    def print_product_description(self):\n",
    "        print(self.__description)\n",
    "        \n",
    "class LightWeightProduct(Product):\n",
    "    max_weight = 5\n",
    "    \n",
    "    def __init__(self, description, weight):\n",
    "        self.weight = weight\n",
    "        \n",
    "        # to access the parent class data to the child class we use super()\n",
    "        super().__init__(description)\n",
    "    \n",
    "    # But still we can access it using its parent class name as suffix or the method name present in the parent class\n",
    "    def getDescription(self):\n",
    "        print(self._Product__description)\n",
    "        \n",
    "    # another method is to use parent class method \n",
    "    def getDes(self):\n",
    "        print(self.print_product_description())\n",
    "    \n",
    "obj = LightWeightProduct(\"This is best dumble\", 2)\n",
    "\n",
    "# Call the parent class method using the child class object\n",
    "print(obj.getDescription())\n",
    "obj.getDes()"
   ]
  },
  {
   "cell_type": "code",
   "execution_count": 31,
   "id": "40c7f35e",
   "metadata": {},
   "outputs": [
    {
     "name": "stdout",
     "output_type": "stream",
     "text": [
      "After 15% discount :  340.0 \n",
      " And is Parent class discount that taken from the user is below:\n"
     ]
    },
    {
     "data": {
      "text/plain": [
       "306.0"
      ]
     },
     "execution_count": 31,
     "metadata": {},
     "output_type": "execute_result"
    }
   ],
   "source": [
    "\n",
    "class Product:\n",
    "    def __init__(self,description,price,discount):\n",
    "        self.description = description\n",
    "        self.price = price\n",
    "        self.discount = discount\n",
    "        \n",
    "    def __calculateDiscountedPrice(self):\n",
    "        return self.price - self.price * self.discount\n",
    "       \n",
    "    def getPrice(self):\n",
    "        # we are using private method below\n",
    "        return self.__calculateDiscountedPrice()\n",
    "        \n",
    "class LightWeightProduct(Product):\n",
    "    \n",
    "    def __init__(self, description,price, dicount, weight):\n",
    "        self.weight = weight\n",
    "        \n",
    "        # to access the parent class data to the child class we use super()\n",
    "        super().__init__(description,price, dicount)\n",
    "     \n",
    "    def getPrice(self):\n",
    "        self.price = self.price - self.price * 0.15\n",
    "        print(\"After 15% discount : \",self.price,\"\\n And is Parent class discount that taken from the user is below:\")\n",
    "        # and we are calling parent class discount after the child class discount\n",
    "        return super().getPrice()\n",
    "    \n",
    "    \n",
    "obj = LightWeightProduct(\"This is best dumble\", 400,0.1,5)\n",
    "\n",
    "# Call the parent class method using the child class object\n",
    "obj.getPrice()"
   ]
  },
  {
   "cell_type": "markdown",
   "id": "37ccda04",
   "metadata": {},
   "source": [
    "# Protected Members"
   ]
  },
  {
   "cell_type": "code",
   "execution_count": 78,
   "id": "c2d2f604",
   "metadata": {},
   "outputs": [
    {
     "data": {
      "text/plain": [
       "'Mobile'"
      ]
     },
     "execution_count": 78,
     "metadata": {},
     "output_type": "execute_result"
    }
   ],
   "source": [
    "class Product:\n",
    "    def __init__(self, description):\n",
    "        self._description = description\n",
    "     \n",
    "class Light(Product):\n",
    "    def printVal(self):\n",
    "        return self._description\n",
    "\n",
    "obj = Light(\"Mobile\")\n",
    "obj.printVal()"
   ]
  },
  {
   "cell_type": "markdown",
   "id": "29519e33",
   "metadata": {},
   "source": [
    "# str and repr"
   ]
  },
  {
   "cell_type": "code",
   "execution_count": 60,
   "id": "3ef1bf18",
   "metadata": {},
   "outputs": [
    {
     "name": "stdout",
     "output_type": "stream",
     "text": [
      "<__main__.Ocean object at 0x00000227738A5D80>\n",
      "<__main__.Ocean object at 0x00000227738A5D80>\n",
      "<__main__.Ocean object at 0x00000227738A5D80>\n"
     ]
    }
   ],
   "source": [
    "class Ocean:\n",
    "    def __init__(self, sea_creature_name, sea_creature_age):\n",
    "        self.sea_creature_name = sea_creature_name\n",
    "        self.sea_creature_age = sea_creature_age\n",
    "    \n",
    "ocean = Ocean(\"Jelly Fish\", 5)\n",
    "print(ocean)\n",
    "print(str(ocean))\n",
    "print(repr(ocean))"
   ]
  },
  {
   "cell_type": "code",
   "execution_count": 75,
   "id": "de9457c7",
   "metadata": {},
   "outputs": [
    {
     "name": "stdout",
     "output_type": "stream",
     "text": [
      "Name = Jelly Fish and Age = 5\n",
      "Name = Jelly Fish and Age = 5\n",
      "Ocean ('Jelly Fish', 5)\n"
     ]
    }
   ],
   "source": [
    "class Ocean:\n",
    "    def __init__(self, sea_creature_name, sea_creature_age):\n",
    "        self.sea_creature_name = sea_creature_name\n",
    "        self.sea_creature_age = sea_creature_age\n",
    "    \n",
    "    # str\n",
    "    def __str__(self):\n",
    "        return f'Name = {self.sea_creature_name} and Age = {self.sea_creature_age}'\n",
    "        \n",
    "    # repr\n",
    "    def __repr__(self):\n",
    "        return f'Ocean (\\'{self.sea_creature_name}\\', {self.sea_creature_age})'\n",
    "    \n",
    "ocean = Ocean(\"Jelly Fish\", 5)\n",
    "print(ocean)\n",
    "print(str(ocean))\n",
    "print(repr(ocean))"
   ]
  },
  {
   "cell_type": "markdown",
   "id": "994c0ed7",
   "metadata": {},
   "source": [
    "# Types of Inheritance Part - 1"
   ]
  },
  {
   "cell_type": "markdown",
   "id": "83482753",
   "metadata": {},
   "source": [
    "### Single Inheritance : Contains 1 parent and 1 child class"
   ]
  },
  {
   "cell_type": "code",
   "execution_count": 25,
   "id": "c51cc068",
   "metadata": {},
   "outputs": [
    {
     "name": "stdout",
     "output_type": "stream",
     "text": [
      "Start Engine\n",
      "Accelarating\n",
      "Braking\n"
     ]
    }
   ],
   "source": [
    "# Parent class\n",
    "class Vehicle:\n",
    "    def startEngine(self):\n",
    "        print(\"Start Engine\")\n",
    "\n",
    "# child class\n",
    "class Bike(Vehicle):\n",
    "    def __init__(self,make,model,year):\n",
    "        # when we are doing only single inherit we can use super() as well as parent class name\n",
    "        Vehicle().__init__()\n",
    "        self.make = make\n",
    "        self.model = model\n",
    "        self.year = year\n",
    "        \n",
    "    def accelarate(self):\n",
    "        print(\"Accelarating\")\n",
    "        \n",
    "    def brake(self):\n",
    "        print(\"Braking\")\n",
    "        \n",
    "bike = Bike(\"Ford\", \"Mustang\", 2017)\n",
    "bike.startEngine()\n",
    "bike.accelarate()\n",
    "bike.brake()"
   ]
  },
  {
   "cell_type": "markdown",
   "id": "7e2664c2",
   "metadata": {},
   "source": [
    "### Multiple Inheritance : child class derived from two or more parent class"
   ]
  },
  {
   "cell_type": "code",
   "execution_count": 89,
   "id": "05cfa9a0",
   "metadata": {},
   "outputs": [
    {
     "name": "stdout",
     "output_type": "stream",
     "text": [
      "Calling\n",
      "Send Message\n",
      "Searching\n",
      "Send Email\n",
      "Mobile Name :  Samsung  | Model :  S23 Ultra\n"
     ]
    }
   ],
   "source": [
    "# Parent 1class\n",
    "class Phone:\n",
    "    def makeCall(self):\n",
    "        print(\"Calling\")\n",
    "        \n",
    "    def sendMessage(self):\n",
    "        print(\"Send Message\")\n",
    "\n",
    "# Parent 2 class\n",
    "class Computer:\n",
    "    def search(self):\n",
    "        print(\"Searching\")\n",
    "        \n",
    "    def sendEmail(self):\n",
    "        print(\"Send Email\")\n",
    "        \n",
    "# child class\n",
    "class SmartPhone(Phone, Computer):\n",
    "    def __init__(self,name,model):\n",
    "        self.name = name\n",
    "        self.model = model\n",
    "    \n",
    "    def printSmart(self):\n",
    "        print(\"Mobile Name : \",self.name,\" | Model : \",self.model)\n",
    "        \n",
    "smrtphn = SmartPhone(\"Samsung\", \"S23 Ultra\")\n",
    "smrtphn.makeCall()\n",
    "smrtphn.sendMessage()\n",
    "smrtphn.search()\n",
    "smrtphn.sendEmail()\n",
    "smrtphn.printSmart()"
   ]
  },
  {
   "cell_type": "markdown",
   "id": "d8955aa0",
   "metadata": {},
   "source": [
    "### Multi-Level Inheritance : sub child class inherit from child class and child class inherit from parent class"
   ]
  },
  {
   "cell_type": "code",
   "execution_count": 91,
   "id": "09d252ce",
   "metadata": {},
   "outputs": [
    {
     "name": "stdout",
     "output_type": "stream",
     "text": [
      "Lal mani\n",
      "Grandfather name : Lal mani\n",
      "Father name : Rampal\n",
      "Son name : Prince\n"
     ]
    }
   ],
   "source": [
    "\n",
    "\n",
    "class Grandfather:\n",
    "\n",
    "\tdef __init__(self, grandfathername):\n",
    "\t\tself.grandfathername = grandfathername\n",
    "\n",
    "# Intermediate class\n",
    "\n",
    "\n",
    "class Father(Grandfather):\n",
    "\tdef __init__(self, fathername, grandfathername):\n",
    "\t\tself.fathername = fathername\n",
    "\n",
    "\t\t# invoking constructor of Grandfather class\n",
    "\t\tGrandfather.__init__(self, grandfathername)\n",
    "\n",
    "# Derived class\n",
    "\n",
    "\n",
    "class Son(Father):\n",
    "\tdef __init__(self, sonname, fathername, grandfathername):\n",
    "\t\tself.sonname = sonname\n",
    "\n",
    "\t\t# invoking constructor of Father class\n",
    "\t\tFather.__init__(self, fathername, grandfathername)\n",
    "\n",
    "\tdef print_name(self):\n",
    "\t\tprint('Grandfather name :', self.grandfathername)\n",
    "\t\tprint(\"Father name :\", self.fathername)\n",
    "\t\tprint(\"Son name :\", self.sonname)\n",
    "\n",
    "\n",
    "# Driver code\n",
    "s1 = Son('Prince', 'Rampal', 'Lal mani')\n",
    "print(s1.grandfathername)\n",
    "s1.print_name()"
   ]
  },
  {
   "cell_type": "markdown",
   "id": "af1e32ef",
   "metadata": {},
   "source": [
    "### Heirarchical Inheritance : Multiple child classes inherit from single parent class"
   ]
  },
  {
   "cell_type": "code",
   "execution_count": 7,
   "id": "f8a54765",
   "metadata": {},
   "outputs": [
    {
     "name": "stdout",
     "output_type": "stream",
     "text": [
      "200\n",
      "16\n",
      "5\n"
     ]
    }
   ],
   "source": [
    "class Shape:\n",
    "    def cal_area(self):\n",
    "        pass\n",
    "\n",
    "class Rectriangle(Shape):\n",
    "    def __init__(self,length,width):\n",
    "        self.length = length\n",
    "        self.width = width\n",
    "    def cal_area(self):\n",
    "        return self.length * self.width\n",
    "    \n",
    "class Square(Shape):\n",
    "    def __init__(self, sqr):\n",
    "        self.sqr = sqr\n",
    "    def cal_area(self):\n",
    "        return self.sqr * self.sqr\n",
    "    \n",
    "class Triangle(Shape):\n",
    "    def __init__(self,height,base):\n",
    "        self.height = height\n",
    "        self.base = base\n",
    "    def cal_area(self):\n",
    "        return int(0.5 * self.height * self.base)\n",
    "    \n",
    "rec = Rectriangle(10,20)\n",
    "print(rec.cal_area())\n",
    "sqr = Square(4)\n",
    "print(sqr.cal_area())\n",
    "tri = Triangle(5,2)\n",
    "print(tri.cal_area())"
   ]
  },
  {
   "cell_type": "markdown",
   "id": "f95fae77",
   "metadata": {},
   "source": [
    "### Hybrid Inheritance : Combination of multiple and multi-level Inheritance"
   ]
  },
  {
   "cell_type": "code",
   "execution_count": 9,
   "id": "3c506ad1",
   "metadata": {},
   "outputs": [
    {
     "name": "stdout",
     "output_type": "stream",
     "text": [
      "This function is in school.\n",
      "This function is in student 1. \n",
      "This function is in student 3.\n"
     ]
    }
   ],
   "source": [
    "# Python program to demonstrate\n",
    "# hybrid inheritance\n",
    " \n",
    " \n",
    "class School:\n",
    "    def func1(self):\n",
    "        print(\"This function is in school.\")\n",
    " \n",
    " \n",
    "class Student1(School):\n",
    "    def func2(self):\n",
    "        print(\"This function is in student 1. \")\n",
    " \n",
    " \n",
    "class Student2(School):\n",
    "    def func3(self):\n",
    "        print(\"This function is in student 2.\")\n",
    " \n",
    " \n",
    "class Student3(Student1, School):\n",
    "    def func4(self):\n",
    "        print(\"This function is in student 3.\")\n",
    " \n",
    " \n",
    "# Driver's code\n",
    "object = Student3()\n",
    "object.func1()\n",
    "object.func2()\n",
    "object.func4()"
   ]
  },
  {
   "cell_type": "markdown",
   "id": "74b1d7fd",
   "metadata": {},
   "source": [
    "# Encapsulation Example"
   ]
  },
  {
   "cell_type": "code",
   "execution_count": 4,
   "id": "89fe69cc",
   "metadata": {},
   "outputs": [
    {
     "name": "stdout",
     "output_type": "stream",
     "text": [
      "Parent Class value :  2\n",
      "Child Class value :  3\n",
      "Accessing Parent Class value :  2\n",
      "Accessing Child Class value :  3\n"
     ]
    }
   ],
   "source": [
    "# Encapsulation means buinding of method and variables in a class\n",
    "class Base:\n",
    "    def __init__(self):\n",
    "        self._a = 2\n",
    "class Derived(Base):\n",
    "    def __init__(self):\n",
    "        Base.__init__(self)\n",
    "        print(\"Parent Class value : \", self._a)\n",
    "        \n",
    "        self._a = 3\n",
    "        print(\"Child Class value : \", self._a)\n",
    "        \n",
    "parent = Base()\n",
    "child = Derived()\n",
    "\n",
    "print(\"Accessing Parent Class value : \", parent._a)\n",
    "print(\"Accessing Child Class value : \", child._a)        "
   ]
  },
  {
   "cell_type": "markdown",
   "id": "2edc085a",
   "metadata": {},
   "source": [
    "# Method Resolution Order"
   ]
  },
  {
   "cell_type": "code",
   "execution_count": 34,
   "id": "1e79ec47",
   "metadata": {},
   "outputs": [
    {
     "name": "stdout",
     "output_type": "stream",
     "text": [
      "Child\n"
     ]
    },
    {
     "data": {
      "text/plain": [
       "[__main__.Child, __main__.Parent, object]"
      ]
     },
     "execution_count": 34,
     "metadata": {},
     "output_type": "execute_result"
    }
   ],
   "source": [
    "# Method Resolution is that if we create a child class object it will check the methhod in the child class first, if it doesnt\n",
    "# find it there it will go the its immediate parent class and if it still not find it will go to the its parent class and atlast\n",
    "# object\n",
    "\n",
    "class Parent:\n",
    "    def val(self):\n",
    "        print(\"Parent\")\n",
    "class Child(Parent):\n",
    "    def val(self):\n",
    "        print(\"Child\")\n",
    "\n",
    "child = Child()\n",
    "child.val()\n",
    "\n",
    "# This will give the order how it will search the for the method \n",
    "Child.mro()"
   ]
  },
  {
   "cell_type": "code",
   "execution_count": 35,
   "id": "ea664da3",
   "metadata": {},
   "outputs": [
    {
     "name": "stdout",
     "output_type": "stream",
     "text": [
      "Parent\n"
     ]
    },
    {
     "data": {
      "text/plain": [
       "[__main__.Child, __main__.Parent, object]"
      ]
     },
     "execution_count": 35,
     "metadata": {},
     "output_type": "execute_result"
    }
   ],
   "source": [
    "class Parent:\n",
    "    def val(self):\n",
    "        print(\"Parent\")\n",
    "class Child(Parent):\n",
    "    pass\n",
    "\n",
    "child = Child()\n",
    "child.val()\n",
    "\n",
    "# This will give the order how it will search the for the method \n",
    "Child.mro()"
   ]
  },
  {
   "cell_type": "code",
   "execution_count": 37,
   "id": "6655916c",
   "metadata": {},
   "outputs": [
    {
     "data": {
      "text/plain": [
       "[__main__.C, __main__.A, __main__.B, object]"
      ]
     },
     "execution_count": 37,
     "metadata": {},
     "output_type": "execute_result"
    }
   ],
   "source": [
    "class A:\n",
    "    def val(self):\n",
    "        print(\"A\")\n",
    "\n",
    "class B:\n",
    "    def val(self):\n",
    "        print(\"B\")\n",
    "        \n",
    "class C(A,B):\n",
    "    pass\n",
    "\n",
    "obj = C()\n",
    "\n",
    "C.mro()"
   ]
  },
  {
   "cell_type": "code",
   "execution_count": 40,
   "id": "956524ee",
   "metadata": {},
   "outputs": [
    {
     "data": {
      "text/plain": [
       "[__main__.C, __main__.B, __main__.A, object]"
      ]
     },
     "execution_count": 40,
     "metadata": {},
     "output_type": "execute_result"
    }
   ],
   "source": [
    "class A:\n",
    "    def val(self):\n",
    "        print(\"A\")\n",
    "\n",
    "class B:\n",
    "    def val(self):\n",
    "        print(\"B\")\n",
    "        \n",
    "class C(B,A):\n",
    "    pass\n",
    "\n",
    "obj = C()\n",
    "\n",
    "C.mro()"
   ]
  },
  {
   "cell_type": "code",
   "execution_count": 43,
   "id": "1ca1665d",
   "metadata": {},
   "outputs": [
    {
     "data": {
      "text/plain": [
       "[__main__.C,\n",
       " __main__.B,\n",
       " __main__.A,\n",
       " __main__.X,\n",
       " __main__.Y,\n",
       " __main__.Z,\n",
       " object]"
      ]
     },
     "execution_count": 43,
     "metadata": {},
     "output_type": "execute_result"
    }
   ],
   "source": [
    "class X: \n",
    "      pass\n",
    "class Y: \n",
    "      pass\n",
    "class Z:\n",
    "      pass\n",
    "class A(X,Y):\n",
    "      pass\n",
    "class B(Y,Z):\n",
    "      pass\n",
    "class C(B,A,Y):\n",
    "      pass\n",
    "    \n",
    "obj = C()\n",
    "C.mro()"
   ]
  },
  {
   "cell_type": "markdown",
   "id": "43d1f6fc",
   "metadata": {},
   "source": [
    "# Polymorphism"
   ]
  },
  {
   "cell_type": "code",
   "execution_count": 3,
   "id": "ab4e113e",
   "metadata": {},
   "outputs": [
    {
     "name": "stdout",
     "output_type": "stream",
     "text": [
      "Delhi\n",
      "Washington\n"
     ]
    }
   ],
   "source": [
    "# One name many forms\n",
    "class India:\n",
    "    def capital(self):\n",
    "        print(\"Delhi\")\n",
    "class Australia:\n",
    "    def capital(self):\n",
    "        print(\"Washington\")\n",
    "       \n",
    "def func(ob):\n",
    "    ob.capital()\n",
    "    \n",
    "ob_ind = India()\n",
    "ob_aus = Australia()\n",
    "\n",
    "func(ob_ind)\n",
    "func(ob_aus)"
   ]
  },
  {
   "cell_type": "markdown",
   "id": "ae0c8737",
   "metadata": {},
   "source": [
    "# Method Overriding"
   ]
  },
  {
   "cell_type": "code",
   "execution_count": 7,
   "id": "d6bd8146",
   "metadata": {},
   "outputs": [
    {
     "name": "stdout",
     "output_type": "stream",
     "text": [
      "Meow\n",
      "Bhow\n"
     ]
    }
   ],
   "source": [
    "# Method overriding means in the child as well as parent class we define method with same name\n",
    "class Animal:\n",
    "    # this is called overridden method\n",
    "    def speak(self):\n",
    "        print(\"Animal Speaking\")\n",
    "\n",
    "class Cat(Animal):\n",
    "    # this is called overriding method\n",
    "    def speak(self):\n",
    "        print(\"Meow\")\n",
    "        \n",
    "class Dog(Animal):\n",
    "    def speak(self):\n",
    "        print(\"Bhow\")\n",
    "        \n",
    "cat = Cat()\n",
    "dog = Dog()\n",
    "\n",
    "cat.speak()\n",
    "dog.speak()"
   ]
  },
  {
   "cell_type": "code",
   "execution_count": 9,
   "id": "d767558f",
   "metadata": {},
   "outputs": [
    {
     "name": "stdout",
     "output_type": "stream",
     "text": [
      "SQR len :  20\n",
      "Filling\n"
     ]
    }
   ],
   "source": [
    "# when we want to use some properties from the parent class and child class has some extra properties we can use it in this way\n",
    "class Square:\n",
    "    def sqrfill(self,length):\n",
    "        print(\"SQR len : \", length)\n",
    "        \n",
    "class FilledSquare(Square):\n",
    "    def sqrfill(self,length):\n",
    "        super().sqrfill(length)\n",
    "        print(\"Filling\")\n",
    "      \n",
    "obj = FilledSquare()\n",
    "obj.sqrfill(20)"
   ]
  },
  {
   "cell_type": "code",
   "execution_count": 10,
   "id": "89bbce87",
   "metadata": {},
   "outputs": [],
   "source": [
    "class Product:\n",
    "    def __init__(self,des,price,discount):\n",
    "        self.des = des\n",
    "        self.price = price\n",
    "        self.discount = discount\n",
    "    def getProdDes(self):\n",
    "        return self.des\n",
    "    \n",
    "    def __calculated(self):\n",
    "        return self.price - self.price * self.discount\n",
    "    \n",
    "    def getPrice(self):\n",
    "        return self.__calculated()\n",
    "    \n",
    "class User:\n",
    "    def __init__(self,custype):\n",
    "        self.custype = custype"
   ]
  },
  {
   "cell_type": "code",
   "execution_count": 28,
   "id": "08ac83db",
   "metadata": {},
   "outputs": [],
   "source": [
    "class LightProd(Product):\n",
    "    def __init__(self,des,price,discount,weight):\n",
    "        self.weight = weight\n",
    "        super().__init__(des,price,discount)\n",
    "        \n",
    "    def getPrice(self,user):\n",
    "        # user here is for calling the object from below\n",
    "        if(user.custype == \"premium\"):\n",
    "            self.price = self.price - self.price * 0.15\n",
    "        return super().getPrice()"
   ]
  },
  {
   "cell_type": "code",
   "execution_count": 30,
   "id": "1591e0c4",
   "metadata": {},
   "outputs": [
    {
     "name": "stdout",
     "output_type": "stream",
     "text": [
      "17000.0\n",
      "14450.0\n"
     ]
    },
    {
     "data": {
      "text/plain": [
       "'standard'"
      ]
     },
     "execution_count": 30,
     "metadata": {},
     "output_type": "execute_result"
    }
   ],
   "source": [
    "user1 = User(\"standard\")\n",
    "user2 = User(\"premium\")\n",
    "\n",
    "prod1 = LightProd(\"geaser\",20000,0.15,5)\n",
    "prod2 = LightProd(\"geaser\",20000,0.15,5)\n",
    "\n",
    "print(prod1.getPrice(user1))\n",
    "print(prod2.getPrice(user2))"
   ]
  },
  {
   "cell_type": "markdown",
   "id": "b89c85e7",
   "metadata": {},
   "source": [
    "# Operator Overloading"
   ]
  },
  {
   "cell_type": "code",
   "execution_count": 68,
   "id": "e851972c",
   "metadata": {},
   "outputs": [
    {
     "name": "stdout",
     "output_type": "stream",
     "text": [
      "9\n",
      "20\n",
      "1\n"
     ]
    }
   ],
   "source": [
    "#When we try to do operator overloading in python we need to declare the magic methods to call it otherwise we will get an error\n",
    "# unsupported operand type(s) for -: 'Number' and 'Number'\n",
    "class Number:\n",
    "    def __init__(self,a):\n",
    "        self.a = a\n",
    "    \n",
    "    # here __add__ is know as magic method\n",
    "    def __add__(self,other):\n",
    "        return self.a + other.a\n",
    "    \n",
    "    def __mul__(self,other):\n",
    "        return self.a * other.a\n",
    "    \n",
    "    def __sub__(self,other):\n",
    "        return self.a - other.a\n",
    "    \n",
    "obj1 = Number(5)\n",
    "obj2 = Number(4)\n",
    "\n",
    "print(obj1 + obj2)\n",
    "print(obj1 * obj2)\n",
    "print(obj1 - obj2)"
   ]
  },
  {
   "cell_type": "code",
   "execution_count": 76,
   "id": "1662a962",
   "metadata": {},
   "outputs": [
    {
     "name": "stdout",
     "output_type": "stream",
     "text": [
      "Side : 100  Area : 10000\n",
      "Side : 200  Area : 40000\n",
      "Side : 300  Area : 90000\n"
     ]
    }
   ],
   "source": [
    "class Square:\n",
    "    def __init__(self,a):\n",
    "        self.a = a\n",
    "        \n",
    "    def drawSquare(self):\n",
    "        print(\"Side :\", self.a, \" Area :\", (self.a * self.a))\n",
    "        \n",
    "    def __add__(self,otherSquare):\n",
    "        # just to do the magic methods we can directly return the values with the operator\n",
    "        # but to call other methods after performing the operation we need to create a object as below and perform it outside\n",
    "        \n",
    "        \n",
    "        #return Square(self.a + otherSquare.a)\n",
    "        return self.a + otherSquare.a\n",
    "        \n",
    "square1 = Square(100)\n",
    "square1.drawSquare()\n",
    "\n",
    "square2 = Square(200)\n",
    "square2.drawSquare()\n",
    "\n",
    "square3 = Square(square1 + square2)\n",
    "square3.drawSquare()"
   ]
  },
  {
   "cell_type": "markdown",
   "id": "5483fd30",
   "metadata": {},
   "source": [
    "# Abstract Class"
   ]
  },
  {
   "cell_type": "code",
   "execution_count": 81,
   "id": "9f8978e6",
   "metadata": {},
   "outputs": [],
   "source": [
    "# We cannot create object of the abstract class\n",
    "\n",
    "# abstract method is fully empty we cannot create a object of it\n",
    "\n",
    "# abstract class cannot be instantiated but we need it in the child class because when we dont use that method it in the \n",
    "# child class we will get the error so we get that we need to use that method it in the child class\n",
    "\n",
    "# Can't instantiate abstract class Lion with abstract method move\n",
    "\n",
    "from abc import ABC, abstractmethod\n",
    "\n",
    "# while declaring the abstrct class use ABC\n",
    "class Animal(ABC):\n",
    "    \n",
    "    @abstractmethod\n",
    "    def move(self):\n",
    "        pass\n",
    "    \n",
    "class Lion(Animal):\n",
    "    def move(self):\n",
    "        print(\"thak thak thak\")\n",
    "        \n",
    "class Snake(Animal):\n",
    "    def move(self):\n",
    "        print(\"suuuup\")"
   ]
  },
  {
   "cell_type": "code",
   "execution_count": 82,
   "id": "5fd82e02",
   "metadata": {},
   "outputs": [
    {
     "ename": "TypeError",
     "evalue": "Can't instantiate abstract class Animal with abstract method move",
     "output_type": "error",
     "traceback": [
      "\u001b[1;31m---------------------------------------------------------------------------\u001b[0m",
      "\u001b[1;31mTypeError\u001b[0m                                 Traceback (most recent call last)",
      "Cell \u001b[1;32mIn[82], line 1\u001b[0m\n\u001b[1;32m----> 1\u001b[0m animal \u001b[38;5;241m=\u001b[39m \u001b[43mAnimal\u001b[49m\u001b[43m(\u001b[49m\u001b[43m)\u001b[49m\n",
      "\u001b[1;31mTypeError\u001b[0m: Can't instantiate abstract class Animal with abstract method move"
     ]
    }
   ],
   "source": [
    "# as we know that we cannot create a object of the abstract class we get an error here\n",
    "animal = Animal()"
   ]
  },
  {
   "cell_type": "code",
   "execution_count": 85,
   "id": "c5655f23",
   "metadata": {},
   "outputs": [
    {
     "name": "stdout",
     "output_type": "stream",
     "text": [
      "suuuup\n"
     ]
    }
   ],
   "source": [
    "snake = Snake()\n",
    "snake.move()"
   ]
  },
  {
   "cell_type": "code",
   "execution_count": 102,
   "id": "2dbccab9",
   "metadata": {},
   "outputs": [
    {
     "name": "stdout",
     "output_type": "stream",
     "text": [
      "Connection Establish of MySQL\n",
      "Query runned successfully  insert\n",
      "\n",
      "Connection Establish of MongoDB\n",
      "Query runned successfully  delete\n"
     ]
    }
   ],
   "source": [
    "from abc import ABC, abstractmethod\n",
    "\n",
    "class DBConnection(ABC):\n",
    "    @abstractmethod\n",
    "    def establish(self):\n",
    "        pass\n",
    "        \n",
    "    @abstractmethod   \n",
    "    def runQuery(self,query):\n",
    "        pass\n",
    "        \n",
    "class MySQL(DBConnection):\n",
    "    def establish(self):\n",
    "        print(\"Connection Establish of MySQL\")\n",
    "        \n",
    "    def runQuery(self,query):\n",
    "        print(\"Query runned successfully \", query)\n",
    "        \n",
    "class MongoDB(DBConnection):\n",
    "    def establish(self):\n",
    "        print(\"Connection Establish of MongoDB\")\n",
    "        \n",
    "    def runQuery(self,query):\n",
    "        print(\"Query runned successfully \", query)\n",
    "        \n",
    "mysql = MySQL()\n",
    "mysql.establish()\n",
    "mysql.runQuery(\"insert\")\n",
    "\n",
    "print()\n",
    "\n",
    "mongodb = MongoDB()\n",
    "mongodb.establish()\n",
    "mongodb.runQuery(\"delete\")"
   ]
  }
 ],
 "metadata": {
  "kernelspec": {
   "display_name": "Python 3 (ipykernel)",
   "language": "python",
   "name": "python3"
  },
  "language_info": {
   "codemirror_mode": {
    "name": "ipython",
    "version": 3
   },
   "file_extension": ".py",
   "mimetype": "text/x-python",
   "name": "python",
   "nbconvert_exporter": "python",
   "pygments_lexer": "ipython3",
   "version": "3.10.7"
  }
 },
 "nbformat": 4,
 "nbformat_minor": 5
}
