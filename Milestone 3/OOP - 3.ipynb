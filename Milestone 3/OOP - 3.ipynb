{
 "cells": [
  {
   "cell_type": "markdown",
   "id": "2c3627e0",
   "metadata": {},
   "source": [
    "# Exception and Error"
   ]
  },
  {
   "cell_type": "markdown",
   "id": "ff03010c",
   "metadata": {},
   "source": [
    "#### Error = That we need to fix to execute the program successfully\n",
    "#### Exception = Is also as an error but we can handle it. We need to handle this or else the program will run in other direction not matching are expectation"
   ]
  },
  {
   "cell_type": "code",
   "execution_count": 1,
   "id": "46825ad6",
   "metadata": {},
   "outputs": [
    {
     "name": "stdout",
     "output_type": "stream",
     "text": [
      "5.0\n"
     ]
    }
   ],
   "source": [
    "a = 10\n",
    "b = 2\n",
    "print(a/b)"
   ]
  },
  {
   "cell_type": "code",
   "execution_count": 2,
   "id": "ccdb2f06",
   "metadata": {},
   "outputs": [
    {
     "ename": "ZeroDivisionError",
     "evalue": "division by zero",
     "output_type": "error",
     "traceback": [
      "\u001b[1;31m---------------------------------------------------------------------------\u001b[0m",
      "\u001b[1;31mZeroDivisionError\u001b[0m                         Traceback (most recent call last)",
      "Cell \u001b[1;32mIn[2], line 2\u001b[0m\n\u001b[0;32m      1\u001b[0m b \u001b[38;5;241m=\u001b[39m \u001b[38;5;241m0\u001b[39m\n\u001b[1;32m----> 2\u001b[0m \u001b[38;5;28mprint\u001b[39m(\u001b[43ma\u001b[49m\u001b[38;5;241;43m/\u001b[39;49m\u001b[43mb\u001b[49m)\n",
      "\u001b[1;31mZeroDivisionError\u001b[0m: division by zero"
     ]
    }
   ],
   "source": [
    "b = 0\n",
    "print(a/b)\n",
    "\n",
    "# as this we get error are program is correct but we get error by logical format so we need to put some exception or throw \n",
    "# a message to handle this error"
   ]
  },
  {
   "cell_type": "code",
   "execution_count": 5,
   "id": "ea35972c",
   "metadata": {},
   "outputs": [
    {
     "ename": "SyntaxError",
     "evalue": "expected ':' (2521478219.py, line 1)",
     "output_type": "error",
     "traceback": [
      "\u001b[1;36m  Cell \u001b[1;32mIn[5], line 1\u001b[1;36m\u001b[0m\n\u001b[1;33m    def add(a,b);\u001b[0m\n\u001b[1;37m                ^\u001b[0m\n\u001b[1;31mSyntaxError\u001b[0m\u001b[1;31m:\u001b[0m expected ':'\n"
     ]
    }
   ],
   "source": [
    "def add(a,b);\n",
    "    return a + b\n",
    "\n",
    "add(10,20)\n",
    "\n",
    "# this is error we need to fix this or else our program will not run"
   ]
  },
  {
   "cell_type": "code",
   "execution_count": 6,
   "id": "a21f0424",
   "metadata": {},
   "outputs": [
    {
     "data": {
      "text/plain": [
       "3"
      ]
     },
     "execution_count": 6,
     "metadata": {},
     "output_type": "execute_result"
    }
   ],
   "source": [
    "arr = [1,2,3]\n",
    "arr[2]"
   ]
  },
  {
   "cell_type": "code",
   "execution_count": 8,
   "id": "0664d184",
   "metadata": {},
   "outputs": [
    {
     "ename": "IndexError",
     "evalue": "list index out of range",
     "output_type": "error",
     "traceback": [
      "\u001b[1;31m---------------------------------------------------------------------------\u001b[0m",
      "\u001b[1;31mIndexError\u001b[0m                                Traceback (most recent call last)",
      "Cell \u001b[1;32mIn[8], line 1\u001b[0m\n\u001b[1;32m----> 1\u001b[0m \u001b[43marr\u001b[49m\u001b[43m[\u001b[49m\u001b[38;5;241;43m3\u001b[39;49m\u001b[43m]\u001b[49m\n\u001b[0;32m      2\u001b[0m \u001b[38;5;66;03m# this we can handle by the exception handeling but the code is correct but the arr dont have and index 3 so we get error\u001b[39;00m\n\u001b[0;32m      3\u001b[0m \u001b[38;5;66;03m# in this case we can throw a exception message\u001b[39;00m\n",
      "\u001b[1;31mIndexError\u001b[0m: list index out of range"
     ]
    }
   ],
   "source": [
    "arr[3]\n",
    "# this we can handle by the exception handeling but the code is correct but the arr dont have and index 3 so we get error\n",
    "# in this case we can throw a exception message"
   ]
  },
  {
   "cell_type": "markdown",
   "id": "9f40978d",
   "metadata": {},
   "source": [
    "# Exception Handling"
   ]
  },
  {
   "cell_type": "code",
   "execution_count": 14,
   "id": "f656ecb0",
   "metadata": {},
   "outputs": [
    {
     "name": "stdout",
     "output_type": "stream",
     "text": [
      "Second Element :  2\n",
      "Third Element :  3\n",
      "Success\n"
     ]
    }
   ],
   "source": [
    "# the two keywords are Try and Except\n",
    "\n",
    "arr = [1,2,3]\n",
    "try:\n",
    "    print(\"Second Element : \", arr[1])\n",
    "    print(\"Third Element : \", arr[2])   \n",
    "\n",
    "except:\n",
    "    print(\"Error Occured\")\n",
    "    \n",
    "print(\"Success\")"
   ]
  },
  {
   "cell_type": "code",
   "execution_count": 15,
   "id": "a98b385e",
   "metadata": {},
   "outputs": [
    {
     "name": "stdout",
     "output_type": "stream",
     "text": [
      "Second Element :  2\n",
      "Error Occured\n",
      "Success\n"
     ]
    }
   ],
   "source": [
    "# the two keywords are Try and Except\n",
    "arr = [1,2,3]\n",
    "try:\n",
    "    print(\"Second Element : \", arr[1])\n",
    "    print(\"Fourth Element : \", arr[3])   \n",
    "\n",
    "except:\n",
    "    print(\"Error Occured\")\n",
    "    \n",
    "print(\"Success\")\n",
    "\n",
    "# As we see in this program that the we dont have an index 3 so the except block executed"
   ]
  },
  {
   "cell_type": "code",
   "execution_count": 91,
   "id": "d7359ad8",
   "metadata": {},
   "outputs": [
    {
     "name": "stdout",
     "output_type": "stream",
     "text": [
      "3\n",
      "ZeroDivisionError Occured\n"
     ]
    }
   ],
   "source": [
    "# Handling specific error\n",
    "\n",
    "def fun(a):\n",
    "    if a < 4:\n",
    "        # throws error ZeroDivisionError as 3-3 = 0 \n",
    "        b = a /(a-3)\n",
    "    \n",
    "    # throws error NameError if a >=4\n",
    "    print(b)\n",
    "    \n",
    "try:\n",
    "    val = int(input())\n",
    "    fun(val)\n",
    "\n",
    "# Specifically targetting the error we think we will get\n",
    "except ZeroDivisionError:\n",
    "    print(\"ZeroDivisionError Occured\")\n"
   ]
  },
  {
   "cell_type": "code",
   "execution_count": 92,
   "id": "11a00a9f",
   "metadata": {},
   "outputs": [
    {
     "name": "stdout",
     "output_type": "stream",
     "text": [
      "5\n",
      "NameError Occured\n"
     ]
    }
   ],
   "source": [
    "try:\n",
    "    val = int(input())\n",
    "    fun(val)\n",
    "\n",
    "except NameError:\n",
    "    print(\"NameError Occured\")"
   ]
  },
  {
   "cell_type": "markdown",
   "id": "e29dfccf",
   "metadata": {},
   "source": [
    "# Try except and Finally"
   ]
  },
  {
   "cell_type": "markdown",
   "id": "1508c58e",
   "metadata": {},
   "source": [
    "#### Try = This block will test the expected error to be occured\n",
    "#### Except = Here you can handle the error\n",
    "#### else  = If there is no exception this block will be executed\n",
    "#### finally = is always executed not matter what"
   ]
  },
  {
   "cell_type": "code",
   "execution_count": 44,
   "id": "74739feb",
   "metadata": {},
   "outputs": [
    {
     "name": "stdout",
     "output_type": "stream",
     "text": [
      "Enter Height (in meter) : 1.75\n",
      "Enter Weight : 56\n",
      "BMI is :  18.3\n",
      "This is considered as :  Underweight\n"
     ]
    }
   ],
   "source": [
    "def bmi(height, weight):\n",
    "    return weight / (height**2)\n",
    "\n",
    "def evaluate_bmi(bmi):\n",
    "    if 18.5 <= bmi <= 24.9:\n",
    "        return \"Healthy\"\n",
    "    elif bmi >= 25:\n",
    "        return \"Overweight\"\n",
    "    else:\n",
    "        return \"Underweight\"\n",
    "    \n",
    "def main():\n",
    "    try:\n",
    "        height = float(input(\"Enter Height (in meter) : \"))\n",
    "        weight = float(input(\"Enter Weight : \"))\n",
    "    except ValueError:\n",
    "        print(\"Enter a valid number (only integer or float)\")\n",
    "    else:\n",
    "        bmis = round(bmi(height,weight),1)\n",
    "        evaluate = evaluate_bmi(bmis)\n",
    "        \n",
    "        print(\"BMI is : \",bmis)\n",
    "        print(\"This is considered as : \",evaluate)\n",
    "        \n",
    "main()"
   ]
  },
  {
   "cell_type": "code",
   "execution_count": 47,
   "id": "94b2a44a",
   "metadata": {},
   "outputs": [
    {
     "name": "stdout",
     "output_type": "stream",
     "text": [
      "Sorry we know that number can not be divided by the zero\n",
      "This statement is always executed\n",
      "\n",
      "Here is your answer :  2\n",
      "This statement is always executed\n"
     ]
    }
   ],
   "source": [
    "def div(x,y):\n",
    "    try:\n",
    "        result = x // y\n",
    "    except ZeroDivisionError:\n",
    "        print(\"Sorry we know that number can not be divided by the zero\")\n",
    "    else:\n",
    "        print(\"Here is your answer : \",result)\n",
    "    finally:\n",
    "        print(\"This statement is always executed\")\n",
    "        \n",
    "div(5,0)\n",
    "print()\n",
    "div(5,2)"
   ]
  },
  {
   "cell_type": "markdown",
   "id": "617fddb6",
   "metadata": {},
   "source": [
    "# \"raise\" keyword : is used to raise an error"
   ]
  },
  {
   "cell_type": "code",
   "execution_count": 48,
   "id": "e5ee3a69",
   "metadata": {},
   "outputs": [
    {
     "ename": "Exception",
     "evalue": "Please Enter only Even Number",
     "output_type": "error",
     "traceback": [
      "\u001b[1;31m---------------------------------------------------------------------------\u001b[0m",
      "\u001b[1;31mException\u001b[0m                                 Traceback (most recent call last)",
      "Cell \u001b[1;32mIn[48], line 4\u001b[0m\n\u001b[0;32m      1\u001b[0m a \u001b[38;5;241m=\u001b[39m \u001b[38;5;241m5\u001b[39m\n\u001b[0;32m      3\u001b[0m \u001b[38;5;28;01mif\u001b[39;00m a \u001b[38;5;241m%\u001b[39m \u001b[38;5;241m2\u001b[39m \u001b[38;5;241m!=\u001b[39m \u001b[38;5;241m0\u001b[39m:\n\u001b[1;32m----> 4\u001b[0m     \u001b[38;5;28;01mraise\u001b[39;00m \u001b[38;5;167;01mException\u001b[39;00m(\u001b[38;5;124m\"\u001b[39m\u001b[38;5;124mPlease Enter only Even Number\u001b[39m\u001b[38;5;124m\"\u001b[39m)\n",
      "\u001b[1;31mException\u001b[0m: Please Enter only Even Number"
     ]
    }
   ],
   "source": [
    "a = 5\n",
    "\n",
    "if a % 2 != 0:\n",
    "    raise Exception(\"Please Enter only Even Number\")"
   ]
  },
  {
   "cell_type": "code",
   "execution_count": 53,
   "id": "112533c7",
   "metadata": {},
   "outputs": [
    {
     "ename": "ValueError",
     "evalue": "String cannot be converted to the integer",
     "output_type": "error",
     "traceback": [
      "\u001b[1;31m---------------------------------------------------------------------------\u001b[0m",
      "\u001b[1;31mValueError\u001b[0m                                Traceback (most recent call last)",
      "Cell \u001b[1;32mIn[53], line 4\u001b[0m\n\u001b[0;32m      3\u001b[0m \u001b[38;5;28;01mtry\u001b[39;00m:\n\u001b[1;32m----> 4\u001b[0m     num \u001b[38;5;241m=\u001b[39m \u001b[38;5;28;43mint\u001b[39;49m\u001b[43m(\u001b[49m\u001b[43ms\u001b[49m\u001b[43m)\u001b[49m\n\u001b[0;32m      6\u001b[0m \u001b[38;5;28;01mexcept\u001b[39;00m \u001b[38;5;167;01mValueError\u001b[39;00m:\n",
      "\u001b[1;31mValueError\u001b[0m: invalid literal for int() with base 10: 'Sahil'",
      "\nDuring handling of the above exception, another exception occurred:\n",
      "\u001b[1;31mValueError\u001b[0m                                Traceback (most recent call last)",
      "Cell \u001b[1;32mIn[53], line 7\u001b[0m\n\u001b[0;32m      4\u001b[0m     num \u001b[38;5;241m=\u001b[39m \u001b[38;5;28mint\u001b[39m(s)\n\u001b[0;32m      6\u001b[0m \u001b[38;5;28;01mexcept\u001b[39;00m \u001b[38;5;167;01mValueError\u001b[39;00m:\n\u001b[1;32m----> 7\u001b[0m     \u001b[38;5;28;01mraise\u001b[39;00m \u001b[38;5;167;01mValueError\u001b[39;00m (\u001b[38;5;124m\"\u001b[39m\u001b[38;5;124mString cannot be converted to the integer\u001b[39m\u001b[38;5;124m\"\u001b[39m)\n\u001b[0;32m      9\u001b[0m \u001b[38;5;28;01melse\u001b[39;00m:\n\u001b[0;32m     10\u001b[0m     \u001b[38;5;28mprint\u001b[39m(num)\n",
      "\u001b[1;31mValueError\u001b[0m: String cannot be converted to the integer"
     ]
    }
   ],
   "source": [
    "s = \"Sahil\"\n",
    "\n",
    "try:\n",
    "    num = int(s)\n",
    "    \n",
    "except ValueError:\n",
    "    raise ValueError (\"String cannot be converted to the integer\")\n",
    "\n",
    "else:\n",
    "    print(num)"
   ]
  },
  {
   "cell_type": "code",
   "execution_count": 54,
   "id": "8e1fd6eb",
   "metadata": {},
   "outputs": [
    {
     "ename": "ValueError",
     "evalue": "invalid literal for int() with base 10: 'Sahil'",
     "output_type": "error",
     "traceback": [
      "\u001b[1;31m---------------------------------------------------------------------------\u001b[0m",
      "\u001b[1;31mValueError\u001b[0m                                Traceback (most recent call last)",
      "Cell \u001b[1;32mIn[54], line 4\u001b[0m\n\u001b[0;32m      1\u001b[0m s \u001b[38;5;241m=\u001b[39m \u001b[38;5;124m\"\u001b[39m\u001b[38;5;124mSahil\u001b[39m\u001b[38;5;124m\"\u001b[39m\n\u001b[0;32m      3\u001b[0m \u001b[38;5;28;01mtry\u001b[39;00m:\n\u001b[1;32m----> 4\u001b[0m     num \u001b[38;5;241m=\u001b[39m \u001b[38;5;28;43mint\u001b[39;49m\u001b[43m(\u001b[49m\u001b[43ms\u001b[49m\u001b[43m)\u001b[49m\n\u001b[0;32m      6\u001b[0m \u001b[38;5;28;01mexcept\u001b[39;00m \u001b[38;5;167;01mValueError\u001b[39;00m:\n\u001b[0;32m      7\u001b[0m     \u001b[38;5;28;01mraise\u001b[39;00m\n",
      "\u001b[1;31mValueError\u001b[0m: invalid literal for int() with base 10: 'Sahil'"
     ]
    }
   ],
   "source": [
    "s = \"Sahil\"\n",
    "\n",
    "try:\n",
    "    num = int(s)\n",
    "    \n",
    "except ValueError:\n",
    "    raise"
   ]
  },
  {
   "cell_type": "markdown",
   "id": "820d6a31",
   "metadata": {},
   "source": [
    "# Custom Exception : we need to create a class from buildin exception"
   ]
  },
  {
   "cell_type": "code",
   "execution_count": 59,
   "id": "7393a661",
   "metadata": {},
   "outputs": [
    {
     "name": "stdout",
     "output_type": "stream",
     "text": [
      "Enter Age : 12\n",
      "The minimum age should be 18\n"
     ]
    }
   ],
   "source": [
    "class ValidAge(Exception):\n",
    "    # Raise if the age is below 18\n",
    "    pass\n",
    "\n",
    "minimum_age = 18\n",
    "\n",
    "try:\n",
    "    age = int(input(\"Enter Age : \"))\n",
    "    if age < minimum_age:\n",
    "        raise ValidAge\n",
    "    else:\n",
    "        print(\"You are valid to vote\")\n",
    "        \n",
    "except ValidAge:\n",
    "    print(\"The minimum age should be 18\")"
   ]
  },
  {
   "cell_type": "markdown",
   "id": "0d1d6e9f",
   "metadata": {},
   "source": [
    "# Exception Resolution order : Handling multiple exception which do same work so we need not need to write it again and again. We just need to pass it in the tuple all the exception we think we can get"
   ]
  },
  {
   "cell_type": "code",
   "execution_count": 71,
   "id": "7414177b",
   "metadata": {},
   "outputs": [
    {
     "ename": "ZeroDenominatorError",
     "evalue": "",
     "output_type": "error",
     "traceback": [
      "\u001b[1;31m---------------------------------------------------------------------------\u001b[0m",
      "\u001b[1;31mZeroDenominatorError\u001b[0m                      Traceback (most recent call last)",
      "Cell \u001b[1;32mIn[71], line 7\u001b[0m\n\u001b[0;32m      5\u001b[0m     b \u001b[38;5;241m=\u001b[39m \u001b[38;5;241m0\u001b[39m\n\u001b[0;32m      6\u001b[0m     \u001b[38;5;28;01mif\u001b[39;00m(b\u001b[38;5;241m==\u001b[39m\u001b[38;5;241m0\u001b[39m):\n\u001b[1;32m----> 7\u001b[0m         \u001b[38;5;28;01mraise\u001b[39;00m ZeroDenominatorError() \n\u001b[0;32m      8\u001b[0m     c \u001b[38;5;241m=\u001b[39m a\u001b[38;5;241m/\u001b[39mb\n\u001b[0;32m      9\u001b[0m \u001b[38;5;28;01mexcept\u001b[39;00m \u001b[38;5;167;01mZeroDivisionError\u001b[39;00m:\n",
      "\u001b[1;31mZeroDenominatorError\u001b[0m: "
     ]
    }
   ],
   "source": [
    "class ZeroDenominatorError(Exception):\n",
    "    pass\n",
    "try:\n",
    "    a = 10\n",
    "    b = 0\n",
    "    if(b==0):\n",
    "        raise ZeroDenominatorError() \n",
    "    c = a/b\n",
    "except ZeroDivisionError:\n",
    "    print('Zero Division Error occured')"
   ]
  },
  {
   "cell_type": "code",
   "execution_count": 73,
   "id": "523eae10",
   "metadata": {},
   "outputs": [
    {
     "name": "stdout",
     "output_type": "stream",
     "text": [
      "Zero Division Error occured\n"
     ]
    }
   ],
   "source": [
    "class ZeroDenominatorError(ZeroDivisionError):\n",
    "    pass\n",
    "try:\n",
    "    a = 10\n",
    "    b = 0\n",
    "    if(b==0):\n",
    "        raise ZeroDenominatorError()\n",
    "    c = a/b\n",
    "except ZeroDivisionError:\n",
    "    print('Zero Division Error occured')\n",
    "except ZeroDenominatorError:\n",
    "    print('Zero Denominator Error occured')"
   ]
  },
  {
   "cell_type": "code",
   "execution_count": 64,
   "id": "dce53a7b",
   "metadata": {},
   "outputs": [
    {
     "name": "stdout",
     "output_type": "stream",
     "text": [
      "Zero Division Error occured "
     ]
    }
   ],
   "source": [
    "class ZeroDenominatorError(ZeroDivisionError):\n",
    "    pass\n",
    "try:\n",
    "    a = 10\n",
    "    b = 0\n",
    "    if(b==0):\n",
    "        raise ZeroDenominatorError()\n",
    "    c = a/b\n",
    "except ZeroDivisionError:\n",
    "    print('Zero Division Error occured',end= \" \")\n",
    "except ZeroDenominatorError:\n",
    "    print('Zero Denominator Error occured',end = \" \")\n",
    "else:\n",
    "    print(\"else works\")"
   ]
  },
  {
   "cell_type": "code",
   "execution_count": 65,
   "id": "913fecda",
   "metadata": {},
   "outputs": [
    {
     "name": "stdout",
     "output_type": "stream",
     "text": [
      "else works\n"
     ]
    }
   ],
   "source": [
    "class ZeroDenominatorError(ZeroDivisionError):\n",
    "    pass\n",
    "try:\n",
    "    a = 10\n",
    "    b = 5\n",
    "    if(b==0):\n",
    "        raise ZeroDenominatorError()\n",
    "    c = a/b\n",
    "except ZeroDivisionError:\n",
    "    print('Zero Division Error occured',end= \" \")\n",
    "except ZeroDenominatorError:\n",
    "    print('Zero Denominator Error occured',end = \" \")\n",
    "else:\n",
    "    print(\"else works\")"
   ]
  },
  {
   "cell_type": "code",
   "execution_count": null,
   "id": "0891f0a6",
   "metadata": {},
   "outputs": [],
   "source": []
  }
 ],
 "metadata": {
  "kernelspec": {
   "display_name": "Python 3 (ipykernel)",
   "language": "python",
   "name": "python3"
  },
  "language_info": {
   "codemirror_mode": {
    "name": "ipython",
    "version": 3
   },
   "file_extension": ".py",
   "mimetype": "text/x-python",
   "name": "python",
   "nbconvert_exporter": "python",
   "pygments_lexer": "ipython3",
   "version": "3.10.7"
  }
 },
 "nbformat": 4,
 "nbformat_minor": 5
}
