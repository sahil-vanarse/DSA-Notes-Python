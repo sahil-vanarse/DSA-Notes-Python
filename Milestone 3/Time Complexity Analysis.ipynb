{
 "cells": [
  {
   "cell_type": "markdown",
   "id": "097028a6",
   "metadata": {},
   "source": [
    "# Experimental Analysis"
   ]
  },
  {
   "cell_type": "code",
   "execution_count": 1,
   "id": "95deceab",
   "metadata": {},
   "outputs": [],
   "source": [
    "def merge(a):\n",
    "    if len(a) <= 1:\n",
    "        return \n",
    "    mid = len(a) // 2\n",
    "    a1 = a[:mid]\n",
    "    a2 = a[mid:]\n",
    "    \n",
    "    merge(a1)\n",
    "    merge(a2)\n",
    "    \n",
    "    merge_sort(a1,a2,a)\n",
    "    \n",
    "def merge_sort(a1,a2,a):\n",
    "    i = 0\n",
    "    j = 0\n",
    "    k = 0\n",
    "    \n",
    "    while i < len(a1) and j < len(a2):\n",
    "        if a1[i] < a2[j]:\n",
    "            a[k] = a1[i]\n",
    "            k = k + 1\n",
    "            i = i + 1\n",
    "        else:\n",
    "            a[k] = a2[j]\n",
    "            k = k + 1\n",
    "            j = j + 1\n",
    "            \n",
    "    while i < len(a1):\n",
    "        a[k] = a1[i]\n",
    "        k = k + 1\n",
    "        i = i + 1\n",
    "        \n",
    "    while j < len(a2):\n",
    "        a[k] = a2[j]\n",
    "        k = k + 1\n",
    "        j = j + 1\n",
    "    return a"
   ]
  },
  {
   "cell_type": "code",
   "execution_count": 2,
   "id": "9ee3c1f9",
   "metadata": {},
   "outputs": [],
   "source": [
    "def selection(a):\n",
    "    for i in range(len(a)):\n",
    "        cur = i\n",
    "        for j in range(i+1, len(a)):\n",
    "            if a[cur] > a[j]:\n",
    "                cur = j\n",
    "        a[i],a[cur] = a[cur],a[i]"
   ]
  },
  {
   "cell_type": "code",
   "execution_count": 3,
   "id": "871e4304",
   "metadata": {},
   "outputs": [],
   "source": [
    "def rev_arr(n):\n",
    "    a = []\n",
    "    for i in range(n, 0, -1):\n",
    "        a.append(i)\n",
    "    return a"
   ]
  },
  {
   "cell_type": "code",
   "execution_count": 4,
   "id": "251b40ee",
   "metadata": {},
   "outputs": [],
   "source": [
    "n = 10000"
   ]
  },
  {
   "cell_type": "code",
   "execution_count": 5,
   "id": "a8f04448",
   "metadata": {},
   "outputs": [
    {
     "data": {
      "text/plain": [
       "1696102172.304958"
      ]
     },
     "execution_count": 5,
     "metadata": {},
     "output_type": "execute_result"
    }
   ],
   "source": [
    "import time\n",
    "time.time()"
   ]
  },
  {
   "cell_type": "code",
   "execution_count": 6,
   "id": "e8231797",
   "metadata": {},
   "outputs": [
    {
     "name": "stdout",
     "output_type": "stream",
     "text": [
      "1696102172.332039\n",
      "1696102172.3638651\n"
     ]
    }
   ],
   "source": [
    "a = rev_arr(n)\n",
    "start = time.time()\n",
    "merge(a)\n",
    "end = time.time()\n",
    "print(start)\n",
    "print(end)"
   ]
  },
  {
   "cell_type": "code",
   "execution_count": 7,
   "id": "97164f8c",
   "metadata": {},
   "outputs": [
    {
     "name": "stdout",
     "output_type": "stream",
     "text": [
      "0.031826019287109375\n"
     ]
    }
   ],
   "source": [
    "print(end - start)"
   ]
  },
  {
   "cell_type": "code",
   "execution_count": 8,
   "id": "cb1ea0d6",
   "metadata": {},
   "outputs": [
    {
     "name": "stdout",
     "output_type": "stream",
     "text": [
      "1696102172.4066725\n",
      "1696102176.270683\n"
     ]
    }
   ],
   "source": [
    "a = rev_arr(n)\n",
    "start = time.time()\n",
    "selection(a)\n",
    "end = time.time()\n",
    "print(start)\n",
    "print(end)"
   ]
  },
  {
   "cell_type": "code",
   "execution_count": 9,
   "id": "308e1124",
   "metadata": {},
   "outputs": [
    {
     "name": "stdout",
     "output_type": "stream",
     "text": [
      "3.8640105724334717\n"
     ]
    }
   ],
   "source": [
    "print(end - start)"
   ]
  },
  {
   "cell_type": "markdown",
   "id": "93060826",
   "metadata": {},
   "source": [
    "## As we see above merge sort took 0.03 sec and selection sort took 4.09 sec. We can say that merge sort is faster than selection sort (sec and min can vary according to the input)"
   ]
  },
  {
   "cell_type": "markdown",
   "id": "9d49c458",
   "metadata": {},
   "source": [
    "# Recursive Time Complexity"
   ]
  },
  {
   "cell_type": "code",
   "execution_count": 1,
   "id": "ed229148",
   "metadata": {},
   "outputs": [
    {
     "name": "stdout",
     "output_type": "stream",
     "text": [
      "120\n"
     ]
    }
   ],
   "source": [
    "def fact(n):\n",
    "    if n == 0:\n",
    "        return 1\n",
    "    return n * fact(n-1)\n",
    "\n",
    "n = 5\n",
    "print(fact(n))"
   ]
  },
  {
   "cell_type": "markdown",
   "id": "3d2e433f",
   "metadata": {},
   "source": [
    "# So the time complexity will be calculated like below"
   ]
  },
  {
   "cell_type": "markdown",
   "id": "8a6e82fc",
   "metadata": {},
   "source": [
    "### T(n) means Time taken by n and k refers to the constant because all time it will check whether n == 0 or not\n",
    "T(n) = T(n-1) + k\n",
    "T(n-1) = T(n-2) + k\n",
    "T(n-2) = T(n-3) + k\n",
    "T(n-3) = T(n-4) + k\n",
    "T(1) = T(0) + k\n",
    "\n",
    "### as some values are same line(n-1) (n-2) which will get cancel hence\n",
    "\n",
    "### at the last occurence it will be 0 which will return 1 hence we can call it k2 means constant\n",
    "T(n) = k1 * n + k2\n",
    "\n",
    "### we can ignore k2\n",
    "T(n) = k1 * n\n",
    "\n",
    "### which means that the time complexity will be O(n)"
   ]
  },
  {
   "cell_type": "code",
   "execution_count": null,
   "id": "b785d209",
   "metadata": {},
   "outputs": [],
   "source": []
  }
 ],
 "metadata": {
  "kernelspec": {
   "display_name": "Python 3 (ipykernel)",
   "language": "python",
   "name": "python3"
  },
  "language_info": {
   "codemirror_mode": {
    "name": "ipython",
    "version": 3
   },
   "file_extension": ".py",
   "mimetype": "text/x-python",
   "name": "python",
   "nbconvert_exporter": "python",
   "pygments_lexer": "ipython3",
   "version": "3.10.7"
  }
 },
 "nbformat": 4,
 "nbformat_minor": 5
}
