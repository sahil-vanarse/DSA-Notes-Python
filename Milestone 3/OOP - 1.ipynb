{
 "cells": [
  {
   "cell_type": "code",
   "execution_count": 15,
   "id": "3c539928",
   "metadata": {},
   "outputs": [
    {
     "name": "stdout",
     "output_type": "stream",
     "text": [
      "Sahil\n",
      "Sahil\n"
     ]
    }
   ],
   "source": [
    "### Creating class\n",
    "class Product :\n",
    "    company = \"Sahil\"\n",
    "    def printCompany(self):\n",
    "        print(self.company)\n",
    "        \n",
    "p1 = Product()\n",
    "print(p1.company)\n",
    "p1.printCompany()"
   ]
  },
  {
   "cell_type": "code",
   "execution_count": 16,
   "id": "1195dcd2",
   "metadata": {},
   "outputs": [
    {
     "name": "stdout",
     "output_type": "stream",
     "text": [
      "Sahil\n",
      "Sahil\n"
     ]
    }
   ],
   "source": [
    "p2 = Product()\n",
    "print(p2.company)\n",
    "p2.printCompany()"
   ]
  },
  {
   "cell_type": "code",
   "execution_count": 17,
   "id": "917fa383",
   "metadata": {},
   "outputs": [
    {
     "data": {
      "text/plain": [
       "False"
      ]
     },
     "execution_count": 17,
     "metadata": {},
     "output_type": "execute_result"
    }
   ],
   "source": [
    "p1 == p2"
   ]
  },
  {
   "cell_type": "code",
   "execution_count": 18,
   "id": "56ab14a3",
   "metadata": {},
   "outputs": [
    {
     "data": {
      "text/plain": [
       "<__main__.Product at 0x1d60d6328c0>"
      ]
     },
     "execution_count": 18,
     "metadata": {},
     "output_type": "execute_result"
    }
   ],
   "source": [
    "# Memory allocation for p1 is different\n",
    "p1"
   ]
  },
  {
   "cell_type": "code",
   "execution_count": 19,
   "id": "d2e14b9c",
   "metadata": {},
   "outputs": [
    {
     "data": {
      "text/plain": [
       "<__main__.Product at 0x1d60d633c40>"
      ]
     },
     "execution_count": 19,
     "metadata": {},
     "output_type": "execute_result"
    }
   ],
   "source": [
    "# Memory allocation for p2 is different\n",
    "p2"
   ]
  },
  {
   "cell_type": "code",
   "execution_count": 20,
   "id": "6a99671c",
   "metadata": {},
   "outputs": [],
   "source": [
    "### Now we will do that we will copy the p1 value to the p2 then we will get True\n",
    "p1 = p2"
   ]
  },
  {
   "cell_type": "code",
   "execution_count": 21,
   "id": "800d8c5d",
   "metadata": {},
   "outputs": [
    {
     "data": {
      "text/plain": [
       "True"
      ]
     },
     "execution_count": 21,
     "metadata": {},
     "output_type": "execute_result"
    }
   ],
   "source": [
    "p1 == p2"
   ]
  },
  {
   "cell_type": "code",
   "execution_count": 22,
   "id": "323b52dd",
   "metadata": {},
   "outputs": [
    {
     "data": {
      "text/plain": [
       "<__main__.Product at 0x1d60d633c40>"
      ]
     },
     "execution_count": 22,
     "metadata": {},
     "output_type": "execute_result"
    }
   ],
   "source": [
    "p1"
   ]
  },
  {
   "cell_type": "code",
   "execution_count": 23,
   "id": "dbe661ba",
   "metadata": {},
   "outputs": [
    {
     "data": {
      "text/plain": [
       "<__main__.Product at 0x1d60d633c40>"
      ]
     },
     "execution_count": 23,
     "metadata": {},
     "output_type": "execute_result"
    }
   ],
   "source": [
    "p2"
   ]
  },
  {
   "cell_type": "markdown",
   "id": "d81756f4",
   "metadata": {},
   "source": [
    "#### The memory alloction becomes same when we do p1 = p2"
   ]
  },
  {
   "cell_type": "code",
   "execution_count": 49,
   "id": "e1d094fe",
   "metadata": {},
   "outputs": [],
   "source": [
    "class Cart:\n",
    "    count = 0   # class variable\n",
    "    def __init__ (self,id,name):\n",
    "        Cart.count = Cart.count + 1  # using class variable in the init method because init method is called when obj is created\n",
    "        self.id = id\n",
    "        self.name = name\n",
    "        \n",
    "cart_obj1 = Cart(1,\"Sahil\")\n",
    "cart_obj2 = Cart(10,\"Deepen\")\n",
    "cart_obj3 = Cart(3,\"Kunal\")"
   ]
  },
  {
   "cell_type": "code",
   "execution_count": 50,
   "id": "9f8b4ce3",
   "metadata": {},
   "outputs": [
    {
     "data": {
      "text/plain": [
       "3"
      ]
     },
     "execution_count": 50,
     "metadata": {},
     "output_type": "execute_result"
    }
   ],
   "source": [
    "Cart.count"
   ]
  },
  {
   "cell_type": "code",
   "execution_count": 57,
   "id": "c6573a5c",
   "metadata": {},
   "outputs": [
    {
     "data": {
      "text/plain": [
       "10"
      ]
     },
     "execution_count": 57,
     "metadata": {},
     "output_type": "execute_result"
    }
   ],
   "source": [
    "cart_obj2.id  # gives the id of the object we have assigned value"
   ]
  },
  {
   "cell_type": "code",
   "execution_count": 48,
   "id": "ef314bd7",
   "metadata": {},
   "outputs": [
    {
     "data": {
      "text/plain": [
       "{'id': 10, 'name': 'Deepen'}"
      ]
     },
     "execution_count": 48,
     "metadata": {},
     "output_type": "execute_result"
    }
   ],
   "source": [
    "cart_obj2.__dict__  # gives the dictionary of the all the instances present in the cart_obj1 id as key and 10 as its value"
   ]
  },
  {
   "cell_type": "code",
   "execution_count": 51,
   "id": "fd2edf61",
   "metadata": {},
   "outputs": [
    {
     "data": {
      "text/plain": [
       "mappingproxy({'__module__': '__main__',\n",
       "              'count': 3,\n",
       "              '__init__': <function __main__.Cart.__init__(self, id, name)>,\n",
       "              '__dict__': <attribute '__dict__' of 'Cart' objects>,\n",
       "              '__weakref__': <attribute '__weakref__' of 'Cart' objects>,\n",
       "              '__doc__': None})"
      ]
     },
     "execution_count": 51,
     "metadata": {},
     "output_type": "execute_result"
    }
   ],
   "source": [
    "Cart.__dict__  # gives the dictionary of the whole class"
   ]
  },
  {
   "cell_type": "code",
   "execution_count": 52,
   "id": "f7c47c85",
   "metadata": {},
   "outputs": [
    {
     "data": {
      "text/plain": [
       "{'id': 10, 'name': 'Deepen'}"
      ]
     },
     "execution_count": 52,
     "metadata": {},
     "output_type": "execute_result"
    }
   ],
   "source": [
    "vars(cart_obj2)"
   ]
  },
  {
   "cell_type": "code",
   "execution_count": 53,
   "id": "69d285f3",
   "metadata": {},
   "outputs": [
    {
     "data": {
      "text/plain": [
       "mappingproxy({'__module__': '__main__',\n",
       "              'count': 3,\n",
       "              '__init__': <function __main__.Cart.__init__(self, id, name)>,\n",
       "              '__dict__': <attribute '__dict__' of 'Cart' objects>,\n",
       "              '__weakref__': <attribute '__weakref__' of 'Cart' objects>,\n",
       "              '__doc__': None})"
      ]
     },
     "execution_count": 53,
     "metadata": {},
     "output_type": "execute_result"
    }
   ],
   "source": [
    "vars(Cart)"
   ]
  },
  {
   "cell_type": "code",
   "execution_count": 97,
   "id": "ff368df9",
   "metadata": {},
   "outputs": [],
   "source": [
    "### Creating class\n",
    "class Product :\n",
    "    company = \"Sahil\"\n",
    "    def __init__(self,company):\n",
    "        self.company = company\n",
    "        \n",
    "p3 = Product(\"ABC\")\n",
    "p4 = Product(\"XYZ\")"
   ]
  },
  {
   "cell_type": "code",
   "execution_count": 98,
   "id": "1f1764dd",
   "metadata": {},
   "outputs": [
    {
     "data": {
      "text/plain": [
       "'ABC'"
      ]
     },
     "execution_count": 98,
     "metadata": {},
     "output_type": "execute_result"
    }
   ],
   "source": [
    "p3.company   ## when we do this it refers to the instance variable"
   ]
  },
  {
   "cell_type": "code",
   "execution_count": 99,
   "id": "9d564131",
   "metadata": {},
   "outputs": [
    {
     "data": {
      "text/plain": [
       "'Sahil'"
      ]
     },
     "execution_count": 99,
     "metadata": {},
     "output_type": "execute_result"
    }
   ],
   "source": [
    "Product.company  ## this is done to get the value of the class variable by using the classname and the variable we want to get"
   ]
  },
  {
   "cell_type": "code",
   "execution_count": 100,
   "id": "2bec2317",
   "metadata": {},
   "outputs": [
    {
     "name": "stdout",
     "output_type": "stream",
     "text": [
      "__init__ id : 2018861043760\n",
      "Id outside : 2018861043760\n"
     ]
    }
   ],
   "source": [
    "### what is self\n",
    "class Dog:\n",
    "    def __init__(self):\n",
    "        print(\"__init__ id :\", id(self))\n",
    "        \n",
    "dog = Dog()\n",
    "print(\"Id outside :\",id(dog))"
   ]
  },
  {
   "cell_type": "markdown",
   "id": "7eba41d4",
   "metadata": {},
   "source": [
    "### __init__ method (Constructor)"
   ]
  },
  {
   "cell_type": "code",
   "execution_count": 1,
   "id": "c1ffd56b",
   "metadata": {},
   "outputs": [],
   "source": [
    "class Product:\n",
    "    pass"
   ]
  },
  {
   "cell_type": "code",
   "execution_count": 2,
   "id": "d1b1ee2b",
   "metadata": {},
   "outputs": [],
   "source": [
    "p1 = Product()"
   ]
  },
  {
   "cell_type": "code",
   "execution_count": 3,
   "id": "f0d1921d",
   "metadata": {},
   "outputs": [],
   "source": [
    "p2 = Product()"
   ]
  },
  {
   "cell_type": "code",
   "execution_count": 4,
   "id": "d104b1f4",
   "metadata": {},
   "outputs": [
    {
     "data": {
      "text/plain": [
       "{}"
      ]
     },
     "execution_count": 4,
     "metadata": {},
     "output_type": "execute_result"
    }
   ],
   "source": [
    "p1.__dict__"
   ]
  },
  {
   "cell_type": "code",
   "execution_count": 5,
   "id": "7d0d2067",
   "metadata": {},
   "outputs": [
    {
     "data": {
      "text/plain": [
       "{}"
      ]
     },
     "execution_count": 5,
     "metadata": {},
     "output_type": "execute_result"
    }
   ],
   "source": [
    "p2.__dict__"
   ]
  },
  {
   "cell_type": "code",
   "execution_count": 6,
   "id": "9a1c0239",
   "metadata": {},
   "outputs": [
    {
     "data": {
      "text/plain": [
       "<__main__.Product at 0x1ca3ea61870>"
      ]
     },
     "execution_count": 6,
     "metadata": {},
     "output_type": "execute_result"
    }
   ],
   "source": [
    "p1"
   ]
  },
  {
   "cell_type": "code",
   "execution_count": 7,
   "id": "2836ef3a",
   "metadata": {},
   "outputs": [
    {
     "data": {
      "text/plain": [
       "<__main__.Product at 0x1ca3ea62e30>"
      ]
     },
     "execution_count": 7,
     "metadata": {},
     "output_type": "execute_result"
    }
   ],
   "source": [
    "p2"
   ]
  },
  {
   "cell_type": "code",
   "execution_count": 8,
   "id": "2f120fe4",
   "metadata": {},
   "outputs": [],
   "source": [
    "class Product:\n",
    "    name = \"Sony Headphones\"   "
   ]
  },
  {
   "cell_type": "code",
   "execution_count": 9,
   "id": "f03c82a8",
   "metadata": {},
   "outputs": [],
   "source": [
    "p1 = Product()"
   ]
  },
  {
   "cell_type": "code",
   "execution_count": 10,
   "id": "945cfa65",
   "metadata": {},
   "outputs": [],
   "source": [
    "p2 = Product()"
   ]
  },
  {
   "cell_type": "code",
   "execution_count": 11,
   "id": "11b4e900",
   "metadata": {},
   "outputs": [
    {
     "data": {
      "text/plain": [
       "'Sony Headphones'"
      ]
     },
     "execution_count": 11,
     "metadata": {},
     "output_type": "execute_result"
    }
   ],
   "source": [
    "p1.name"
   ]
  },
  {
   "cell_type": "code",
   "execution_count": 54,
   "id": "0086494e",
   "metadata": {},
   "outputs": [],
   "source": [
    "class Product:\n",
    "    count = 0\n",
    "    def __init__(self,name,price,discount):\n",
    "        self.id = Product.count + 1\n",
    "        self.name = name\n",
    "        self.price = price\n",
    "        self.discount = discount\n",
    "        self.isAvailable = True\n",
    "        if self.price > 50000:\n",
    "            self.isAvailable = False\n",
    "        Product.count = Product.count + 1"
   ]
  },
  {
   "cell_type": "code",
   "execution_count": 55,
   "id": "af670529",
   "metadata": {},
   "outputs": [],
   "source": [
    "pro_ob1 = Product(\"TV\", 20000, 0.25)\n",
    "pro_ob2 = Product(\"Machine\", 56000, 0.2)"
   ]
  },
  {
   "cell_type": "code",
   "execution_count": 56,
   "id": "6e82d3e7",
   "metadata": {},
   "outputs": [
    {
     "data": {
      "text/plain": [
       "{'id': 2,\n",
       " 'name': 'Machine',\n",
       " 'price': 56000,\n",
       " 'discount': 0.2,\n",
       " 'isAvailable': False}"
      ]
     },
     "execution_count": 56,
     "metadata": {},
     "output_type": "execute_result"
    }
   ],
   "source": [
    "pro_ob2.__dict__"
   ]
  },
  {
   "cell_type": "code",
   "execution_count": 57,
   "id": "fdbfbda2",
   "metadata": {},
   "outputs": [
    {
     "data": {
      "text/plain": [
       "{'id': 1, 'name': 'TV', 'price': 20000, 'discount': 0.25, 'isAvailable': True}"
      ]
     },
     "execution_count": 57,
     "metadata": {},
     "output_type": "execute_result"
    }
   ],
   "source": [
    "pro_ob1.__dict__"
   ]
  },
  {
   "cell_type": "markdown",
   "id": "c0be9a1a",
   "metadata": {},
   "source": [
    "### Access Modifiers"
   ]
  },
  {
   "cell_type": "markdown",
   "id": "c28dc8f2",
   "metadata": {},
   "source": [
    "#### Public (By default)"
   ]
  },
  {
   "cell_type": "code",
   "execution_count": 67,
   "id": "5b6d7075",
   "metadata": {},
   "outputs": [],
   "source": [
    "class Product:\n",
    "    count = 0\n",
    "    def __init__(self,name,price,discount):\n",
    "        self.id = Product.count + 1\n",
    "        self.name = name\n",
    "        self.price = price\n",
    "        self.discount = discount\n",
    "        self.isAvailable = True\n",
    "        Product.count = Product.count + 1"
   ]
  },
  {
   "cell_type": "code",
   "execution_count": 68,
   "id": "944efb4b",
   "metadata": {},
   "outputs": [],
   "source": [
    "prod = Product(\"iPhone\", 56000, 0.25)"
   ]
  },
  {
   "cell_type": "code",
   "execution_count": 69,
   "id": "76b1b0ac",
   "metadata": {},
   "outputs": [
    {
     "data": {
      "text/plain": [
       "{'id': 1,\n",
       " 'name': 'iPhone',\n",
       " 'price': 56000,\n",
       " 'discount': 0.25,\n",
       " 'isAvailable': True}"
      ]
     },
     "execution_count": 69,
     "metadata": {},
     "output_type": "execute_result"
    }
   ],
   "source": [
    "prod.__dict__"
   ]
  },
  {
   "cell_type": "code",
   "execution_count": 70,
   "id": "484fde47",
   "metadata": {},
   "outputs": [
    {
     "data": {
      "text/plain": [
       "1"
      ]
     },
     "execution_count": 70,
     "metadata": {},
     "output_type": "execute_result"
    }
   ],
   "source": [
    "prod.id"
   ]
  },
  {
   "cell_type": "code",
   "execution_count": 71,
   "id": "a9ef74ca",
   "metadata": {},
   "outputs": [
    {
     "data": {
      "text/plain": [
       "0.25"
      ]
     },
     "execution_count": 71,
     "metadata": {},
     "output_type": "execute_result"
    }
   ],
   "source": [
    "prod.discount"
   ]
  },
  {
   "cell_type": "code",
   "execution_count": 72,
   "id": "10759da9",
   "metadata": {},
   "outputs": [
    {
     "data": {
      "text/plain": [
       "'iPhone'"
      ]
     },
     "execution_count": 72,
     "metadata": {},
     "output_type": "execute_result"
    }
   ],
   "source": [
    "prod.name"
   ]
  },
  {
   "cell_type": "code",
   "execution_count": 73,
   "id": "fcae1a4f",
   "metadata": {},
   "outputs": [],
   "source": [
    "prod.discount = 0.30"
   ]
  },
  {
   "cell_type": "code",
   "execution_count": 74,
   "id": "12a1efe4",
   "metadata": {},
   "outputs": [
    {
     "data": {
      "text/plain": [
       "0.3"
      ]
     },
     "execution_count": 74,
     "metadata": {},
     "output_type": "execute_result"
    }
   ],
   "source": [
    "prod.discount"
   ]
  },
  {
   "cell_type": "code",
   "execution_count": 75,
   "id": "ad738792",
   "metadata": {},
   "outputs": [
    {
     "data": {
      "text/plain": [
       "{'id': 1,\n",
       " 'name': 'iPhone',\n",
       " 'price': 56000,\n",
       " 'discount': 0.3,\n",
       " 'isAvailable': True}"
      ]
     },
     "execution_count": 75,
     "metadata": {},
     "output_type": "execute_result"
    }
   ],
   "source": [
    "prod.__dict__"
   ]
  },
  {
   "cell_type": "markdown",
   "id": "56209f7e",
   "metadata": {},
   "source": [
    "#### Protected"
   ]
  },
  {
   "cell_type": "code",
   "execution_count": 138,
   "id": "87ea1c20",
   "metadata": {},
   "outputs": [],
   "source": [
    "class Product:\n",
    "    count = 0\n",
    "    def __init__(self,name,price,discount):\n",
    "        self._id = Product.count + 1\n",
    "        self._name = name\n",
    "        self._price = price\n",
    "        self._discount = discount\n",
    "        self._isAvailable = True\n",
    "        Product.count = Product.count + 1"
   ]
  },
  {
   "cell_type": "code",
   "execution_count": 139,
   "id": "1e486380",
   "metadata": {},
   "outputs": [],
   "source": [
    "prod2 = Product(\"airpod\", 13000, 0.10)"
   ]
  },
  {
   "cell_type": "code",
   "execution_count": 140,
   "id": "33147697",
   "metadata": {},
   "outputs": [],
   "source": [
    "prod2._discount = 0.3"
   ]
  },
  {
   "cell_type": "code",
   "execution_count": 141,
   "id": "b93dfdc0",
   "metadata": {},
   "outputs": [
    {
     "data": {
      "text/plain": [
       "0.3"
      ]
     },
     "execution_count": 141,
     "metadata": {},
     "output_type": "execute_result"
    }
   ],
   "source": [
    "prod2._discount"
   ]
  },
  {
   "cell_type": "code",
   "execution_count": 80,
   "id": "44b7473d",
   "metadata": {},
   "outputs": [
    {
     "data": {
      "text/plain": [
       "['__class__',\n",
       " '__delattr__',\n",
       " '__dict__',\n",
       " '__dir__',\n",
       " '__doc__',\n",
       " '__eq__',\n",
       " '__format__',\n",
       " '__ge__',\n",
       " '__getattribute__',\n",
       " '__gt__',\n",
       " '__hash__',\n",
       " '__init__',\n",
       " '__init_subclass__',\n",
       " '__le__',\n",
       " '__lt__',\n",
       " '__module__',\n",
       " '__ne__',\n",
       " '__new__',\n",
       " '__reduce__',\n",
       " '__reduce_ex__',\n",
       " '__repr__',\n",
       " '__setattr__',\n",
       " '__sizeof__',\n",
       " '__str__',\n",
       " '__subclasshook__',\n",
       " '__weakref__',\n",
       " '_discount',\n",
       " '_id',\n",
       " '_isAvailable',\n",
       " '_name',\n",
       " '_price',\n",
       " 'count']"
      ]
     },
     "execution_count": 80,
     "metadata": {},
     "output_type": "execute_result"
    }
   ],
   "source": [
    "dir(prod2)"
   ]
  },
  {
   "cell_type": "markdown",
   "id": "92b6e7ea",
   "metadata": {},
   "source": [
    "#### Private"
   ]
  },
  {
   "cell_type": "code",
   "execution_count": 220,
   "id": "09a2aae2",
   "metadata": {},
   "outputs": [],
   "source": [
    "# it is only accessible by class name\n",
    "class Product:\n",
    "    count = 0\n",
    "    def __init__(self,name,price):\n",
    "        self.__id = Product.count + 1\n",
    "        self.__name = name\n",
    "        self.__price = price\n",
    "        self.__discount = 0.01\n",
    "        self.__isAvailable = True\n",
    "        Product.count = Product.count + 1\n",
    "        \n",
    "    def applyDiscount(self):\n",
    "        if self.__price < 20000 and self.__price >= 10000:\n",
    "            self.__discount = 0.25\n",
    "        elif self.__price >= 20000:\n",
    "            self.__discount = 0.50\n",
    "        else:\n",
    "            self.__discount = 0.10"
   ]
  },
  {
   "cell_type": "code",
   "execution_count": 221,
   "id": "ef975ee9",
   "metadata": {},
   "outputs": [],
   "source": [
    "prod3 = Product(\"Fan\", 30000)"
   ]
  },
  {
   "cell_type": "code",
   "execution_count": 222,
   "id": "897c7091",
   "metadata": {},
   "outputs": [
    {
     "data": {
      "text/plain": [
       "['_Product__discount',\n",
       " '_Product__id',\n",
       " '_Product__isAvailable',\n",
       " '_Product__name',\n",
       " '_Product__price',\n",
       " '__class__',\n",
       " '__delattr__',\n",
       " '__dict__',\n",
       " '__dir__',\n",
       " '__doc__',\n",
       " '__eq__',\n",
       " '__format__',\n",
       " '__ge__',\n",
       " '__getattribute__',\n",
       " '__gt__',\n",
       " '__hash__',\n",
       " '__init__',\n",
       " '__init_subclass__',\n",
       " '__le__',\n",
       " '__lt__',\n",
       " '__module__',\n",
       " '__ne__',\n",
       " '__new__',\n",
       " '__reduce__',\n",
       " '__reduce_ex__',\n",
       " '__repr__',\n",
       " '__setattr__',\n",
       " '__sizeof__',\n",
       " '__str__',\n",
       " '__subclasshook__',\n",
       " '__weakref__',\n",
       " 'applyDiscount',\n",
       " 'count']"
      ]
     },
     "execution_count": 222,
     "metadata": {},
     "output_type": "execute_result"
    }
   ],
   "source": [
    "dir(prod3)"
   ]
  },
  {
   "cell_type": "code",
   "execution_count": 223,
   "id": "fc6ee548",
   "metadata": {},
   "outputs": [
    {
     "data": {
      "text/plain": [
       "{'_Product__id': 1,\n",
       " '_Product__name': 'Fan',\n",
       " '_Product__price': 30000,\n",
       " '_Product__discount': 0.01,\n",
       " '_Product__isAvailable': True}"
      ]
     },
     "execution_count": 223,
     "metadata": {},
     "output_type": "execute_result"
    }
   ],
   "source": [
    "prod3.__dict__"
   ]
  },
  {
   "cell_type": "code",
   "execution_count": 224,
   "id": "8c44a354",
   "metadata": {},
   "outputs": [],
   "source": [
    "prod3.applyDiscount()"
   ]
  },
  {
   "cell_type": "code",
   "execution_count": 225,
   "id": "c77de954",
   "metadata": {},
   "outputs": [
    {
     "data": {
      "text/plain": [
       "{'_Product__id': 1,\n",
       " '_Product__name': 'Fan',\n",
       " '_Product__price': 30000,\n",
       " '_Product__discount': 0.5,\n",
       " '_Product__isAvailable': True}"
      ]
     },
     "execution_count": 225,
     "metadata": {},
     "output_type": "execute_result"
    }
   ],
   "source": [
    "prod3.__dict__"
   ]
  },
  {
   "cell_type": "code",
   "execution_count": 226,
   "id": "4dba6313",
   "metadata": {},
   "outputs": [
    {
     "ename": "AttributeError",
     "evalue": "'Product' object has no attribute '__id'",
     "output_type": "error",
     "traceback": [
      "\u001b[1;31m---------------------------------------------------------------------------\u001b[0m",
      "\u001b[1;31mAttributeError\u001b[0m                            Traceback (most recent call last)",
      "Cell \u001b[1;32mIn[226], line 1\u001b[0m\n\u001b[1;32m----> 1\u001b[0m \u001b[43mprod3\u001b[49m\u001b[38;5;241;43m.\u001b[39;49m\u001b[43m__id\u001b[49m\n",
      "\u001b[1;31mAttributeError\u001b[0m: 'Product' object has no attribute '__id'"
     ]
    }
   ],
   "source": [
    "prod3.__id"
   ]
  },
  {
   "cell_type": "code",
   "execution_count": 227,
   "id": "fb67751f",
   "metadata": {},
   "outputs": [
    {
     "data": {
      "text/plain": [
       "1"
      ]
     },
     "execution_count": 227,
     "metadata": {},
     "output_type": "execute_result"
    }
   ],
   "source": [
    "# how to access private variables\n",
    "prod3._Product__id"
   ]
  },
  {
   "cell_type": "code",
   "execution_count": 228,
   "id": "cc638420",
   "metadata": {},
   "outputs": [],
   "source": [
    "# this is how we can change the private values\n",
    "prod3._Product__id = 3"
   ]
  },
  {
   "cell_type": "code",
   "execution_count": 230,
   "id": "011d22a2",
   "metadata": {},
   "outputs": [
    {
     "data": {
      "text/plain": [
       "3"
      ]
     },
     "execution_count": 230,
     "metadata": {},
     "output_type": "execute_result"
    }
   ],
   "source": [
    "# updated value\n",
    "prod3._Product__id"
   ]
  },
  {
   "cell_type": "markdown",
   "id": "406782f9",
   "metadata": {},
   "source": [
    "# Examples of the Public, Protected and Private Access Modifiers "
   ]
  },
  {
   "cell_type": "markdown",
   "id": "8820aceb",
   "metadata": {},
   "source": [
    "## Public"
   ]
  },
  {
   "cell_type": "code",
   "execution_count": 163,
   "id": "29b9cebb",
   "metadata": {},
   "outputs": [
    {
     "name": "stdout",
     "output_type": "stream",
     "text": [
      "Currect :  10000\n",
      "Modified :  20000\n"
     ]
    }
   ],
   "source": [
    "class Employee:\n",
    "    def __init__(self, name, sal):\n",
    "        self.name=name\n",
    "        self.salary=sal\n",
    "\n",
    "e1=Employee(\"Kiran\",10000)\n",
    "print(\"Currect : \",e1.salary)  # salary is public attribute\n",
    "\n",
    "# we can access employee class's attributes and also modify their values\n",
    "e1.salary=20000\n",
    "print(\"Modified : \",e1.salary)"
   ]
  },
  {
   "cell_type": "markdown",
   "id": "d2df5bbd",
   "metadata": {},
   "source": [
    "## Protected"
   ]
  },
  {
   "cell_type": "code",
   "execution_count": 166,
   "id": "bad2ed80",
   "metadata": {},
   "outputs": [
    {
     "name": "stdout",
     "output_type": "stream",
     "text": [
      "Currect :  10000\n",
      "Modified :  20000\n"
     ]
    }
   ],
   "source": [
    "class Employee:\n",
    "    def __init__(self, name, sal):\n",
    "        self._name=name    # name and sal are protected\n",
    "        self._salary=sal\n",
    "\n",
    "e1=Employee(\"Kiran\",10000)\n",
    "print(\"Currect : \",e1._salary)  # salary is protected attribute\n",
    "\n",
    "e1._salary=20000\n",
    "print(\"Modified : \",e1._salary)"
   ]
  },
  {
   "cell_type": "markdown",
   "id": "a2825c6a",
   "metadata": {},
   "source": [
    "## Private"
   ]
  },
  {
   "cell_type": "code",
   "execution_count": 197,
   "id": "bf68e2ba",
   "metadata": {},
   "outputs": [],
   "source": [
    "class Bank:\n",
    "    def __init__(self, balance):\n",
    "        self.__balance = balance\n",
    "    \n",
    "    def getBalance(self):\n",
    "        return self.__balance\n",
    "    \n",
    "    def deposit(self, dep_amount):\n",
    "        self.__balance += dep_amount\n",
    "        return self.__balance\n",
    "        \n",
    "    def  withdraw(self, with_amount):\n",
    "        if self.__balance > with_amount:\n",
    "            self.__balance -= with_amount\n",
    "            return self.__balance\n",
    "        else:\n",
    "            print(\"Laikichya baher jau nakos lavdya\")"
   ]
  },
  {
   "cell_type": "code",
   "execution_count": 237,
   "id": "1846f9a6",
   "metadata": {},
   "outputs": [],
   "source": [
    "bank = Bank(50000)"
   ]
  },
  {
   "cell_type": "code",
   "execution_count": 238,
   "id": "1cd5292b",
   "metadata": {},
   "outputs": [
    {
     "data": {
      "text/plain": [
       "50000"
      ]
     },
     "execution_count": 238,
     "metadata": {},
     "output_type": "execute_result"
    }
   ],
   "source": [
    "bank.getBalance()"
   ]
  },
  {
   "cell_type": "code",
   "execution_count": 239,
   "id": "4d675392",
   "metadata": {},
   "outputs": [
    {
     "data": {
      "text/plain": [
       "55000"
      ]
     },
     "execution_count": 239,
     "metadata": {},
     "output_type": "execute_result"
    }
   ],
   "source": [
    "bank.deposit(5000)"
   ]
  },
  {
   "cell_type": "code",
   "execution_count": 240,
   "id": "f33ec37c",
   "metadata": {},
   "outputs": [
    {
     "data": {
      "text/plain": [
       "50000"
      ]
     },
     "execution_count": 240,
     "metadata": {},
     "output_type": "execute_result"
    }
   ],
   "source": [
    "bank.withdraw(5000)"
   ]
  },
  {
   "cell_type": "markdown",
   "id": "63e37455",
   "metadata": {},
   "source": [
    "# Decorators"
   ]
  },
  {
   "cell_type": "markdown",
   "id": "e31cf00f",
   "metadata": {},
   "source": [
    "### Methods"
   ]
  },
  {
   "cell_type": "code",
   "execution_count": 7,
   "id": "e2087625",
   "metadata": {},
   "outputs": [
    {
     "data": {
      "text/plain": [
       "25"
      ]
     },
     "execution_count": 7,
     "metadata": {},
     "output_type": "execute_result"
    }
   ],
   "source": [
    "def square(n):\n",
    "    return n * n\n",
    "square(5)"
   ]
  },
  {
   "cell_type": "code",
   "execution_count": 8,
   "id": "29ed51a2",
   "metadata": {},
   "outputs": [
    {
     "name": "stdout",
     "output_type": "stream",
     "text": [
      "49\n"
     ]
    }
   ],
   "source": [
    "print(square(7))"
   ]
  },
  {
   "cell_type": "code",
   "execution_count": 9,
   "id": "c40dfe9d",
   "metadata": {},
   "outputs": [
    {
     "data": {
      "text/plain": [
       "81"
      ]
     },
     "execution_count": 9,
     "metadata": {},
     "output_type": "execute_result"
    }
   ],
   "source": [
    "s = square   # assigning the square method to the variable s\n",
    "s(9)"
   ]
  },
  {
   "cell_type": "code",
   "execution_count": 10,
   "id": "ff1b3360",
   "metadata": {},
   "outputs": [
    {
     "data": {
      "text/plain": [
       "100"
      ]
     },
     "execution_count": 10,
     "metadata": {},
     "output_type": "execute_result"
    }
   ],
   "source": [
    "sqr = s   # again assigning s to the sqr\n",
    "sqr(10)"
   ]
  },
  {
   "cell_type": "code",
   "execution_count": 11,
   "id": "ee74bd16",
   "metadata": {},
   "outputs": [
    {
     "name": "stdout",
     "output_type": "stream",
     "text": [
      "[2, 4, 5, 10, 20, 25, 50]\n"
     ]
    }
   ],
   "source": [
    "def factors(fun,n):\n",
    "    sq = fun(n)\n",
    "    \n",
    "    factors = []\n",
    "    for i in range(2,sq):\n",
    "        if sq % i == 0:\n",
    "            factors.append(i)\n",
    "    return factors\n",
    "\n",
    "print(factors(square,10))"
   ]
  },
  {
   "cell_type": "markdown",
   "id": "48e087f0",
   "metadata": {},
   "source": [
    "### Nested Method"
   ]
  },
  {
   "cell_type": "code",
   "execution_count": 256,
   "id": "d1729ee8",
   "metadata": {},
   "outputs": [
    {
     "name": "stdout",
     "output_type": "stream",
     "text": [
      "Hello, Sahil\n",
      "Hello, Deepen\n"
     ]
    }
   ],
   "source": [
    "def outer():\n",
    "    def inner(name):\n",
    "        return \"Hello, \"+name\n",
    "    return inner\n",
    "\n",
    "greet = outer()\n",
    "print(greet(\"Sahil\"))\n",
    "print(greet(\"Deepen\"))"
   ]
  },
  {
   "cell_type": "code",
   "execution_count": 3,
   "id": "184c380b",
   "metadata": {},
   "outputs": [
    {
     "name": "stdout",
     "output_type": "stream",
     "text": [
      "120\n",
      "Enter a positive number\n"
     ]
    }
   ],
   "source": [
    "def factorial(n):\n",
    "    \n",
    "    # it check the if the number is positive or not . If yes it will execute this statement else it will go to the nex function\n",
    "    if n < 0:\n",
    "        return \"Enter a positive number\"\n",
    "        \n",
    "    def fact(n):\n",
    "        # in the nested method we do return a function\n",
    "        if n == 0:\n",
    "            return 1\n",
    "        return n * fact(n-1)\n",
    "    return fact(n)\n",
    "\n",
    "print(factorial(5))\n",
    "print(factorial(-5))"
   ]
  },
  {
   "cell_type": "code",
   "execution_count": 13,
   "id": "b68f2c24",
   "metadata": {},
   "outputs": [
    {
     "name": "stdout",
     "output_type": "stream",
     "text": [
      "HELLO SAHIL HOW ARE YOU\n",
      "SALARY CREDITED DEEPEN\n"
     ]
    }
   ],
   "source": [
    "def uppercase(fun):\n",
    "    def toUpper(string):\n",
    "        x = fun(string)\n",
    "        x = x.upper()\n",
    "        return x\n",
    "    return toUpper\n",
    "\n",
    "def greet(name):\n",
    "    return \"Hello \"+name+\" how are you\"\n",
    "\n",
    "def salary(name_emp):\n",
    "    return \"salary credited \"+name_emp\n",
    "\n",
    "upper = uppercase(greet)\n",
    "print(upper(\"sahil\"))\n",
    "\n",
    "upper = uppercase(salary)\n",
    "print(upper(\"Deepen\"))"
   ]
  },
  {
   "cell_type": "code",
   "execution_count": 145,
   "id": "18dc68be",
   "metadata": {},
   "outputs": [
    {
     "name": "stdout",
     "output_type": "stream",
     "text": [
      "125\n",
      "3125\n"
     ]
    }
   ],
   "source": [
    "def cube(function):\n",
    "    def inner(n):\n",
    "        return function(n) * n\n",
    "    return inner\n",
    "\n",
    "@cube\n",
    "def square(n):\n",
    "    return n * n\n",
    "\n",
    "@cube\n",
    "def fourth(n):\n",
    "    return n * n * n * n\n",
    "\n",
    "print(square(5))\n",
    "print(fourth(5))"
   ]
  },
  {
   "cell_type": "markdown",
   "id": "2bef1e35",
   "metadata": {},
   "source": [
    "# Static Methods"
   ]
  },
  {
   "cell_type": "code",
   "execution_count": 22,
   "id": "4f898075",
   "metadata": {},
   "outputs": [
    {
     "name": "stdout",
     "output_type": "stream",
     "text": [
      "22\n",
      "8\n"
     ]
    }
   ],
   "source": [
    "class Calculator:\n",
    "    @staticmethod\n",
    "    def add_number(num1, num2):\n",
    "        return num1 + num2\n",
    "    \n",
    "    @staticmethod\n",
    "    def sub_number(num1, num2):\n",
    "        return num1 - num2\n",
    "\n",
    "print(Calculator.add_number(15,7))\n",
    "print(Calculator.sub_number(15,7))"
   ]
  },
  {
   "cell_type": "code",
   "execution_count": 109,
   "id": "4816da28",
   "metadata": {},
   "outputs": [],
   "source": [
    "class Product:\n",
    "    count = 0\n",
    "    def __init__(self, name,price, discount):\n",
    "        self.id = Product.count + 1\n",
    "        self.name = name\n",
    "        self.price = price\n",
    "        self.discount = discount \n",
    "        self.isAvailable = True\n",
    "        Product.count += 1\n",
    "    \n",
    "    @staticmethod\n",
    "    def discountedPrice(price,discount):\n",
    "        return price - price * discount\n",
    "    \n",
    "    @staticmethod\n",
    "    def greet():\n",
    "        return \"Hello\""
   ]
  },
  {
   "cell_type": "code",
   "execution_count": 110,
   "id": "658a38f6",
   "metadata": {},
   "outputs": [],
   "source": [
    "product_1 = Product(\"TV\", 55000,0.2)"
   ]
  },
  {
   "cell_type": "code",
   "execution_count": 111,
   "id": "f2a28124",
   "metadata": {},
   "outputs": [
    {
     "data": {
      "text/plain": [
       "{'id': 1, 'name': 'TV', 'price': 55000, 'discount': 0.2, 'isAvailable': True}"
      ]
     },
     "execution_count": 111,
     "metadata": {},
     "output_type": "execute_result"
    }
   ],
   "source": [
    "product_1.__dict__"
   ]
  },
  {
   "cell_type": "code",
   "execution_count": 112,
   "id": "6ab33549",
   "metadata": {},
   "outputs": [
    {
     "name": "stdout",
     "output_type": "stream",
     "text": [
      "44000.0\n"
     ]
    }
   ],
   "source": [
    "price = 55000\n",
    "discount = 0.2\n",
    "\n",
    "discountedPrice = Product.discountedPrice(price,discount)\n",
    "\n",
    "print(discountedPrice)"
   ]
  },
  {
   "cell_type": "code",
   "execution_count": 113,
   "id": "d9bef001",
   "metadata": {},
   "outputs": [
    {
     "data": {
      "text/plain": [
       "'Hello'"
      ]
     },
     "execution_count": 113,
     "metadata": {},
     "output_type": "execute_result"
    }
   ],
   "source": [
    "Product.greet()"
   ]
  },
  {
   "cell_type": "markdown",
   "id": "097289bd",
   "metadata": {},
   "source": [
    "# Class Method"
   ]
  },
  {
   "cell_type": "code",
   "execution_count": 6,
   "id": "1e455555",
   "metadata": {},
   "outputs": [
    {
     "name": "stdout",
     "output_type": "stream",
     "text": [
      "Welcome RexOP Pvt.Ltd . Have a Nice Day\n",
      "Welcome RexOP Pvt.Ltd . Have a Nice Day\n"
     ]
    }
   ],
   "source": [
    "class Name:\n",
    "    __company = \"RexOP Pvt.Ltd\"\n",
    "    def __init__(self,id, name):\n",
    "        self.__id = id\n",
    "        self.__name = name\n",
    "    \n",
    "    @staticmethod\n",
    "    def greet():\n",
    "        return \" Have a Nice Day\"\n",
    "    \n",
    "    @classmethod\n",
    "    def intro(cls):\n",
    "        return \"Welcome \"+cls.__company+ \" .\"+cls.greet()\n",
    "\n",
    "name = Name(1, \"Sahil\")\n",
    "print(Name.intro())\n",
    "\n",
    "print(name.intro())"
   ]
  },
  {
   "cell_type": "markdown",
   "id": "ca2a194b",
   "metadata": {},
   "source": [
    "# Instance Method"
   ]
  },
  {
   "cell_type": "code",
   "execution_count": 81,
   "id": "550b1e62",
   "metadata": {},
   "outputs": [
    {
     "data": {
      "text/plain": [
       "'Emp Id: 1    Emp Name: Sahil    Emp Salary: 70000    Company: RexOP Pvt.Ltd'"
      ]
     },
     "execution_count": 81,
     "metadata": {},
     "output_type": "execute_result"
    }
   ],
   "source": [
    "class Employee:\n",
    "    __company = \"RexOP Pvt.Ltd\"\n",
    "    \n",
    "    def __init__(self,id,name,sal):\n",
    "        self.__id = id\n",
    "        self.__name = name\n",
    "        self.__sal = sal\n",
    "    \n",
    "    def printData(self):\n",
    "        return \"Emp Id: \"+str(self.__id)+\"    Emp Name: \"+self.__name+\"    Emp Salary: \"+str(self.__sal)+\"    Company: \"+self.__company\n",
    "\n",
    "emp_1 = Employee(1,\"Sahil\",70000)\n",
    "emp_1.printData()"
   ]
  },
  {
   "cell_type": "markdown",
   "id": "5cd67efe",
   "metadata": {},
   "source": [
    "# Destructor"
   ]
  },
  {
   "cell_type": "code",
   "execution_count": 78,
   "id": "2012b4db",
   "metadata": {},
   "outputs": [
    {
     "name": "stdout",
     "output_type": "stream",
     "text": [
      "Sahil\n",
      "Destructor Called\n"
     ]
    }
   ],
   "source": [
    "# this is one method\n",
    "class Computer:\n",
    "    def __init__(self):\n",
    "        self.name = \"Sahil\"\n",
    "    def __del__(self):\n",
    "        print(\"Destructor Called\")\n",
    "       \n",
    "def function():\n",
    "    c = Computer()\n",
    "print(\"Sahil\")    \n",
    "function()"
   ]
  },
  {
   "cell_type": "code",
   "execution_count": 79,
   "id": "2cd7ddb4",
   "metadata": {},
   "outputs": [
    {
     "name": "stdout",
     "output_type": "stream",
     "text": [
      "Sahil\n",
      "Destructor Called\n"
     ]
    }
   ],
   "source": [
    "# this is one method\n",
    "class Computer:\n",
    "    def __init__(self):\n",
    "        self.name = \"Sahil\"\n",
    "    def __del__(self):\n",
    "        print(\"Destructor Called\")\n",
    "\n",
    "c = Computer()\n",
    "print(\"Sahil\")\n",
    "del(c)"
   ]
  },
  {
   "cell_type": "code",
   "execution_count": 149,
   "id": "7bd4f5ef",
   "metadata": {},
   "outputs": [
    {
     "name": "stdout",
     "output_type": "stream",
     "text": [
      "True\n",
      "42500.0\n",
      "1\n"
     ]
    }
   ],
   "source": [
    "class Product:\n",
    "    __count = 0\n",
    "    def __init__(self, name, price, discount):\n",
    "        self.__id = Product.__count + 1\n",
    "        self.__name = name\n",
    "        self.__price = price\n",
    "        self.__discount = discount\n",
    "        self.__isAvailable = True\n",
    "        \n",
    "        Product.__count += 1\n",
    "        \n",
    "    @staticmethod\n",
    "    # we can pass anything to the static method for doing an operation\n",
    "    def checkOwner(xyz):\n",
    "        return xyz.getName().startswith(\"CN_\")\n",
    "        \n",
    "    @classmethod\n",
    "    def totalProduct(cls):\n",
    "        return cls.__count\n",
    "        \n",
    "    def getName(self):\n",
    "        return self.__name\n",
    "        \n",
    "    def getPrice(self):\n",
    "        return self.__price - self.__price * self.__discount\n",
    "        \n",
    "    def getId(self):\n",
    "        return self.__id\n",
    "\n",
    "prod_123 = Product(\"CN_Washing Machine\", 50000, 0.15)\n",
    "\n",
    "print(prod_123.checkOwner(prod_123))\n",
    "print(prod_123.getPrice())\n",
    "print(prod_123.getId())"
   ]
  },
  {
   "cell_type": "code",
   "execution_count": 152,
   "id": "244524de",
   "metadata": {},
   "outputs": [],
   "source": [
    "class Cart:\n",
    "    __max_capacity = 20\n",
    "    __count = 0\n",
    "    \n",
    "    def __init__(self,user):\n",
    "        self.__id = Cart.__count + 1\n",
    "        self.__user = user\n",
    "        self.__items = {}\n",
    "        \n",
    "        Cart.__count += 1\n",
    "        \n",
    "    @staticmethod\n",
    "    def getCouponCodes():\n",
    "        return [\"Chrismas2023\", \"New Year 2024\"]\n",
    "    \n",
    "    @classmethod\n",
    "    def updateMaxCapacity(cls, newCapacity):\n",
    "        cls.__max_capacity = newCapacity\n",
    "        \n",
    "    def addItems(self,product):\n",
    "        return self.__items.update({product.getId():product})\n",
    "    \n",
    "    def getItems(self):\n",
    "        return self.__items\n",
    "    \n",
    "    def generateBill(self):\n",
    "        total = 0\n",
    "        \n",
    "        for product in self.__items.values():\n",
    "            total = total + product.getPrice()\n",
    "            \n",
    "        return total"
   ]
  },
  {
   "cell_type": "code",
   "execution_count": 159,
   "id": "089da7c3",
   "metadata": {},
   "outputs": [
    {
     "name": "stdout",
     "output_type": "stream",
     "text": [
      "85000.0\n"
     ]
    }
   ],
   "source": [
    "cart_1 = Cart(\"Sahil\")\n",
    "\n",
    "product__1 = Product(\"Washing Machine\", 50000, 0.15)\n",
    "product__2 = Product(\"hair Dryer\", 50000, 0.15)\n",
    "\n",
    "cart_1.addItems(product__1)\n",
    "cart_1.addItems(product__2)\n",
    "\n",
    "print(cart_1.generateBill())"
   ]
  },
  {
   "cell_type": "code",
   "execution_count": null,
   "id": "1188d1e1",
   "metadata": {},
   "outputs": [],
   "source": []
  }
 ],
 "metadata": {
  "kernelspec": {
   "display_name": "Python 3 (ipykernel)",
   "language": "python",
   "name": "python3"
  },
  "language_info": {
   "codemirror_mode": {
    "name": "ipython",
    "version": 3
   },
   "file_extension": ".py",
   "mimetype": "text/x-python",
   "name": "python",
   "nbconvert_exporter": "python",
   "pygments_lexer": "ipython3",
   "version": "3.10.7"
  }
 },
 "nbformat": 4,
 "nbformat_minor": 5
}
