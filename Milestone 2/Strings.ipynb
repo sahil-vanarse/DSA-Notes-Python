{
 "cells": [
  {
   "cell_type": "code",
   "execution_count": 2,
   "id": "bafd0af1",
   "metadata": {},
   "outputs": [
    {
     "name": "stdout",
     "output_type": "stream",
     "text": [
      "Sahil\n",
      "Sahil\n",
      "Sahil\n"
     ]
    }
   ],
   "source": [
    "# we can use single, double as well as triple quote\n",
    "s = 'Sahil'\n",
    "print(s)\n",
    "a = \"Sahil\"\n",
    "print(a)\n",
    "h = '''Sahil'''\n",
    "print(h)"
   ]
  },
  {
   "cell_type": "code",
   "execution_count": 5,
   "id": "8f0792ab",
   "metadata": {},
   "outputs": [
    {
     "ename": "SyntaxError",
     "evalue": "unterminated string literal (detected at line 1) (1087501131.py, line 1)",
     "output_type": "error",
     "traceback": [
      "\u001b[1;36m  Cell \u001b[1;32mIn[5], line 1\u001b[1;36m\u001b[0m\n\u001b[1;33m    name = \"My name\u001b[0m\n\u001b[1;37m           ^\u001b[0m\n\u001b[1;31mSyntaxError\u001b[0m\u001b[1;31m:\u001b[0m unterminated string literal (detected at line 1)\n"
     ]
    }
   ],
   "source": [
    "# when we use single or double quotation we cannot write multi line alphabets\n",
    "name = \"My name\n",
    "Sahil\""
   ]
  },
  {
   "cell_type": "code",
   "execution_count": 10,
   "id": "eeb5857f",
   "metadata": {},
   "outputs": [
    {
     "name": "stdout",
     "output_type": "stream",
     "text": [
      "My \n",
      "name is \n",
      "Sahil\n"
     ]
    },
    {
     "data": {
      "text/plain": [
       "'My \\nname is \\nSahil'"
      ]
     },
     "execution_count": 10,
     "metadata": {},
     "output_type": "execute_result"
    }
   ],
   "source": [
    "# to write multi line we can use triple quotation m\n",
    "name = '''My \n",
    "name is \n",
    "Sahil'''\n",
    "print(name)\n",
    "\n",
    "# \\n means this is the end of the line and starts with the new line\n",
    "name"
   ]
  },
  {
   "cell_type": "code",
   "execution_count": 9,
   "id": "89cbe5fc",
   "metadata": {},
   "outputs": [
    {
     "data": {
      "text/plain": [
       "'S'"
      ]
     },
     "execution_count": 9,
     "metadata": {},
     "output_type": "execute_result"
    }
   ],
   "source": [
    "indexing_in_string = \"Sahil\"\n",
    "indexing_in_string[0]"
   ]
  },
  {
   "cell_type": "markdown",
   "id": "4dc9938d",
   "metadata": {},
   "source": [
    "### How Strings are Stored"
   ]
  },
  {
   "cell_type": "code",
   "execution_count": 11,
   "id": "c2520b20",
   "metadata": {},
   "outputs": [
    {
     "name": "stdout",
     "output_type": "stream",
     "text": [
      "1677770669680\n"
     ]
    }
   ],
   "source": [
    "s = \"Sahil\"\n",
    "print(id(s))"
   ]
  },
  {
   "cell_type": "code",
   "execution_count": 13,
   "id": "f157d7b3",
   "metadata": {},
   "outputs": [
    {
     "name": "stdout",
     "output_type": "stream",
     "text": [
      "1677770325680\n"
     ]
    }
   ],
   "source": [
    "n = \"Sahil\"\n",
    "print(id(n))"
   ]
  },
  {
   "cell_type": "markdown",
   "id": "c1eaa453",
   "metadata": {},
   "source": [
    "##### As we can see that n and s both are different variables but has same values that means \n",
    "##### the variables stores the referrence(address) of the values and so the values we have given to the s and n\n",
    "##### are same so it stored in one space and referrence variable targets the referrence and calls the value"
   ]
  },
  {
   "cell_type": "markdown",
   "id": "a648c15d",
   "metadata": {},
   "source": [
    "### Strings are immutable"
   ]
  },
  {
   "cell_type": "code",
   "execution_count": 15,
   "id": "408108dd",
   "metadata": {},
   "outputs": [
    {
     "name": "stdout",
     "output_type": "stream",
     "text": [
      "S\n"
     ]
    }
   ],
   "source": [
    "name = \"Sahil\"\n",
    "print(name[0])"
   ]
  },
  {
   "cell_type": "code",
   "execution_count": 18,
   "id": "3525a252",
   "metadata": {},
   "outputs": [
    {
     "ename": "TypeError",
     "evalue": "'str' object does not support item assignment",
     "output_type": "error",
     "traceback": [
      "\u001b[1;31m---------------------------------------------------------------------------\u001b[0m",
      "\u001b[1;31mTypeError\u001b[0m                                 Traceback (most recent call last)",
      "Cell \u001b[1;32mIn[18], line 2\u001b[0m\n\u001b[0;32m      1\u001b[0m \u001b[38;5;66;03m# this means that the we cannot change the value once we have written it \u001b[39;00m\n\u001b[1;32m----> 2\u001b[0m \u001b[43mname\u001b[49m\u001b[43m[\u001b[49m\u001b[38;5;241;43m0\u001b[39;49m\u001b[43m]\u001b[49m \u001b[38;5;241m=\u001b[39m \u001b[38;5;124m\"\u001b[39m\u001b[38;5;124mp\u001b[39m\u001b[38;5;124m\"\u001b[39m\n",
      "\u001b[1;31mTypeError\u001b[0m: 'str' object does not support item assignment"
     ]
    }
   ],
   "source": [
    "# this means that the we cannot change the value once we have written it \n",
    "# we cannot make changes in the string we need to change the referrence\n",
    "name[0] = \"p\""
   ]
  },
  {
   "cell_type": "markdown",
   "id": "66e9ced5",
   "metadata": {},
   "source": [
    "### Concantenation of two String"
   ]
  },
  {
   "cell_type": "code",
   "execution_count": 19,
   "id": "aed72bdb",
   "metadata": {},
   "outputs": [],
   "source": [
    "a = \"red\""
   ]
  },
  {
   "cell_type": "code",
   "execution_count": 26,
   "id": "84baf377",
   "metadata": {},
   "outputs": [
    {
     "data": {
      "text/plain": [
       "'redblue blue blueblueblueblueblue'"
      ]
     },
     "execution_count": 26,
     "metadata": {},
     "output_type": "execute_result"
    }
   ],
   "source": [
    "# concatenation happens using the + operator\n",
    "a = a + \"blue\"\n",
    "a"
   ]
  },
  {
   "cell_type": "code",
   "execution_count": 27,
   "id": "61487469",
   "metadata": {},
   "outputs": [
    {
     "data": {
      "text/plain": [
       "1677792309872"
      ]
     },
     "execution_count": 27,
     "metadata": {},
     "output_type": "execute_result"
    }
   ],
   "source": [
    "id(a)"
   ]
  },
  {
   "cell_type": "code",
   "execution_count": 177,
   "id": "146102fd",
   "metadata": {},
   "outputs": [
    {
     "ename": "TypeError",
     "evalue": "unsupported operand type(s) for +: 'bool' and 'str'",
     "output_type": "error",
     "traceback": [
      "\u001b[1;31m---------------------------------------------------------------------------\u001b[0m",
      "\u001b[1;31mTypeError\u001b[0m                                 Traceback (most recent call last)",
      "Cell \u001b[1;32mIn[177], line 3\u001b[0m\n\u001b[0;32m      1\u001b[0m \u001b[38;5;66;03m# as we know that the string is immutable so when we use same variable and concatenate the other element then \"a\" will change its reference\u001b[39;00m\n\u001b[0;32m      2\u001b[0m \u001b[38;5;66;03m# it creates the new string and stores the values to the new referrence and \"a\" will not refer to the first first string we made but it will create a new string with new space and and stores the reference and the values\u001b[39;00m\n\u001b[1;32m----> 3\u001b[0m a \u001b[38;5;241m=\u001b[39m \u001b[43ma\u001b[49m\u001b[43m \u001b[49m\u001b[38;5;241;43m+\u001b[39;49m\u001b[43m \u001b[49m\u001b[38;5;124;43m\"\u001b[39;49m\u001b[38;5;124;43myellow\u001b[39;49m\u001b[38;5;124;43m\"\u001b[39;49m\n",
      "\u001b[1;31mTypeError\u001b[0m: unsupported operand type(s) for +: 'bool' and 'str'"
     ]
    }
   ],
   "source": [
    "# as we know that the string is immutable so when we use same variable and concatenate the other element then \"a\" will change its reference\n",
    "# it creates the new string and stores the values to the new referrence and \"a\" will not refer to the first first string we made but it will create a new string with new space and and stores the reference and the values\n",
    "a = a + \"yellow\""
   ]
  },
  {
   "cell_type": "code",
   "execution_count": 29,
   "id": "33daddf2",
   "metadata": {},
   "outputs": [
    {
     "data": {
      "text/plain": [
       "1677770118640"
      ]
     },
     "execution_count": 29,
     "metadata": {},
     "output_type": "execute_result"
    }
   ],
   "source": [
    "id(a)"
   ]
  },
  {
   "cell_type": "code",
   "execution_count": 38,
   "id": "ab03f06c",
   "metadata": {},
   "outputs": [],
   "source": [
    "c = \"blue\""
   ]
  },
  {
   "cell_type": "code",
   "execution_count": 39,
   "id": "913b4961",
   "metadata": {},
   "outputs": [
    {
     "data": {
      "text/plain": [
       "'blueblueblue'"
      ]
     },
     "execution_count": 39,
     "metadata": {},
     "output_type": "execute_result"
    }
   ],
   "source": [
    "# by this way also we can use the concatenation\n",
    "c = c * 3\n",
    "c"
   ]
  },
  {
   "cell_type": "code",
   "execution_count": 40,
   "id": "ae8a3c17",
   "metadata": {},
   "outputs": [],
   "source": [
    "# as first our \"c\" was c * 3 means that blue will repeat 3 times then when we again make c * 3 this means that it will repeat 9 times\n",
    "c = c * 3 "
   ]
  },
  {
   "cell_type": "code",
   "execution_count": 41,
   "id": "964c6892",
   "metadata": {},
   "outputs": [
    {
     "data": {
      "text/plain": [
       "'blueblueblueblueblueblueblueblueblue'"
      ]
     },
     "execution_count": 41,
     "metadata": {},
     "output_type": "execute_result"
    }
   ],
   "source": [
    "c"
   ]
  },
  {
   "cell_type": "code",
   "execution_count": 43,
   "id": "eba1a170",
   "metadata": {},
   "outputs": [],
   "source": [
    "k = \"red\" "
   ]
  },
  {
   "cell_type": "code",
   "execution_count": 44,
   "id": "7bc23ee6",
   "metadata": {},
   "outputs": [
    {
     "ename": "TypeError",
     "evalue": "can only concatenate str (not \"int\") to str",
     "output_type": "error",
     "traceback": [
      "\u001b[1;31m---------------------------------------------------------------------------\u001b[0m",
      "\u001b[1;31mTypeError\u001b[0m                                 Traceback (most recent call last)",
      "Cell \u001b[1;32mIn[44], line 2\u001b[0m\n\u001b[0;32m      1\u001b[0m \u001b[38;5;66;03m# we cannot do the string and number addition\u001b[39;00m\n\u001b[1;32m----> 2\u001b[0m k \u001b[38;5;241m=\u001b[39m \u001b[43mk\u001b[49m\u001b[43m \u001b[49m\u001b[38;5;241;43m+\u001b[39;49m\u001b[43m \u001b[49m\u001b[38;5;241;43m2\u001b[39;49m\n",
      "\u001b[1;31mTypeError\u001b[0m: can only concatenate str (not \"int\") to str"
     ]
    }
   ],
   "source": [
    "# we cannot do the string and number addition\n",
    "k = k + 2"
   ]
  },
  {
   "cell_type": "code",
   "execution_count": 45,
   "id": "ae3df393",
   "metadata": {},
   "outputs": [],
   "source": [
    "# to do so we can use str() function which is already in the python\n",
    "# converting the integer into the string\n",
    "k = k + str(2)"
   ]
  },
  {
   "cell_type": "code",
   "execution_count": 46,
   "id": "da76a85f",
   "metadata": {},
   "outputs": [
    {
     "data": {
      "text/plain": [
       "'red2'"
      ]
     },
     "execution_count": 46,
     "metadata": {},
     "output_type": "execute_result"
    }
   ],
   "source": [
    "k"
   ]
  },
  {
   "cell_type": "markdown",
   "id": "07c92915",
   "metadata": {},
   "source": [
    "##### Concatenation has two operator that is \" + \" and \" * \""
   ]
  },
  {
   "cell_type": "markdown",
   "id": "4b8d1e99",
   "metadata": {},
   "source": [
    "### Slicing of String"
   ]
  },
  {
   "cell_type": "markdown",
   "id": "ea079dcc",
   "metadata": {},
   "source": [
    "[start : end : steps]  format for slicing of String"
   ]
  },
  {
   "cell_type": "code",
   "execution_count": 47,
   "id": "f2ebbce3",
   "metadata": {},
   "outputs": [],
   "source": [
    "slice = \"Sahil\""
   ]
  },
  {
   "cell_type": "code",
   "execution_count": 49,
   "id": "b9f7ddbb",
   "metadata": {},
   "outputs": [
    {
     "data": {
      "text/plain": [
       "'Sahil'"
      ]
     },
     "execution_count": 49,
     "metadata": {},
     "output_type": "execute_result"
    }
   ],
   "source": [
    "slice[0:]"
   ]
  },
  {
   "cell_type": "code",
   "execution_count": 50,
   "id": "77b5fc13",
   "metadata": {},
   "outputs": [
    {
     "data": {
      "text/plain": [
       "'Sahi'"
      ]
     },
     "execution_count": 50,
     "metadata": {},
     "output_type": "execute_result"
    }
   ],
   "source": [
    "slice[0:4]"
   ]
  },
  {
   "cell_type": "code",
   "execution_count": 51,
   "id": "18d00b93",
   "metadata": {},
   "outputs": [
    {
     "data": {
      "text/plain": [
       "'Shl'"
      ]
     },
     "execution_count": 51,
     "metadata": {},
     "output_type": "execute_result"
    }
   ],
   "source": [
    "slice[0::2]"
   ]
  },
  {
   "cell_type": "markdown",
   "id": "312a31b3",
   "metadata": {},
   "source": [
    "##### Slicing happens on negative indexing as well"
   ]
  },
  {
   "cell_type": "code",
   "execution_count": 52,
   "id": "fc1fb120",
   "metadata": {},
   "outputs": [
    {
     "data": {
      "text/plain": [
       "'l'"
      ]
     },
     "execution_count": 52,
     "metadata": {},
     "output_type": "execute_result"
    }
   ],
   "source": [
    "slice[-1]"
   ]
  },
  {
   "cell_type": "code",
   "execution_count": 53,
   "id": "0e52866d",
   "metadata": {},
   "outputs": [
    {
     "data": {
      "text/plain": [
       "'ahi'"
      ]
     },
     "execution_count": 53,
     "metadata": {},
     "output_type": "execute_result"
    }
   ],
   "source": [
    "slice[-4:-1]"
   ]
  },
  {
   "cell_type": "code",
   "execution_count": 54,
   "id": "82ae0596",
   "metadata": {},
   "outputs": [
    {
     "data": {
      "text/plain": [
       "'lih'"
      ]
     },
     "execution_count": 54,
     "metadata": {},
     "output_type": "execute_result"
    }
   ],
   "source": [
    "slice[4:1:-1]"
   ]
  },
  {
   "cell_type": "code",
   "execution_count": 56,
   "id": "807586f6",
   "metadata": {},
   "outputs": [
    {
     "data": {
      "text/plain": [
       "'lihaS'"
      ]
     },
     "execution_count": 56,
     "metadata": {},
     "output_type": "execute_result"
    }
   ],
   "source": [
    "slice[4::-1]"
   ]
  },
  {
   "cell_type": "markdown",
   "id": "712abd6b",
   "metadata": {},
   "source": [
    "### Iterating on String"
   ]
  },
  {
   "cell_type": "code",
   "execution_count": 57,
   "id": "e318f742",
   "metadata": {},
   "outputs": [],
   "source": [
    "str = \"Hello World\""
   ]
  },
  {
   "cell_type": "code",
   "execution_count": 58,
   "id": "f034bd00",
   "metadata": {},
   "outputs": [
    {
     "name": "stdout",
     "output_type": "stream",
     "text": [
      "3\n"
     ]
    }
   ],
   "source": [
    "count = 0\n",
    "for i in str:\n",
    "    if (i == 'l'):\n",
    "        count = count + 1\n",
    "print(count)"
   ]
  },
  {
   "cell_type": "code",
   "execution_count": 59,
   "id": "9fcdf0bb",
   "metadata": {},
   "outputs": [
    {
     "name": "stdout",
     "output_type": "stream",
     "text": [
      "3\n"
     ]
    }
   ],
   "source": [
    "count = 0\n",
    "for i in range(len(str)):\n",
    "    if (str[i] == 'l'):\n",
    "        count = count + 1\n",
    "print(count)"
   ]
  },
  {
   "cell_type": "markdown",
   "id": "f1baa092",
   "metadata": {},
   "source": [
    "### in and notin operation on string"
   ]
  },
  {
   "cell_type": "code",
   "execution_count": 60,
   "id": "087accd7",
   "metadata": {},
   "outputs": [
    {
     "name": "stdout",
     "output_type": "stream",
     "text": [
      "Hello World\n"
     ]
    }
   ],
   "source": [
    "print(str)"
   ]
  },
  {
   "cell_type": "code",
   "execution_count": 64,
   "id": "15b04b30",
   "metadata": {},
   "outputs": [
    {
     "name": "stdout",
     "output_type": "stream",
     "text": [
      "Yes it is the substring\n"
     ]
    }
   ],
   "source": [
    "# identifying the substring or not\n",
    "if 'Hel' in str:\n",
    "    print(\"Yes it is the substring\")\n",
    "else:\n",
    "    print(\"It is not the substring\")"
   ]
  },
  {
   "cell_type": "code",
   "execution_count": 72,
   "id": "fb5bf0ba",
   "metadata": {},
   "outputs": [
    {
     "name": "stdout",
     "output_type": "stream",
     "text": [
      "No it is a substring\n"
     ]
    }
   ],
   "source": [
    "if 'Hel' not in str:\n",
    "    print(\"Yes it is not the substring\")\n",
    "else:\n",
    "    print(\"No it is a substring\")"
   ]
  },
  {
   "cell_type": "markdown",
   "id": "d09348bd",
   "metadata": {},
   "source": [
    "### Comparison Operator on String\n",
    "#### Comparison is on the basis of the ASCII values"
   ]
  },
  {
   "cell_type": "code",
   "execution_count": 73,
   "id": "0964dda0",
   "metadata": {},
   "outputs": [
    {
     "data": {
      "text/plain": [
       "True"
      ]
     },
     "execution_count": 73,
     "metadata": {},
     "output_type": "execute_result"
    }
   ],
   "source": [
    "a = \"Sahil\" == \"Sahil\"\n",
    "a"
   ]
  },
  {
   "cell_type": "code",
   "execution_count": 74,
   "id": "d7366cee",
   "metadata": {},
   "outputs": [
    {
     "data": {
      "text/plain": [
       "True"
      ]
     },
     "execution_count": 74,
     "metadata": {},
     "output_type": "execute_result"
    }
   ],
   "source": [
    "a = \"Sahil\" > \"Rahil\"\n",
    "a"
   ]
  },
  {
   "cell_type": "code",
   "execution_count": 75,
   "id": "60284ef2",
   "metadata": {},
   "outputs": [
    {
     "data": {
      "text/plain": [
       "False"
      ]
     },
     "execution_count": 75,
     "metadata": {},
     "output_type": "execute_result"
    }
   ],
   "source": [
    "a = \"Sahil\" < \"Rahil\"\n",
    "a"
   ]
  },
  {
   "cell_type": "code",
   "execution_count": 76,
   "id": "20666d5d",
   "metadata": {},
   "outputs": [
    {
     "data": {
      "text/plain": [
       "True"
      ]
     },
     "execution_count": 76,
     "metadata": {},
     "output_type": "execute_result"
    }
   ],
   "source": [
    "a = \"Sbhil\" >= \"Sahil\"\n",
    "a"
   ]
  },
  {
   "cell_type": "code",
   "execution_count": 143,
   "id": "2a5f4653",
   "metadata": {},
   "outputs": [
    {
     "data": {
      "text/plain": [
       "True"
      ]
     },
     "execution_count": 143,
     "metadata": {},
     "output_type": "execute_result"
    }
   ],
   "source": [
    "\"Sahil\" >= \"Sah\""
   ]
  },
  {
   "cell_type": "code",
   "execution_count": 80,
   "id": "9362df53",
   "metadata": {},
   "outputs": [
    {
     "data": {
      "text/plain": [
       "False"
      ]
     },
     "execution_count": 80,
     "metadata": {},
     "output_type": "execute_result"
    }
   ],
   "source": [
    "\"Sahil\" > \"Sahil\""
   ]
  },
  {
   "cell_type": "code",
   "execution_count": 81,
   "id": "067d0e7a",
   "metadata": {},
   "outputs": [
    {
     "data": {
      "text/plain": [
       "False"
      ]
     },
     "execution_count": 81,
     "metadata": {},
     "output_type": "execute_result"
    }
   ],
   "source": [
    "\"Sahil\" != \"Sahil\""
   ]
  },
  {
   "cell_type": "code",
   "execution_count": 203,
   "id": "e043f42f",
   "metadata": {},
   "outputs": [
    {
     "name": "stdout",
     "output_type": "stream",
     "text": [
      "tseb eht si malayalam\n"
     ]
    }
   ],
   "source": [
    "o = \"malayalam is the best\"\n",
    "k = o[::-1]\n",
    "print(k)"
   ]
  },
  {
   "cell_type": "code",
   "execution_count": 94,
   "id": "83c18c94",
   "metadata": {},
   "outputs": [
    {
     "name": "stdout",
     "output_type": "stream",
     "text": [
      "lol\n",
      "true\n"
     ]
    }
   ],
   "source": [
    "def palindrome(str):\n",
    "    reverse = str[::-1]\n",
    "    if str == reverse:\n",
    "        return True\n",
    "    else:\n",
    "        return False\n",
    "str = input()\n",
    "if (palindrome(str)):\n",
    "    print(\"true\")\n",
    "else:\n",
    "    print(\"false\")"
   ]
  },
  {
   "cell_type": "code",
   "execution_count": 137,
   "id": "8a9515de",
   "metadata": {},
   "outputs": [
    {
     "name": "stdout",
     "output_type": "stream",
     "text": [
      "Lo#@%$&#l\n",
      "lol\n",
      "lol\n"
     ]
    },
    {
     "data": {
      "text/plain": [
       "True"
      ]
     },
     "execution_count": 137,
     "metadata": {},
     "output_type": "execute_result"
    }
   ],
   "source": [
    "import re\n",
    "def checkPalindrome(s):   \n",
    "\tlowercase = s.lower()\n",
    "\tnew_lower = re.sub(r\"[~!@#$%^*&?/\\|]\",\"\",lowercase)\n",
    "\tprint(new_lower)\n",
    "\treverse = s.lower()[::-1]\n",
    "\tnew_reverse = re.sub(r\"[~!@#$%^*&?/\\|]\",\"\",reverse)\n",
    "\tprint(new_reverse)\n",
    "\tif new_lower == new_reverse:\n",
    "\t\treturn True\n",
    "\telse:\n",
    "\t\treturn False\n",
    "str = input()\n",
    "checkPalindrome(str)"
   ]
  },
  {
   "cell_type": "code",
   "execution_count": 139,
   "id": "fbdcffbb",
   "metadata": {},
   "outputs": [
    {
     "name": "stdout",
     "output_type": "stream",
     "text": [
      "True\n"
     ]
    }
   ],
   "source": [
    "a = \"abce\" >= \"abcdef\"\n",
    "print(a)"
   ]
  },
  {
   "cell_type": "markdown",
   "id": "d6dee062",
   "metadata": {},
   "source": [
    "### Operation on String and Functions on Strings"
   ]
  },
  {
   "cell_type": "markdown",
   "id": "17aaa2d6",
   "metadata": {},
   "source": [
    "##### Split"
   ]
  },
  {
   "cell_type": "code",
   "execution_count": 160,
   "id": "24f579e7",
   "metadata": {},
   "outputs": [
    {
     "name": "stdout",
     "output_type": "stream",
     "text": [
      "['My', 'name', 'is', 'Sahil']\n"
     ]
    }
   ],
   "source": [
    "str = \"My name is Sahil\"\n",
    "l = str.split()\n",
    "print(l)"
   ]
  },
  {
   "cell_type": "code",
   "execution_count": 161,
   "id": "2255d7fd",
   "metadata": {},
   "outputs": [
    {
     "name": "stdout",
     "output_type": "stream",
     "text": [
      "['My', 'name', 'is', 'Sahil']\n"
     ]
    }
   ],
   "source": [
    "str = \"My,name,is,Sahil\"\n",
    "l = str.split(\",\")\n",
    "print(l)"
   ]
  },
  {
   "cell_type": "code",
   "execution_count": 165,
   "id": "eb6cbb7c",
   "metadata": {},
   "outputs": [
    {
     "name": "stdout",
     "output_type": "stream",
     "text": [
      "['My', 'name', 'is,Sahil']\n"
     ]
    }
   ],
   "source": [
    "# as here we can pass delemeter how many items we want to split\n",
    "str = \"My,name,is,Sahil\"\n",
    "l = str.split(\",\",2)\n",
    "print(l)"
   ]
  },
  {
   "cell_type": "markdown",
   "id": "67ae04ea",
   "metadata": {},
   "source": [
    "##### replace"
   ]
  },
  {
   "cell_type": "code",
   "execution_count": 174,
   "id": "dbf59c57",
   "metadata": {},
   "outputs": [
    {
     "name": "stdout",
     "output_type": "stream",
     "text": [
      "My name is Deepen\n"
     ]
    }
   ],
   "source": [
    "str = \"My name is Sahil\"\n",
    "name = str.replace(\"Sahil\", \"Deepen\")\n",
    "print(name)"
   ]
  },
  {
   "cell_type": "code",
   "execution_count": 175,
   "id": "9b0be384",
   "metadata": {},
   "outputs": [
    {
     "name": "stdout",
     "output_type": "stream",
     "text": [
      "My name is Deepen Deepen Deepen\n"
     ]
    }
   ],
   "source": [
    "# as here we didnt pass any delimeter how many we want to change it will change all the element of same name with the new name we have given it\n",
    "str = \"My name is Sahil Sahil Sahil\"\n",
    "name = str.replace(\"Sahil\", \"Deepen\")\n",
    "print(name)"
   ]
  },
  {
   "cell_type": "code",
   "execution_count": 176,
   "id": "22ee827e",
   "metadata": {},
   "outputs": [
    {
     "name": "stdout",
     "output_type": "stream",
     "text": [
      "My name is Deepen Sahil Sahil\n"
     ]
    }
   ],
   "source": [
    "# as here we gave 1 it will change only 1 name even though we have multiple same name \n",
    "str = \"My name is Sahil Sahil Sahil\"\n",
    "name = str.replace(\"Sahil\", \"Deepen\", 1)\n",
    "print(name)"
   ]
  },
  {
   "cell_type": "markdown",
   "id": "e7a0005e",
   "metadata": {},
   "source": [
    "##### FInd"
   ]
  },
  {
   "cell_type": "code",
   "execution_count": 178,
   "id": "00eb5649",
   "metadata": {},
   "outputs": [
    {
     "name": "stdout",
     "output_type": "stream",
     "text": [
      "3\n"
     ]
    }
   ],
   "source": [
    "# here we got the 3 because \"n\" started with the 3\n",
    "str = \"My name is Sahil\"\n",
    "index = str.find(\"na\")\n",
    "print(index)"
   ]
  },
  {
   "cell_type": "code",
   "execution_count": 179,
   "id": "146bc7a9",
   "metadata": {},
   "outputs": [
    {
     "name": "stdout",
     "output_type": "stream",
     "text": [
      "-1\n"
     ]
    }
   ],
   "source": [
    "# here we got the -1 because the name is not present in the string\n",
    "str = \"My name is Sahil\"\n",
    "index = str.find(\"nae\")\n",
    "print(index)"
   ]
  },
  {
   "cell_type": "code",
   "execution_count": 180,
   "id": "693a6834",
   "metadata": {},
   "outputs": [
    {
     "name": "stdout",
     "output_type": "stream",
     "text": [
      "11\n"
     ]
    }
   ],
   "source": [
    "# if multiple same names are present in the string it will return who ever come first\n",
    "str = \"My name is Sahil Sahil Sahil\"\n",
    "index = str.find(\"Sah\")\n",
    "print(index)"
   ]
  },
  {
   "cell_type": "code",
   "execution_count": 182,
   "id": "76dce491",
   "metadata": {},
   "outputs": [
    {
     "name": "stdout",
     "output_type": "stream",
     "text": [
      "17\n"
     ]
    }
   ],
   "source": [
    "# if multiple same names and we have given the we want to start from our choice it will return it too as we see below\n",
    "str = \"My name is Sahil Sahil\"\n",
    "index = str.find(\"Sah\",15,22)\n",
    "print(index)"
   ]
  },
  {
   "cell_type": "markdown",
   "id": "2093c47e",
   "metadata": {},
   "source": [
    "##### lower and upper"
   ]
  },
  {
   "cell_type": "code",
   "execution_count": 184,
   "id": "9ce57756",
   "metadata": {},
   "outputs": [
    {
     "data": {
      "text/plain": [
       "'my name is sahil'"
      ]
     },
     "execution_count": 184,
     "metadata": {},
     "output_type": "execute_result"
    }
   ],
   "source": [
    "# it converts everything to the lower case\n",
    "str = \"My name is Sahil\"\n",
    "lower = str.lower()\n",
    "lower"
   ]
  },
  {
   "cell_type": "code",
   "execution_count": 185,
   "id": "2e2379b4",
   "metadata": {},
   "outputs": [
    {
     "data": {
      "text/plain": [
       "'MY NAME IS SAHIL'"
      ]
     },
     "execution_count": 185,
     "metadata": {},
     "output_type": "execute_result"
    }
   ],
   "source": [
    "# it converts everything to the upper case\n",
    "str = \"My name is Sahil\"\n",
    "upper = str.upper()\n",
    "upper"
   ]
  },
  {
   "cell_type": "markdown",
   "id": "79ec4749",
   "metadata": {},
   "source": [
    "##### startwith"
   ]
  },
  {
   "cell_type": "code",
   "execution_count": 186,
   "id": "4cd9026e",
   "metadata": {},
   "outputs": [
    {
     "data": {
      "text/plain": [
       "True"
      ]
     },
     "execution_count": 186,
     "metadata": {},
     "output_type": "execute_result"
    }
   ],
   "source": [
    "# this is the boolean which returns the true or the false if our starting is exact as the parameters returns true else false\n",
    "str = \"My name is Sahil\"\n",
    "start = str.startswith(\"My\")\n",
    "start"
   ]
  },
  {
   "cell_type": "code",
   "execution_count": 188,
   "id": "7c907964",
   "metadata": {},
   "outputs": [
    {
     "data": {
      "text/plain": [
       "True"
      ]
     },
     "execution_count": 188,
     "metadata": {},
     "output_type": "execute_result"
    }
   ],
   "source": [
    "# as here Sa from the Sahil starts with the indexing 11 it returns true\n",
    "str = \"My name is Sahil\"\n",
    "start = str.startswith(\"Sa\",11)\n",
    "start"
   ]
  },
  {
   "cell_type": "markdown",
   "id": "ef1163bf",
   "metadata": {},
   "source": [
    "### Replace the Charaters"
   ]
  },
  {
   "cell_type": "code",
   "execution_count": 192,
   "id": "9ce218a2",
   "metadata": {},
   "outputs": [
    {
     "name": "stdout",
     "output_type": "stream",
     "text": [
      "Enter a Text : kkkkrrrrrrkkkkkksedretwetrwetw\n",
      "Enter a value present in your text : r\n",
      "Enter a value you want to replace it with value present in the text : a\n",
      "kkkkaaaaaakkkkkksedaetwetawetw\n"
     ]
    }
   ],
   "source": [
    "def replace(str, cur_val, cng_val):\n",
    "    new_str =''\n",
    "    for val in str:\n",
    "        if (val == cur_val):\n",
    "            new_str = new_str + cng_val\n",
    "        else:\n",
    "            new_str = new_str + val\n",
    "    return new_str\n",
    "str = input(\"Enter a Text : \")\n",
    "cur_val = input(\"Enter a value present in your text : \")\n",
    "cng_val = input(\"Enter a value you want to replace it with value present in the text : \")\n",
    "str = replace(str, cur_val, cng_val)\n",
    "print(str)"
   ]
  },
  {
   "cell_type": "markdown",
   "id": "06c9b7a2",
   "metadata": {},
   "source": [
    "### Count VCDS"
   ]
  },
  {
   "cell_type": "code",
   "execution_count": 193,
   "id": "9c5b1094",
   "metadata": {},
   "outputs": [
    {
     "name": "stdout",
     "output_type": "stream",
     "text": [
      "6 3 5 6\n"
     ]
    }
   ],
   "source": [
    "def count_vcds(str):\n",
    "    v,c,d,s = 0,0,0,0\n",
    "    for char in str:\n",
    "        if ((char >= 'a' and char <= 'z') or (char >= 'A' and char <= 'Z')):\n",
    "            char = char.lower()\n",
    "            if (char == 'a' or char == 'e' or char == 'i' or char == 'o' or char == 'u'):\n",
    "                v = v + 1\n",
    "            else:\n",
    "                c = c + 1\n",
    "        elif (char >= '0' and char <= '9'):\n",
    "            d = d + 1\n",
    "        else:\n",
    "            s = s + 1\n",
    "    return v,c,d,s\n",
    "str = \"aaaAAAdfk 12345 !@&$\"\n",
    "v,c,d,s = count_vcds(str)\n",
    "print(v,c,d,s)"
   ]
  },
  {
   "cell_type": "code",
   "execution_count": 207,
   "id": "5cca4dca",
   "metadata": {},
   "outputs": [
    {
     "data": {
      "text/plain": [
       "'aaa'"
      ]
     },
     "execution_count": 207,
     "metadata": {},
     "output_type": "execute_result"
    }
   ],
   "source": [
    "n = \"a\" * 3\n",
    "n"
   ]
  },
  {
   "cell_type": "code",
   "execution_count": 210,
   "id": "89d9e3ad",
   "metadata": {},
   "outputs": [
    {
     "data": {
      "text/plain": [
       "0"
      ]
     },
     "execution_count": 210,
     "metadata": {},
     "output_type": "execute_result"
    }
   ],
   "source": [
    "n = 3 % len(n)\n",
    "n"
   ]
  },
  {
   "cell_type": "code",
   "execution_count": 222,
   "id": "13c6c006",
   "metadata": {},
   "outputs": [
    {
     "name": "stdout",
     "output_type": "stream",
     "text": [
      "aabbccdsa\n",
      "a2b2c2dsa"
     ]
    }
   ],
   "source": [
    "def stringCompression(s):\n",
    "    i = 0\n",
    "    res = []\n",
    "    while i < len(s) :\n",
    "        j = i + 1\n",
    "        c = 1\n",
    "        while j < len(s):\n",
    "            if s[i] == s[j]:\n",
    "                c+=1\n",
    "                j+=1\n",
    "                \n",
    "            else:\n",
    "                break\n",
    "            \n",
    "        if c > 1:\n",
    "            res.append(s[i])\n",
    "            res.append(c)\n",
    "            \n",
    "        else:\n",
    "            res.append(s[i])\n",
    "            \n",
    "        i = i + c\n",
    "                \n",
    "    for i in range(len(res)):\n",
    "        print(res[i],end ='')\n",
    "           \n",
    "\n",
    "s = input()\n",
    "stringCompression(s)"
   ]
  },
  {
   "cell_type": "code",
   "execution_count": null,
   "id": "71ff0087",
   "metadata": {},
   "outputs": [],
   "source": []
  }
 ],
 "metadata": {
  "kernelspec": {
   "display_name": "Python 3 (ipykernel)",
   "language": "python",
   "name": "python3"
  },
  "language_info": {
   "codemirror_mode": {
    "name": "ipython",
    "version": 3
   },
   "file_extension": ".py",
   "mimetype": "text/x-python",
   "name": "python",
   "nbconvert_exporter": "python",
   "pygments_lexer": "ipython3",
   "version": "3.10.7"
  }
 },
 "nbformat": 4,
 "nbformat_minor": 5
}
