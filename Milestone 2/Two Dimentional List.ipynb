{
 "cells": [
  {
   "cell_type": "markdown",
   "id": "49bc736c",
   "metadata": {},
   "source": [
    "### 2D is actually List of Lists"
   ]
  },
  {
   "cell_type": "code",
   "execution_count": 13,
   "id": "c860e5df",
   "metadata": {},
   "outputs": [],
   "source": [
    "# This is how we create 2d list\n",
    "li = [[1,2,3,4], [5,6,7,8], [9,10,11,12], [13,14,15,16]]"
   ]
  },
  {
   "cell_type": "code",
   "execution_count": 15,
   "id": "4d49a4e0",
   "metadata": {},
   "outputs": [
    {
     "data": {
      "text/plain": [
       "16"
      ]
     },
     "execution_count": 15,
     "metadata": {},
     "output_type": "execute_result"
    }
   ],
   "source": [
    "# this is how we access 2d list\n",
    "li[3][3]"
   ]
  },
  {
   "cell_type": "code",
   "execution_count": 16,
   "id": "fc265a30",
   "metadata": {},
   "outputs": [],
   "source": [
    "# to change the elements in the list\n",
    "li[3][3] = 17"
   ]
  },
  {
   "cell_type": "code",
   "execution_count": 17,
   "id": "90a2d499",
   "metadata": {},
   "outputs": [
    {
     "data": {
      "text/plain": [
       "[[1, 2, 3, 4], [5, 6, 7, 8], [9, 10, 11, 12], [13, 14, 15, 17]]"
      ]
     },
     "execution_count": 17,
     "metadata": {},
     "output_type": "execute_result"
    }
   ],
   "source": [
    "li"
   ]
  },
  {
   "cell_type": "code",
   "execution_count": 18,
   "id": "161cf490",
   "metadata": {},
   "outputs": [
    {
     "data": {
      "text/plain": [
       "1370143272576"
      ]
     },
     "execution_count": 18,
     "metadata": {},
     "output_type": "execute_result"
    }
   ],
   "source": [
    "# as we can see that the id of whole list is different \n",
    "id(li)"
   ]
  },
  {
   "cell_type": "code",
   "execution_count": 19,
   "id": "26c48966",
   "metadata": {},
   "outputs": [
    {
     "data": {
      "text/plain": [
       "1370121728064"
      ]
     },
     "execution_count": 19,
     "metadata": {},
     "output_type": "execute_result"
    }
   ],
   "source": [
    "# here li[0] is the member of the li which is the whole 2d list and when we check the id the li[0] is different\n",
    "# because it is consider as the different list which has difference referrence and li combines all the referrences \n",
    "# at the one time\n",
    "id(li[0])"
   ]
  },
  {
   "cell_type": "code",
   "execution_count": 20,
   "id": "4a4dc8a2",
   "metadata": {},
   "outputs": [
    {
     "data": {
      "text/plain": [
       "[[1, 2, 3, 4], [5, 6, 7, 8], [9, 10, 11, 12], [13, 14, 15, 17]]"
      ]
     },
     "execution_count": 20,
     "metadata": {},
     "output_type": "execute_result"
    }
   ],
   "source": [
    "li"
   ]
  },
  {
   "cell_type": "code",
   "execution_count": 22,
   "id": "b44971e0",
   "metadata": {},
   "outputs": [],
   "source": [
    "# we cannot call this as the 2d list. It is list and the string\n",
    "list = [[1,2,3,4], \"Sahil\"]"
   ]
  },
  {
   "cell_type": "markdown",
   "id": "0e9eb614",
   "metadata": {},
   "source": [
    "##### Jagged List"
   ]
  },
  {
   "cell_type": "code",
   "execution_count": 23,
   "id": "68fea94f",
   "metadata": {},
   "outputs": [],
   "source": [
    "# jagged list means we dont need list within list of same size\n",
    "jag_list = [[1,2,3,4], [5,6,7], [8,9], [10]]"
   ]
  },
  {
   "cell_type": "code",
   "execution_count": 24,
   "id": "25164ded",
   "metadata": {},
   "outputs": [
    {
     "data": {
      "text/plain": [
       "[[1, 2, 3, 4], [5, 6, 7], [8, 9], [10]]"
      ]
     },
     "execution_count": 24,
     "metadata": {},
     "output_type": "execute_result"
    }
   ],
   "source": [
    "jag_list"
   ]
  },
  {
   "cell_type": "markdown",
   "id": "24cac250",
   "metadata": {},
   "source": [
    "##### List Comprehension"
   ]
  },
  {
   "cell_type": "code",
   "execution_count": 27,
   "id": "ddb8c40e",
   "metadata": {},
   "outputs": [
    {
     "name": "stdout",
     "output_type": "stream",
     "text": [
      "[1, 4, 9, 16]\n"
     ]
    }
   ],
   "source": [
    "li = [1,2,3,4]\n",
    "new_li = []\n",
    "for ele in li:\n",
    "    new_li.append(ele**2)\n",
    "print(new_li)"
   ]
  },
  {
   "cell_type": "code",
   "execution_count": 28,
   "id": "4a5be3fc",
   "metadata": {},
   "outputs": [
    {
     "data": {
      "text/plain": [
       "[1, 4, 9, 16]"
      ]
     },
     "execution_count": 28,
     "metadata": {},
     "output_type": "execute_result"
    }
   ],
   "source": [
    "# by list comprehension we can do it like this too\n",
    "new_li_c = [ele**2 for ele in li]\n",
    "# this is the use of list comprehension\n",
    "new_li_c"
   ]
  },
  {
   "cell_type": "code",
   "execution_count": 33,
   "id": "33e5060f",
   "metadata": {},
   "outputs": [
    {
     "data": {
      "text/plain": [
       "[4, 16]"
      ]
     },
     "execution_count": 33,
     "metadata": {},
     "output_type": "execute_result"
    }
   ],
   "source": [
    "# we can use condition too as here we extracted element whos square is even\n",
    "even_square = [ele**2 for ele in li if ele%2==0]\n",
    "even_square"
   ]
  },
  {
   "cell_type": "code",
   "execution_count": 34,
   "id": "abdd63e6",
   "metadata": {},
   "outputs": [],
   "source": [
    "# we can make this code in one line as well\n",
    "li = [1,2,3,4,5,6,7,8,9]\n",
    "new_li = []\n",
    "for ele in li:\n",
    "    if ele % 2 == 0:\n",
    "        if ele % 3 == 0:\n",
    "            new_li.append(ele)"
   ]
  },
  {
   "cell_type": "code",
   "execution_count": 35,
   "id": "409433e5",
   "metadata": {},
   "outputs": [
    {
     "data": {
      "text/plain": [
       "[6]"
      ]
     },
     "execution_count": 35,
     "metadata": {},
     "output_type": "execute_result"
    }
   ],
   "source": [
    "new_li"
   ]
  },
  {
   "cell_type": "code",
   "execution_count": 36,
   "id": "a97ebfad",
   "metadata": {},
   "outputs": [
    {
     "data": {
      "text/plain": [
       "[6]"
      ]
     },
     "execution_count": 36,
     "metadata": {},
     "output_type": "execute_result"
    }
   ],
   "source": [
    "# this is the use of the list comprehension\n",
    "# here first ele is for the output and and aftre that all is condition we want to give\n",
    "# this is the example of the multiple condition\n",
    "new_li = [ele for ele in li if ele % 2 == 0 if ele % 3 == 0]\n",
    "new_li"
   ]
  },
  {
   "cell_type": "code",
   "execution_count": 37,
   "id": "68f4eedd",
   "metadata": {},
   "outputs": [
    {
     "name": "stdout",
     "output_type": "stream",
     "text": [
      "[2, 4]\n"
     ]
    }
   ],
   "source": [
    "# this is multiple for loop we can convert this in the single line as well\n",
    "li_1 = [1,2,3,4,5]\n",
    "li_2 = [2,4,6,8]\n",
    "new_intersection = []\n",
    "for ele1 in li_1:\n",
    "    for ele2 in li_2:\n",
    "        if ele1 == ele2:\n",
    "            new_intersection.append(ele1)\n",
    "print(new_intersection)"
   ]
  },
  {
   "cell_type": "code",
   "execution_count": 38,
   "id": "6c858a63",
   "metadata": {},
   "outputs": [],
   "source": [
    "# this is for multiple for loop using lsit comprehension\n",
    "new_inter = [ele1 for ele1 in li_1 for ele2 in li_2 if ele1 == ele2]"
   ]
  },
  {
   "cell_type": "code",
   "execution_count": 39,
   "id": "e8fd3a50",
   "metadata": {},
   "outputs": [
    {
     "data": {
      "text/plain": [
       "[2, 4]"
      ]
     },
     "execution_count": 39,
     "metadata": {},
     "output_type": "execute_result"
    }
   ],
   "source": [
    "new_inter"
   ]
  },
  {
   "cell_type": "code",
   "execution_count": 41,
   "id": "9a839fcc",
   "metadata": {},
   "outputs": [],
   "source": [
    "li = [1,2,3,4,5]\n",
    "new_sq = [ele**2 if ele % 2 == 0 else ele for ele in li]"
   ]
  },
  {
   "cell_type": "code",
   "execution_count": 42,
   "id": "d12d9fc8",
   "metadata": {},
   "outputs": [
    {
     "data": {
      "text/plain": [
       "[1, 4, 3, 16, 5]"
      ]
     },
     "execution_count": 42,
     "metadata": {},
     "output_type": "execute_result"
    }
   ],
   "source": [
    "new_sq"
   ]
  },
  {
   "cell_type": "code",
   "execution_count": 44,
   "id": "f99532be",
   "metadata": {},
   "outputs": [
    {
     "data": {
      "text/plain": [
       "['S', 'a', 'h', 'i', 'l']"
      ]
     },
     "execution_count": 44,
     "metadata": {},
     "output_type": "execute_result"
    }
   ],
   "source": [
    "# list comprehension works on the string as well\n",
    "s = \"Sahil\"\n",
    "new_s = [ele for ele in s]\n",
    "new_s"
   ]
  },
  {
   "cell_type": "code",
   "execution_count": 56,
   "id": "0e4a41cd",
   "metadata": {},
   "outputs": [
    {
     "data": {
      "text/plain": [
       "['Sahil', 'Sahil', 'Sahil', 'Sahil', 'Sahil']"
      ]
     },
     "execution_count": 56,
     "metadata": {},
     "output_type": "execute_result"
    }
   ],
   "source": [
    "s = \"Sahil\"\n",
    "new_s = [s for ele in s]\n",
    "new_s"
   ]
  },
  {
   "cell_type": "code",
   "execution_count": 54,
   "id": "02a3d9ee",
   "metadata": {},
   "outputs": [
    {
     "data": {
      "text/plain": [
       "[['S', 'a', 'h', 'i', 'l'],\n",
       " ['D', 'e', 'e', 'p', 'e', 'n'],\n",
       " ['K', 'u', 'n', 'a', 'l']]"
      ]
     },
     "execution_count": 54,
     "metadata": {},
     "output_type": "execute_result"
    }
   ],
   "source": [
    "str = [\"Sahil\", \"Deepen\", \"Kunal\"]\n",
    "str_2 = [[s for s in ele] for ele in str]\n",
    "str_2"
   ]
  },
  {
   "cell_type": "markdown",
   "id": "4084bf2d",
   "metadata": {},
   "source": [
    "##### Taking Input in 2D list"
   ]
  },
  {
   "cell_type": "code",
   "execution_count": 62,
   "id": "0b7cb725",
   "metadata": {},
   "outputs": [
    {
     "name": "stdout",
     "output_type": "stream",
     "text": [
      "3 4 \n",
      "1 2 3 4 \n",
      "5 6 7 8\n",
      "9 10 11 12\n"
     ]
    },
    {
     "data": {
      "text/plain": [
       "[[1, 2, 3, 4], [5, 6, 7, 8], [9, 10, 11, 12]]"
      ]
     },
     "execution_count": 62,
     "metadata": {},
     "output_type": "execute_result"
    }
   ],
   "source": [
    "str = input().split()\n",
    "n,m = int(str[0]), int(str[1])\n",
    "li = [[int(j) for j in input().split()] for i in range (n)]\n",
    "li"
   ]
  },
  {
   "cell_type": "code",
   "execution_count": 63,
   "id": "69a78452",
   "metadata": {},
   "outputs": [
    {
     "name": "stdout",
     "output_type": "stream",
     "text": [
      "3\n",
      "2 4 6\n",
      "6 7 9 13\n",
      "1\n"
     ]
    }
   ],
   "source": [
    "# Jagged List Input. where number of columns are not fixed\n",
    "n = int(input())\n",
    "li = [[int(j) for j in input().split()]for i in range(n)]"
   ]
  },
  {
   "cell_type": "code",
   "execution_count": 64,
   "id": "53dc5683",
   "metadata": {},
   "outputs": [
    {
     "data": {
      "text/plain": [
       "[[2, 4, 6], [6, 7, 9, 13], [1]]"
      ]
     },
     "execution_count": 64,
     "metadata": {},
     "output_type": "execute_result"
    }
   ],
   "source": [
    "li"
   ]
  },
  {
   "cell_type": "code",
   "execution_count": 65,
   "id": "e99cc647",
   "metadata": {},
   "outputs": [
    {
     "name": "stdout",
     "output_type": "stream",
     "text": [
      "3 4\n",
      "1 2 3 4 5 6 7 8 9 10 11 12\n"
     ]
    }
   ],
   "source": [
    "str = input().split()\n",
    "n, m = int(str[0]), int(str[1])\n",
    "b = input().split()\n",
    "arr = [[(int(b[m*i+j])) for j in range(m)] for i in range(n)]"
   ]
  },
  {
   "cell_type": "code",
   "execution_count": 66,
   "id": "70678934",
   "metadata": {},
   "outputs": [
    {
     "data": {
      "text/plain": [
       "[[1, 2, 3, 4], [5, 6, 7, 8], [9, 10, 11, 12]]"
      ]
     },
     "execution_count": 66,
     "metadata": {},
     "output_type": "execute_result"
    }
   ],
   "source": [
    "arr"
   ]
  },
  {
   "cell_type": "code",
   "execution_count": 67,
   "id": "d513d7a7",
   "metadata": {},
   "outputs": [
    {
     "name": "stdout",
     "output_type": "stream",
     "text": [
      "3 4 1 2 3 4 5 6 7 8 9 10 11 12\n"
     ]
    }
   ],
   "source": [
    "str = input().split()\n",
    "n, m = int(str[0]), int(str[1])\n",
    "b = str[2:]\n",
    "arr = [[(int(b[m*i+j])) for j in range(m)] for i in range(n)]"
   ]
  },
  {
   "cell_type": "code",
   "execution_count": 68,
   "id": "4b8c02d4",
   "metadata": {},
   "outputs": [
    {
     "data": {
      "text/plain": [
       "[[1, 2, 3, 4], [5, 6, 7, 8], [9, 10, 11, 12]]"
      ]
     },
     "execution_count": 68,
     "metadata": {},
     "output_type": "execute_result"
    }
   ],
   "source": [
    "arr"
   ]
  },
  {
   "cell_type": "markdown",
   "id": "5163049b",
   "metadata": {},
   "source": [
    "##### Printing 2D List"
   ]
  },
  {
   "cell_type": "code",
   "execution_count": 69,
   "id": "73e6e1b7",
   "metadata": {},
   "outputs": [],
   "source": [
    "li = [[1,2,3,4], [5,6,7,8], [9, 10, 11, 12]]"
   ]
  },
  {
   "cell_type": "code",
   "execution_count": 70,
   "id": "7d201ee9",
   "metadata": {},
   "outputs": [],
   "source": [
    "n = 3\n",
    "m = 4"
   ]
  },
  {
   "cell_type": "code",
   "execution_count": 135,
   "id": "370fc38a",
   "metadata": {},
   "outputs": [
    {
     "name": "stdout",
     "output_type": "stream",
     "text": [
      "2 3 5 7 \n",
      "8 2 7 6 \n",
      "8 2 7 1 \n"
     ]
    },
    {
     "ename": "IndexError",
     "evalue": "list index out of range",
     "output_type": "error",
     "traceback": [
      "\u001b[1;31m---------------------------------------------------------------------------\u001b[0m",
      "\u001b[1;31mIndexError\u001b[0m                                Traceback (most recent call last)",
      "Cell \u001b[1;32mIn[135], line 3\u001b[0m\n\u001b[0;32m      1\u001b[0m \u001b[38;5;28;01mfor\u001b[39;00m i \u001b[38;5;129;01min\u001b[39;00m \u001b[38;5;28mrange\u001b[39m(n):\n\u001b[0;32m      2\u001b[0m     \u001b[38;5;28;01mfor\u001b[39;00m j \u001b[38;5;129;01min\u001b[39;00m \u001b[38;5;28mrange\u001b[39m(m):\n\u001b[1;32m----> 3\u001b[0m         \u001b[38;5;28mprint\u001b[39m(\u001b[43mli\u001b[49m\u001b[43m[\u001b[49m\u001b[43mi\u001b[49m\u001b[43m]\u001b[49m[j], end \u001b[38;5;241m=\u001b[39m \u001b[38;5;124m\"\u001b[39m\u001b[38;5;124m \u001b[39m\u001b[38;5;124m\"\u001b[39m)\n\u001b[0;32m      4\u001b[0m     \u001b[38;5;28mprint\u001b[39m()\n",
      "\u001b[1;31mIndexError\u001b[0m: list index out of range"
     ]
    }
   ],
   "source": [
    "for i in range(n):\n",
    "    for j in range(m):\n",
    "        print(li[i][j], end = \" \")\n",
    "    print()"
   ]
  },
  {
   "cell_type": "code",
   "execution_count": 72,
   "id": "276bc1fd",
   "metadata": {},
   "outputs": [
    {
     "name": "stdout",
     "output_type": "stream",
     "text": [
      "1 2 3 4 5 6 7 8 9 10 11 12 "
     ]
    }
   ],
   "source": [
    "for i in range(n):\n",
    "    for j in range(m):\n",
    "        print(li[i][j], end = \" \")\n",
    "    "
   ]
  },
  {
   "cell_type": "code",
   "execution_count": 73,
   "id": "9d8964d8",
   "metadata": {},
   "outputs": [],
   "source": [
    "li = [[1,2,3,4], [5,6], [7,8,9]]"
   ]
  },
  {
   "cell_type": "code",
   "execution_count": 74,
   "id": "af066645",
   "metadata": {},
   "outputs": [
    {
     "name": "stdout",
     "output_type": "stream",
     "text": [
      "1 2 3 4 \n",
      "5 6 \n",
      "7 8 9 \n"
     ]
    }
   ],
   "source": [
    "for row in li:\n",
    "    for ele in row:\n",
    "        print(ele, end=\" \")\n",
    "    print()"
   ]
  },
  {
   "cell_type": "code",
   "execution_count": 2,
   "id": "b76e5a2b",
   "metadata": {},
   "outputs": [
    {
     "data": {
      "text/plain": [
       "'aabbabcabd'"
      ]
     },
     "execution_count": 2,
     "metadata": {},
     "output_type": "execute_result"
    }
   ],
   "source": [
    "\"ab\".join(\"abcd\")"
   ]
  },
  {
   "cell_type": "code",
   "execution_count": 77,
   "id": "ec8c9bf5",
   "metadata": {},
   "outputs": [
    {
     "data": {
      "text/plain": [
       "'1ab2ab3'"
      ]
     },
     "execution_count": 77,
     "metadata": {},
     "output_type": "execute_result"
    }
   ],
   "source": [
    "\"ab\".join([\"1\",\"2\",\"3\"])"
   ]
  },
  {
   "cell_type": "code",
   "execution_count": 87,
   "id": "1b129c92",
   "metadata": {},
   "outputs": [
    {
     "ename": "TypeError",
     "evalue": "'list' object is not callable",
     "output_type": "error",
     "traceback": [
      "\u001b[1;31m---------------------------------------------------------------------------\u001b[0m",
      "\u001b[1;31mTypeError\u001b[0m                                 Traceback (most recent call last)",
      "Cell \u001b[1;32mIn[87], line 3\u001b[0m\n\u001b[0;32m      1\u001b[0m li \u001b[38;5;241m=\u001b[39m [[\u001b[38;5;241m1\u001b[39m,\u001b[38;5;241m2\u001b[39m,\u001b[38;5;241m3\u001b[39m,\u001b[38;5;241m4\u001b[39m], [\u001b[38;5;241m5\u001b[39m,\u001b[38;5;241m6\u001b[39m], [\u001b[38;5;241m7\u001b[39m,\u001b[38;5;241m8\u001b[39m,\u001b[38;5;241m9\u001b[39m]]\n\u001b[0;32m      2\u001b[0m \u001b[38;5;28;01mfor\u001b[39;00m row \u001b[38;5;129;01min\u001b[39;00m li:\n\u001b[1;32m----> 3\u001b[0m     output \u001b[38;5;241m=\u001b[39m \u001b[38;5;124m'\u001b[39m\u001b[38;5;124m \u001b[39m\u001b[38;5;124m'\u001b[39m\u001b[38;5;241m.\u001b[39mjoin([\u001b[38;5;28mstr\u001b[39m(ele) \u001b[38;5;28;01mfor\u001b[39;00m ele \u001b[38;5;129;01min\u001b[39;00m row])\n\u001b[0;32m      4\u001b[0m     \u001b[38;5;28mprint\u001b[39m(output)\n",
      "Cell \u001b[1;32mIn[87], line 3\u001b[0m, in \u001b[0;36m<listcomp>\u001b[1;34m(.0)\u001b[0m\n\u001b[0;32m      1\u001b[0m li \u001b[38;5;241m=\u001b[39m [[\u001b[38;5;241m1\u001b[39m,\u001b[38;5;241m2\u001b[39m,\u001b[38;5;241m3\u001b[39m,\u001b[38;5;241m4\u001b[39m], [\u001b[38;5;241m5\u001b[39m,\u001b[38;5;241m6\u001b[39m], [\u001b[38;5;241m7\u001b[39m,\u001b[38;5;241m8\u001b[39m,\u001b[38;5;241m9\u001b[39m]]\n\u001b[0;32m      2\u001b[0m \u001b[38;5;28;01mfor\u001b[39;00m row \u001b[38;5;129;01min\u001b[39;00m li:\n\u001b[1;32m----> 3\u001b[0m     output \u001b[38;5;241m=\u001b[39m \u001b[38;5;124m'\u001b[39m\u001b[38;5;124m \u001b[39m\u001b[38;5;124m'\u001b[39m\u001b[38;5;241m.\u001b[39mjoin([\u001b[38;5;28;43mstr\u001b[39;49m\u001b[43m(\u001b[49m\u001b[43mele\u001b[49m\u001b[43m)\u001b[49m \u001b[38;5;28;01mfor\u001b[39;00m ele \u001b[38;5;129;01min\u001b[39;00m row])\n\u001b[0;32m      4\u001b[0m     \u001b[38;5;28mprint\u001b[39m(output)\n",
      "\u001b[1;31mTypeError\u001b[0m: 'list' object is not callable"
     ]
    }
   ],
   "source": [
    "li = [[1,2,3,4], [5,6], [7,8,9]]\n",
    "for row in li:\n",
    "    output = ' '.join([str(ele) for ele in row])\n",
    "    print(output)"
   ]
  },
  {
   "cell_type": "markdown",
   "id": "acc43897",
   "metadata": {},
   "source": [
    "##### Largest Column Sum in 2D List"
   ]
  },
  {
   "cell_type": "code",
   "execution_count": 92,
   "id": "3f7ab223",
   "metadata": {},
   "outputs": [
    {
     "name": "stdout",
     "output_type": "stream",
     "text": [
      "(2, 19)\n"
     ]
    }
   ],
   "source": [
    "def largest_col_index(li):\n",
    "    n = len(li)\n",
    "    m = len(li[0])\n",
    "    max_sum = -1\n",
    "    max_index = -1\n",
    "    for j in range(m):\n",
    "        sum = 0\n",
    "        for i in range(n):\n",
    "            sum = sum + li[i][j]\n",
    "        if sum > max_sum:\n",
    "            max_index = j\n",
    "            max_sum = sum\n",
    "    return max_index, max_sum\n",
    "\n",
    "\n",
    "li = [[2,3,5,7], [8,2,7,6], [8,2,7,1]]\n",
    "print(largest_col_index(li))"
   ]
  },
  {
   "cell_type": "code",
   "execution_count": 94,
   "id": "719e7a57",
   "metadata": {},
   "outputs": [
    {
     "name": "stdout",
     "output_type": "stream",
     "text": [
      "2 19\n"
     ]
    }
   ],
   "source": [
    "def largest_col_index(li):\n",
    "    n = len(li)\n",
    "    m = len(li[0])\n",
    "    max_sum = -1\n",
    "    max_index = -1\n",
    "    for j in range(m):\n",
    "        sum = 0\n",
    "        for ele in li:\n",
    "            sum = sum + ele[j]\n",
    "        if sum > max_sum:\n",
    "            max_index = j\n",
    "            max_sum = sum\n",
    "    return max_index, max_sum\n",
    "\n",
    "\n",
    "li = [[2,3,5,7], [8,2,7,6], [8,2,7,1]]\n",
    "max_index, max_sum = largest_col_index(li)\n",
    "print(max_index, max_sum)"
   ]
  },
  {
   "cell_type": "code",
   "execution_count": 137,
   "id": "2bddd04c",
   "metadata": {},
   "outputs": [
    {
     "name": "stdout",
     "output_type": "stream",
     "text": [
      "Sahil is A\n",
      "A\n"
     ]
    }
   ],
   "source": [
    "S = input().split()\n",
    "min_length = 99999\n",
    "for ele in S:\n",
    "    if len(ele) < min_length:\n",
    "        min_length = len(ele)\n",
    "        min_ele = ele\n",
    "print(min_ele)"
   ]
  },
  {
   "cell_type": "code",
   "execution_count": 138,
   "id": "d6af8aa5",
   "metadata": {},
   "outputs": [
    {
     "name": "stdout",
     "output_type": "stream",
     "text": [
      "5\n",
      "6 3 5 9 2\n",
      "9 2 "
     ]
    }
   ],
   "source": [
    "n = int(input())\n",
    "arr = [int(x) for x in input().split()]\n",
    "right_ele = arr[-1]\n",
    "arr = arr[::-1]\n",
    "new_arr = [arr[0]]\n",
    "for i in range(1,n):\n",
    "    if right_ele <= arr[i]:\n",
    "        right_ele = arr[i]\n",
    "        new_arr.append(arr[i])\n",
    "new_arr = new_arr[::-1]\n",
    "#print(new_arr, end = \" \")\n",
    "for ele in new_arr:\n",
    "    print(ele, end=\" \")"
   ]
  },
  {
   "cell_type": "code",
   "execution_count": 129,
   "id": "278e4fb8",
   "metadata": {},
   "outputs": [
    {
     "name": "stdout",
     "output_type": "stream",
     "text": [
      "3 4\n",
      "1 2 3 4\n",
      "1 2 3 4\n",
      "1 2 3 4\n",
      "1 2 3 4\n",
      "5 6 7 8\n",
      "5 6 7 8\n",
      "5 6 7 8\n",
      "9 10 11 12\n",
      "9 10 11 12\n"
     ]
    }
   ],
   "source": [
    "str = input().split()\n",
    "n,m = int(str[0]), int(str[1])\n",
    "for i in range(n):\n",
    "    a = [int(x) for x in input().split()]\n",
    "    for j in range(n-i):\n",
    "        print(*a)"
   ]
  },
  {
   "cell_type": "code",
   "execution_count": null,
   "id": "9f2973b4",
   "metadata": {},
   "outputs": [],
   "source": [
    "min = -1\n",
    "def row_col(matrix,row,col):\n",
    "    max_sum = min\n",
    "    max_index = 0\n",
    "    isRow = True\n",
    "    for i in range(row):\n",
    "        row_sum = 0\n",
    "        for j in range(col):\n",
    "            row_sum = row_sum + matrix[i][j]\n",
    "        if row_sum > max_sum:\n",
    "            max_sum = row_sum\n",
    "            max_index = i\n",
    "            \n",
    "            \n",
    "    for j in range(col):\n",
    "        col_sum = 0\n",
    "        for i in range(row):\n",
    "            col_sum = col_sum + matrix[i][j]\n",
    "        if col_sum > max_sum:\n",
    "            max_sum = col_sum\n",
    "            max_index = j\n",
    "            isRow = False\n",
    "            \n",
    "    if isRow:\n",
    "        print(\"row \", max_index, max_sum)\n",
    "    else:\n",
    "        print(\"col \", max_index, max_sum)\n",
    "\n",
    "def takeInput():\n",
    "    val_row_col = input(\"Enter row and column : \").split()\n",
    "    row = int(val_row_col[0])\n",
    "    col = int(val_row_col[1])\n",
    "    matrix = [[int(x) for x in input().split()] for i in range(row)]\n",
    "    return row, col, matrix\n",
    "\n",
    "test = int(input())\n",
    "for t in range(test):\n",
    "    row, col, matrix = takeInput()\n",
    "    row_col(matrix,row,col)\n",
    "    "
   ]
  }
 ],
 "metadata": {
  "kernelspec": {
   "display_name": "Python 3 (ipykernel)",
   "language": "python",
   "name": "python3"
  },
  "language_info": {
   "codemirror_mode": {
    "name": "ipython",
    "version": 3
   },
   "file_extension": ".py",
   "mimetype": "text/x-python",
   "name": "python",
   "nbconvert_exporter": "python",
   "pygments_lexer": "ipython3",
   "version": "3.10.7"
  }
 },
 "nbformat": 4,
 "nbformat_minor": 5
}
