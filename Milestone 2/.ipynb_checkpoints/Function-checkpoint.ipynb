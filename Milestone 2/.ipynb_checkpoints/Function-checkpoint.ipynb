{
 "cells": [
  {
   "cell_type": "code",
   "execution_count": 2,
   "id": "1f26a39f",
   "metadata": {},
   "outputs": [
    {
     "name": "stdout",
     "output_type": "stream",
     "text": [
      "5\n",
      "120\n"
     ]
    }
   ],
   "source": [
    "# here def is a function and the fact is the function name associated with the def function given by the user by the choice\n",
    "# the function name should contain the parameter which we want to pass\n",
    "\n",
    "def fact(n):\n",
    "    n_fact = 1\n",
    "    for i in range(1,n+1):\n",
    "        n_fact = n_fact * i\n",
    "    return n_fact\n",
    "n = int(input())\n",
    "print(fact(n))"
   ]
  },
  {
   "cell_type": "code",
   "execution_count": null,
   "id": "e4a768e8",
   "metadata": {},
   "outputs": [],
   "source": [
    "# function is much more easier to understand and it is readable and we dont need to write the same code again and again\n",
    "# avoid repeatation of the code\n",
    "# readable\n",
    "# testing becomes easy"
   ]
  },
  {
   "cell_type": "code",
   "execution_count": 67,
   "id": "fdfe787e",
   "metadata": {},
   "outputs": [
    {
     "name": "stdout",
     "output_type": "stream",
     "text": [
      "5\n",
      "2\n",
      "\n",
      "Answer : \n",
      "10\n",
      "120\n",
      "2\n"
     ]
    }
   ],
   "source": [
    "# as here n will go to the function first and calculate its factorial \n",
    "n = int(input())\n",
    "\n",
    "# after that r will go to the function first and calculate its factorial \n",
    "r = int(input())\n",
    "print()\n",
    "print(\"Answer : \")\n",
    "\n",
    "# both the factorials values are stored in the n_fact and r_fact\n",
    "n_fact = fact(n)\n",
    "r_fact = fact(r)\n",
    "\n",
    "# n_r_fact is found by the n - r and this will go to the def function and stores the value\n",
    "n_r_fact = fact(n - r)\n",
    "\n",
    "ans = n_fact // (r_fact * n_r_fact)\n",
    "print(ans)\n",
    "print(fact(n))\n",
    "print(fact(r))"
   ]
  },
  {
   "cell_type": "code",
   "execution_count": 297,
   "id": "70a0c3b5",
   "metadata": {},
   "outputs": [
    {
     "name": "stdout",
     "output_type": "stream",
     "text": [
      "20\n",
      "False\n"
     ]
    }
   ],
   "source": [
    "def isPrime(n):\n",
    "    #flag = False\n",
    "    for i in range(2, n):\n",
    "        if n % i == 0:\n",
    "            #flag = True\n",
    "            break\n",
    "            \n",
    "    #if flag:\n",
    "        #print(\"Not a prime\")\n",
    "    #else:\n",
    "        #print(\"Prime\")\n",
    "        \n",
    "    else:\n",
    "        return True\n",
    "    return False\n",
    "\n",
    "n = int(input())\n",
    "print(isPrime(n))"
   ]
  },
  {
   "cell_type": "code",
   "execution_count": 298,
   "id": "c9fe1351",
   "metadata": {},
   "outputs": [
    {
     "name": "stdout",
     "output_type": "stream",
     "text": [
      "20\n",
      "2\n",
      "3\n",
      "5\n",
      "7\n",
      "11\n",
      "13\n",
      "17\n",
      "19\n"
     ]
    }
   ],
   "source": [
    "def PrimeFromKtoN(n):\n",
    "    for k in range(2, n+1):\n",
    "        is_k_prime = isPrime(k)\n",
    "        if (is_k_prime):\n",
    "            print(k)\n",
    "n = int(input())\n",
    "PrimeFromKtoN(n)"
   ]
  },
  {
   "cell_type": "code",
   "execution_count": 43,
   "id": "80c02198",
   "metadata": {},
   "outputs": [],
   "source": [
    "def ncr(n, r):\n",
    "    # both the factorials values are stored in the n_fact and r_fact\n",
    "    n_fact = fact(n)\n",
    "    r_fact = fact(r)\n",
    "\n",
    "    # n_r_fact is found by the n - r and this will go to the def function and stores the value\n",
    "    n_r_fact = fact(n - r)\n",
    "\n",
    "    ans = n_fact // (r_fact * n_r_fact)\n",
    "    return ans"
   ]
  },
  {
   "cell_type": "code",
   "execution_count": 47,
   "id": "905cfee6",
   "metadata": {},
   "outputs": [
    {
     "data": {
      "text/plain": [
       "10"
      ]
     },
     "execution_count": 47,
     "metadata": {},
     "output_type": "execute_result"
    }
   ],
   "source": [
    "ncr(5, 2)"
   ]
  },
  {
   "cell_type": "code",
   "execution_count": 48,
   "id": "2c879a5a",
   "metadata": {},
   "outputs": [],
   "source": [
    "# how the function works"
   ]
  },
  {
   "cell_type": "code",
   "execution_count": 123,
   "id": "42ad78d6",
   "metadata": {},
   "outputs": [
    {
     "name": "stdout",
     "output_type": "stream",
     "text": [
      "5\n"
     ]
    }
   ],
   "source": [
    "def func(a):\n",
    "    a = a + 10\n",
    "    return a\n",
    "a = 5\n",
    "func(a)\n",
    "print(a)"
   ]
  },
  {
   "cell_type": "code",
   "execution_count": 87,
   "id": "586a52a6",
   "metadata": {},
   "outputs": [
    {
     "name": "stdout",
     "output_type": "stream",
     "text": [
      "50\n",
      "2500\n"
     ]
    }
   ],
   "source": [
    "def square(a):\n",
    "    ans  = a*a\n",
    "    return  ans\n",
    "\n",
    "a = int(input())\n",
    "a = square(a)\n",
    "print(a)"
   ]
  },
  {
   "cell_type": "markdown",
   "id": "58f2be23",
   "metadata": {},
   "source": [
    "### Scope of variable"
   ]
  },
  {
   "cell_type": "code",
   "execution_count": 117,
   "id": "a9fe3577",
   "metadata": {},
   "outputs": [
    {
     "name": "stdout",
     "output_type": "stream",
     "text": [
      "10\n",
      "12\n"
     ]
    }
   ],
   "source": [
    "a1 = 10  # global variable\n",
    "def f1():\n",
    "    b1 = 12  # local variable\n",
    "    print(b1)\n",
    "    \n",
    "# global variable means we can use it outside of the function as here 'a1' is global variable which is outside of the function\n",
    "print(a1)\n",
    "\n",
    "# to call the 'b1' we need to call the function first then only the 'b1' will be printed which is local variable and inside the function\n",
    "f1()\n",
    "\n",
    "\n",
    "# cannot print local varibale outside of the function\n",
    "#print(b1)"
   ]
  },
  {
   "cell_type": "code",
   "execution_count": 98,
   "id": "10a169d1",
   "metadata": {},
   "outputs": [
    {
     "name": "stdout",
     "output_type": "stream",
     "text": [
      "10\n",
      "12\n",
      "10\n"
     ]
    }
   ],
   "source": [
    "a2 = 10  # global variable\n",
    "def f2():\n",
    "    b2 = 12  # local variable\n",
    "    print(b2)\n",
    "    \n",
    "    # we can print global variable inside the function as well\n",
    "    print(a2)\n",
    "\n",
    "# as here the 'a2' is a global variable.Even though it is outside of the function and at the end but it will be printed before the local variable  \n",
    "print(a2)\n",
    "f2()"
   ]
  },
  {
   "cell_type": "code",
   "execution_count": 99,
   "id": "8edb8ccb",
   "metadata": {},
   "outputs": [],
   "source": [
    "# print(a2) which is outside ot the function printed first which is 10\n",
    "# print(b2) is printed which is inside of the function and above the print(a2)  12\n",
    "# print(a2) is printed last as it is inside the function and below the (b2)\n",
    "\n",
    "# variable which is global will be printed first even though its print statement is last it is like priority given to it\n",
    "# local variable will be printed after the globalvariable even though it is before the global variable\n",
    "\n",
    "# we can call any global variable before the function calling"
   ]
  },
  {
   "cell_type": "code",
   "execution_count": 102,
   "id": "9b3eee0a",
   "metadata": {},
   "outputs": [
    {
     "name": "stdout",
     "output_type": "stream",
     "text": [
      "10\n",
      "12\n",
      "10\n"
     ]
    },
    {
     "ename": "NameError",
     "evalue": "name 'c3' is not defined",
     "output_type": "error",
     "traceback": [
      "\u001b[1;31m---------------------------------------------------------------------------\u001b[0m",
      "\u001b[1;31mNameError\u001b[0m                                 Traceback (most recent call last)",
      "Cell \u001b[1;32mIn[102], line 14\u001b[0m\n\u001b[0;32m     12\u001b[0m a3 \u001b[38;5;241m=\u001b[39m \u001b[38;5;241m10\u001b[39m  \n\u001b[0;32m     13\u001b[0m \u001b[38;5;28mprint\u001b[39m(a3)\n\u001b[1;32m---> 14\u001b[0m \u001b[43mf3\u001b[49m\u001b[43m(\u001b[49m\u001b[43m)\u001b[49m\n\u001b[0;32m     16\u001b[0m c3 \u001b[38;5;241m=\u001b[39m \u001b[38;5;241m20\u001b[39m\n",
      "Cell \u001b[1;32mIn[102], line 8\u001b[0m, in \u001b[0;36mf3\u001b[1;34m()\u001b[0m\n\u001b[0;32m      5\u001b[0m \u001b[38;5;66;03m# we can print global variable inside the function as well\u001b[39;00m\n\u001b[0;32m      6\u001b[0m \u001b[38;5;28mprint\u001b[39m(a3)\n\u001b[1;32m----> 8\u001b[0m \u001b[38;5;28mprint\u001b[39m(\u001b[43mc3\u001b[49m)\n",
      "\u001b[1;31mNameError\u001b[0m: name 'c3' is not defined"
     ]
    }
   ],
   "source": [
    "\n",
    "def f3():\n",
    "    b3 = 12  # local variable\n",
    "    print(b3)\n",
    "    \n",
    "    # we can print global variable inside the function as well\n",
    "    print(a3)\n",
    "    \n",
    "    print(c3)\n",
    "\n",
    "# global variable which is defined after it is declared inside the function still it will work because of the function calling\n",
    "# but it should be called before the function calling \n",
    "a3 = 10  \n",
    "print(a3)\n",
    "f3()\n",
    "\n",
    "# c3 will not be printed because it is declared after the function calling \n",
    "c3 = 20"
   ]
  },
  {
   "cell_type": "code",
   "execution_count": 104,
   "id": "6a692638",
   "metadata": {},
   "outputs": [
    {
     "name": "stdout",
     "output_type": "stream",
     "text": [
      "13\n",
      "12\n",
      "2023859749456\n",
      "13\n",
      "2023859749488\n"
     ]
    }
   ],
   "source": [
    "a4 = 13\n",
    "def f4():\n",
    "    # here python assumes that a4 is a local variable \n",
    "    a4 = 12\n",
    "    print(a4)\n",
    "    print(id(a4))\n",
    "    \n",
    "print(a4)\n",
    "f4()\n",
    "# it still assumes that the a4 is 13 because we cannot print the values which are inside the function to print outside the function\n",
    "print(a4)\n",
    "print(id(a4))"
   ]
  },
  {
   "cell_type": "code",
   "execution_count": 105,
   "id": "15416f6d",
   "metadata": {},
   "outputs": [
    {
     "name": "stdout",
     "output_type": "stream",
     "text": [
      "13\n",
      "12\n",
      "2023859749456\n",
      "12\n",
      "2023859749456\n"
     ]
    }
   ],
   "source": [
    "a4 = 13\n",
    "def f4():\n",
    "    # here as we declared a4 as a global python understands that we want to use global variable\n",
    "    # declare global to use global variable inside the function\n",
    "    global a4\n",
    "    a4 = 12\n",
    "    print(a4)\n",
    "    print(id(a4))\n",
    "    \n",
    "print(a4)\n",
    "f4()\n",
    "\n",
    "# as here it prints 12 because we have used the 'global' keyword to access the global variable present insid eof the function\n",
    "print(a4)\n",
    "print(id(a4))"
   ]
  },
  {
   "cell_type": "code",
   "execution_count": 106,
   "id": "4f6ff2c8",
   "metadata": {},
   "outputs": [
    {
     "name": "stdout",
     "output_type": "stream",
     "text": [
      "10\n"
     ]
    }
   ],
   "source": [
    "def f():\n",
    "    b = 10\n",
    "    # to use the local variable outside of the function we need to use return keyword to the variable we need to access.\n",
    "    return b\n",
    "    \n",
    "x = f()\n",
    "print(x)"
   ]
  },
  {
   "cell_type": "markdown",
   "id": "554debdd",
   "metadata": {},
   "source": [
    "### Default Arguement"
   ]
  },
  {
   "cell_type": "code",
   "execution_count": 135,
   "id": "0f2a7291",
   "metadata": {},
   "outputs": [
    {
     "data": {
      "text/plain": [
       "5"
      ]
     },
     "execution_count": 135,
     "metadata": {},
     "output_type": "execute_result"
    }
   ],
   "source": [
    "# as here we have used 3 parameter in the def sum and we have set the 3rd parameter as 0\n",
    "# then python will consider the 3rd paramter as 0 and we can give the 2 arguements\n",
    "\n",
    "def sum(a, b, c=0):\n",
    "    return a+b+c\n",
    "sum(2,3)"
   ]
  },
  {
   "cell_type": "code",
   "execution_count": 137,
   "id": "7f64e90d",
   "metadata": {},
   "outputs": [
    {
     "name": "stdout",
     "output_type": "stream",
     "text": [
      "7\n",
      "12\n",
      "0\n",
      "5\n"
     ]
    }
   ],
   "source": [
    "# as here when we give 3 values the default value we set as 0 for c will be changed to values given by the user \n",
    "\n",
    "def sum(a, b, c=0):\n",
    "    print(c)\n",
    "    print(a+b+c)\n",
    "sum(2,3,7)\n",
    "sum(2,3)"
   ]
  },
  {
   "cell_type": "code",
   "execution_count": 134,
   "id": "6a7d7fca",
   "metadata": {},
   "outputs": [
    {
     "ename": "SyntaxError",
     "evalue": "non-default argument follows default argument (3725020805.py, line 4)",
     "output_type": "error",
     "traceback": [
      "\u001b[1;36m  Cell \u001b[1;32mIn[134], line 4\u001b[1;36m\u001b[0m\n\u001b[1;33m    def fun(a = 0, b, c):\u001b[0m\n\u001b[1;37m                   ^\u001b[0m\n\u001b[1;31mSyntaxError\u001b[0m\u001b[1;31m:\u001b[0m non-default argument follows default argument\n"
     ]
    }
   ],
   "source": [
    "# in python it says that put non default arguement first and default arguement at last\n",
    "# as here a is the default value and c and b are non default value the it does'nt follow the default values i.e a\n",
    "# all default arguement should be before the default arguement\n",
    "def fun(a = 0, b, c):\n",
    "    return a + b + c\n",
    "fun()"
   ]
  },
  {
   "cell_type": "code",
   "execution_count": 142,
   "id": "c032c685",
   "metadata": {},
   "outputs": [
    {
     "name": "stdout",
     "output_type": "stream",
     "text": [
      "8\n",
      "11\n",
      "21\n",
      "18\n",
      "48\n"
     ]
    }
   ],
   "source": [
    "def new(a, b, c=2, d=0):\n",
    "    return a+b+c+d\n",
    "\n",
    "print(new(2,4))  # 2,3 are assigned to the a and b . c and d will be default\n",
    "print(new(2,4,5))  # 2,4,5 are assinged to the a,b,c . d will be default\n",
    "print(new(2,4,9,6)) #2,4,9,6 are assigned to the a,b,c,d\n",
    "\n",
    "print(new(2,4, d= 10)) #we can directly assigned the values by using its variable name. That means the c takes the defaukt value\n",
    "\n",
    "\n",
    "print(new(b =10, d = 30, c= 5, a= 3)) # we can do this if we dont want to go through order\n",
    "# when we give all the values the default values get changed"
   ]
  },
  {
   "cell_type": "code",
   "execution_count": 204,
   "id": "21cdf6ee",
   "metadata": {},
   "outputs": [
    {
     "name": "stdout",
     "output_type": "stream",
     "text": [
      "100\n",
      "200\n",
      "20\n",
      "100 37\n",
      "120 48\n",
      "140 60\n",
      "160 71\n",
      "180 82\n",
      "200 93\n"
     ]
    }
   ],
   "source": [
    "\n",
    "def printTable(start,end,step):\n",
    "    for i in range(start, end+1, step):\n",
    "        c = 0\n",
    "        c = (i - 32)* 5//9\n",
    "        print(i, int(c))\n",
    "  \n",
    "s = int(input())\n",
    "e = int(input())\n",
    "step = int(input())\n",
    "printTable(s,e,step)"
   ]
  },
  {
   "cell_type": "code",
   "execution_count": 151,
   "id": "454b4752",
   "metadata": {},
   "outputs": [
    {
     "name": "stdout",
     "output_type": "stream",
     "text": [
      "100\n",
      "200\n",
      "20\n",
      "100 37\n",
      "120 48\n",
      "140 60\n",
      "160 71\n",
      "180 82\n",
      "200 93\n"
     ]
    }
   ],
   "source": [
    "start = int(input())\n",
    "end = int(input())\n",
    "step = int(input())\n",
    "for i in range(start, end+1, step):\n",
    "    c = 0\n",
    "    c = (i - 32)* 5//9\n",
    "    print(i, int(c))\n",
    "    "
   ]
  },
  {
   "cell_type": "code",
   "execution_count": 183,
   "id": "180c025f",
   "metadata": {},
   "outputs": [
    {
     "name": "stdout",
     "output_type": "stream",
     "text": [
      "5\n",
      "true\n"
     ]
    }
   ],
   "source": [
    "def checkMember(n):\n",
    "    a = 0\n",
    "    b = 1\n",
    "\n",
    "    while (a<n):\n",
    "        c = a + b\n",
    "        a = b\n",
    "        b = c\n",
    "\n",
    "    if a == n:\n",
    "        return True\n",
    "    else:\n",
    "        return False\n",
    "n=int(input())\n",
    "if(checkMember(n)):\n",
    "    print(\"true\")\n",
    "else:\n",
    "    print(\"false\")"
   ]
  },
  {
   "cell_type": "code",
   "execution_count": 191,
   "id": "af3a3f24",
   "metadata": {},
   "outputs": [
    {
     "name": "stdout",
     "output_type": "stream",
     "text": [
      "121\n",
      "Pallindrome\n"
     ]
    }
   ],
   "source": [
    "n=int(input())\n",
    "a = n  \n",
    "# taking n as a input \n",
    "## write your code !!\n",
    "rev = 0\n",
    "while (n != 0):\n",
    "    rem = n % 10\n",
    "    n = n // 10\n",
    "    rev = (rev * 10) + rem\n",
    "    \n",
    "if (a == rev):\n",
    "    print(\"Pallindrome\")\n",
    "else:\n",
    "    print(\"Not a Pallindrome\")"
   ]
  },
  {
   "cell_type": "code",
   "execution_count": 193,
   "id": "8119f2c1",
   "metadata": {},
   "outputs": [
    {
     "name": "stdout",
     "output_type": "stream",
     "text": [
      "123\n",
      "False\n"
     ]
    }
   ],
   "source": [
    "def pallindrome(num):\n",
    "    n = num\n",
    "    rev = 0\n",
    "    \n",
    "    while (n > 0):\n",
    "        rem = n % 10\n",
    "        n = n // 10\n",
    "        rev = (rev*10) + rem\n",
    "    if (rev == num):\n",
    "        return True\n",
    "    else:\n",
    "        return False\n",
    "   \n",
    "num = int(input())\n",
    "isPal = pallindrome(num)\n",
    "if (isPal):\n",
    "    print(\"true\")\n",
    "else:\n",
    "    print(\"false\")"
   ]
  },
  {
   "cell_type": "code",
   "execution_count": 202,
   "id": "97691887",
   "metadata": {},
   "outputs": [
    {
     "name": "stdout",
     "output_type": "stream",
     "text": [
      "1634\n",
      "true\n"
     ]
    }
   ],
   "source": [
    "def arm(num):\n",
    "    n = num\n",
    "    sum = 0\n",
    "    order = len(str(num))\n",
    "    while (n > 0):\n",
    "        digit = n % 10\n",
    "        n = n // 10\n",
    "        sum += digit**order\n",
    "    if (num == sum):\n",
    "        return True\n",
    "    else:\n",
    "        return False\n",
    "\n",
    "num = int(input())\n",
    "armstrong = arm(num)\n",
    "if (armstrong):\n",
    "    print(\"true\")\n",
    "else:\n",
    "    print(\"false\")\n"
   ]
  },
  {
   "cell_type": "code",
   "execution_count": 208,
   "id": "37b29861",
   "metadata": {},
   "outputs": [
    {
     "name": "stdout",
     "output_type": "stream",
     "text": [
      "hello Rohan, happy Birthday\n",
      "hello Hardik,  Maushi chi gand\n"
     ]
    }
   ],
   "source": [
    "def wish(name, wish=\"Happy Birthday\"):\n",
    "    print(\"hello\",name +\", \"+wish)\n",
    "wish(\"Rohan\")\n",
    "wish(\"Hardik\", \" Maushi chi gand\")"
   ]
  },
  {
   "cell_type": "code",
   "execution_count": 286,
   "id": "d8fd8edd",
   "metadata": {},
   "outputs": [
    {
     "name": "stdout",
     "output_type": "stream",
     "text": [
      "5\n"
     ]
    }
   ],
   "source": [
    "def gcd(x, y):\n",
    "    while y != 0:\n",
    "        x, y = y, x % y\n",
    "    return x\n",
    "print(gcd(20, 15))"
   ]
  },
  {
   "cell_type": "code",
   "execution_count": 291,
   "id": "5ebdbae7",
   "metadata": {},
   "outputs": [
    {
     "name": "stdout",
     "output_type": "stream",
     "text": [
      "8\n",
      "32\n"
     ]
    },
    {
     "data": {
      "text/plain": [
       "8"
      ]
     },
     "execution_count": 291,
     "metadata": {},
     "output_type": "execute_result"
    }
   ],
   "source": [
    "def gcd(x,y):\n",
    "    if y == 0:\n",
    "        return x\n",
    "    return gcd(y,x%y)\n",
    "\n",
    "x = int(input())\n",
    "y = int(input())\n",
    "gcd(x,y)"
   ]
  }
 ],
 "metadata": {
  "kernelspec": {
   "display_name": "Python 3 (ipykernel)",
   "language": "python",
   "name": "python3"
  },
  "language_info": {
   "codemirror_mode": {
    "name": "ipython",
    "version": 3
   },
   "file_extension": ".py",
   "mimetype": "text/x-python",
   "name": "python",
   "nbconvert_exporter": "python",
   "pygments_lexer": "ipython3",
   "version": "3.10.7"
  }
 },
 "nbformat": 4,
 "nbformat_minor": 5
}
