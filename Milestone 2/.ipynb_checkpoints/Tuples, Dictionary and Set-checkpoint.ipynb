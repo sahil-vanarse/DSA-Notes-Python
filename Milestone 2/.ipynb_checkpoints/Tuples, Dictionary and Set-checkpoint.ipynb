{
 "cells": [
  {
   "cell_type": "markdown",
   "id": "ce98cfb5",
   "metadata": {},
   "source": [
    "# Tuple"
   ]
  },
  {
   "cell_type": "code",
   "execution_count": 1,
   "id": "8850f583",
   "metadata": {},
   "outputs": [],
   "source": [
    "a = 1, 2"
   ]
  },
  {
   "cell_type": "code",
   "execution_count": 2,
   "id": "594e154b",
   "metadata": {},
   "outputs": [
    {
     "name": "stdout",
     "output_type": "stream",
     "text": [
      "(1, 2)\n"
     ]
    }
   ],
   "source": [
    "print(a)"
   ]
  },
  {
   "cell_type": "code",
   "execution_count": 3,
   "id": "b875afcf",
   "metadata": {},
   "outputs": [
    {
     "data": {
      "text/plain": [
       "tuple"
      ]
     },
     "execution_count": 3,
     "metadata": {},
     "output_type": "execute_result"
    }
   ],
   "source": [
    "type(a)"
   ]
  },
  {
   "cell_type": "markdown",
   "id": "94adc4cc",
   "metadata": {},
   "source": [
    "##### Tuple is exactly as same as lists. We can access the tuple as we access the lists. But the tuples are immutable. We cannot change or add the entries in the tuple. But we can delete entire tuple"
   ]
  },
  {
   "cell_type": "code",
   "execution_count": 4,
   "id": "b42b8e16",
   "metadata": {},
   "outputs": [],
   "source": [
    "e = 1,2,3,4,5"
   ]
  },
  {
   "cell_type": "code",
   "execution_count": 5,
   "id": "03962796",
   "metadata": {},
   "outputs": [
    {
     "data": {
      "text/plain": [
       "tuple"
      ]
     },
     "execution_count": 5,
     "metadata": {},
     "output_type": "execute_result"
    }
   ],
   "source": [
    "type(e)"
   ]
  },
  {
   "cell_type": "code",
   "execution_count": 6,
   "id": "9d66fd15",
   "metadata": {},
   "outputs": [
    {
     "name": "stdout",
     "output_type": "stream",
     "text": [
      "(1, 2, 3, 4, 5)\n"
     ]
    }
   ],
   "source": [
    "print(e)"
   ]
  },
  {
   "cell_type": "code",
   "execution_count": 7,
   "id": "722774bb",
   "metadata": {},
   "outputs": [
    {
     "ename": "TypeError",
     "evalue": "'tuple' object does not support item assignment",
     "output_type": "error",
     "traceback": [
      "\u001b[1;31m---------------------------------------------------------------------------\u001b[0m",
      "\u001b[1;31mTypeError\u001b[0m                                 Traceback (most recent call last)",
      "Cell \u001b[1;32mIn[7], line 1\u001b[0m\n\u001b[1;32m----> 1\u001b[0m \u001b[43me\u001b[49m\u001b[43m[\u001b[49m\u001b[38;5;241;43m0\u001b[39;49m\u001b[43m]\u001b[49m \u001b[38;5;241m=\u001b[39m \u001b[38;5;241m2\u001b[39m\n",
      "\u001b[1;31mTypeError\u001b[0m: 'tuple' object does not support item assignment"
     ]
    }
   ],
   "source": [
    "e[0] = 2"
   ]
  },
  {
   "cell_type": "code",
   "execution_count": 8,
   "id": "8c3cbd40",
   "metadata": {},
   "outputs": [],
   "source": [
    "del e"
   ]
  },
  {
   "cell_type": "code",
   "execution_count": 9,
   "id": "56c5f877",
   "metadata": {},
   "outputs": [
    {
     "ename": "NameError",
     "evalue": "name 'e' is not defined",
     "output_type": "error",
     "traceback": [
      "\u001b[1;31m---------------------------------------------------------------------------\u001b[0m",
      "\u001b[1;31mNameError\u001b[0m                                 Traceback (most recent call last)",
      "Cell \u001b[1;32mIn[9], line 1\u001b[0m\n\u001b[1;32m----> 1\u001b[0m \u001b[43me\u001b[49m\n",
      "\u001b[1;31mNameError\u001b[0m: name 'e' is not defined"
     ]
    }
   ],
   "source": [
    "e"
   ]
  },
  {
   "cell_type": "markdown",
   "id": "d9c8065b",
   "metadata": {},
   "source": [
    "##### Tuple Function"
   ]
  },
  {
   "cell_type": "code",
   "execution_count": 10,
   "id": "0c584195",
   "metadata": {},
   "outputs": [],
   "source": [
    "a = 1,2,3,4,5"
   ]
  },
  {
   "cell_type": "code",
   "execution_count": 11,
   "id": "6b959658",
   "metadata": {},
   "outputs": [
    {
     "name": "stdout",
     "output_type": "stream",
     "text": [
      "1\n",
      "2\n",
      "3\n",
      "4\n",
      "5\n"
     ]
    }
   ],
   "source": [
    "for i in a:\n",
    "    print(i)"
   ]
  },
  {
   "cell_type": "code",
   "execution_count": 12,
   "id": "401f1c93",
   "metadata": {},
   "outputs": [
    {
     "data": {
      "text/plain": [
       "True"
      ]
     },
     "execution_count": 12,
     "metadata": {},
     "output_type": "execute_result"
    }
   ],
   "source": [
    "1 in a"
   ]
  },
  {
   "cell_type": "code",
   "execution_count": 13,
   "id": "9ac9dcfa",
   "metadata": {},
   "outputs": [
    {
     "data": {
      "text/plain": [
       "False"
      ]
     },
     "execution_count": 13,
     "metadata": {},
     "output_type": "execute_result"
    }
   ],
   "source": [
    "7 in a"
   ]
  },
  {
   "cell_type": "code",
   "execution_count": 14,
   "id": "f6a92f28",
   "metadata": {},
   "outputs": [
    {
     "data": {
      "text/plain": [
       "True"
      ]
     },
     "execution_count": 14,
     "metadata": {},
     "output_type": "execute_result"
    }
   ],
   "source": [
    "7 not in a"
   ]
  },
  {
   "cell_type": "code",
   "execution_count": 15,
   "id": "0dec963b",
   "metadata": {},
   "outputs": [
    {
     "data": {
      "text/plain": [
       "5"
      ]
     },
     "execution_count": 15,
     "metadata": {},
     "output_type": "execute_result"
    }
   ],
   "source": [
    "len(a)"
   ]
  },
  {
   "cell_type": "markdown",
   "id": "edf3c3db",
   "metadata": {},
   "source": [
    "##### As we cannot change the values in the tuple but we can cocanatenate it using another variable"
   ]
  },
  {
   "cell_type": "code",
   "execution_count": 16,
   "id": "339141b7",
   "metadata": {},
   "outputs": [],
   "source": [
    "b = 6,7,8,9,10"
   ]
  },
  {
   "cell_type": "code",
   "execution_count": 17,
   "id": "7452444e",
   "metadata": {},
   "outputs": [],
   "source": [
    "c = a + b"
   ]
  },
  {
   "cell_type": "code",
   "execution_count": 18,
   "id": "cd3782bc",
   "metadata": {},
   "outputs": [
    {
     "name": "stdout",
     "output_type": "stream",
     "text": [
      "(1, 2, 3, 4, 5, 6, 7, 8, 9, 10)\n"
     ]
    }
   ],
   "source": [
    "print(c)"
   ]
  },
  {
   "cell_type": "markdown",
   "id": "db0400ee",
   "metadata": {},
   "source": [
    "##### This will create tuples within tuples"
   ]
  },
  {
   "cell_type": "code",
   "execution_count": 19,
   "id": "15085485",
   "metadata": {},
   "outputs": [],
   "source": [
    "d = (a,b)"
   ]
  },
  {
   "cell_type": "code",
   "execution_count": 20,
   "id": "bc4e3a73",
   "metadata": {},
   "outputs": [
    {
     "data": {
      "text/plain": [
       "((1, 2, 3, 4, 5), (6, 7, 8, 9, 10))"
      ]
     },
     "execution_count": 20,
     "metadata": {},
     "output_type": "execute_result"
    }
   ],
   "source": [
    "d"
   ]
  },
  {
   "cell_type": "markdown",
   "id": "2e5b10c0",
   "metadata": {},
   "source": [
    "##### This will give you the tuple of \"a\" 4 times without the tuples within tuples"
   ]
  },
  {
   "cell_type": "code",
   "execution_count": 21,
   "id": "c7b064e7",
   "metadata": {},
   "outputs": [],
   "source": [
    "# repetition\n",
    "k = a*4"
   ]
  },
  {
   "cell_type": "code",
   "execution_count": 22,
   "id": "c78df2c8",
   "metadata": {},
   "outputs": [
    {
     "data": {
      "text/plain": [
       "(1, 2, 3, 4, 5, 1, 2, 3, 4, 5, 1, 2, 3, 4, 5, 1, 2, 3, 4, 5)"
      ]
     },
     "execution_count": 22,
     "metadata": {},
     "output_type": "execute_result"
    }
   ],
   "source": [
    "k"
   ]
  },
  {
   "cell_type": "code",
   "execution_count": 23,
   "id": "bc094ca2",
   "metadata": {},
   "outputs": [],
   "source": [
    "a = 1,2,3,4,5"
   ]
  },
  {
   "cell_type": "code",
   "execution_count": 24,
   "id": "83bea6bd",
   "metadata": {},
   "outputs": [
    {
     "data": {
      "text/plain": [
       "1"
      ]
     },
     "execution_count": 24,
     "metadata": {},
     "output_type": "execute_result"
    }
   ],
   "source": [
    "min(a)"
   ]
  },
  {
   "cell_type": "code",
   "execution_count": 25,
   "id": "8ee105de",
   "metadata": {},
   "outputs": [
    {
     "data": {
      "text/plain": [
       "5"
      ]
     },
     "execution_count": 25,
     "metadata": {},
     "output_type": "execute_result"
    }
   ],
   "source": [
    "max(a)"
   ]
  },
  {
   "cell_type": "markdown",
   "id": "f8a07bda",
   "metadata": {},
   "source": [
    "##### List to Tuple"
   ]
  },
  {
   "cell_type": "code",
   "execution_count": 26,
   "id": "0c72dd58",
   "metadata": {},
   "outputs": [
    {
     "data": {
      "text/plain": [
       "(1, 2, 3, 4)"
      ]
     },
     "execution_count": 26,
     "metadata": {},
     "output_type": "execute_result"
    }
   ],
   "source": [
    "l = [1,2,3,4]\n",
    "tuple(l)"
   ]
  },
  {
   "cell_type": "code",
   "execution_count": 27,
   "id": "f15a4c5f",
   "metadata": {},
   "outputs": [
    {
     "name": "stdout",
     "output_type": "stream",
     "text": [
      "3\n",
      "4\n",
      "(5, 6, 7, 8, 9)\n"
     ]
    },
    {
     "data": {
      "text/plain": [
       "42"
      ]
     },
     "execution_count": 27,
     "metadata": {},
     "output_type": "execute_result"
    }
   ],
   "source": [
    "def sum(a,b, *more):\n",
    "    ans = a + b\n",
    "    print(a)\n",
    "    print(b)\n",
    "    print(more)\n",
    "    for i in more:\n",
    "        ans = ans + i\n",
    "    return ans\n",
    "\n",
    "sum(3,4,5,6,7,8,9)"
   ]
  },
  {
   "cell_type": "markdown",
   "id": "471d44e4",
   "metadata": {},
   "source": [
    "##### As we see above that the 3 goes for \"a\" 4 goes for \"b\" and remaining all the elements go for the more variable we have created (*more) we need to declare it like this in the function then it creates the tuple of other number we give"
   ]
  },
  {
   "cell_type": "code",
   "execution_count": 28,
   "id": "6c19be59",
   "metadata": {},
   "outputs": [],
   "source": [
    "def sum_dif(a,b):\n",
    "    return a+b,a-b,a*b"
   ]
  },
  {
   "cell_type": "code",
   "execution_count": 29,
   "id": "ac61e58c",
   "metadata": {},
   "outputs": [],
   "source": [
    "c = sum_dif(4,2)"
   ]
  },
  {
   "cell_type": "code",
   "execution_count": 30,
   "id": "af63a6fa",
   "metadata": {},
   "outputs": [
    {
     "name": "stdout",
     "output_type": "stream",
     "text": [
      "(6, 2, 8)\n"
     ]
    }
   ],
   "source": [
    "print(c)"
   ]
  },
  {
   "cell_type": "markdown",
   "id": "f0c3f022",
   "metadata": {},
   "source": [
    "##### As we see above c will create the tuple of the sum as well as difference"
   ]
  },
  {
   "cell_type": "code",
   "execution_count": 31,
   "id": "77185664",
   "metadata": {},
   "outputs": [
    {
     "ename": "ValueError",
     "evalue": "too many values to unpack (expected 2)",
     "output_type": "error",
     "traceback": [
      "\u001b[1;31m---------------------------------------------------------------------------\u001b[0m",
      "\u001b[1;31mValueError\u001b[0m                                Traceback (most recent call last)",
      "Cell \u001b[1;32mIn[31], line 2\u001b[0m\n\u001b[0;32m      1\u001b[0m \u001b[38;5;66;03m# we can do it like this too where \"d\" will carry the sum and \"e\" will carry the difference\u001b[39;00m\n\u001b[1;32m----> 2\u001b[0m d,e \u001b[38;5;241m=\u001b[39m sum_dif(\u001b[38;5;241m4\u001b[39m,\u001b[38;5;241m2\u001b[39m)\n\u001b[0;32m      3\u001b[0m \u001b[38;5;28mprint\u001b[39m(d)\n\u001b[0;32m      4\u001b[0m \u001b[38;5;28mprint\u001b[39m(e)\n",
      "\u001b[1;31mValueError\u001b[0m: too many values to unpack (expected 2)"
     ]
    }
   ],
   "source": [
    "# we can do it like this too where \"d\" will carry the sum and \"e\" will carry the difference\n",
    "d,e = sum_dif(4,2)\n",
    "print(d)\n",
    "print(e)"
   ]
  },
  {
   "cell_type": "markdown",
   "id": "787f151b",
   "metadata": {},
   "source": [
    "# Dictionary"
   ]
  },
  {
   "cell_type": "markdown",
   "id": "e6cb37d8",
   "metadata": {},
   "source": [
    "##### Dicitonary is created using curly brackets {  }"
   ]
  },
  {
   "cell_type": "code",
   "execution_count": 32,
   "id": "7042acf7",
   "metadata": {},
   "outputs": [
    {
     "data": {
      "text/plain": [
       "(1, 2, 3, 4, 5)"
      ]
     },
     "execution_count": 32,
     "metadata": {},
     "output_type": "execute_result"
    }
   ],
   "source": [
    "a"
   ]
  },
  {
   "cell_type": "code",
   "execution_count": 33,
   "id": "b68407bd",
   "metadata": {},
   "outputs": [
    {
     "data": {
      "text/plain": [
       "dict"
      ]
     },
     "execution_count": 33,
     "metadata": {},
     "output_type": "execute_result"
    }
   ],
   "source": [
    "a = {}\n",
    "type(a)"
   ]
  },
  {
   "cell_type": "code",
   "execution_count": 34,
   "id": "f41dac79",
   "metadata": {},
   "outputs": [
    {
     "data": {
      "text/plain": [
       "{'a': 2, 'b': 10}"
      ]
     },
     "execution_count": 34,
     "metadata": {},
     "output_type": "execute_result"
    }
   ],
   "source": [
    "a = {\"a\" : 2, \"b\" : 10}\n",
    "a"
   ]
  },
  {
   "cell_type": "code",
   "execution_count": 35,
   "id": "86c12fb2",
   "metadata": {},
   "outputs": [
    {
     "data": {
      "text/plain": [
       "2"
      ]
     },
     "execution_count": 35,
     "metadata": {},
     "output_type": "execute_result"
    }
   ],
   "source": [
    "len(a)"
   ]
  },
  {
   "cell_type": "markdown",
   "id": "2dbe93c1",
   "metadata": {},
   "source": [
    "##### We can copy the dictionary to make the another dictionary"
   ]
  },
  {
   "cell_type": "code",
   "execution_count": 36,
   "id": "1e9d15e4",
   "metadata": {},
   "outputs": [
    {
     "data": {
      "text/plain": [
       "{'a': 2, 'b': 10}"
      ]
     },
     "execution_count": 36,
     "metadata": {},
     "output_type": "execute_result"
    }
   ],
   "source": [
    "b = a.copy()\n",
    "b"
   ]
  },
  {
   "cell_type": "markdown",
   "id": "fe6b6b2a",
   "metadata": {},
   "source": [
    "##### As we see here that the \"b\" has all the values of the \"a\"  because we have used the copy function"
   ]
  },
  {
   "cell_type": "markdown",
   "id": "4c3e9d58",
   "metadata": {},
   "source": [
    "### Another method to create the dictionary is below. Where 1st part should be key and 2nd part should be value"
   ]
  },
  {
   "cell_type": "code",
   "execution_count": 37,
   "id": "88fabfed",
   "metadata": {},
   "outputs": [
    {
     "data": {
      "text/plain": [
       "{'a': 3, 'b': 1}"
      ]
     },
     "execution_count": 37,
     "metadata": {},
     "output_type": "execute_result"
    }
   ],
   "source": [
    "c = dict([(\"a\", 3) , (\"b\", 1)])\n",
    "c"
   ]
  },
  {
   "cell_type": "code",
   "execution_count": 38,
   "id": "c265b72c",
   "metadata": {},
   "outputs": [
    {
     "data": {
      "text/plain": [
       "{'a': None, 'b': None, 'c': None}"
      ]
     },
     "execution_count": 38,
     "metadata": {},
     "output_type": "execute_result"
    }
   ],
   "source": [
    "d = dict.fromkeys([\"a\", \"b\", \"c\"])\n",
    "d"
   ]
  },
  {
   "cell_type": "markdown",
   "id": "b604031d",
   "metadata": {},
   "source": [
    "##### As here we did not passed any values it is showing \"None\""
   ]
  },
  {
   "cell_type": "code",
   "execution_count": 39,
   "id": "a7bc083e",
   "metadata": {},
   "outputs": [
    {
     "data": {
      "text/plain": [
       "{'a': 10, 'b': 10, 'c': 10}"
      ]
     },
     "execution_count": 39,
     "metadata": {},
     "output_type": "execute_result"
    }
   ],
   "source": [
    "d = dict.fromkeys([\"a\", \"b\", \"c\"], 10)\n",
    "d"
   ]
  },
  {
   "cell_type": "markdown",
   "id": "5ed3bd8f",
   "metadata": {},
   "source": [
    "#####  As we have passed 10 all the keys will take the values as the 10 "
   ]
  },
  {
   "cell_type": "markdown",
   "id": "58876c53",
   "metadata": {},
   "source": [
    "##### Dictionary is mutable we can add a keys, remove, change"
   ]
  },
  {
   "cell_type": "markdown",
   "id": "4f667335",
   "metadata": {},
   "source": [
    "##### This is how we can access the values of the Dictionary using the "
   ]
  },
  {
   "cell_type": "code",
   "execution_count": 40,
   "id": "27311d5c",
   "metadata": {},
   "outputs": [
    {
     "data": {
      "text/plain": [
       "10"
      ]
     },
     "execution_count": 40,
     "metadata": {},
     "output_type": "execute_result"
    }
   ],
   "source": [
    "x = d[\"a\"]\n",
    "x"
   ]
  },
  {
   "cell_type": "code",
   "execution_count": 67,
   "id": "482c78c3",
   "metadata": {},
   "outputs": [
    {
     "data": {
      "text/plain": [
       "2"
      ]
     },
     "execution_count": 67,
     "metadata": {},
     "output_type": "execute_result"
    }
   ],
   "source": [
    "x = b.get(\"a\")\n",
    "x"
   ]
  },
  {
   "cell_type": "code",
   "execution_count": 42,
   "id": "619ee4d7",
   "metadata": {},
   "outputs": [
    {
     "name": "stdout",
     "output_type": "stream",
     "text": [
      "5\n"
     ]
    }
   ],
   "source": [
    "d = {1:2, \"abc\":5, \"def\":7}\n",
    "print(d.get(0,5))"
   ]
  },
  {
   "cell_type": "code",
   "execution_count": 72,
   "id": "b2856af9",
   "metadata": {},
   "outputs": [
    {
     "name": "stdout",
     "output_type": "stream",
     "text": [
      "Not Present\n"
     ]
    }
   ],
   "source": [
    "d = {1:2, \"abc\":5, \"def\":7}\n",
    "if 2 in d:\n",
    "    print('Present')\n",
    "else:\n",
    "    print('Not Present')"
   ]
  },
  {
   "cell_type": "markdown",
   "id": "d3f7fc77",
   "metadata": {},
   "source": [
    "##### Dictionary Functions"
   ]
  },
  {
   "cell_type": "code",
   "execution_count": 122,
   "id": "95196263",
   "metadata": {},
   "outputs": [
    {
     "data": {
      "text/plain": [
       "{1: 2, 3: 4, 'list': [6, 7], 'dict': {89, 90}}"
      ]
     },
     "execution_count": 122,
     "metadata": {},
     "output_type": "execute_result"
    }
   ],
   "source": [
    "a = {1:2, 3:4, \"list\":[6,7], \"dict\":{89,90}}\n",
    "a"
   ]
  },
  {
   "cell_type": "markdown",
   "id": "cdb168aa",
   "metadata": {},
   "source": [
    "##### To access the dictionary values we need key of the value we want to get"
   ]
  },
  {
   "cell_type": "code",
   "execution_count": 123,
   "id": "db585334",
   "metadata": {},
   "outputs": [
    {
     "data": {
      "text/plain": [
       "[6, 7]"
      ]
     },
     "execution_count": 123,
     "metadata": {},
     "output_type": "execute_result"
    }
   ],
   "source": [
    "a[\"list\"]"
   ]
  },
  {
   "cell_type": "code",
   "execution_count": 124,
   "id": "4efc8ecf",
   "metadata": {},
   "outputs": [
    {
     "data": {
      "text/plain": [
       "{89, 90}"
      ]
     },
     "execution_count": 124,
     "metadata": {},
     "output_type": "execute_result"
    }
   ],
   "source": [
    "a[\"dict\"]"
   ]
  },
  {
   "cell_type": "code",
   "execution_count": 125,
   "id": "0473121c",
   "metadata": {},
   "outputs": [
    {
     "data": {
      "text/plain": [
       "[6, 7]"
      ]
     },
     "execution_count": 125,
     "metadata": {},
     "output_type": "execute_result"
    }
   ],
   "source": [
    "a.get(\"list\")"
   ]
  },
  {
   "cell_type": "code",
   "execution_count": 126,
   "id": "8ff301ba",
   "metadata": {},
   "outputs": [
    {
     "data": {
      "text/plain": [
       "'b'"
      ]
     },
     "execution_count": 126,
     "metadata": {},
     "output_type": "execute_result"
    }
   ],
   "source": [
    "# This is the another method to get the values of the key present in the dictionary\n",
    "a = {\"a\" : 1, \"b\" : 2}\n",
    "max(a, key = a.get)"
   ]
  },
  {
   "cell_type": "code",
   "execution_count": 127,
   "id": "8fd282e6",
   "metadata": {},
   "outputs": [
    {
     "data": {
      "text/plain": [
       "'i'"
      ]
     },
     "execution_count": 127,
     "metadata": {},
     "output_type": "execute_result"
    }
   ],
   "source": [
    "a = {\"s\" : 2, \"i\" : 10}\n",
    "m = max(a, key=a.get)\n",
    "m"
   ]
  },
  {
   "cell_type": "code",
   "execution_count": 141,
   "id": "f041c867",
   "metadata": {},
   "outputs": [
    {
     "data": {
      "text/plain": [
       "'l'"
      ]
     },
     "execution_count": 141,
     "metadata": {},
     "output_type": "execute_result"
    }
   ],
   "source": [
    "import statistics\n",
    "a = \"sahilllllll\"\n",
    "m = statistics.mode(a)\n",
    "#m = max(a, key=a.count)\n",
    "m"
   ]
  },
  {
   "cell_type": "code",
   "execution_count": 129,
   "id": "d64b5b19",
   "metadata": {},
   "outputs": [
    {
     "data": {
      "text/plain": [
       "8"
      ]
     },
     "execution_count": 129,
     "metadata": {},
     "output_type": "execute_result"
    }
   ],
   "source": [
    "a = [1,1,2,2,3,54,5,7,87,87,8,8,8,8,8,8]\n",
    "m = max(a, key=a.count)\n",
    "m"
   ]
  },
  {
   "cell_type": "code",
   "execution_count": 182,
   "id": "253bf7fd",
   "metadata": {},
   "outputs": [
    {
     "data": {
      "text/plain": [
       "{1: 2, 3: 4, 'list': [6, 7], 'dict': {89, 90}}"
      ]
     },
     "execution_count": 182,
     "metadata": {},
     "output_type": "execute_result"
    }
   ],
   "source": [
    "n = {1:2, 3:4, \"list\":[6,7], \"dict\":{89,90}}\n",
    "n"
   ]
  },
  {
   "cell_type": "code",
   "execution_count": 183,
   "id": "d0f676b9",
   "metadata": {},
   "outputs": [],
   "source": [
    "# As here \"li\" key is not present it will not ewturn anything as well as it will not give error too\n",
    "# sometimes we need to use it \n",
    "# and even we can pass the arguement value we want to print if the given key is not present\n",
    "n.get(\"li\")"
   ]
  },
  {
   "cell_type": "code",
   "execution_count": 184,
   "id": "511e5cd1",
   "metadata": {},
   "outputs": [
    {
     "data": {
      "text/plain": [
       "'This value and key is not present'"
      ]
     },
     "execution_count": 184,
     "metadata": {},
     "output_type": "execute_result"
    }
   ],
   "source": [
    "n.get(\"li\", \"This value and key is not present\")"
   ]
  },
  {
   "cell_type": "markdown",
   "id": "77fbc814",
   "metadata": {},
   "source": [
    "###### To get all the keys we can do this"
   ]
  },
  {
   "cell_type": "code",
   "execution_count": 185,
   "id": "1fa3067a",
   "metadata": {},
   "outputs": [
    {
     "data": {
      "text/plain": [
       "dict_keys([1, 3, 'list', 'dict'])"
      ]
     },
     "execution_count": 185,
     "metadata": {},
     "output_type": "execute_result"
    }
   ],
   "source": [
    "n.keys()"
   ]
  },
  {
   "cell_type": "markdown",
   "id": "a42cc013",
   "metadata": {},
   "source": [
    "##### To get the all values we can do this"
   ]
  },
  {
   "cell_type": "code",
   "execution_count": 186,
   "id": "d817d6d2",
   "metadata": {},
   "outputs": [
    {
     "data": {
      "text/plain": [
       "dict_values([2, 4, [6, 7], {89, 90}])"
      ]
     },
     "execution_count": 186,
     "metadata": {},
     "output_type": "execute_result"
    }
   ],
   "source": [
    "n.values()"
   ]
  },
  {
   "cell_type": "markdown",
   "id": "6291d6de",
   "metadata": {},
   "source": [
    "##### To get the key value pair we can do this"
   ]
  },
  {
   "cell_type": "code",
   "execution_count": 187,
   "id": "98344f42",
   "metadata": {},
   "outputs": [
    {
     "data": {
      "text/plain": [
       "dict_items([(1, 2), (3, 4), ('list', [6, 7]), ('dict', {89, 90})])"
      ]
     },
     "execution_count": 187,
     "metadata": {},
     "output_type": "execute_result"
    }
   ],
   "source": [
    "n.items()"
   ]
  },
  {
   "cell_type": "code",
   "execution_count": 188,
   "id": "3e045892",
   "metadata": {},
   "outputs": [
    {
     "name": "stdout",
     "output_type": "stream",
     "text": [
      "1\n",
      "3\n",
      "list\n",
      "dict\n"
     ]
    }
   ],
   "source": [
    "for i in n:\n",
    "    print(i)"
   ]
  },
  {
   "cell_type": "code",
   "execution_count": 189,
   "id": "18fb40ea",
   "metadata": {},
   "outputs": [
    {
     "name": "stdout",
     "output_type": "stream",
     "text": [
      "1 2\n",
      "3 4\n",
      "list [6, 7]\n",
      "dict {89, 90}\n"
     ]
    }
   ],
   "source": [
    "# This will give you values as well as key\n",
    "for i in n:\n",
    "    print(i, n[i])"
   ]
  },
  {
   "cell_type": "code",
   "execution_count": 190,
   "id": "d9e8d700",
   "metadata": {},
   "outputs": [
    {
     "name": "stdout",
     "output_type": "stream",
     "text": [
      "2\n",
      "4\n",
      "[6, 7]\n",
      "{89, 90}\n"
     ]
    }
   ],
   "source": [
    "# This will give you just the values\n",
    "for i in n.values():\n",
    "    print(i)"
   ]
  },
  {
   "cell_type": "code",
   "execution_count": 191,
   "id": "7bad7bd0",
   "metadata": {},
   "outputs": [
    {
     "data": {
      "text/plain": [
       "True"
      ]
     },
     "execution_count": 191,
     "metadata": {},
     "output_type": "execute_result"
    }
   ],
   "source": [
    "# This is will give you boolean for the key\n",
    "\"list\" in n"
   ]
  },
  {
   "cell_type": "markdown",
   "id": "bf7d5ae1",
   "metadata": {},
   "source": [
    "##### Adding and removing data in the dictionary"
   ]
  },
  {
   "cell_type": "code",
   "execution_count": 192,
   "id": "943fefcf",
   "metadata": {},
   "outputs": [],
   "source": [
    "# To add the key as well as values in the dictionary  \n",
    "n[\"new_tuple_add\"] =(1,2,3,4,5)"
   ]
  },
  {
   "cell_type": "code",
   "execution_count": 193,
   "id": "0b8de4e0",
   "metadata": {},
   "outputs": [
    {
     "data": {
      "text/plain": [
       "{1: 2,\n",
       " 3: 4,\n",
       " 'list': [6, 7],\n",
       " 'dict': {89, 90},\n",
       " 'new_tuple_add': (1, 2, 3, 4, 5)}"
      ]
     },
     "execution_count": 193,
     "metadata": {},
     "output_type": "execute_result"
    }
   ],
   "source": [
    "n"
   ]
  },
  {
   "cell_type": "markdown",
   "id": "9b92327a",
   "metadata": {},
   "source": [
    "##### To update a data"
   ]
  },
  {
   "cell_type": "code",
   "execution_count": 194,
   "id": "6deb5f3c",
   "metadata": {},
   "outputs": [],
   "source": [
    "n[3] = 11000"
   ]
  },
  {
   "cell_type": "code",
   "execution_count": 195,
   "id": "a684a558",
   "metadata": {},
   "outputs": [
    {
     "data": {
      "text/plain": [
       "{1: 2,\n",
       " 3: 11000,\n",
       " 'list': [6, 7],\n",
       " 'dict': {89, 90},\n",
       " 'new_tuple_add': (1, 2, 3, 4, 5)}"
      ]
     },
     "execution_count": 195,
     "metadata": {},
     "output_type": "execute_result"
    }
   ],
   "source": [
    "n"
   ]
  },
  {
   "cell_type": "code",
   "execution_count": 196,
   "id": "fdc59779",
   "metadata": {},
   "outputs": [],
   "source": [
    "# This will update if the key is present in the dict else it will add it as new key and value\n",
    "b = {3 : 100, \"hello\" : 69}"
   ]
  },
  {
   "cell_type": "code",
   "execution_count": 197,
   "id": "685e0270",
   "metadata": {},
   "outputs": [],
   "source": [
    "n.update(b)"
   ]
  },
  {
   "cell_type": "code",
   "execution_count": 198,
   "id": "4259b23c",
   "metadata": {},
   "outputs": [
    {
     "data": {
      "text/plain": [
       "{1: 2,\n",
       " 3: 100,\n",
       " 'list': [6, 7],\n",
       " 'dict': {89, 90},\n",
       " 'new_tuple_add': (1, 2, 3, 4, 5),\n",
       " 'hello': 69}"
      ]
     },
     "execution_count": 198,
     "metadata": {},
     "output_type": "execute_result"
    }
   ],
   "source": [
    "n"
   ]
  },
  {
   "cell_type": "markdown",
   "id": "66a3be25",
   "metadata": {},
   "source": [
    "##### Remove the key and value"
   ]
  },
  {
   "cell_type": "code",
   "execution_count": 199,
   "id": "7d44c1b9",
   "metadata": {},
   "outputs": [
    {
     "data": {
      "text/plain": [
       "100"
      ]
     },
     "execution_count": 199,
     "metadata": {},
     "output_type": "execute_result"
    }
   ],
   "source": [
    "n.pop(3)"
   ]
  },
  {
   "cell_type": "code",
   "execution_count": 200,
   "id": "47c76985",
   "metadata": {},
   "outputs": [
    {
     "data": {
      "text/plain": [
       "{1: 2,\n",
       " 'list': [6, 7],\n",
       " 'dict': {89, 90},\n",
       " 'new_tuple_add': (1, 2, 3, 4, 5),\n",
       " 'hello': 69}"
      ]
     },
     "execution_count": 200,
     "metadata": {},
     "output_type": "execute_result"
    }
   ],
   "source": [
    "n"
   ]
  },
  {
   "cell_type": "markdown",
   "id": "4eb1235b",
   "metadata": {},
   "source": [
    "##### Delete"
   ]
  },
  {
   "cell_type": "code",
   "execution_count": 201,
   "id": "d13f15c5",
   "metadata": {},
   "outputs": [],
   "source": [
    "del n[1]"
   ]
  },
  {
   "cell_type": "code",
   "execution_count": 202,
   "id": "20fb6f8d",
   "metadata": {},
   "outputs": [
    {
     "data": {
      "text/plain": [
       "{'list': [6, 7],\n",
       " 'dict': {89, 90},\n",
       " 'new_tuple_add': (1, 2, 3, 4, 5),\n",
       " 'hello': 69}"
      ]
     },
     "execution_count": 202,
     "metadata": {},
     "output_type": "execute_result"
    }
   ],
   "source": [
    "n"
   ]
  },
  {
   "cell_type": "markdown",
   "id": "cd37059f",
   "metadata": {},
   "source": [
    "##### To remove everything form the dictionary we can use clear"
   ]
  },
  {
   "cell_type": "code",
   "execution_count": 203,
   "id": "6827ca63",
   "metadata": {},
   "outputs": [],
   "source": [
    "n.clear()"
   ]
  },
  {
   "cell_type": "code",
   "execution_count": 204,
   "id": "e7afc242",
   "metadata": {},
   "outputs": [
    {
     "data": {
      "text/plain": [
       "{}"
      ]
     },
     "execution_count": 204,
     "metadata": {},
     "output_type": "execute_result"
    }
   ],
   "source": [
    "n"
   ]
  },
  {
   "cell_type": "code",
   "execution_count": 205,
   "id": "b907ab34",
   "metadata": {},
   "outputs": [],
   "source": [
    "# Delete whole dictionary\n",
    "del n"
   ]
  },
  {
   "cell_type": "code",
   "execution_count": 206,
   "id": "29560a8a",
   "metadata": {},
   "outputs": [
    {
     "ename": "NameError",
     "evalue": "name 'n' is not defined",
     "output_type": "error",
     "traceback": [
      "\u001b[1;31m---------------------------------------------------------------------------\u001b[0m",
      "\u001b[1;31mNameError\u001b[0m                                 Traceback (most recent call last)",
      "Cell \u001b[1;32mIn[206], line 1\u001b[0m\n\u001b[1;32m----> 1\u001b[0m \u001b[43mn\u001b[49m\n",
      "\u001b[1;31mNameError\u001b[0m: name 'n' is not defined"
     ]
    }
   ],
   "source": [
    "n"
   ]
  },
  {
   "cell_type": "code",
   "execution_count": 222,
   "id": "256484e2",
   "metadata": {},
   "outputs": [
    {
     "name": "stdout",
     "output_type": "stream",
     "text": [
      "{'This': 1, 'is': 2, 'sahil': 1, 'many': 2, 'time': 1, 'sleeping': 1}\n",
      "is\n",
      "many\n",
      "many\n",
      "is\n"
     ]
    }
   ],
   "source": [
    "str = \"This is sahil many many time is sleeping\"\n",
    "freq_count = 2\n",
    "splited_str = str.split()\n",
    "freq = {}\n",
    "for char in splited_str:\n",
    "    if char in freq:\n",
    "        freq[char] += 1\n",
    "    else:\n",
    "        freq[char] = 1\n",
    "print(freq)\n",
    "\n",
    "for char in splited_str:\n",
    "    if freq[char] == freq_count:\n",
    "        print(char)"
   ]
  },
  {
   "cell_type": "markdown",
   "id": "060859d8",
   "metadata": {},
   "source": [
    "# Set"
   ]
  },
  {
   "cell_type": "markdown",
   "id": "1a18b138",
   "metadata": {},
   "source": [
    "##### Sets are unordered they dont have indexing"
   ]
  },
  {
   "cell_type": "code",
   "execution_count": 258,
   "id": "22e77cc9",
   "metadata": {},
   "outputs": [
    {
     "data": {
      "text/plain": [
       "{1, 2, 'apple', 'banana'}"
      ]
     },
     "execution_count": 258,
     "metadata": {},
     "output_type": "execute_result"
    }
   ],
   "source": [
    "sets = {1,2,\"apple\",\"banana\"}\n",
    "sets"
   ]
  },
  {
   "cell_type": "code",
   "execution_count": 259,
   "id": "17183ebd",
   "metadata": {},
   "outputs": [
    {
     "data": {
      "text/plain": [
       "set"
      ]
     },
     "execution_count": 259,
     "metadata": {},
     "output_type": "execute_result"
    }
   ],
   "source": [
    "type(sets)"
   ]
  },
  {
   "cell_type": "code",
   "execution_count": 260,
   "id": "30f6a44b",
   "metadata": {},
   "outputs": [
    {
     "data": {
      "text/plain": [
       "True"
      ]
     },
     "execution_count": 260,
     "metadata": {},
     "output_type": "execute_result"
    }
   ],
   "source": [
    "\"apple\" in sets"
   ]
  },
  {
   "cell_type": "code",
   "execution_count": 261,
   "id": "1b27ca7d",
   "metadata": {},
   "outputs": [
    {
     "name": "stdout",
     "output_type": "stream",
     "text": [
      "1\n",
      "2\n",
      "apple\n",
      "banana\n"
     ]
    }
   ],
   "source": [
    "for s in sets:\n",
    "    print(s)"
   ]
  },
  {
   "cell_type": "code",
   "execution_count": 262,
   "id": "a0f8f47b",
   "metadata": {},
   "outputs": [
    {
     "data": {
      "text/plain": [
       "4"
      ]
     },
     "execution_count": 262,
     "metadata": {},
     "output_type": "execute_result"
    }
   ],
   "source": [
    "len(sets)"
   ]
  },
  {
   "cell_type": "markdown",
   "id": "85e9fec2",
   "metadata": {},
   "source": [
    "##### Add data"
   ]
  },
  {
   "cell_type": "code",
   "execution_count": 263,
   "id": "6e6b79e1",
   "metadata": {},
   "outputs": [],
   "source": [
    "sets.add(\"Chiku\")"
   ]
  },
  {
   "cell_type": "code",
   "execution_count": 264,
   "id": "d6899dbb",
   "metadata": {},
   "outputs": [
    {
     "data": {
      "text/plain": [
       "{1, 2, 'Chiku', 'apple', 'banana'}"
      ]
     },
     "execution_count": 264,
     "metadata": {},
     "output_type": "execute_result"
    }
   ],
   "source": [
    "sets"
   ]
  },
  {
   "cell_type": "code",
   "execution_count": 265,
   "id": "2cc0dd5e",
   "metadata": {},
   "outputs": [],
   "source": [
    "new_set = {\"mango\", 69}"
   ]
  },
  {
   "cell_type": "code",
   "execution_count": 266,
   "id": "d3653807",
   "metadata": {},
   "outputs": [],
   "source": [
    "sets.update(new_set)"
   ]
  },
  {
   "cell_type": "code",
   "execution_count": 267,
   "id": "027484eb",
   "metadata": {},
   "outputs": [
    {
     "data": {
      "text/plain": [
       "{1, 2, 69, 'Chiku', 'apple', 'banana', 'mango'}"
      ]
     },
     "execution_count": 267,
     "metadata": {},
     "output_type": "execute_result"
    }
   ],
   "source": [
    "sets"
   ]
  },
  {
   "cell_type": "code",
   "execution_count": 268,
   "id": "98386ae9",
   "metadata": {},
   "outputs": [],
   "source": [
    "sets.remove(\"mango\")"
   ]
  },
  {
   "cell_type": "code",
   "execution_count": 269,
   "id": "10c0c8be",
   "metadata": {},
   "outputs": [
    {
     "data": {
      "text/plain": [
       "{1, 2, 69, 'Chiku', 'apple', 'banana'}"
      ]
     },
     "execution_count": 269,
     "metadata": {},
     "output_type": "execute_result"
    }
   ],
   "source": [
    "sets"
   ]
  },
  {
   "cell_type": "code",
   "execution_count": 270,
   "id": "d7a91ec7",
   "metadata": {},
   "outputs": [],
   "source": [
    "sets.discard(2)"
   ]
  },
  {
   "cell_type": "code",
   "execution_count": 271,
   "id": "c4b8d66c",
   "metadata": {},
   "outputs": [
    {
     "data": {
      "text/plain": [
       "{1, 69, 'Chiku', 'apple', 'banana'}"
      ]
     },
     "execution_count": 271,
     "metadata": {},
     "output_type": "execute_result"
    }
   ],
   "source": [
    "sets"
   ]
  },
  {
   "cell_type": "code",
   "execution_count": 272,
   "id": "24af4310",
   "metadata": {},
   "outputs": [],
   "source": [
    "# discard is used when the value is not present and still we give that value it dosent generates error\n",
    "sets.discard(21213)"
   ]
  },
  {
   "cell_type": "code",
   "execution_count": 273,
   "id": "8b32fba4",
   "metadata": {},
   "outputs": [
    {
     "data": {
      "text/plain": [
       "1"
      ]
     },
     "execution_count": 273,
     "metadata": {},
     "output_type": "execute_result"
    }
   ],
   "source": [
    "sets.pop()"
   ]
  },
  {
   "cell_type": "code",
   "execution_count": 274,
   "id": "46fb7d6c",
   "metadata": {},
   "outputs": [
    {
     "data": {
      "text/plain": [
       "{69, 'Chiku', 'apple', 'banana'}"
      ]
     },
     "execution_count": 274,
     "metadata": {},
     "output_type": "execute_result"
    }
   ],
   "source": [
    "sets"
   ]
  },
  {
   "cell_type": "code",
   "execution_count": 276,
   "id": "7f8807f9",
   "metadata": {},
   "outputs": [],
   "source": [
    "sets.clear()"
   ]
  },
  {
   "cell_type": "code",
   "execution_count": 277,
   "id": "e98a46ed",
   "metadata": {},
   "outputs": [
    {
     "data": {
      "text/plain": [
       "set()"
      ]
     },
     "execution_count": 277,
     "metadata": {},
     "output_type": "execute_result"
    }
   ],
   "source": [
    "sets"
   ]
  },
  {
   "cell_type": "code",
   "execution_count": 278,
   "id": "2b0ac6ef",
   "metadata": {},
   "outputs": [],
   "source": [
    "del s"
   ]
  },
  {
   "cell_type": "code",
   "execution_count": 279,
   "id": "1007ce9e",
   "metadata": {},
   "outputs": [
    {
     "ename": "NameError",
     "evalue": "name 's' is not defined",
     "output_type": "error",
     "traceback": [
      "\u001b[1;31m---------------------------------------------------------------------------\u001b[0m",
      "\u001b[1;31mNameError\u001b[0m                                 Traceback (most recent call last)",
      "Cell \u001b[1;32mIn[279], line 1\u001b[0m\n\u001b[1;32m----> 1\u001b[0m \u001b[43ms\u001b[49m\n",
      "\u001b[1;31mNameError\u001b[0m: name 's' is not defined"
     ]
    }
   ],
   "source": [
    "s"
   ]
  },
  {
   "cell_type": "code",
   "execution_count": 10,
   "id": "d609230b",
   "metadata": {},
   "outputs": [],
   "source": [
    "a = {1,2,3,4}\n",
    "b = {3,4,5,6}"
   ]
  },
  {
   "cell_type": "code",
   "execution_count": 2,
   "id": "64bc4b77",
   "metadata": {},
   "outputs": [
    {
     "data": {
      "text/plain": [
       "{1, 2, 3, 4}"
      ]
     },
     "execution_count": 2,
     "metadata": {},
     "output_type": "execute_result"
    }
   ],
   "source": [
    "a"
   ]
  },
  {
   "cell_type": "code",
   "execution_count": 3,
   "id": "dc3a15d5",
   "metadata": {},
   "outputs": [
    {
     "data": {
      "text/plain": [
       "{3, 4, 5, 6}"
      ]
     },
     "execution_count": 3,
     "metadata": {},
     "output_type": "execute_result"
    }
   ],
   "source": [
    "b"
   ]
  },
  {
   "cell_type": "code",
   "execution_count": 4,
   "id": "da7f8438",
   "metadata": {},
   "outputs": [
    {
     "data": {
      "text/plain": [
       "{3, 4}"
      ]
     },
     "execution_count": 4,
     "metadata": {},
     "output_type": "execute_result"
    }
   ],
   "source": [
    "a.intersection(b)"
   ]
  },
  {
   "cell_type": "code",
   "execution_count": 5,
   "id": "edb94c0a",
   "metadata": {},
   "outputs": [
    {
     "data": {
      "text/plain": [
       "{1, 2, 3, 4, 5, 6}"
      ]
     },
     "execution_count": 5,
     "metadata": {},
     "output_type": "execute_result"
    }
   ],
   "source": [
    "a.union(b)"
   ]
  },
  {
   "cell_type": "code",
   "execution_count": 6,
   "id": "82cfcf08",
   "metadata": {},
   "outputs": [
    {
     "data": {
      "text/plain": [
       "{1, 2}"
      ]
     },
     "execution_count": 6,
     "metadata": {},
     "output_type": "execute_result"
    }
   ],
   "source": [
    "a.difference(b)"
   ]
  },
  {
   "cell_type": "code",
   "execution_count": 7,
   "id": "ef6f842e",
   "metadata": {},
   "outputs": [
    {
     "data": {
      "text/plain": [
       "{5, 6}"
      ]
     },
     "execution_count": 7,
     "metadata": {},
     "output_type": "execute_result"
    }
   ],
   "source": [
    "b.difference(a)"
   ]
  },
  {
   "cell_type": "code",
   "execution_count": 8,
   "id": "6f35a7fe",
   "metadata": {},
   "outputs": [
    {
     "data": {
      "text/plain": [
       "{1, 2, 5, 6}"
      ]
     },
     "execution_count": 8,
     "metadata": {},
     "output_type": "execute_result"
    }
   ],
   "source": [
    "a.symmetric_difference(b)"
   ]
  },
  {
   "cell_type": "code",
   "execution_count": 11,
   "id": "7811c5ab",
   "metadata": {},
   "outputs": [
    {
     "data": {
      "text/plain": [
       "{1, 2, 5, 6}"
      ]
     },
     "execution_count": 11,
     "metadata": {},
     "output_type": "execute_result"
    }
   ],
   "source": [
    "b.symmetric_difference(a)"
   ]
  },
  {
   "cell_type": "code",
   "execution_count": 12,
   "id": "835fb385",
   "metadata": {},
   "outputs": [],
   "source": [
    "c = {3,4}"
   ]
  },
  {
   "cell_type": "code",
   "execution_count": 13,
   "id": "c2b70a73",
   "metadata": {},
   "outputs": [
    {
     "data": {
      "text/plain": [
       "{3, 4}"
      ]
     },
     "execution_count": 13,
     "metadata": {},
     "output_type": "execute_result"
    }
   ],
   "source": [
    "c"
   ]
  },
  {
   "cell_type": "code",
   "execution_count": 14,
   "id": "2cd1d978",
   "metadata": {},
   "outputs": [
    {
     "data": {
      "text/plain": [
       "False"
      ]
     },
     "execution_count": 14,
     "metadata": {},
     "output_type": "execute_result"
    }
   ],
   "source": [
    "a.issubset(c)"
   ]
  },
  {
   "cell_type": "code",
   "execution_count": 15,
   "id": "1f8d017b",
   "metadata": {},
   "outputs": [
    {
     "data": {
      "text/plain": [
       "True"
      ]
     },
     "execution_count": 15,
     "metadata": {},
     "output_type": "execute_result"
    }
   ],
   "source": [
    "c.issubset(a)"
   ]
  },
  {
   "cell_type": "code",
   "execution_count": 16,
   "id": "dea3a693",
   "metadata": {},
   "outputs": [
    {
     "data": {
      "text/plain": [
       "True"
      ]
     },
     "execution_count": 16,
     "metadata": {},
     "output_type": "execute_result"
    }
   ],
   "source": [
    "a.issuperset(c)"
   ]
  },
  {
   "cell_type": "code",
   "execution_count": 17,
   "id": "661c715d",
   "metadata": {},
   "outputs": [
    {
     "data": {
      "text/plain": [
       "False"
      ]
     },
     "execution_count": 17,
     "metadata": {},
     "output_type": "execute_result"
    }
   ],
   "source": [
    "c.issuperset(a)"
   ]
  },
  {
   "cell_type": "code",
   "execution_count": 22,
   "id": "a671e4f6",
   "metadata": {},
   "outputs": [
    {
     "name": "stdout",
     "output_type": "stream",
     "text": [
      "1 1 2 2 3 3 4 4 5 5\n",
      "{1, 2, 3, 4, 5}\n",
      "15\n"
     ]
    }
   ],
   "source": [
    "def sumUnique(arr):\n",
    "    s = set()\n",
    "    for i in arr:\n",
    "        s.add(i)\n",
    "    sum = 0\n",
    "    for i in s:\n",
    "        sum = sum + i\n",
    "    print(s)\n",
    "    print(sum)\n",
    "arr = [int(x) for x in input().split()]\n",
    "sumUnique(arr)"
   ]
  }
 ],
 "metadata": {
  "kernelspec": {
   "display_name": "Python 3 (ipykernel)",
   "language": "python",
   "name": "python3"
  },
  "language_info": {
   "codemirror_mode": {
    "name": "ipython",
    "version": 3
   },
   "file_extension": ".py",
   "mimetype": "text/x-python",
   "name": "python",
   "nbconvert_exporter": "python",
   "pygments_lexer": "ipython3",
   "version": "3.10.7"
  }
 },
 "nbformat": 4,
 "nbformat_minor": 5
}
