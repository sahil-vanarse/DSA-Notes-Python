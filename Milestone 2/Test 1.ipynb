{
 "cells": [
  {
   "cell_type": "code",
   "execution_count": 2,
   "id": "dfc87847",
   "metadata": {},
   "outputs": [
    {
     "name": "stdout",
     "output_type": "stream",
     "text": [
      "2\n",
      "3\n",
      "***\n",
      " **\n",
      "  *\n",
      "5\n",
      "*****\n",
      " ****\n",
      "  ***\n",
      "   **\n",
      "    *\n"
     ]
    }
   ],
   "source": [
    "def ninjaPuzzle(n):\n",
    "    # Write your Code and\n",
    "    # Print the output Pattern here only.\n",
    "    for i in range(n):\n",
    "        print(\" \" * i + \"*\" * (n - i))\n",
    "\n",
    "# Read the number of test cases\n",
    "T = int(input())\n",
    "\n",
    "# Iterate through each test case\n",
    "for _ in range(T):\n",
    "    # Read the value of N for the current test case\n",
    "    N = int(input())\n",
    "    \n",
    "    # Call the ninjaPuzzle function to print the pattern\n",
    "    ninjaPuzzle(N)"
   ]
  },
  {
   "cell_type": "code",
   "execution_count": 10,
   "id": "0f289cb5",
   "metadata": {},
   "outputs": [
    {
     "name": "stdout",
     "output_type": "stream",
     "text": [
      "1\n",
      "35 40\n",
      "5\n"
     ]
    }
   ],
   "source": [
    "def gcd(x, y):\n",
    "    while y != 0:\n",
    "        x, y = y, x % y\n",
    "    return x\n",
    "\n",
    "try:\n",
    "    # Read the number of test cases\n",
    "    T = int(input())\n",
    "\n",
    "    # Process each test case\n",
    "    for _ in range(T):\n",
    "        # Read the input numbers\n",
    "        x, y = map(int, input().split())\n",
    "\n",
    "        # Compute and print the GCD\n",
    "        result = gcd(x, y)\n",
    "        print(result)\n",
    "\n",
    "except EOFError:\n",
    "    pass\n"
   ]
  },
  {
   "cell_type": "code",
   "execution_count": null,
   "id": "8915be20",
   "metadata": {},
   "outputs": [],
   "source": []
  }
 ],
 "metadata": {
  "kernelspec": {
   "display_name": "Python 3 (ipykernel)",
   "language": "python",
   "name": "python3"
  },
  "language_info": {
   "codemirror_mode": {
    "name": "ipython",
    "version": 3
   },
   "file_extension": ".py",
   "mimetype": "text/x-python",
   "name": "python",
   "nbconvert_exporter": "python",
   "pygments_lexer": "ipython3",
   "version": "3.10.7"
  }
 },
 "nbformat": 4,
 "nbformat_minor": 5
}
