{
 "cells": [
  {
   "cell_type": "code",
   "execution_count": 5,
   "id": "e2ba2f73",
   "metadata": {},
   "outputs": [],
   "source": [
    "# List : stores heterogeneous type of data. They are stored continously by the indexing.\n",
    "# Array : stores homogeneous type of data. They are stored continously by the indexing."
   ]
  },
  {
   "cell_type": "code",
   "execution_count": 6,
   "id": "8bfeb9de",
   "metadata": {},
   "outputs": [],
   "source": [
    "li = [] # empty list"
   ]
  },
  {
   "cell_type": "code",
   "execution_count": 7,
   "id": "620e1b6f",
   "metadata": {},
   "outputs": [],
   "source": [
    "li = [1,2] # homogeneous list"
   ]
  },
  {
   "cell_type": "code",
   "execution_count": 13,
   "id": "e1e4d781",
   "metadata": {},
   "outputs": [
    {
     "name": "stdout",
     "output_type": "stream",
     "text": [
      "[1, 'Sahil', 3.4, 5, 'Sahil']\n"
     ]
    }
   ],
   "source": [
    "li = [1, \"Sahil\", 3.4, 5, \"Sahil\"] # heterogeneous list\n",
    "print(li)"
   ]
  },
  {
   "cell_type": "markdown",
   "id": "be7539d9",
   "metadata": {},
   "source": [
    "### Access and Change Element in List"
   ]
  },
  {
   "cell_type": "code",
   "execution_count": 9,
   "id": "da529a03",
   "metadata": {},
   "outputs": [
    {
     "data": {
      "text/plain": [
       "1"
      ]
     },
     "execution_count": 9,
     "metadata": {},
     "output_type": "execute_result"
    }
   ],
   "source": [
    "li[0]"
   ]
  },
  {
   "cell_type": "markdown",
   "id": "cde8b365",
   "metadata": {},
   "source": [
    "#### We can change the values of the list by the indexing"
   ]
  },
  {
   "cell_type": "code",
   "execution_count": 14,
   "id": "953d4d3c",
   "metadata": {},
   "outputs": [],
   "source": [
    "li[1] = 'deepen'"
   ]
  },
  {
   "cell_type": "code",
   "execution_count": 15,
   "id": "23ead829",
   "metadata": {},
   "outputs": [
    {
     "data": {
      "text/plain": [
       "[1, 'deepen', 3.4, 5, 'Sahil']"
      ]
     },
     "execution_count": 15,
     "metadata": {},
     "output_type": "execute_result"
    }
   ],
   "source": [
    "li"
   ]
  },
  {
   "cell_type": "markdown",
   "id": "25bb7c80",
   "metadata": {},
   "source": [
    "Slicing of the list"
   ]
  },
  {
   "cell_type": "code",
   "execution_count": 16,
   "id": "c88e60a9",
   "metadata": {},
   "outputs": [
    {
     "data": {
      "text/plain": [
       "['deepen', 3.4]"
      ]
     },
     "execution_count": 16,
     "metadata": {},
     "output_type": "execute_result"
    }
   ],
   "source": [
    "li[1:3] # as 3 it will not consider the last value that is 5"
   ]
  },
  {
   "cell_type": "code",
   "execution_count": 17,
   "id": "9cfab84a",
   "metadata": {},
   "outputs": [
    {
     "data": {
      "text/plain": [
       "[1, 'deepen', 3.4, 5, 'Sahil']"
      ]
     },
     "execution_count": 17,
     "metadata": {},
     "output_type": "execute_result"
    }
   ],
   "source": [
    "li"
   ]
  },
  {
   "cell_type": "code",
   "execution_count": 18,
   "id": "e4a64e88",
   "metadata": {},
   "outputs": [
    {
     "data": {
      "text/plain": [
       "['deepen', 3.4, 5, 'Sahil']"
      ]
     },
     "execution_count": 18,
     "metadata": {},
     "output_type": "execute_result"
    }
   ],
   "source": [
    "li[1:] # it will start from index 1 and end till last"
   ]
  },
  {
   "cell_type": "code",
   "execution_count": 20,
   "id": "962f5ae2",
   "metadata": {},
   "outputs": [
    {
     "data": {
      "text/plain": [
       "[1, 'deepen', 3.4, 5, 'Sahil']"
      ]
     },
     "execution_count": 20,
     "metadata": {},
     "output_type": "execute_result"
    }
   ],
   "source": [
    "li[:] # only colon will give the complete list"
   ]
  },
  {
   "cell_type": "code",
   "execution_count": 21,
   "id": "0e811320",
   "metadata": {},
   "outputs": [
    {
     "data": {
      "text/plain": [
       "['deepen', 3.4, 5, 'Sahil']"
      ]
     },
     "execution_count": 21,
     "metadata": {},
     "output_type": "execute_result"
    }
   ],
   "source": [
    "li[1:10] # as here there is no values till the 10 then it will go to the values present till the last of the list"
   ]
  },
  {
   "cell_type": "markdown",
   "id": "c23fde9f",
   "metadata": {},
   "source": [
    "#### Insert and Append element in List"
   ]
  },
  {
   "cell_type": "code",
   "execution_count": 22,
   "id": "b319f397",
   "metadata": {},
   "outputs": [],
   "source": [
    "li.append(\"Nayana\") # append will add the value to the last of the list"
   ]
  },
  {
   "cell_type": "code",
   "execution_count": 23,
   "id": "73fdbb79",
   "metadata": {},
   "outputs": [
    {
     "data": {
      "text/plain": [
       "[1, 'deepen', 3.4, 5, 'Sahil', 'Nayana']"
      ]
     },
     "execution_count": 23,
     "metadata": {},
     "output_type": "execute_result"
    }
   ],
   "source": [
    "li"
   ]
  },
  {
   "cell_type": "code",
   "execution_count": 24,
   "id": "895f2a0a",
   "metadata": {},
   "outputs": [],
   "source": [
    "li.insert(2,\"Vikram\") # this is used to insert the values to the user choices index "
   ]
  },
  {
   "cell_type": "code",
   "execution_count": 25,
   "id": "abc491e6",
   "metadata": {},
   "outputs": [
    {
     "data": {
      "text/plain": [
       "[1, 'deepen', 'Vikram', 3.4, 5, 'Sahil', 'Nayana']"
      ]
     },
     "execution_count": 25,
     "metadata": {},
     "output_type": "execute_result"
    }
   ],
   "source": [
    "li"
   ]
  },
  {
   "cell_type": "code",
   "execution_count": 26,
   "id": "c4f969df",
   "metadata": {},
   "outputs": [],
   "source": [
    "li.insert(7,50) # by this we can add the values to the list"
   ]
  },
  {
   "cell_type": "code",
   "execution_count": 27,
   "id": "7b667c6f",
   "metadata": {},
   "outputs": [
    {
     "data": {
      "text/plain": [
       "[1, 'deepen', 'Vikram', 3.4, 5, 'Sahil', 'Nayana', 50]"
      ]
     },
     "execution_count": 27,
     "metadata": {},
     "output_type": "execute_result"
    }
   ],
   "source": [
    "li"
   ]
  },
  {
   "cell_type": "code",
   "execution_count": 28,
   "id": "1ee49695",
   "metadata": {},
   "outputs": [],
   "source": [
    "li.insert(50,\"RexOP\") # as here index 50 is no present then the value will be added to the last of the list without caring of the index"
   ]
  },
  {
   "cell_type": "code",
   "execution_count": 29,
   "id": "f485faca",
   "metadata": {},
   "outputs": [
    {
     "data": {
      "text/plain": [
       "[1, 'deepen', 'Vikram', 3.4, 5, 'Sahil', 'Nayana', 50, 'RexOP']"
      ]
     },
     "execution_count": 29,
     "metadata": {},
     "output_type": "execute_result"
    }
   ],
   "source": [
    "li"
   ]
  },
  {
   "cell_type": "code",
   "execution_count": 136,
   "id": "236f3389",
   "metadata": {},
   "outputs": [],
   "source": [
    "li.append([9,10,11]) # this will create list within the list"
   ]
  },
  {
   "cell_type": "code",
   "execution_count": 31,
   "id": "3a117cbb",
   "metadata": {},
   "outputs": [
    {
     "data": {
      "text/plain": [
       "[1, 'deepen', 'Vikram', 3.4, 5, 'Sahil', 'Nayana', 50, 'RexOP', [9, 10, 11]]"
      ]
     },
     "execution_count": 31,
     "metadata": {},
     "output_type": "execute_result"
    }
   ],
   "source": [
    "li"
   ]
  },
  {
   "cell_type": "code",
   "execution_count": 42,
   "id": "f61584e0",
   "metadata": {},
   "outputs": [],
   "source": [
    "li.extend([12,13]) # this will add the values given without creating a extra list"
   ]
  },
  {
   "cell_type": "code",
   "execution_count": 35,
   "id": "a50aaa6a",
   "metadata": {},
   "outputs": [
    {
     "data": {
      "text/plain": [
       "[1,\n",
       " 'deepen',\n",
       " 'Vikram',\n",
       " 3.4,\n",
       " 5,\n",
       " 'Sahil',\n",
       " 'Nayana',\n",
       " 50,\n",
       " 'RexOP',\n",
       " [9, 10, 11],\n",
       " 12,\n",
       " 13,\n",
       " 14,\n",
       " 12,\n",
       " 13]"
      ]
     },
     "execution_count": 35,
     "metadata": {},
     "output_type": "execute_result"
    }
   ],
   "source": [
    "li"
   ]
  },
  {
   "cell_type": "markdown",
   "id": "51c87a94",
   "metadata": {},
   "source": [
    "#### Removing Elements from the list"
   ]
  },
  {
   "cell_type": "code",
   "execution_count": 43,
   "id": "19dbf094",
   "metadata": {},
   "outputs": [
    {
     "data": {
      "text/plain": [
       "[1,\n",
       " 'deepen',\n",
       " 'Vikram',\n",
       " 3.4,\n",
       " 5,\n",
       " 'Sahil',\n",
       " 'Nayana',\n",
       " 50,\n",
       " 'RexOP',\n",
       " [9, 10, 11],\n",
       " 12,\n",
       " 13,\n",
       " 14,\n",
       " 12,\n",
       " 13,\n",
       " 12,\n",
       " 13]"
      ]
     },
     "execution_count": 43,
     "metadata": {},
     "output_type": "execute_result"
    }
   ],
   "source": [
    "li"
   ]
  },
  {
   "cell_type": "code",
   "execution_count": 44,
   "id": "6abb1661",
   "metadata": {},
   "outputs": [],
   "source": [
    "li.remove(1)  # in the remove functionality indexing dont work it directly targets the value"
   ]
  },
  {
   "cell_type": "code",
   "execution_count": 45,
   "id": "4e71d5d4",
   "metadata": {},
   "outputs": [
    {
     "data": {
      "text/plain": [
       "['deepen',\n",
       " 'Vikram',\n",
       " 3.4,\n",
       " 5,\n",
       " 'Sahil',\n",
       " 'Nayana',\n",
       " 50,\n",
       " 'RexOP',\n",
       " [9, 10, 11],\n",
       " 12,\n",
       " 13,\n",
       " 14,\n",
       " 12,\n",
       " 13,\n",
       " 12,\n",
       " 13]"
      ]
     },
     "execution_count": 45,
     "metadata": {},
     "output_type": "execute_result"
    }
   ],
   "source": [
    "li"
   ]
  },
  {
   "cell_type": "code",
   "execution_count": 46,
   "id": "60c53701",
   "metadata": {},
   "outputs": [],
   "source": [
    "li.remove(13)  # as in the list there are many 13 but it will remove the same value which is present 1st"
   ]
  },
  {
   "cell_type": "code",
   "execution_count": 47,
   "id": "3678e380",
   "metadata": {},
   "outputs": [
    {
     "data": {
      "text/plain": [
       "['deepen',\n",
       " 'Vikram',\n",
       " 3.4,\n",
       " 5,\n",
       " 'Sahil',\n",
       " 'Nayana',\n",
       " 50,\n",
       " 'RexOP',\n",
       " [9, 10, 11],\n",
       " 12,\n",
       " 14,\n",
       " 12,\n",
       " 13,\n",
       " 12,\n",
       " 13]"
      ]
     },
     "execution_count": 47,
     "metadata": {},
     "output_type": "execute_result"
    }
   ],
   "source": [
    "li"
   ]
  },
  {
   "cell_type": "code",
   "execution_count": 48,
   "id": "ba705ca7",
   "metadata": {},
   "outputs": [
    {
     "data": {
      "text/plain": [
       "13"
      ]
     },
     "execution_count": 48,
     "metadata": {},
     "output_type": "execute_result"
    }
   ],
   "source": [
    "li.pop() # it will remove the value from the last"
   ]
  },
  {
   "cell_type": "code",
   "execution_count": 49,
   "id": "55796dd2",
   "metadata": {},
   "outputs": [
    {
     "data": {
      "text/plain": [
       "3.4"
      ]
     },
     "execution_count": 49,
     "metadata": {},
     "output_type": "execute_result"
    }
   ],
   "source": [
    "li.pop(2) # this will remove from the targetting index"
   ]
  },
  {
   "cell_type": "code",
   "execution_count": 50,
   "id": "28a5f093",
   "metadata": {},
   "outputs": [
    {
     "data": {
      "text/plain": [
       "['deepen',\n",
       " 'Vikram',\n",
       " 5,\n",
       " 'Sahil',\n",
       " 'Nayana',\n",
       " 50,\n",
       " 'RexOP',\n",
       " [9, 10, 11],\n",
       " 12,\n",
       " 14,\n",
       " 12,\n",
       " 13,\n",
       " 12]"
      ]
     },
     "execution_count": 50,
     "metadata": {},
     "output_type": "execute_result"
    }
   ],
   "source": [
    "li"
   ]
  },
  {
   "cell_type": "code",
   "execution_count": 52,
   "id": "1240ae66",
   "metadata": {},
   "outputs": [
    {
     "data": {
      "text/plain": [
       "13"
      ]
     },
     "execution_count": 52,
     "metadata": {},
     "output_type": "execute_result"
    }
   ],
   "source": [
    "len(li) # returns the length of the list"
   ]
  },
  {
   "cell_type": "markdown",
   "id": "25e0c1de",
   "metadata": {},
   "source": [
    "### How elements are stored in the List and Array\n",
    "* In the list and array the elements are not saved it just saves the referrence of the elements\n",
    "* It stores the referrence continously\n",
    "* List follow concept of resizing"
   ]
  },
  {
   "cell_type": "markdown",
   "id": "32dc6333",
   "metadata": {},
   "source": [
    "### Looping on the List"
   ]
  },
  {
   "cell_type": "code",
   "execution_count": 53,
   "id": "15fd06b9",
   "metadata": {},
   "outputs": [],
   "source": [
    "li = [1,2,\"Sahil\",6,7,8,\"Deepen\"]"
   ]
  },
  {
   "cell_type": "code",
   "execution_count": 54,
   "id": "e3779be9",
   "metadata": {},
   "outputs": [
    {
     "data": {
      "text/plain": [
       "[1, 2, 'Sahil', 6, 7, 8, 'Deepen']"
      ]
     },
     "execution_count": 54,
     "metadata": {},
     "output_type": "execute_result"
    }
   ],
   "source": [
    "li"
   ]
  },
  {
   "cell_type": "code",
   "execution_count": 58,
   "id": "0c94fb5c",
   "metadata": {},
   "outputs": [
    {
     "name": "stdout",
     "output_type": "stream",
     "text": [
      "1\n",
      "2\n",
      "Sahil\n",
      "6\n",
      "7\n",
      "8\n",
      "Deepen\n"
     ]
    }
   ],
   "source": [
    "for i in range(len(li)):\n",
    "    print(li[i])"
   ]
  },
  {
   "cell_type": "code",
   "execution_count": 59,
   "id": "36dd2b30",
   "metadata": {},
   "outputs": [
    {
     "name": "stdout",
     "output_type": "stream",
     "text": [
      "Sahil\n",
      "6\n",
      "7\n",
      "8\n",
      "Deepen\n"
     ]
    }
   ],
   "source": [
    "# here 2 is the index from the loop will start\n",
    "for i in range(2,len(li)):\n",
    "    print(li[i])"
   ]
  },
  {
   "cell_type": "code",
   "execution_count": 60,
   "id": "ae141767",
   "metadata": {},
   "outputs": [
    {
     "name": "stdout",
     "output_type": "stream",
     "text": [
      "1\n",
      "2\n",
      "Sahil\n",
      "6\n",
      "7\n",
      "8\n",
      "Deepen\n"
     ]
    }
   ],
   "source": [
    "# this is 2nd method how we can use loop for the list. When we dont need the index\n",
    "for ele in li:\n",
    "    print(ele)"
   ]
  },
  {
   "cell_type": "code",
   "execution_count": 61,
   "id": "5d24eb07",
   "metadata": {},
   "outputs": [
    {
     "name": "stdout",
     "output_type": "stream",
     "text": [
      "Sahil\n",
      "6\n",
      "7\n",
      "8\n",
      "Deepen\n"
     ]
    }
   ],
   "source": [
    "# This means that start from the 2nd index till the last by using the slicing\n",
    "for ele in li[2:]:\n",
    "    print(ele)"
   ]
  },
  {
   "cell_type": "code",
   "execution_count": 63,
   "id": "cfe809dc",
   "metadata": {},
   "outputs": [
    {
     "data": {
      "text/plain": [
       "[1, 2, 'Sahil', 6, 7, 8, 'Deepen']"
      ]
     },
     "execution_count": 63,
     "metadata": {},
     "output_type": "execute_result"
    }
   ],
   "source": [
    "li"
   ]
  },
  {
   "cell_type": "code",
   "execution_count": 62,
   "id": "28cd7ba1",
   "metadata": {},
   "outputs": [
    {
     "name": "stdout",
     "output_type": "stream",
     "text": [
      "Sahil\n",
      "6\n"
     ]
    }
   ],
   "source": [
    "# here as we see the loop started from the 2 index and ended at the 3 because in the for loop it dont consider last element\n",
    "for ele in li[2:4]:\n",
    "    print(ele)"
   ]
  },
  {
   "cell_type": "markdown",
   "id": "7ffdcebd",
   "metadata": {},
   "source": [
    "### Negative Indexing "
   ]
  },
  {
   "cell_type": "markdown",
   "id": "c18d1114",
   "metadata": {},
   "source": [
    "* Positive Indexing : Starts from the 0 index (Means form the start)\n",
    "* Negative Indexing : Starts from the -1 index (Means from the last)"
   ]
  },
  {
   "cell_type": "code",
   "execution_count": 64,
   "id": "c59c11dc",
   "metadata": {},
   "outputs": [],
   "source": [
    "li = [1,2,3,4,5,6]"
   ]
  },
  {
   "cell_type": "code",
   "execution_count": 65,
   "id": "af1c0548",
   "metadata": {},
   "outputs": [
    {
     "data": {
      "text/plain": [
       "[1, 2, 3, 4, 5, 6]"
      ]
     },
     "execution_count": 65,
     "metadata": {},
     "output_type": "execute_result"
    }
   ],
   "source": [
    "li"
   ]
  },
  {
   "cell_type": "code",
   "execution_count": 66,
   "id": "f88bab4d",
   "metadata": {},
   "outputs": [
    {
     "data": {
      "text/plain": [
       "6"
      ]
     },
     "execution_count": 66,
     "metadata": {},
     "output_type": "execute_result"
    }
   ],
   "source": [
    "# This - gives indexing from the last\n",
    "li[-1]"
   ]
  },
  {
   "cell_type": "code",
   "execution_count": 68,
   "id": "d4ab9a5a",
   "metadata": {},
   "outputs": [
    {
     "data": {
      "text/plain": [
       "5"
      ]
     },
     "execution_count": 68,
     "metadata": {},
     "output_type": "execute_result"
    }
   ],
   "source": [
    "li[-2]"
   ]
  },
  {
   "cell_type": "code",
   "execution_count": 69,
   "id": "b09cc7ef",
   "metadata": {},
   "outputs": [
    {
     "data": {
      "text/plain": [
       "3"
      ]
     },
     "execution_count": 69,
     "metadata": {},
     "output_type": "execute_result"
    }
   ],
   "source": [
    "li[-4]"
   ]
  },
  {
   "cell_type": "markdown",
   "id": "80afd739",
   "metadata": {},
   "source": [
    "### Sequencing :\n",
    "* In the sequencing it goes from start to end-1 and the step we want to give : li [start : end : step]"
   ]
  },
  {
   "cell_type": "code",
   "execution_count": 154,
   "id": "9cfff25d",
   "metadata": {},
   "outputs": [],
   "source": [
    "li = [1,2,3,4,5,6,7,8,9,10]"
   ]
  },
  {
   "cell_type": "code",
   "execution_count": 155,
   "id": "0bf1ca02",
   "metadata": {},
   "outputs": [
    {
     "data": {
      "text/plain": [
       "[1, 2, 3, 4, 5, 6, 7, 8, 9, 10]"
      ]
     },
     "execution_count": 155,
     "metadata": {},
     "output_type": "execute_result"
    }
   ],
   "source": [
    "li"
   ]
  },
  {
   "cell_type": "code",
   "execution_count": 156,
   "id": "b40b3262",
   "metadata": {},
   "outputs": [
    {
     "data": {
      "text/plain": [
       "[1, 3, 5, 7, 9]"
      ]
     },
     "execution_count": 156,
     "metadata": {},
     "output_type": "execute_result"
    }
   ],
   "source": [
    "li[0 : 10 : 2]"
   ]
  },
  {
   "cell_type": "code",
   "execution_count": 157,
   "id": "46b98119",
   "metadata": {},
   "outputs": [
    {
     "data": {
      "text/plain": [
       "[2, 4, 6, 8, 10]"
      ]
     },
     "execution_count": 157,
     "metadata": {},
     "output_type": "execute_result"
    }
   ],
   "source": [
    "li[1::2] # this is what it will go from 1 index till the end of the list by taking 2 steps"
   ]
  },
  {
   "cell_type": "code",
   "execution_count": 158,
   "id": "74b56aab",
   "metadata": {},
   "outputs": [
    {
     "data": {
      "text/plain": [
       "[1, 3, 5]"
      ]
     },
     "execution_count": 158,
     "metadata": {},
     "output_type": "execute_result"
    }
   ],
   "source": [
    "li[:6:2]"
   ]
  },
  {
   "cell_type": "code",
   "execution_count": 159,
   "id": "12059ec9",
   "metadata": {},
   "outputs": [
    {
     "data": {
      "text/plain": [
       "[4, 5, 6, 7, 8, 9]"
      ]
     },
     "execution_count": 159,
     "metadata": {},
     "output_type": "execute_result"
    }
   ],
   "source": [
    "li[-7 : -1]"
   ]
  },
  {
   "cell_type": "markdown",
   "id": "afddcfb5",
   "metadata": {},
   "source": [
    "### Taking Input in List"
   ]
  },
  {
   "cell_type": "markdown",
   "id": "ab6010e3",
   "metadata": {},
   "source": [
    "#### Line Separated Input"
   ]
  },
  {
   "cell_type": "code",
   "execution_count": 148,
   "id": "4c3684fa",
   "metadata": {},
   "outputs": [
    {
     "name": "stdout",
     "output_type": "stream",
     "text": [
      "5\n",
      "1\n",
      "2\n",
      "3\n",
      "4\n",
      "5\n"
     ]
    }
   ],
   "source": [
    "n = int(input())\n",
    "new_li = []\n",
    "for i in range(n):\n",
    "    cur = int(input())\n",
    "    new_li.append(cur)"
   ]
  },
  {
   "cell_type": "code",
   "execution_count": 96,
   "id": "10ca5523",
   "metadata": {},
   "outputs": [
    {
     "data": {
      "text/plain": [
       "[1, 2, 3, 4, 5]"
      ]
     },
     "execution_count": 96,
     "metadata": {},
     "output_type": "execute_result"
    }
   ],
   "source": [
    "new_li"
   ]
  },
  {
   "cell_type": "code",
   "execution_count": 163,
   "id": "ebf4c13a",
   "metadata": {},
   "outputs": [
    {
     "name": "stdout",
     "output_type": "stream",
     "text": [
      "5\n",
      "1\n",
      "2\n",
      "3\n",
      "4\n",
      "5\n",
      "[1, 2, 3, 4, 5]\n"
     ]
    }
   ],
   "source": [
    "n = int(input())\n",
    "li = []\n",
    "for i in range(n):\n",
    "    li.append(int(input()))\n",
    "print(li)"
   ]
  },
  {
   "cell_type": "code",
   "execution_count": 99,
   "id": "840b5289",
   "metadata": {},
   "outputs": [
    {
     "name": "stdout",
     "output_type": "stream",
     "text": [
      "1 2 3 4 5\n"
     ]
    }
   ],
   "source": [
    "str = input()"
   ]
  },
  {
   "cell_type": "code",
   "execution_count": 100,
   "id": "555bdcb6",
   "metadata": {},
   "outputs": [
    {
     "data": {
      "text/plain": [
       "'1 2 3 4 5'"
      ]
     },
     "execution_count": 100,
     "metadata": {},
     "output_type": "execute_result"
    }
   ],
   "source": [
    "str"
   ]
  },
  {
   "cell_type": "code",
   "execution_count": 101,
   "id": "5fe25204",
   "metadata": {},
   "outputs": [],
   "source": [
    "str_split = str.split(\" \") # split uses delimeter that how we want to split the values"
   ]
  },
  {
   "cell_type": "code",
   "execution_count": 102,
   "id": "7c2cccab",
   "metadata": {},
   "outputs": [
    {
     "data": {
      "text/plain": [
       "['1', '2', '3', '4', '5']"
      ]
     },
     "execution_count": 102,
     "metadata": {},
     "output_type": "execute_result"
    }
   ],
   "source": [
    "str_split"
   ]
  },
  {
   "cell_type": "code",
   "execution_count": 103,
   "id": "a510c451",
   "metadata": {},
   "outputs": [
    {
     "name": "stdout",
     "output_type": "stream",
     "text": [
      "1,2,3,4,5\n"
     ]
    }
   ],
   "source": [
    "n = input()"
   ]
  },
  {
   "cell_type": "code",
   "execution_count": 104,
   "id": "562f08a5",
   "metadata": {},
   "outputs": [
    {
     "data": {
      "text/plain": [
       "'1,2,3,4,5'"
      ]
     },
     "execution_count": 104,
     "metadata": {},
     "output_type": "execute_result"
    }
   ],
   "source": [
    "n"
   ]
  },
  {
   "cell_type": "code",
   "execution_count": 105,
   "id": "f0cced1a",
   "metadata": {},
   "outputs": [],
   "source": [
    "new_split = n.split(\",\")"
   ]
  },
  {
   "cell_type": "code",
   "execution_count": 106,
   "id": "5bbc5797",
   "metadata": {},
   "outputs": [
    {
     "data": {
      "text/plain": [
       "['1', '2', '3', '4', '5']"
      ]
     },
     "execution_count": 106,
     "metadata": {},
     "output_type": "execute_result"
    }
   ],
   "source": [
    "new_split"
   ]
  },
  {
   "cell_type": "code",
   "execution_count": 107,
   "id": "ce6baca9",
   "metadata": {},
   "outputs": [
    {
     "name": "stdout",
     "output_type": "stream",
     "text": [
      "1 2 3 4 5 6 7\n"
     ]
    }
   ],
   "source": [
    "k = input()"
   ]
  },
  {
   "cell_type": "code",
   "execution_count": 108,
   "id": "9d3ee1d8",
   "metadata": {},
   "outputs": [
    {
     "data": {
      "text/plain": [
       "'1 2 3 4 5 6 7'"
      ]
     },
     "execution_count": 108,
     "metadata": {},
     "output_type": "execute_result"
    }
   ],
   "source": [
    "k"
   ]
  },
  {
   "cell_type": "code",
   "execution_count": 109,
   "id": "4cb28924",
   "metadata": {},
   "outputs": [],
   "source": [
    "k_split = k.split() # by default the the split functionality has \" \" delimeter"
   ]
  },
  {
   "cell_type": "code",
   "execution_count": 110,
   "id": "cf3853cc",
   "metadata": {},
   "outputs": [
    {
     "data": {
      "text/plain": [
       "['1', '2', '3', '4', '5', '6', '7']"
      ]
     },
     "execution_count": 110,
     "metadata": {},
     "output_type": "execute_result"
    }
   ],
   "source": [
    "k_split"
   ]
  },
  {
   "cell_type": "code",
   "execution_count": 111,
   "id": "fa91002c",
   "metadata": {},
   "outputs": [],
   "source": [
    "k_list = []\n",
    "for ele in k_split:\n",
    "    k_list.append(int(ele))"
   ]
  },
  {
   "cell_type": "code",
   "execution_count": 112,
   "id": "61f4f32c",
   "metadata": {},
   "outputs": [
    {
     "data": {
      "text/plain": [
       "[1, 2, 3, 4, 5, 6, 7]"
      ]
     },
     "execution_count": 112,
     "metadata": {},
     "output_type": "execute_result"
    }
   ],
   "source": [
    "k_list"
   ]
  },
  {
   "cell_type": "code",
   "execution_count": 236,
   "id": "8386e413",
   "metadata": {},
   "outputs": [
    {
     "name": "stdout",
     "output_type": "stream",
     "text": [
      "1 2 3 4 5 6\n"
     ]
    }
   ],
   "source": [
    "one_line_split = [ int(x) for x in input().split()]"
   ]
  },
  {
   "cell_type": "code",
   "execution_count": 237,
   "id": "5a71a891",
   "metadata": {},
   "outputs": [
    {
     "data": {
      "text/plain": [
       "[1, 2, 3, 4, 5, 6]"
      ]
     },
     "execution_count": 237,
     "metadata": {},
     "output_type": "execute_result"
    }
   ],
   "source": [
    "one_line_split"
   ]
  },
  {
   "cell_type": "code",
   "execution_count": 238,
   "id": "40c2236c",
   "metadata": {},
   "outputs": [
    {
     "name": "stdout",
     "output_type": "stream",
     "text": [
      "1\n",
      "2\n",
      "3\n",
      "4\n",
      "5\n",
      "6\n"
     ]
    }
   ],
   "source": [
    "for ele in one_line_split:\n",
    "    print(ele)"
   ]
  },
  {
   "cell_type": "code",
   "execution_count": 166,
   "id": "5709522c",
   "metadata": {},
   "outputs": [
    {
     "name": "stdout",
     "output_type": "stream",
     "text": [
      "5\n",
      "1 4 5 7 \n",
      "17\n"
     ]
    }
   ],
   "source": [
    "num = input()\n",
    "list_num = [int(x) for x in input().split()]\n",
    "sum = 0\n",
    "#avg = 0\n",
    "for ele in list_num:\n",
    "    sum = sum + ele\n",
    "    #avg = sum/len(list_num)\n",
    "print(sum)\n",
    "#print(avg)"
   ]
  },
  {
   "cell_type": "code",
   "execution_count": 276,
   "id": "3f027625",
   "metadata": {},
   "outputs": [
    {
     "name": "stdout",
     "output_type": "stream",
     "text": [
      "1 2 3 4 5 \n",
      "['1', '2', '3', '4', '5']\n"
     ]
    }
   ],
   "source": [
    "li = [x for x in input().split()]\n",
    "print(li)"
   ]
  },
  {
   "cell_type": "markdown",
   "id": "b2b121b0",
   "metadata": {},
   "source": [
    "### Linear Search"
   ]
  },
  {
   "cell_type": "code",
   "execution_count": 167,
   "id": "131050c3",
   "metadata": {},
   "outputs": [
    {
     "name": "stdout",
     "output_type": "stream",
     "text": [
      "6\n",
      "1 2 3 6 7 8\n"
     ]
    }
   ],
   "source": [
    "n = int(input())\n",
    "li = [int(x) for x in input().split()]"
   ]
  },
  {
   "cell_type": "code",
   "execution_count": 168,
   "id": "0859a88b",
   "metadata": {},
   "outputs": [
    {
     "data": {
      "text/plain": [
       "[1, 2, 3, 6, 7, 8]"
      ]
     },
     "execution_count": 168,
     "metadata": {},
     "output_type": "execute_result"
    }
   ],
   "source": [
    "li"
   ]
  },
  {
   "cell_type": "code",
   "execution_count": 173,
   "id": "05103bc5",
   "metadata": {},
   "outputs": [
    {
     "name": "stdout",
     "output_type": "stream",
     "text": [
      "8\n"
     ]
    }
   ],
   "source": [
    "ele = int(input())"
   ]
  },
  {
   "cell_type": "code",
   "execution_count": 209,
   "id": "a228b0f8",
   "metadata": {},
   "outputs": [
    {
     "name": "stdout",
     "output_type": "stream",
     "text": [
      "4\n"
     ]
    }
   ],
   "source": [
    "isFound = False\n",
    "for i in range(len(li)):\n",
    "    if ele == li[i]:\n",
    "        print(i)\n",
    "        isFound = True\n",
    "        break\n",
    "if isFound is False:\n",
    "    print(-1)"
   ]
  },
  {
   "cell_type": "code",
   "execution_count": 175,
   "id": "8ae4b700",
   "metadata": {},
   "outputs": [
    {
     "name": "stdout",
     "output_type": "stream",
     "text": [
      "100\n"
     ]
    }
   ],
   "source": [
    "ele = int(input())"
   ]
  },
  {
   "cell_type": "code",
   "execution_count": 176,
   "id": "c2c68bea",
   "metadata": {},
   "outputs": [
    {
     "name": "stdout",
     "output_type": "stream",
     "text": [
      "-1\n"
     ]
    }
   ],
   "source": [
    "isFound = False\n",
    "for i in range(len(li)):\n",
    "    if ele == li[i]:\n",
    "        print(i)\n",
    "        isFound = True\n",
    "        break\n",
    "if isFound is False:\n",
    "    print(-1)"
   ]
  },
  {
   "cell_type": "markdown",
   "id": "6e4e03f2",
   "metadata": {},
   "source": [
    "#### Linear Search Through Function"
   ]
  },
  {
   "cell_type": "code",
   "execution_count": 184,
   "id": "f890b12b",
   "metadata": {},
   "outputs": [
    {
     "name": "stdout",
     "output_type": "stream",
     "text": [
      "Enter the elements in the List : 1 2 3 4 5 6 7 8 9\n",
      "Enter a element number which index you want(if present returns index else returns -1 : ) 5\n",
      "The index of  5  is : 4\n"
     ]
    }
   ],
   "source": [
    "def linear_search(li,ele):\n",
    "    for i in range(len(li)):\n",
    "        if ele == li[i]:\n",
    "            return i\n",
    "    return -1\n",
    "\n",
    "li = [int(x) for x in input(\"Enter the elements in the List : \").split()]\n",
    "ele = int(input(\"Enter a element number which index you want(if present returns index else returns -1 : ) \"))\n",
    "index = linear_search(li,ele)\n",
    "print(\"The index of \",ele,\" is :\",index)"
   ]
  },
  {
   "cell_type": "markdown",
   "id": "c5e426b7",
   "metadata": {},
   "source": [
    "#### Mutable and Immutable\n",
    "* Lists are mutable"
   ]
  },
  {
   "cell_type": "code",
   "execution_count": 205,
   "id": "d7d0a339",
   "metadata": {},
   "outputs": [
    {
     "name": "stdout",
     "output_type": "stream",
     "text": [
      "2033587257648\n",
      "2033587257648\n"
     ]
    }
   ],
   "source": [
    "x = 3\n",
    "a = 3\n",
    "# This is immutable as the both the have same values the id is same for both\n",
    "print(id(x))\n",
    "print(id(a))"
   ]
  },
  {
   "cell_type": "code",
   "execution_count": 186,
   "id": "8b40bf39",
   "metadata": {},
   "outputs": [
    {
     "name": "stdout",
     "output_type": "stream",
     "text": [
      "2033587257648\n",
      "2033587257680\n"
     ]
    }
   ],
   "source": [
    "# But if we change the value of a then the referrence id of a will be changed\n",
    "x = 3\n",
    "a = 4\n",
    "print(id(x))\n",
    "print(id(a))\n",
    "# as we see here the referrence id of the a has changed this is immutable"
   ]
  },
  {
   "cell_type": "code",
   "execution_count": 191,
   "id": "4def788e",
   "metadata": {},
   "outputs": [
    {
     "name": "stdout",
     "output_type": "stream",
     "text": [
      "2031543515008\n",
      "2031543523840\n"
     ]
    }
   ],
   "source": [
    "li = [1,2,3,4,5]\n",
    "li2 = [9,8,7,6,5]\n",
    "print(id(li))\n",
    "print(id(li2))"
   ]
  },
  {
   "cell_type": "code",
   "execution_count": 192,
   "id": "03519db6",
   "metadata": {},
   "outputs": [
    {
     "name": "stdout",
     "output_type": "stream",
     "text": [
      "2031543507328\n",
      "2031543507328\n"
     ]
    }
   ],
   "source": [
    "li = [1,2,3,4,5]\n",
    "li2 = li\n",
    "print(id(li))\n",
    "print(id(li2))"
   ]
  },
  {
   "cell_type": "code",
   "execution_count": 193,
   "id": "0ed08ce7",
   "metadata": {},
   "outputs": [],
   "source": [
    "li2[2] = 10"
   ]
  },
  {
   "cell_type": "code",
   "execution_count": 194,
   "id": "fe86e261",
   "metadata": {},
   "outputs": [
    {
     "name": "stdout",
     "output_type": "stream",
     "text": [
      "[1, 2, 10, 4, 5]\n",
      "[1, 2, 10, 4, 5]\n"
     ]
    }
   ],
   "source": [
    "# as list is mutable if we change the values in the li2 then it will reflect in the li as well\n",
    "print(li)\n",
    "print(li2)"
   ]
  },
  {
   "cell_type": "code",
   "execution_count": 296,
   "id": "404a5568",
   "metadata": {},
   "outputs": [
    {
     "name": "stdout",
     "output_type": "stream",
     "text": [
      "4\n"
     ]
    }
   ],
   "source": [
    "def increment(a):\n",
    "    a = a + 2\n",
    "    return a \n",
    "a = 2\n",
    "a = increment(a)\n",
    "print(a)"
   ]
  },
  {
   "cell_type": "markdown",
   "id": "cb581d82",
   "metadata": {},
   "source": [
    "#### Passing List through Functions"
   ]
  },
  {
   "cell_type": "code",
   "execution_count": 213,
   "id": "111b4f94",
   "metadata": {},
   "outputs": [
    {
     "name": "stdout",
     "output_type": "stream",
     "text": [
      "[3, 2, 3, 4]\n"
     ]
    }
   ],
   "source": [
    "# as here we can see that the list is the mutable.\n",
    "def increment(li):\n",
    "    li[0] = li[0] + 2\n",
    "    return\n",
    "lis = [1,2,3,4]\n",
    "increment(lis)\n",
    "print(lis)"
   ]
  },
  {
   "cell_type": "code",
   "execution_count": 216,
   "id": "bedcdecf",
   "metadata": {},
   "outputs": [
    {
     "name": "stdout",
     "output_type": "stream",
     "text": [
      "[1, 2, 3, 4]\n"
     ]
    }
   ],
   "source": [
    "def increment(li):\n",
    "    li = [3,4,4]\n",
    "    return\n",
    "lis = [1,2,3,4]\n",
    "increment(lis)\n",
    "print(lis)"
   ]
  },
  {
   "cell_type": "code",
   "execution_count": 218,
   "id": "267fd8f2",
   "metadata": {},
   "outputs": [
    {
     "name": "stdout",
     "output_type": "stream",
     "text": [
      "[3, 4, 4]\n"
     ]
    }
   ],
   "source": [
    "def increment(li):\n",
    "    li = [3,4,4]\n",
    "    return li\n",
    "lis = [1,2,3,4]\n",
    "lis = increment(lis)\n",
    "print(lis)"
   ]
  },
  {
   "cell_type": "markdown",
   "id": "566911f0",
   "metadata": {},
   "source": [
    "#### Reverse List"
   ]
  },
  {
   "cell_type": "code",
   "execution_count": 292,
   "id": "5c0bf4de",
   "metadata": {},
   "outputs": [
    {
     "name": "stdout",
     "output_type": "stream",
     "text": [
      "[1, 2, 3, 4, 5, 6]\n",
      "Reversed :  [6, 5, 4, 3, 2, 1]\n"
     ]
    }
   ],
   "source": [
    "def reverse_l(li):\n",
    "    length = len(li)\n",
    "    for i in range(length//2):\n",
    "        li[i],li[length-i-1] = li[length-i-1],li[i]\n",
    "li = [1,2,3,4,5,6]\n",
    "print(li)\n",
    "reverse_l(li)\n",
    "print(\"Reversed : \",li)"
   ]
  },
  {
   "cell_type": "code",
   "execution_count": 10,
   "id": "9a62a447",
   "metadata": {},
   "outputs": [
    {
     "name": "stdout",
     "output_type": "stream",
     "text": [
      "[1, 2, 3, 4, 5, 6]\n",
      "Reversed :  [6, 5, 4, 3, 2, 1]\n"
     ]
    }
   ],
   "source": [
    "def reverse_l(li):\n",
    "    length = len(li)\n",
    "    for i in range(length//2):\n",
    "        li[i],li[-i-1] = li[-i-1],li[i]\n",
    "    return li\n",
    "lis = [1,2,3,4,5,6]\n",
    "print(lis)\n",
    "reverse_l(lis)\n",
    "print(\"Reversed : \",lis)"
   ]
  },
  {
   "cell_type": "code",
   "execution_count": 287,
   "id": "c1d1de78",
   "metadata": {},
   "outputs": [
    {
     "data": {
      "text/plain": [
       "[6, 5, 4, 3, 2, 1]"
      ]
     },
     "execution_count": 287,
     "metadata": {},
     "output_type": "execute_result"
    }
   ],
   "source": [
    "li"
   ]
  },
  {
   "cell_type": "code",
   "execution_count": 288,
   "id": "8261c6f1",
   "metadata": {},
   "outputs": [
    {
     "data": {
      "text/plain": [
       "[3, 4]"
      ]
     },
     "execution_count": 288,
     "metadata": {},
     "output_type": "execute_result"
    }
   ],
   "source": [
    "li[3:1:-1]"
   ]
  },
  {
   "cell_type": "code",
   "execution_count": 289,
   "id": "6c926be0",
   "metadata": {},
   "outputs": [
    {
     "data": {
      "text/plain": [
       "[1, 2, 3, 4]"
      ]
     },
     "execution_count": 289,
     "metadata": {},
     "output_type": "execute_result"
    }
   ],
   "source": [
    "li[:1:-1]"
   ]
  },
  {
   "cell_type": "code",
   "execution_count": 290,
   "id": "9f4c4144",
   "metadata": {},
   "outputs": [
    {
     "data": {
      "text/plain": [
       "[3, 4, 5, 6]"
      ]
     },
     "execution_count": 290,
     "metadata": {},
     "output_type": "execute_result"
    }
   ],
   "source": [
    "li[3::-1]"
   ]
  },
  {
   "cell_type": "code",
   "execution_count": 291,
   "id": "b0bd2ee9",
   "metadata": {},
   "outputs": [
    {
     "data": {
      "text/plain": [
       "[1, 2, 3, 4, 5, 6]"
      ]
     },
     "execution_count": 291,
     "metadata": {},
     "output_type": "execute_result"
    }
   ],
   "source": [
    "li[::-1]"
   ]
  },
  {
   "cell_type": "code",
   "execution_count": 12,
   "id": "4da112ee",
   "metadata": {},
   "outputs": [
    {
     "name": "stdout",
     "output_type": "stream",
     "text": [
      "5\n",
      "1 2 3 4 5\n"
     ]
    },
    {
     "data": {
      "text/plain": [
       "[2, 1, 4, 3, 5]"
      ]
     },
     "execution_count": 12,
     "metadata": {},
     "output_type": "execute_result"
    }
   ],
   "source": [
    "def alt(li):\n",
    "    l = len(li)\n",
    "    if l%2 == 0:\n",
    "        for i in range(0,l,2):\n",
    "            li[i],li[i+1] = li[i+1],li[i]\n",
    "    else:\n",
    "        for i in range(0,l-1,2):\n",
    "            li[i],li[i+1] = li[i+1],li[i]\n",
    "    return li\n",
    "    #for i in li:\n",
    "        #print(i,end =' ')\n",
    "n = int(input())\n",
    "li = [int(x) for x in input().split()[:n]]\n",
    "alt(li)\n"
   ]
  },
  {
   "cell_type": "code",
   "execution_count": 4,
   "id": "3ae6255f",
   "metadata": {},
   "outputs": [
    {
     "name": "stdout",
     "output_type": "stream",
     "text": [
      "1\n",
      "5\n",
      "1 1 2 2 3 3\n",
      "3\n"
     ]
    }
   ],
   "source": [
    "def findUnique(n, arr):\n",
    "    for i in range(n):\n",
    "        count = 0\n",
    "        for j in range(n):\n",
    "            if arr[i]==arr[j]:\n",
    "                count = count + 1\n",
    "        \n",
    "        if count == 1:\n",
    "            return arr[i]\n",
    "\n",
    "t = int(input())\n",
    "for _ in range(t):\n",
    "    n = int(input())\n",
    "    arr = [int(x) for x in input().split()]\n",
    "    print(findUnique(n,arr))\n"
   ]
  },
  {
   "cell_type": "code",
   "execution_count": 8,
   "id": "d669786c",
   "metadata": {},
   "outputs": [
    {
     "name": "stdout",
     "output_type": "stream",
     "text": [
      "1\n",
      "6\n",
      "1 1 2 2 3 4\n",
      "1\n"
     ]
    }
   ],
   "source": [
    "def findDuplicate(n, arr):\n",
    "    for i in range(n):\n",
    "        count = 0\n",
    "        for j in range(n):\n",
    "            if arr[i]==arr[j]:\n",
    "                count = count + 1\n",
    "        \n",
    "        if count != 1:\n",
    "            return arr[i]\n",
    "\n",
    "t = int(input())\n",
    "for _ in range(t):\n",
    "    n = int(input())\n",
    "    arr = [int(x) for x in input().split()]\n",
    "    print(findDuplicate(n,arr))"
   ]
  },
  {
   "cell_type": "code",
   "execution_count": 9,
   "id": "383e90e2",
   "metadata": {},
   "outputs": [
    {
     "name": "stdout",
     "output_type": "stream",
     "text": [
      "1\n",
      "5\n",
      "1 2 3 4 5\n",
      "6\n",
      "9 8 7 6 5 4 \n",
      "4 5 "
     ]
    }
   ],
   "source": [
    "import sys\n",
    "def intersections( n, arr1, m, arr2) :\n",
    "    for i in range(n):        \n",
    "        for j in range(m):\n",
    "            if arr1[i] == arr2[j]:\n",
    "                print(arr1[i],end =\" \")\n",
    "                arr2[j] = sys.maxsize #  this means that this will take the length that matches to the arr1\n",
    "                break\n",
    "\n",
    "def takeInput():\n",
    "    n = int(input())\n",
    "    arr1 = [int(x) for x in input().split()]\n",
    "    return n, arr1\n",
    " \n",
    "t = int(input())\n",
    "for _ in range(t):\n",
    "    n, arr1 = takeInput()\n",
    "    m, arr2 = takeInput()\n",
    "    #m = int(input())\n",
    "    #arr2 = [int(y) for y in input().split()]\n",
    "    (intersections( n, arr1, m, arr2))"
   ]
  },
  {
   "cell_type": "markdown",
   "id": "142e9114",
   "metadata": {},
   "source": [
    "### Linear Search"
   ]
  },
  {
   "cell_type": "code",
   "execution_count": 43,
   "id": "9cf8af52",
   "metadata": {},
   "outputs": [
    {
     "name": "stdout",
     "output_type": "stream",
     "text": [
      "12 253 534 342 3412 346 21\n",
      "342\n",
      "The index of the 342  is :  3\n"
     ]
    }
   ],
   "source": [
    "def search(list, target):\n",
    "    l = len(list)\n",
    "    for i in range(0,l):\n",
    "        if list[i] == target:\n",
    "            return i\n",
    "    return -1\n",
    "\n",
    "list = [int(x) for x in input().split()]\n",
    "target = int(input())\n",
    "print(\"The index of the\", target ,\" is : \",search(list, target))"
   ]
  },
  {
   "cell_type": "markdown",
   "id": "66495eb2",
   "metadata": {},
   "source": [
    "### Binary Search"
   ]
  },
  {
   "cell_type": "code",
   "execution_count": 45,
   "id": "384761db",
   "metadata": {},
   "outputs": [
    {
     "name": "stdout",
     "output_type": "stream",
     "text": [
      "23 34 35 36 46 56\n",
      "34\n",
      "Lower Bound :  0\n",
      "Upper Bound :  5\n",
      "Middle  :  2\n",
      "Lower Bound :  0\n",
      "Upper Bound :  1\n",
      "Middle  :  0\n",
      "Lower Bound :  1\n",
      "Upper Bound :  1\n",
      "Middle  :  1\n",
      "The index of the 34  is :  1\n"
     ]
    }
   ],
   "source": [
    "def search(list, target, debug = False):\n",
    "    lower = 0\n",
    "    upper = len(list)-1\n",
    "    while lower <= upper:\n",
    "        mid = (lower + upper) // 2\n",
    "        if debug:\n",
    "            print(\"Lower Bound : \", lower)\n",
    "            print(\"Upper Bound : \", upper)\n",
    "            print(\"Middle  : \", mid)\n",
    "        \n",
    "        if list[mid] == target:\n",
    "            return mid\n",
    "        elif list[mid] < target:\n",
    "            lower = mid + 1\n",
    "        else:\n",
    "            upper = mid - 1\n",
    "    return - 1\n",
    "        \n",
    "\n",
    "list = [int(x) for x in input().split()]\n",
    "target = int(input())\n",
    "print(\"The index of the\", target ,\" is : \",search(list, target, debug = True))"
   ]
  },
  {
   "cell_type": "markdown",
   "id": "ae5f4635",
   "metadata": {},
   "source": [
    "### Selection Sort"
   ]
  },
  {
   "cell_type": "code",
   "execution_count": 36,
   "id": "27c4ea26",
   "metadata": {},
   "outputs": [
    {
     "data": {
      "text/plain": [
       "[3, 5, 13, 23, 29, 45]"
      ]
     },
     "execution_count": 36,
     "metadata": {},
     "output_type": "execute_result"
    }
   ],
   "source": [
    "def selection_sort(A):\n",
    "    for i in range(len(A)):\n",
    "        min_index = i\n",
    "        for j in range(i+1, len(A)):\n",
    "            if A[j] < A[min_index]:\n",
    "                min_index = j\n",
    "        A[i], A[min_index] = A[min_index], A[i]\n",
    "    return A\n",
    "\n",
    "A = [13,23,3,5,29,45]\n",
    "#A = [234,456,8756,123,1,2,3,4,6]\n",
    "selection_sort(A)"
   ]
  },
  {
   "cell_type": "code",
   "execution_count": 54,
   "id": "6cc37687",
   "metadata": {},
   "outputs": [
    {
     "data": {
      "text/plain": [
       "[1, 2, 3, 4, 6, 123, 234, 234, 456, 8756]"
      ]
     },
     "execution_count": 54,
     "metadata": {},
     "output_type": "execute_result"
    }
   ],
   "source": [
    "def selection_sort(A):\n",
    "    for i in range(len(A)):\n",
    "     \n",
    "    # Find the minimum element in remaining\n",
    "    # unsorted array\n",
    "        min_idx = i\n",
    "        for j in range(i+1, len(A)):\n",
    "            if A[min_idx] > A[j]:\n",
    "                min_idx = j\n",
    "\n",
    "        # Swap the found minimum element with\n",
    "        # the first element       \n",
    "        A[i], A[min_idx] = A[min_idx], A[i]\n",
    "    return A\n",
    "\n",
    "A = [234,456,8756,234,123,1,2,3,4,6]\n",
    "selection_sort(A)"
   ]
  },
  {
   "cell_type": "code",
   "execution_count": 49,
   "id": "99b0dab2",
   "metadata": {},
   "outputs": [
    {
     "name": "stdout",
     "output_type": "stream",
     "text": [
      "[1, 2, 3, 4, 6, 123, 234, 234, 456, 8756]\n"
     ]
    }
   ],
   "source": [
    "def select(A):\n",
    "    for i in range(len(A)):\n",
    "        for j in range(i+1, len(A)):\n",
    "            if A[i] > A[j]:\n",
    "                A[i], A[j] = A[j], A[i]\n",
    "    return A\n",
    "A = [234,456,8756,234,123,1,2,3,4,6]\n",
    "print(select(A))"
   ]
  },
  {
   "cell_type": "markdown",
   "id": "66d2a854",
   "metadata": {},
   "source": [
    "### Bubble sort"
   ]
  },
  {
   "cell_type": "code",
   "execution_count": 54,
   "id": "2e0b566e",
   "metadata": {},
   "outputs": [
    {
     "name": "stdout",
     "output_type": "stream",
     "text": [
      "0\n",
      "The pairs are : 8756  and  234\n",
      "The pairs are : 8756  and  123\n",
      "The pairs are : 8756  and  1\n",
      "The pairs are : 8756  and  2\n",
      "The pairs are : 8756  and  3\n",
      "The pairs are : 8756  and  4\n",
      "The pairs are : 8756  and  6\n",
      "1\n",
      "The pairs are : 456  and  234\n",
      "The pairs are : 456  and  123\n",
      "The pairs are : 456  and  1\n",
      "The pairs are : 456  and  2\n",
      "The pairs are : 456  and  3\n",
      "The pairs are : 456  and  4\n",
      "The pairs are : 456  and  6\n",
      "2\n",
      "The pairs are : 234  and  123\n",
      "The pairs are : 234  and  1\n",
      "The pairs are : 234  and  2\n",
      "The pairs are : 234  and  3\n",
      "The pairs are : 234  and  4\n",
      "The pairs are : 234  and  6\n",
      "3\n",
      "The pairs are : 234  and  123\n",
      "The pairs are : 234  and  1\n",
      "The pairs are : 234  and  2\n",
      "The pairs are : 234  and  3\n",
      "The pairs are : 234  and  4\n",
      "The pairs are : 234  and  6\n",
      "4\n",
      "The pairs are : 123  and  1\n",
      "The pairs are : 123  and  2\n",
      "The pairs are : 123  and  3\n",
      "The pairs are : 123  and  4\n",
      "The pairs are : 123  and  6\n",
      "5\n",
      "6\n",
      "7\n",
      "8\n",
      "9\n",
      "[1, 2, 3, 4, 6, 123, 234, 234, 456, 8756]\n"
     ]
    }
   ],
   "source": [
    "def bub_sort(A):\n",
    "    for i in range(0,len(A)):\n",
    "        print(i)\n",
    "        for j in range(0, len(A)-1):\n",
    "            if A[j] > A[j+1]:\n",
    "                print(\"The pairs are :\", A[j],\" and \", A[j+1])\n",
    "                A[j], A[j+1] = A[j+1], A[j]\n",
    "    return A\n",
    "A = [234,456,8756,234,123,1,2,3,4,6]\n",
    "print(bub_sort(A))"
   ]
  },
  {
   "cell_type": "code",
   "execution_count": 53,
   "id": "1360c995",
   "metadata": {},
   "outputs": [
    {
     "data": {
      "text/plain": [
       "[1, 2, 3, 4, 6, 123, 234, 234, 456, 8756]"
      ]
     },
     "execution_count": 53,
     "metadata": {},
     "output_type": "execute_result"
    }
   ],
   "source": [
    "# optimized bubble sort\n",
    "def bub_sort(A):\n",
    "    for i in range(0,len(A)-1):\n",
    "        #print(i)\n",
    "        for j in range(0, len(A)-1-i):\n",
    "            if A[j] > A[j+1]:\n",
    "                #print(\"The pairs are :\", A[j],\" and \", A[j+1])\n",
    "                A[j], A[j+1] = A[j+1], A[j]\n",
    "    return A\n",
    "    \n",
    "A = [234,456,8756,234,123,1,2,3,4,6]\n",
    "bub_sort(A)"
   ]
  },
  {
   "cell_type": "markdown",
   "id": "0a0c10a8",
   "metadata": {},
   "source": [
    "### Insertion Sort"
   ]
  },
  {
   "cell_type": "code",
   "execution_count": 229,
   "id": "a8f11e4c",
   "metadata": {},
   "outputs": [
    {
     "data": {
      "text/plain": [
       "[1, 2, 3, 4, 6, 123, 234, 234, 456, 8756]"
      ]
     },
     "execution_count": 229,
     "metadata": {},
     "output_type": "execute_result"
    }
   ],
   "source": [
    "def insertion_sort(A):\n",
    "    length = len(A)\n",
    "    for i in range(0,length):\n",
    "        j = i - 1\n",
    "        temp = arr[i]\n",
    "        while j>=0 and arr[j] > temp:\n",
    "            arr[j + 1] = arr[j]\n",
    "            j = j - 1\n",
    "        arr[j + 1] = temp\n",
    "\n",
    "A = [234,456,8756,234,123,1,2,3,4,6]\n",
    "select(A)"
   ]
  },
  {
   "cell_type": "code",
   "execution_count": 234,
   "id": "ac40f772",
   "metadata": {},
   "outputs": [
    {
     "name": "stdout",
     "output_type": "stream",
     "text": [
      "5\n",
      "8 2 6 3 4\n",
      "2 3 4 6 8 "
     ]
    }
   ],
   "source": [
    "def insertionSort(n, arr) :\n",
    "    for i in range(0,n):\n",
    "        j = i - 1\n",
    "        temp = arr[i]\n",
    "        while (j>=0 and arr[j] > temp):\n",
    "            arr[j + 1] = arr[j]\n",
    "            j = j - 1\n",
    "        arr[j + 1] = temp\n",
    "    #return arr\n",
    "\n",
    "def printList(n ,arr):\n",
    "    for i in range(n):\n",
    "        print(arr[i], end=\" \")\n",
    "\n",
    "n = int(input())\n",
    "arr = [int(x) for x in input().split()]\n",
    "insertionSort(n, arr)\n",
    "printList(n ,arr)"
   ]
  },
  {
   "cell_type": "code",
   "execution_count": 76,
   "id": "78537abf",
   "metadata": {},
   "outputs": [
    {
     "name": "stdout",
     "output_type": "stream",
     "text": [
      "2\n",
      "12 23 34 45\n",
      "45 34 23 12 \n",
      "09 08 07 06\n",
      "6 7 8 9 \n"
     ]
    }
   ],
   "source": [
    "from os import *\n",
    "from sys import *\n",
    "from collections import *\n",
    "from math import *\n",
    "\n",
    "def copyAndReverse(arr):\n",
    "    length = len(arr)\n",
    "    for i in range(length//2):\n",
    "        arr[i], arr[length-i-1] = arr[length-i-1], arr[i]\n",
    "    return arr\n",
    "\n",
    "def takeInput():\n",
    "    # n = int(sys.stdin.readline().strip())\n",
    "    # if n == 0:\n",
    "    #     return list(),0\n",
    "    arr = [int(x) for x in input().split(\" \")]\n",
    "    #arr = list(map(int, sys.stdin.readline().strip().split(\" \")))\n",
    "    return arr\n",
    "def printArray():\n",
    "    for i in range(len(arr)):\n",
    "        print(arr[i], end=\" \")\n",
    "    print()\n",
    "        \n",
    "        \n",
    "#t = int(sys.stdin.readline().strip())\n",
    "t = int(input())\n",
    "for _ in range(t):\n",
    "    #n = takeInput()\n",
    "    arr = takeInput()\n",
    "    copyAndReverse(arr)\n",
    "    printArray()"
   ]
  },
  {
   "cell_type": "code",
   "execution_count": 108,
   "id": "e1457b6f",
   "metadata": {},
   "outputs": [
    {
     "name": "stdout",
     "output_type": "stream",
     "text": [
      "0\n",
      "1\n",
      "10\n",
      "11\n",
      "100\n"
     ]
    }
   ],
   "source": [
    "n = 5\n",
    "for i in range(n):\n",
    "        binary = f'{i:b}'\n",
    "        print(binary)"
   ]
  },
  {
   "cell_type": "markdown",
   "id": "69b6e0b7",
   "metadata": {},
   "source": [
    "### Merge Two Sorted Arrays"
   ]
  },
  {
   "cell_type": "code",
   "execution_count": 158,
   "id": "5ec31f90",
   "metadata": {},
   "outputs": [
    {
     "name": "stdout",
     "output_type": "stream",
     "text": [
      "4\n",
      "1 3 5 7\n",
      "5\n",
      "2 4 6 8 10\n",
      "[1, 2, 3, 4, 5, 6, 7, 8, 10]"
     ]
    }
   ],
   "source": [
    "def merge(arr1, n, arr2, m) : \n",
    "    arr = []\n",
    "\n",
    "    i = 0\n",
    "    j = 0\n",
    " # here i for the arr1 and j is for the arr2\n",
    "\n",
    "    while ((i < n) and (j < m)):\n",
    "        if (arr1[i] < arr2[j]):\n",
    "            arr.append(arr1[i])\n",
    "            i = i + 1\n",
    "        else:\n",
    "            arr.append(arr2[j])\n",
    "            j = j + 1\n",
    "\n",
    "    while (i < n):\n",
    "        arr.append(arr1[i])\n",
    "        i = i + 1\n",
    "\n",
    "    while (j < m):\n",
    "        arr.append(arr2[j])\n",
    "        j = j + 1\n",
    "\n",
    "    print(arr, end=\"\")\n",
    "\n",
    "n = int(input())\n",
    "arr1 = [int(x) for x in input().split(\" \")]\n",
    "m = int(input())\n",
    "arr2 = [int(x) for x in input().split(\" \")]\n",
    "merge(arr1, n, arr2, m)\n"
   ]
  },
  {
   "cell_type": "code",
   "execution_count": 127,
   "id": "bcb9cd4d",
   "metadata": {},
   "outputs": [
    {
     "name": "stdout",
     "output_type": "stream",
     "text": [
      "9\n",
      "345 678 23 687 12 8 2 534 5\n"
     ]
    },
    {
     "data": {
      "text/plain": [
       "[2, 5, 8, 12, 23, 345, 534, 678, 687]"
      ]
     },
     "execution_count": 127,
     "metadata": {},
     "output_type": "execute_result"
    }
   ],
   "source": [
    "def secondLargestElement(n, arr):\n",
    "    for i in range(n):\n",
    "        min_index =  i\n",
    "        for j in range(i+1, n):\n",
    "            if (arr[min_index] > arr[j]):\n",
    "                min_index = j\n",
    "        arr[i], arr[min_index] = arr[min_index], arr[i]\n",
    "\n",
    "    return arr\n",
    "\n",
    "    \n",
    "n = int(input())\n",
    "arr = [int(x) for x in input().split(\" \")]\n",
    "secondLargestElement(n, arr)\n"
   ]
  },
  {
   "cell_type": "code",
   "execution_count": 241,
   "id": "037e95c2",
   "metadata": {},
   "outputs": [
    {
     "name": "stdout",
     "output_type": "stream",
     "text": [
      "1\n",
      "5\n",
      "9 6 8 4 2\n",
      "8\n"
     ]
    }
   ],
   "source": [
    "\n",
    "from sys import stdin\n",
    "import sys\n",
    "\n",
    "def findSecondLargest(sequenceOfNumbers):\n",
    "    \n",
    "    n = len(sequenceOfNumbers)\n",
    "\n",
    "    # Sort the array in decending order.\n",
    "    sequenceOfNumbers.sort(reverse=True)\n",
    "    \n",
    "    for i in range(1, n):\n",
    "    \n",
    "        # If the element is not equal to first largest element.\n",
    "        if sequenceOfNumbers[i] != sequenceOfNumbers[i-1]:\n",
    "            return sequenceOfNumbers[i]\n",
    "\n",
    "    return -1\n",
    "\n",
    "\n",
    "# Taking input using fast I/O.\n",
    "def takeInput():\n",
    "    n = int(input())\n",
    "\n",
    "    sequenceOfNumbers = [int(x) for x in input().split(\" \")]\n",
    "\n",
    "    return sequenceOfNumbers, n\n",
    "\n",
    "# Main.\n",
    "t = int(input())\n",
    "while t > 0:\n",
    "    sequenceOfNumbers, n = takeInput()\n",
    "    print(findSecondLargest(sequenceOfNumbers))\n",
    "    t = t-1\n"
   ]
  },
  {
   "cell_type": "code",
   "execution_count": 179,
   "id": "9dc09e5b",
   "metadata": {},
   "outputs": [
    {
     "name": "stdout",
     "output_type": "stream",
     "text": [
      "-25\n"
     ]
    }
   ],
   "source": [
    "list = [-10, -40, -25, -12, -25, -10]\n",
    "list.sort(reverse=True)\n",
    "print(list[-2])"
   ]
  },
  {
   "cell_type": "code",
   "execution_count": 138,
   "id": "8a0b289e",
   "metadata": {},
   "outputs": [
    {
     "name": "stdout",
     "output_type": "stream",
     "text": [
      "[0, 0, 2, 3, 3, 6, 7, 23]\n"
     ]
    }
   ],
   "source": [
    "l = [3,6,3,0,7,0,2,23]\n",
    "l.sort()\n",
    "print(l)"
   ]
  },
  {
   "cell_type": "code",
   "execution_count": 145,
   "id": "46af8ce0",
   "metadata": {},
   "outputs": [
    {
     "name": "stdout",
     "output_type": "stream",
     "text": [
      "2\n"
     ]
    }
   ],
   "source": [
    "def countRotations(arr, n):\n",
    " \n",
    "    # We basically find index\n",
    "    # of minimum element\n",
    "    min = arr[0]\n",
    "    min_index = 0\n",
    "    for i in range(0, n):\n",
    "     \n",
    "        if (min > arr[i]):\n",
    "         \n",
    "            min = arr[i]\n",
    "            min_index = i\n",
    "         \n",
    "    return min_index;\n",
    " \n",
    " \n",
    "# Driver code\n",
    "arr = [15, 18, 2, 3, 6, 12]\n",
    "n = len(arr)\n",
    "print(countRotations(arr, n))\n",
    " "
   ]
  },
  {
   "cell_type": "code",
   "execution_count": 181,
   "id": "39037b67",
   "metadata": {},
   "outputs": [
    {
     "name": "stdout",
     "output_type": "stream",
     "text": [
      "1\n",
      "5\n",
      "32 345 234 65 76\n",
      "2\n",
      "234 65 76 32 345 \n"
     ]
    }
   ],
   "source": [
    "def rotateArray(arr, n , d):\n",
    "    part_1 = arr[0:d]\n",
    "    part_2 = arr[d:]\n",
    "    arr[:] = part_2 + part_1\n",
    "    return arr\n",
    "\n",
    "\n",
    "def printList(arr, n):\n",
    "    for i in range(n):\n",
    "        print(arr[i], end=\" \")\n",
    "    print()\n",
    "\n",
    "\n",
    "def takeInput():\n",
    "    n = int(input())\n",
    "    if n == 0:\n",
    "        return list(), 0\n",
    "    arr = [int(x) for x in input().split(\" \")]\n",
    "    return arr, n\n",
    "\n",
    "loop = int(input())\n",
    "for _ in range(loop):\n",
    "    arr, n = takeInput()\n",
    "    #arr = takeInput()\n",
    "    d = int(input())\n",
    "    rotateArray(arr, n , d)\n",
    "    printList(arr, n)"
   ]
  },
  {
   "cell_type": "code",
   "execution_count": 223,
   "id": "66492b05",
   "metadata": {},
   "outputs": [
    {
     "name": "stdout",
     "output_type": "stream",
     "text": [
      "rotation: 2\n",
      "[1, 2, 3]\n",
      "[4, 5]\n",
      "[4, 5, 1, 2, 3]\n"
     ]
    }
   ],
   "source": [
    "list = [1,2,3,4,5]\n",
    "n = int(input(\"rotation: \"))\n",
    "length = len(list)\n",
    "y = n - length\n",
    "first_half = list[:-y]\n",
    "second_half = list[-n:] \n",
    "third_comp = second_half + first_half\n",
    "print(first_half)\n",
    "print(second_half)\n",
    "print(third_comp)"
   ]
  },
  {
   "cell_type": "code",
   "execution_count": 224,
   "id": "c70891c4",
   "metadata": {},
   "outputs": [
    {
     "data": {
      "text/plain": [
       "[4, 5]"
      ]
     },
     "execution_count": 224,
     "metadata": {},
     "output_type": "execute_result"
    }
   ],
   "source": [
    "list = [1,2,3,4,5]\n",
    "list[-2:]"
   ]
  },
  {
   "cell_type": "code",
   "execution_count": 235,
   "id": "100789c4",
   "metadata": {},
   "outputs": [
    {
     "name": "stdout",
     "output_type": "stream",
     "text": [
      "Original list : [9, 4, 5, 4, 4, 5, 9, 5, 4]\n",
      "Most frequent number is : 4\n"
     ]
    }
   ],
   "source": [
    "test_list = [9, 4, 5, 4, 4, 5, 9, 5, 4]\n",
    " \n",
    "# printing original list\n",
    "print (\"Original list : \" + str(test_list))\n",
    " \n",
    "# using max() + set() to\n",
    "# get most frequent element\n",
    "res = max(set(test_list), key = test_list.count)\n",
    "     \n",
    "# printing result\n",
    "print (\"Most frequent number is : \" + str(res))"
   ]
  },
  {
   "cell_type": "code",
   "execution_count": 1,
   "id": "bac932b7",
   "metadata": {},
   "outputs": [
    {
     "name": "stdout",
     "output_type": "stream",
     "text": [
      "(1, 3)\n",
      "(1, 5)\n",
      "(3, 5)\n"
     ]
    }
   ],
   "source": [
    "# gives combinations\n",
    "import itertools\n",
    "arr=[1,3,5]\n",
    "for i in itertools.combinations(arr,2):\n",
    "    print(i)"
   ]
  },
  {
   "cell_type": "code",
   "execution_count": null,
   "id": "d3b6a76d",
   "metadata": {},
   "outputs": [],
   "source": []
  }
 ],
 "metadata": {
  "kernelspec": {
   "display_name": "Python 3 (ipykernel)",
   "language": "python",
   "name": "python3"
  },
  "language_info": {
   "codemirror_mode": {
    "name": "ipython",
    "version": 3
   },
   "file_extension": ".py",
   "mimetype": "text/x-python",
   "name": "python",
   "nbconvert_exporter": "python",
   "pygments_lexer": "ipython3",
   "version": "3.10.7"
  }
 },
 "nbformat": 4,
 "nbformat_minor": 5
}
