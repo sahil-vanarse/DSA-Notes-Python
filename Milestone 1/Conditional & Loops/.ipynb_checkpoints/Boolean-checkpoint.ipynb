{
 "cells": [
  {
   "cell_type": "code",
   "execution_count": 1,
   "id": "92b3d749",
   "metadata": {},
   "outputs": [
    {
     "name": "stdout",
     "output_type": "stream",
     "text": [
      "<class 'bool'>\n"
     ]
    }
   ],
   "source": [
    "# boolean are True and False that are the reserve words and they should be written in the capitalize form only\n",
    "a = True\n",
    "b = False\n",
    "print(type(a))"
   ]
  },
  {
   "cell_type": "markdown",
   "id": "be1230cf",
   "metadata": {},
   "source": [
    "## Relational Operators"
   ]
  },
  {
   "cell_type": "code",
   "execution_count": 2,
   "id": "3d1b2d44",
   "metadata": {},
   "outputs": [
    {
     "name": "stdout",
     "output_type": "stream",
     "text": [
      "False\n",
      "True\n",
      "False\n",
      "True\n",
      "False\n",
      "True\n"
     ]
    }
   ],
   "source": [
    "# boolean is the condition that can be true or false\n",
    "a = 10\n",
    "b = 20 \n",
    "print(a > b)\n",
    "print(a < b)\n",
    "print(a >= b)\n",
    "print(a <= b)\n",
    "print(a == b)\n",
    "print(a != b)"
   ]
  },
  {
   "cell_type": "markdown",
   "id": "85fa5021",
   "metadata": {},
   "source": [
    "## Logical Operator"
   ]
  },
  {
   "cell_type": "code",
   "execution_count": 3,
   "id": "a9ecba04",
   "metadata": {},
   "outputs": [
    {
     "name": "stdout",
     "output_type": "stream",
     "text": [
      "False\n",
      "True\n",
      "False\n",
      "True\n"
     ]
    }
   ],
   "source": [
    "c1 = a > 10\n",
    "print(c1)\n",
    "c2 = b > 10\n",
    "print(c2)\n",
    "\n",
    "# and means both should be true\n",
    "print(c1 and c2)\n",
    "\n",
    "# or means any one should be true\n",
    "print(c1 or c2)\n",
    "\n",
    "# and\n",
    "# true and true = true\n",
    "# true and false = false\n",
    "# false and true = false\n",
    "# false and false = false\n",
    "\n",
    "# or\n",
    "# true and true = true\n",
    "# true and false = true\n",
    "# false and true = true\n",
    "# false and false = false\n",
    "\n",
    "# not \n",
    "# true becomes false and false becomes true"
   ]
  },
  {
   "cell_type": "code",
   "execution_count": 4,
   "id": "fc5c76ee",
   "metadata": {},
   "outputs": [
    {
     "name": "stdout",
     "output_type": "stream",
     "text": [
      "False\n",
      "True\n",
      "True\n"
     ]
    }
   ],
   "source": [
    "c1 = a > 10\n",
    "c2 = b > 10\n",
    "r1 = c1 and c2\n",
    "r2 = c1 or c2\n",
    "r3 = not(c1)\n",
    "\n",
    "print(r1)\n",
    "print(r2)\n",
    "print(r3)"
   ]
  },
  {
   "cell_type": "markdown",
   "id": "bcd9b358",
   "metadata": {},
   "source": [
    "## if condition"
   ]
  },
  {
   "cell_type": "code",
   "execution_count": 5,
   "id": "7256e801",
   "metadata": {},
   "outputs": [
    {
     "name": "stdout",
     "output_type": "stream",
     "text": [
      "I am inside if\n"
     ]
    }
   ],
   "source": [
    "# as a is true we caught if statement\n",
    "a = True\n",
    "if a:\n",
    "    print(\"I am inside if\")\n",
    "else:\n",
    "    print(\"I am outside if\")"
   ]
  },
  {
   "cell_type": "code",
   "execution_count": 6,
   "id": "d96027b9",
   "metadata": {},
   "outputs": [
    {
     "name": "stdout",
     "output_type": "stream",
     "text": [
      "I am outside if\n"
     ]
    }
   ],
   "source": [
    "# as a is false we caught else statement\n",
    "a = False\n",
    "if a:\n",
    "    print(\"I am inside if\")\n",
    "else:\n",
    "    print(\"I am outside if\")"
   ]
  },
  {
   "cell_type": "code",
   "execution_count": 7,
   "id": "cf4f6dee",
   "metadata": {},
   "outputs": [
    {
     "name": "stdout",
     "output_type": "stream",
     "text": [
      "I am inside if\n",
      "We can write as many as print statement in the if else statement\n"
     ]
    }
   ],
   "source": [
    "# as a is true we caught if statement\n",
    "a = True\n",
    "if a:\n",
    "    print(\"I am inside if\")\n",
    "    print(\"We can write as many as print statement in the if else statement\")\n",
    "else:\n",
    "    print(\"I am outside if\")"
   ]
  },
  {
   "cell_type": "code",
   "execution_count": null,
   "id": "7ea38f99",
   "metadata": {},
   "outputs": [],
   "source": [
    "# even odd using boolean\n",
    "n = int(input(\"Enter a number to check : \"))\n",
    "r = n % 2\n",
    "is_even = (r == 0)\n",
    "\n",
    "if is_even:\n",
    "    print(\"n is even\")\n",
    "else:\n",
    "    print(\"n is odd\")"
   ]
  },
  {
   "cell_type": "markdown",
   "id": "d794419c",
   "metadata": {},
   "source": [
    "## Using Operator in if else"
   ]
  },
  {
   "cell_type": "code",
   "execution_count": 9,
   "id": "b47e7716",
   "metadata": {},
   "outputs": [
    {
     "name": "stdout",
     "output_type": "stream",
     "text": [
      "432\n",
      "5234\n",
      "Both are greater than 10\n"
     ]
    }
   ],
   "source": [
    "a = int(input())\n",
    "b = int(input())\n",
    "\n",
    "c1 = a > 10\n",
    "c2 = b > 10\n",
    "\n",
    "r = c1 and c2\n",
    "\n",
    "if r:\n",
    "    print(\"Both are greater than 10\")\n",
    "else:\n",
    "    print(\"They are not greater than 10\")"
   ]
  },
  {
   "cell_type": "code",
   "execution_count": 10,
   "id": "3878ab9c",
   "metadata": {},
   "outputs": [
    {
     "name": "stdout",
     "output_type": "stream",
     "text": [
      "3452\n",
      "534\n",
      "Both are greater than 10\n"
     ]
    }
   ],
   "source": [
    "# we can write like this too\n",
    "a = int(input())\n",
    "b = int(input())\n",
    "\n",
    "if a > 10 and b > 10:\n",
    "    print(\"Both are greater than 10\")\n",
    "else:\n",
    "    print(\"They are not greater than 10\")"
   ]
  },
  {
   "cell_type": "code",
   "execution_count": 11,
   "id": "3f0d0af8",
   "metadata": {},
   "outputs": [
    {
     "name": "stdout",
     "output_type": "stream",
     "text": [
      "345\n",
      "No its not\n"
     ]
    }
   ],
   "source": [
    "a = int(input())\n",
    "if a == 7:\n",
    "    print(\"Its equal to 7\")\n",
    "else:\n",
    "    print(\"No its not\")"
   ]
  },
  {
   "cell_type": "code",
   "execution_count": 12,
   "id": "27df1e72",
   "metadata": {},
   "outputs": [
    {
     "name": "stdout",
     "output_type": "stream",
     "text": [
      "345\n",
      "No its not\n"
     ]
    }
   ],
   "source": [
    "a = int(input())\n",
    "if a != 7:\n",
    "    print(\"No its not\")\n",
    "else:\n",
    "    print(\"Its equal to 7\")"
   ]
  },
  {
   "cell_type": "code",
   "execution_count": 13,
   "id": "2db53def",
   "metadata": {},
   "outputs": [
    {
     "name": "stdout",
     "output_type": "stream",
     "text": [
      "534\n",
      "534\n",
      "453\n",
      "534\n"
     ]
    }
   ],
   "source": [
    "a = int(input())\n",
    "b = int(input())\n",
    "c = int(input())\n",
    "\n",
    "if a>=b and a>=c:\n",
    "    print(a)\n",
    "elif b>=a and b>=c:\n",
    "    print(b)\n",
    "else:\n",
    "    print(c)"
   ]
  },
  {
   "cell_type": "code",
   "execution_count": 14,
   "id": "6b4fd436",
   "metadata": {},
   "outputs": [
    {
     "name": "stdout",
     "output_type": "stream",
     "text": [
      "534\n",
      "red\n"
     ]
    }
   ],
   "source": [
    "n = int(input())\n",
    "\n",
    "if n>10:\n",
    "    print(\"red\")\n",
    "elif n>=5:\n",
    "    print(\"green\")\n",
    "elif n>0:\n",
    "    print(\"yellow\")"
   ]
  },
  {
   "cell_type": "code",
   "execution_count": null,
   "id": "093496a1",
   "metadata": {},
   "outputs": [],
   "source": []
  },
  {
   "cell_type": "code",
   "execution_count": null,
   "id": "5deb4038",
   "metadata": {},
   "outputs": [],
   "source": []
  }
 ],
 "metadata": {
  "kernelspec": {
   "display_name": "Python 3 (ipykernel)",
   "language": "python",
   "name": "python3"
  },
  "language_info": {
   "codemirror_mode": {
    "name": "ipython",
    "version": 3
   },
   "file_extension": ".py",
   "mimetype": "text/x-python",
   "name": "python",
   "nbconvert_exporter": "python",
   "pygments_lexer": "ipython3",
   "version": "3.10.7"
  }
 },
 "nbformat": 4,
 "nbformat_minor": 5
}
