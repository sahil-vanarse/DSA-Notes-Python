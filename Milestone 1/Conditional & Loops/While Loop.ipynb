{
 "cells": [
  {
   "cell_type": "markdown",
   "id": "4609ac5d",
   "metadata": {},
   "source": [
    "## While Loop"
   ]
  },
  {
   "cell_type": "code",
   "execution_count": 1,
   "id": "a24dfb3a",
   "metadata": {},
   "outputs": [
    {
     "name": "stdout",
     "output_type": "stream",
     "text": [
      "12\n",
      "1\n",
      "1\n",
      "1\n",
      "1\n",
      "1\n",
      "1\n",
      "1\n",
      "1\n",
      "1\n",
      "1\n",
      "1\n",
      "1\n"
     ]
    }
   ],
   "source": [
    "n = int(input())\n",
    "count = 1\n",
    "# while condition executes when the statement is true. If the statement is false it will not be executed.\n",
    "# and that the we have to increase the count here else it will be executed infinite time because 1 will be always less than 2\n",
    "# here as the 1 is less than 2 but when we increase it wil stopped at the number we have given as there we have used <=\n",
    "# as the count be equal to the n it will terminate or stop the program\n",
    "while count <= n:\n",
    "    print(1)\n",
    "    count = count+1"
   ]
  },
  {
   "cell_type": "code",
   "execution_count": 2,
   "id": "2b740334",
   "metadata": {},
   "outputs": [
    {
     "name": "stdout",
     "output_type": "stream",
     "text": [
      "12\n",
      "1\n",
      "2\n",
      "3\n",
      "4\n",
      "5\n",
      "6\n",
      "7\n",
      "8\n",
      "9\n",
      "10\n",
      "11\n",
      "12\n"
     ]
    }
   ],
   "source": [
    "n = int(input())\n",
    "count = 1\n",
    "while count <= n:\n",
    "    print(count)\n",
    "    count = count+1"
   ]
  },
  {
   "cell_type": "code",
   "execution_count": 3,
   "id": "c4820ec9",
   "metadata": {},
   "outputs": [
    {
     "name": "stdout",
     "output_type": "stream",
     "text": [
      "21\n",
      "110\n"
     ]
    }
   ],
   "source": [
    "n = int(input())\n",
    "sum = 0\n",
    "count = 1\n",
    "while count <= n:\n",
    "    if count % 2 == 0:\n",
    "        sum = sum + count\n",
    "    count = count + 1\n",
    "print(sum)\n",
    "    "
   ]
  },
  {
   "cell_type": "markdown",
   "id": "22bf2414",
   "metadata": {},
   "source": [
    "## Prime check"
   ]
  },
  {
   "cell_type": "code",
   "execution_count": 4,
   "id": "257f925f",
   "metadata": {},
   "outputs": [
    {
     "name": "stdout",
     "output_type": "stream",
     "text": [
      "12\n",
      "Not a Prime Number\n"
     ]
    }
   ],
   "source": [
    "n = int(input())\n",
    "# here the marker or the condition was set to false\n",
    "flag = False\n",
    "if n > 1:\n",
    "    for i in range(2,n):\n",
    "        if n % i == 0:\n",
    "            # here as we get any result we make it true by making the condition or marker as true\n",
    "            flag = True\n",
    "            break\n",
    "    if flag:\n",
    "        print(\"Not a Prime Number\")\n",
    "    else:\n",
    "        print(\"Prime\")"
   ]
  },
  {
   "cell_type": "code",
   "execution_count": 5,
   "id": "b72892d3",
   "metadata": {},
   "outputs": [
    {
     "name": "stdout",
     "output_type": "stream",
     "text": [
      "12\n",
      "Not a Prime Number\n"
     ]
    }
   ],
   "source": [
    "n = int(input())\n",
    "d = 2\n",
    "flag = False\n",
    "while d < n:\n",
    "    if n % d == 0:\n",
    "        flag = True\n",
    "    d = d + 1\n",
    "if flag:\n",
    "    print(\"Not a Prime Number\")\n",
    "else:\n",
    "    print(\"Prime\")"
   ]
  },
  {
   "cell_type": "code",
   "execution_count": 6,
   "id": "27053689",
   "metadata": {},
   "outputs": [
    {
     "name": "stdout",
     "output_type": "stream",
     "text": [
      "0\n",
      "1\n",
      "2\n",
      "3\n",
      "4\n",
      "5\n",
      "6\n",
      "7\n",
      "8\n",
      "9\n"
     ]
    }
   ],
   "source": [
    "i=0\n",
    "while i<10:\n",
    "    print(i)\n",
    "    i=i+1"
   ]
  },
  {
   "cell_type": "markdown",
   "id": "988ef064",
   "metadata": {},
   "source": [
    "## Nested Loop"
   ]
  },
  {
   "cell_type": "code",
   "execution_count": 2,
   "id": "206eb688",
   "metadata": {},
   "outputs": [
    {
     "name": "stdout",
     "output_type": "stream",
     "text": [
      "13\n",
      "2\n",
      "3\n",
      "5\n",
      "7\n",
      "11\n",
      "13\n"
     ]
    }
   ],
   "source": [
    "n = int(input())\n",
    "k = 2\n",
    "while k <= n:\n",
    "    d = 2\n",
    "    flag = False\n",
    "    while d < k:\n",
    "        if k % d == 0:\n",
    "            flag = True\n",
    "        d = d + 1\n",
    "    if not (flag):\n",
    "        print(k)\n",
    "    k = k + 1"
   ]
  },
  {
   "cell_type": "code",
   "execution_count": 8,
   "id": "34e1b3f1",
   "metadata": {},
   "outputs": [
    {
     "name": "stdout",
     "output_type": "stream",
     "text": [
      "12\n",
      "12\n",
      "12\n",
      "12 F= -11.11111111111111 C\n"
     ]
    }
   ],
   "source": [
    "s = int(input())\n",
    "e = int(input())\n",
    "w = int(input())\n",
    "while s <= e:\n",
    "    c = (s-32)*5/9\n",
    "    print(s,\"F=\",c,\"C\")\n",
    "    s = s + w"
   ]
  },
  {
   "cell_type": "code",
   "execution_count": 9,
   "id": "0a9d3565",
   "metadata": {},
   "outputs": [
    {
     "name": "stdout",
     "output_type": "stream",
     "text": [
      "12\n",
      "12\n",
      "12\n",
      "12 F= -12 C\n"
     ]
    }
   ],
   "source": [
    "s = int(input())\n",
    "e = int(input())\n",
    "w = int(input())\n",
    "while s <= e:\n",
    "    c = (s-32) *5//9\n",
    "    print(s,\"F=\",c,\"C\")\n",
    "    s = s + w"
   ]
  },
  {
   "cell_type": "code",
   "execution_count": 10,
   "id": "9de456c4",
   "metadata": {},
   "outputs": [
    {
     "name": "stdout",
     "output_type": "stream",
     "text": [
      "12\n",
      "21\n"
     ]
    }
   ],
   "source": [
    "#Write Your Code Here\n",
    "n = int(input())\n",
    "rev = 0\n",
    "while (n>0):\n",
    "    d = n % 10\n",
    "    rev = (rev * 10) + d\n",
    "    n = n // 10\n",
    "print(rev)\n",
    "    "
   ]
  },
  {
   "cell_type": "code",
   "execution_count": 11,
   "id": "f1749945",
   "metadata": {},
   "outputs": [
    {
     "name": "stdout",
     "output_type": "stream",
     "text": [
      "\n",
      " Reverse of entered number is = 321\n"
     ]
    }
   ],
   "source": [
    "Reverse = 0 \n",
    "Number = 123\n",
    "while(Number > 0):    \n",
    "    Reminder = Number %10    \n",
    "    Reverse = (Reverse *10) + Reminder    \n",
    "    Number = Number //10    \n",
    "     \n",
    "print(\"\\n Reverse of entered number is = %d\" %Reverse)   "
   ]
  },
  {
   "cell_type": "code",
   "execution_count": 12,
   "id": "6987b97e",
   "metadata": {},
   "outputs": [
    {
     "name": "stdout",
     "output_type": "stream",
     "text": [
      "12\n",
      "false\n"
     ]
    }
   ],
   "source": [
    "n=int(input())  \n",
    "# taking n as a input \n",
    "## write your code !!\n",
    "rev = 0\n",
    "a = n\n",
    "while (n>0):\n",
    "    rem = n % 10\n",
    "    rev = (rev * 10) + rem\n",
    "    n = n // 10\n",
    "if (a == rev):\n",
    "    print(\"true\")\n",
    "else:\n",
    "    print(\"false\")"
   ]
  },
  {
   "cell_type": "code",
   "execution_count": 8,
   "id": "348c09d2",
   "metadata": {},
   "outputs": [
    {
     "name": "stdout",
     "output_type": "stream",
     "text": [
      "88\n",
      "16   0\n"
     ]
    }
   ],
   "source": [
    "## Note : For printing multiple values in one line, put them inside print separated by space.\n",
    "## You can follow this syntax for printing values of two variables val1 and val2 separaetd by space -\n",
    "## print(val1, \" \", val2)\n",
    "n = int(input())\n",
    "a = n\n",
    "val1 = 0\n",
    "val2 = 0\n",
    "while (n > 0):\n",
    "    d = n % 10\n",
    "    n = n // 10\n",
    "    if (d% 2 ==0):\n",
    "        val1 = val1 + d\n",
    "    else:\n",
    "        val2 = val2 + d\n",
    "print(val1, \" \", val2)"
   ]
  },
  {
   "cell_type": "code",
   "execution_count": null,
   "id": "350c4ce2",
   "metadata": {},
   "outputs": [],
   "source": []
  }
 ],
 "metadata": {
  "kernelspec": {
   "display_name": "Python 3 (ipykernel)",
   "language": "python",
   "name": "python3"
  },
  "language_info": {
   "codemirror_mode": {
    "name": "ipython",
    "version": 3
   },
   "file_extension": ".py",
   "mimetype": "text/x-python",
   "name": "python",
   "nbconvert_exporter": "python",
   "pygments_lexer": "ipython3",
   "version": "3.10.7"
  }
 },
 "nbformat": 4,
 "nbformat_minor": 5
}
