{
 "cells": [
  {
   "cell_type": "code",
   "execution_count": 1,
   "id": "812d2f10",
   "metadata": {},
   "outputs": [
    {
     "name": "stdout",
     "output_type": "stream",
     "text": [
      "s\n",
      "a\n",
      "h\n",
      "i\n",
      "l\n"
     ]
    }
   ],
   "source": [
    "# for loop is used for the sequence\n",
    "s = \"sahil\"\n",
    "for c in s:\n",
    "    print(c)"
   ]
  },
  {
   "cell_type": "code",
   "execution_count": 15,
   "id": "f7654678",
   "metadata": {},
   "outputs": [
    {
     "name": "stdout",
     "output_type": "stream",
     "text": [
      "10\n",
      "1\n",
      "3\n",
      "5\n",
      "7\n",
      "9\n"
     ]
    }
   ],
   "source": [
    "# for loop takes 3 arguements that is (start, end (but does not go till end, stops before it), increment or decrement(how much we want to increase or decrease))\n",
    "n = int(input())\n",
    "for i in range(1,n+1,2):\n",
    "    print(i)"
   ]
  },
  {
   "cell_type": "code",
   "execution_count": 16,
   "id": "ab0127ba",
   "metadata": {},
   "outputs": [
    {
     "name": "stdout",
     "output_type": "stream",
     "text": [
      "5\n",
      "0\n",
      "1\n",
      "2\n",
      "3\n",
      "4\n",
      "5\n"
     ]
    }
   ],
   "source": [
    "# if we dont give start arguement it will start from the 0 to the end-1\n",
    "n = int(input())\n",
    "for i in range(n+1):\n",
    "    print(i)"
   ]
  },
  {
   "cell_type": "markdown",
   "id": "f5711bae",
   "metadata": {},
   "source": [
    "### By default start is from the 0 and end is n-1 in the for loop"
   ]
  },
  {
   "cell_type": "code",
   "execution_count": 24,
   "id": "8ea8b7ad",
   "metadata": {},
   "outputs": [
    {
     "name": "stdout",
     "output_type": "stream",
     "text": [
      "5\n",
      "5432"
     ]
    }
   ],
   "source": [
    "# as of here we started by n and stopped by 1 but it stops before the one that is end digit is not included in the for loop\n",
    "# we need to go one number ahead to stop at the exact position we want\n",
    "n = int(input())\n",
    "for i in range(5, 1, -1):\n",
    "    print(i)"
   ]
  },
  {
   "cell_type": "code",
   "execution_count": 25,
   "id": "d9b1494d",
   "metadata": {},
   "outputs": [
    {
     "name": "stdout",
     "output_type": "stream",
     "text": [
      "0 1 2 3 4 "
     ]
    }
   ],
   "source": [
    "# end is used for the columns means it does not go the next row\n",
    "for i in range(5):\n",
    "    print(i,end= ' ')"
   ]
  },
  {
   "cell_type": "code",
   "execution_count": 33,
   "id": "37aaf9fe",
   "metadata": {},
   "outputs": [
    {
     "name": "stdout",
     "output_type": "stream",
     "text": [
      "1\n",
      "10\n",
      "3\n",
      "6\n",
      "9\n"
     ]
    }
   ],
   "source": [
    "a = int(input())\n",
    "b = int(input())\n",
    "\n",
    "for i in range(a,b+1):\n",
    "    if i % 3 == 0:\n",
    "        print(i)"
   ]
  },
  {
   "cell_type": "code",
   "execution_count": 44,
   "id": "9bebef1c",
   "metadata": {},
   "outputs": [
    {
     "name": "stdout",
     "output_type": "stream",
     "text": [
      "1\n",
      "30\n",
      "3\n",
      "6\n",
      "9\n",
      "12\n",
      "15\n",
      "18\n",
      "21\n",
      "24\n",
      "27\n",
      "30\n"
     ]
    }
   ],
   "source": [
    "a = int(input())\n",
    "b = int(input())\n",
    "\n",
    "# a % 3 == 0 then s will be declared as a\n",
    "if a % 3 == 0:\n",
    "    s = a\n",
    "    \n",
    "# a % 3 == 1 then s will be s+2 . Suppose remainder will be 1 it will increment by 2\n",
    "elif a % 3 == 1:\n",
    "    s = a + 2\n",
    "    \n",
    "# a % 3 == 2 then s will be s+1 . Suppose remainder will be 2 it will increment by 1\n",
    "else:\n",
    "    s = a + 1\n",
    "for i in range(s,b+1):\n",
    "    if i % 3 == 0:\n",
    "        print(i)"
   ]
  },
  {
   "cell_type": "code",
   "execution_count": 46,
   "id": "ff9f47aa",
   "metadata": {},
   "outputs": [
    {
     "name": "stdout",
     "output_type": "stream",
     "text": [
      "1 2 "
     ]
    }
   ],
   "source": [
    "i=1\n",
    "while i<5:\n",
    "    if i == 3:\n",
    "        break\n",
    "    print(i, end=\" \")\n",
    "    i = i + 1\n",
    "else:\n",
    "    print(\"Else is also printed\")"
   ]
  },
  {
   "cell_type": "code",
   "execution_count": 50,
   "id": "c76c4eb9",
   "metadata": {},
   "outputs": [
    {
     "name": "stdout",
     "output_type": "stream",
     "text": [
      "12451245"
     ]
    }
   ],
   "source": [
    "i=1\n",
    "while i<3:\n",
    "    j=0\n",
    "    while j<5:\n",
    "        j = j +1\n",
    "        if j==3:\n",
    "            continue\n",
    "        print(j, end = \"\")\n",
    "    i = i +1\n"
   ]
  },
  {
   "cell_type": "code",
   "execution_count": 145,
   "id": "38d09aea",
   "metadata": {},
   "outputs": [
    {
     "name": "stdout",
     "output_type": "stream",
     "text": [
      "1234567\n",
      "Not Prime\n"
     ]
    }
   ],
   "source": [
    "n = int(input())\n",
    "flag = False\n",
    "for i in range(2, n):\n",
    "    if n % i == 0:\n",
    "        flag = True\n",
    "if flag:\n",
    "    print(\"Not Prime\")\n",
    "else:\n",
    "    print(\"Prime\")"
   ]
  },
  {
   "cell_type": "code",
   "execution_count": 144,
   "id": "b25c0ecd",
   "metadata": {},
   "outputs": [
    {
     "name": "stdout",
     "output_type": "stream",
     "text": [
      "1234567\n",
      "Not Prime\n"
     ]
    }
   ],
   "source": [
    "# using while\n",
    "n = int(input())\n",
    "flag = False\n",
    "d = 2\n",
    "while d < n:\n",
    "    if n % d == 0:\n",
    "        flag = True\n",
    "    d = d + 1\n",
    "if flag:\n",
    "    print(\"Not Prime\")\n",
    "else:\n",
    "    print(\"Prime\")"
   ]
  },
  {
   "cell_type": "code",
   "execution_count": 101,
   "id": "e3388e78",
   "metadata": {},
   "outputs": [
    {
     "name": "stdout",
     "output_type": "stream",
     "text": [
      "4\n",
      "   1\n",
      "  232\n",
      " 34543\n",
      "4567654\n"
     ]
    }
   ],
   "source": [
    "n = int(input())\n",
    "for i in range(1, n+1, 1):\n",
    "    for s in range(n-i):\n",
    "        print(\" \", end=\"\")\n",
    "    for j in range(i, 2 * i, 1):\n",
    "        print(j, end=\"\")\n",
    "    for j in range(2 * i - 2, i-1, -1):\n",
    "        print(j, end=\"\")\n",
    "    print()"
   ]
  },
  {
   "cell_type": "code",
   "execution_count": 133,
   "id": "93777c00",
   "metadata": {},
   "outputs": [
    {
     "name": "stdout",
     "output_type": "stream",
     "text": [
      "4\n",
      "   1\n",
      "  121\n",
      " 12321\n",
      "1234321\n"
     ]
    }
   ],
   "source": [
    "n = int(input())\n",
    "for i in range(1, n+1, 1):\n",
    "    for s in range(1,n-i+1):\n",
    "        print(\" \", end=\"\")\n",
    "    for j in range(1, i + 1, 1):\n",
    "        print(j, end=\"\")\n",
    "    for k in range(i-1, 0, -1):\n",
    "        print(k, end=\"\")\n",
    "    print()"
   ]
  },
  {
   "cell_type": "markdown",
   "id": "296129ce",
   "metadata": {},
   "source": [
    "### Break keyword"
   ]
  },
  {
   "cell_type": "code",
   "execution_count": 124,
   "id": "77cba018",
   "metadata": {},
   "outputs": [
    {
     "name": "stdout",
     "output_type": "stream",
     "text": [
      "1\n",
      "2\n",
      "3\n",
      "4\n",
      "5\n",
      "6\n",
      "7\n",
      "8\n",
      "9\n"
     ]
    }
   ],
   "source": [
    "i = 1\n",
    "while i < 10:\n",
    "    print(i)\n",
    "    i = i + 1"
   ]
  },
  {
   "cell_type": "code",
   "execution_count": 125,
   "id": "a623b975",
   "metadata": {},
   "outputs": [
    {
     "name": "stdout",
     "output_type": "stream",
     "text": [
      "1\n",
      "2\n",
      "3\n",
      "4\n"
     ]
    }
   ],
   "source": [
    "# when we use break function if the condition satifies it exist the loop\n",
    "i = 1\n",
    "while i < 10:\n",
    "    if i == 5:\n",
    "        break\n",
    "    print(i)\n",
    "    i = i + 1\n",
    "    "
   ]
  },
  {
   "cell_type": "code",
   "execution_count": 141,
   "id": "65edd5f7",
   "metadata": {},
   "outputs": [
    {
     "name": "stdout",
     "output_type": "stream",
     "text": [
      "997\n",
      "Prime\n"
     ]
    }
   ],
   "source": [
    "# using while and break keyword\n",
    "# when we use break function if the condition satifies it exist the loop\n",
    "n = int(input())\n",
    "flag = False\n",
    "d = 2\n",
    "while d < n:\n",
    "    if n % d == 0:\n",
    "        flag = True\n",
    "        break\n",
    "    d = d + 1\n",
    "if flag:\n",
    "    print(\"Not Prime\")\n",
    "else:\n",
    "    print(\"Prime\")"
   ]
  },
  {
   "cell_type": "code",
   "execution_count": 5,
   "id": "72ebfe79",
   "metadata": {},
   "outputs": [
    {
     "name": "stdout",
     "output_type": "stream",
     "text": [
      "50\n",
      "2\n",
      "3\n",
      "5\n",
      "7\n",
      "11\n",
      "13\n",
      "17\n",
      "19\n",
      "23\n",
      "29\n",
      "31\n",
      "37\n",
      "41\n",
      "43\n",
      "47\n"
     ]
    }
   ],
   "source": [
    "#as here there are 2 while loops i.e nested and we have used the break for the 2nd while . It will not affect the 1st while loop\n",
    "n = int(input())\n",
    "k = 2\n",
    "while k < n:\n",
    "    d = 2\n",
    "    flag = False\n",
    "    while d < k:\n",
    "        if k % d == 0:\n",
    "            flag = True\n",
    "            break\n",
    "        d = d + 1\n",
    "    if not(flag):\n",
    "        print(k)\n",
    "    k = k + 1"
   ]
  },
  {
   "cell_type": "markdown",
   "id": "3234afe8",
   "metadata": {},
   "source": [
    "### Else keyword with loops"
   ]
  },
  {
   "cell_type": "code",
   "execution_count": 16,
   "id": "cd52d700",
   "metadata": {},
   "outputs": [
    {
     "name": "stdout",
     "output_type": "stream",
     "text": [
      "1\n",
      "2\n",
      "3\n",
      "4\n"
     ]
    }
   ],
   "source": [
    "i = 1 \n",
    "while i < 10:\n",
    "    if i == 5:      \n",
    "        break\n",
    "    print(i)\n",
    "    i = i + 1\n",
    "else:\n",
    "    (\"This will be printed ocne at the end\")"
   ]
  },
  {
   "cell_type": "code",
   "execution_count": 17,
   "id": "abff210d",
   "metadata": {},
   "outputs": [
    {
     "name": "stdout",
     "output_type": "stream",
     "text": [
      "1\n",
      "2\n",
      "3\n",
      "4\n"
     ]
    }
   ],
   "source": [
    "for i in range(1, 10):\n",
    "    if i == 5:     \n",
    "        break\n",
    "    print(i)\n",
    "else:\n",
    "    (\"This will be printed once at the end\")"
   ]
  },
  {
   "cell_type": "code",
   "execution_count": 18,
   "id": "63923692",
   "metadata": {},
   "outputs": [
    {
     "name": "stdout",
     "output_type": "stream",
     "text": [
      "1\n",
      "2\n",
      "3\n",
      "4\n",
      "5\n",
      "6\n",
      "7\n",
      "8\n",
      "9\n"
     ]
    }
   ],
   "source": [
    "for i in range(1, 10):\n",
    "    print(i)\n",
    "else:\n",
    "    (\"End\")"
   ]
  },
  {
   "cell_type": "code",
   "execution_count": 20,
   "id": "778a4cf6",
   "metadata": {},
   "outputs": [
    {
     "name": "stdout",
     "output_type": "stream",
     "text": [
      "13\n",
      "Prime Number\n"
     ]
    }
   ],
   "source": [
    "# as of here if the number get divided by the i it will break the loop which means that its not prime\n",
    "# and in else statement if the number is not divided by the i which means its prime\n",
    "# if the loops get terminated by the break statement it will not go to the else statement\n",
    "n = int(input())\n",
    "for i in range(2,n):\n",
    "    if n % i == 0:\n",
    "        break\n",
    "else:\n",
    "    print(\"Prime Number\")"
   ]
  },
  {
   "cell_type": "markdown",
   "id": "da3c8925",
   "metadata": {},
   "source": [
    "### Continue Keyword"
   ]
  },
  {
   "cell_type": "code",
   "execution_count": 32,
   "id": "e8661c02",
   "metadata": {},
   "outputs": [
    {
     "name": "stdout",
     "output_type": "stream",
     "text": [
      "11\n",
      "Value  6  is skipped\n",
      "1\n",
      "2\n",
      "3\n",
      "4\n",
      "5\n",
      "7\n",
      "8\n",
      "9\n",
      "10\n",
      "11\n"
     ]
    }
   ],
   "source": [
    "# continue is used when we want to continue the loop even after the we satisfy with the result. And it skips the value\n",
    "# continue picks the next number after the condition is satisfied\n",
    "n = int(input())\n",
    "a = (n//2)+1\n",
    "print(\"Value \",a,\" is skipped\")\n",
    "for i in range(1, n+1):\n",
    "    if i == a:\n",
    "        continue\n",
    "    print(i)\n",
    "        "
   ]
  },
  {
   "cell_type": "code",
   "execution_count": 35,
   "id": "c8e538b2",
   "metadata": {},
   "outputs": [
    {
     "name": "stdout",
     "output_type": "stream",
     "text": [
      "100\n",
      "2\n",
      "4\n",
      "6\n",
      "8\n",
      "10\n",
      "12\n",
      "16\n",
      "18\n",
      "20\n",
      "22\n",
      "24\n",
      "26\n",
      "30\n",
      "32\n",
      "34\n",
      "36\n",
      "38\n",
      "40\n",
      "44\n",
      "46\n",
      "48\n",
      "50\n",
      "52\n",
      "54\n",
      "58\n",
      "60\n",
      "62\n",
      "64\n",
      "66\n",
      "68\n",
      "72\n",
      "74\n",
      "76\n",
      "78\n",
      "80\n",
      "82\n",
      "86\n",
      "88\n",
      "90\n",
      "92\n",
      "94\n",
      "96\n",
      "100\n"
     ]
    }
   ],
   "source": [
    "# as of here we divided i with the 7 which means that if the number is divided by the 7 the loop will continue but the number\n",
    "# divided by the 7 will be skipped\n",
    "n = int(input())\n",
    "for i in range(2, n+1, 2):\n",
    "    if i % 7 == 0:\n",
    "        continue\n",
    "    print(i)"
   ]
  },
  {
   "cell_type": "code",
   "execution_count": 1,
   "id": "cb0b3862",
   "metadata": {},
   "outputs": [
    {
     "name": "stdout",
     "output_type": "stream",
     "text": [
      "16\n",
      "2\n",
      "2\n",
      "4\n",
      "4\n",
      "6\n",
      "6\n",
      "8\n",
      "10\n",
      "10\n",
      "12\n",
      "12\n",
      "14\n",
      "14\n",
      "16\n"
     ]
    }
   ],
   "source": [
    "# as of here the first print(i) will display all the character means which are even given by the user\n",
    "# 2nd print(i) will skip the number which is divisible by the 7\n",
    "n = int(input())\n",
    "for i in range(2, n+1, 2):\n",
    "    print(i)\n",
    "    if i % 8 == 0:\n",
    "        continue\n",
    "    print(i)"
   ]
  },
  {
   "cell_type": "code",
   "execution_count": 53,
   "id": "559c5013",
   "metadata": {},
   "outputs": [
    {
     "name": "stdout",
     "output_type": "stream",
     "text": [
      "100\n",
      "2\n",
      "4\n",
      "6\n",
      "8\n",
      "10\n",
      "12\n"
     ]
    }
   ],
   "source": [
    "n = int(input())\n",
    "i = 2\n",
    "while i <= n:\n",
    "    if i % 7 == 0:\n",
    "        i = i + i\n",
    "        continue\n",
    "    print(i)\n",
    "    i = i + 2"
   ]
  },
  {
   "cell_type": "markdown",
   "id": "00783290",
   "metadata": {},
   "source": [
    "### Pass Statement"
   ]
  },
  {
   "cell_type": "code",
   "execution_count": 54,
   "id": "280d3dd9",
   "metadata": {},
   "outputs": [
    {
     "name": "stdout",
     "output_type": "stream",
     "text": [
      "SAHIL\n"
     ]
    }
   ],
   "source": [
    "# in python if we dont want any if statement to run we cannot keep it empty so to overcome we can use pass keyword\n",
    "# as here below I didnt do anything inside the if statement but i want to keep it but i want to print my name too so I used pass\n",
    "# pass is a dummy which means we want to write some code but dont know what to write but we will write afterword can use pass\n",
    "i = 3\n",
    "if i < 7:\n",
    "    pass\n",
    "print(\"SAHIL\")"
   ]
  },
  {
   "cell_type": "code",
   "execution_count": 55,
   "id": "437b4707",
   "metadata": {},
   "outputs": [
    {
     "name": "stdout",
     "output_type": "stream",
     "text": [
      "SAHIL\n"
     ]
    }
   ],
   "source": [
    "i = 1\n",
    "if i <= 3:\n",
    "    pass\n",
    "    i = i + 1\n",
    "print(\"SAHIL\")"
   ]
  },
  {
   "cell_type": "code",
   "execution_count": 56,
   "id": "04f4598c",
   "metadata": {},
   "outputs": [
    {
     "name": "stdout",
     "output_type": "stream",
     "text": [
      "Sahil\n"
     ]
    }
   ],
   "source": [
    "i = 10\n",
    "for j in range(1, i+1):\n",
    "    pass\n",
    "print(\"Sahil\")"
   ]
  },
  {
   "cell_type": "code",
   "execution_count": 58,
   "id": "78bded70",
   "metadata": {},
   "outputs": [
    {
     "name": "stdout",
     "output_type": "stream",
     "text": [
      "4\n",
      "1111\n",
      "000\n",
      "11\n",
      "0\n"
     ]
    }
   ],
   "source": [
    "n = int(input())\n",
    "for i in range(1, n+1):\n",
    "    for j in range(n, i-1, -1):\n",
    "        if i % 2 == 0:\n",
    "            print(\"0\", end=\"\")\n",
    "        else:\n",
    "            print(\"1\", end=\"\")\n",
    "    print()"
   ]
  },
  {
   "cell_type": "code",
   "execution_count": 60,
   "id": "f79be2ae",
   "metadata": {},
   "outputs": [
    {
     "name": "stdout",
     "output_type": "stream",
     "text": [
      "5\n",
      "3\n"
     ]
    }
   ],
   "source": [
    "n = int(input())\n",
    "print(n//2+1)"
   ]
  },
  {
   "cell_type": "code",
   "execution_count": 97,
   "id": "1c332e8f",
   "metadata": {},
   "outputs": [
    {
     "name": "stdout",
     "output_type": "stream",
     "text": [
      "7\n",
      "   *\n",
      "  ***\n",
      " *****\n",
      "*******\n",
      " *****\n",
      "  ***\n",
      "   *\n"
     ]
    }
   ],
   "source": [
    "n = int(input())\n",
    "n1 = (n // 2)+1\n",
    "n2 = (n // 2)\n",
    "\n",
    "# for n1 means half of the input + 1\n",
    "for i in range(1, n1+1):\n",
    "    spaces = n1 - i\n",
    "    for s in range(spaces):\n",
    "        print(\" \", end=\"\")\n",
    "    star = i + i - 1\n",
    "    for j in range(star):\n",
    "        print(\"*\", end=\"\")\n",
    "    print()\n",
    "\n",
    "# for n2 means 2nd part of the input\n",
    "for i in range(1, n2+1):\n",
    "    spaces = i\n",
    "    for s in range(spaces):\n",
    "        print(\" \", end=\"\")\n",
    "    star = (n2*2+ 1 - i)-i\n",
    "    for j in range(star):\n",
    "        print(\"*\", end=\"\")\n",
    "    print()\n",
    "\n",
    "    "
   ]
  },
  {
   "cell_type": "code",
   "execution_count": 37,
   "id": "ea09b382",
   "metadata": {},
   "outputs": [
    {
     "data": {
      "text/plain": [
       "33333"
      ]
     },
     "execution_count": 37,
     "metadata": {},
     "output_type": "execute_result"
    }
   ],
   "source": [
    "# print this pattern\n",
    "33333\n",
    "32223\n",
    "32123\n",
    "32223\n",
    "33333"
   ]
  },
  {
   "cell_type": "code",
   "execution_count": 87,
   "id": "3721ceac",
   "metadata": {},
   "outputs": [
    {
     "name": "stdout",
     "output_type": "stream",
     "text": [
      "3\n",
      "Your pattern :\n",
      "\n",
      "33333\n",
      "323\n",
      "323\n",
      "323\n",
      "33333\n"
     ]
    }
   ],
   "source": [
    "n = int(input())\n",
    "row = (n*2)-1\n",
    "print(\"Your pattern :\")\n",
    "print()\n",
    "for i in range(1, row+1):\n",
    "    for j in range(1, row+1):\n",
    "        if j == 1 or i == 1 or i == row:\n",
    "            print(n, end=\"\")\n",
    "        elif j == i :\n",
    "            print(n-1, end=\"\")\n",
    "        elif j == row:\n",
    "            print(n, end=\"\")\n",
    "    print()"
   ]
  },
  {
   "cell_type": "code",
   "execution_count": 95,
   "id": "6cab61a3",
   "metadata": {},
   "outputs": [
    {
     "name": "stdout",
     "output_type": "stream",
     "text": [
      "4\n",
      "1234\n",
      " 234\n",
      "  34\n",
      "   4\n",
      "  34\n",
      " 234\n",
      "1234\n"
     ]
    }
   ],
   "source": [
    "n = int(input( ))\n",
    "for i in range(1,n+1):\n",
    "    for s in range(i - 1):\n",
    "        print(\" \",end=\"\")\n",
    "    for j in range(i, n + 1):\n",
    "        print(j, end=\"\")\n",
    "    print()\n",
    "for i in range(1, n):\n",
    "    for s in range(n - i - 1):\n",
    "        print(\" \",end=\"\")\n",
    "    for j in range(n - i, n + 1):\n",
    "        print(j,end=\"\")\n",
    "    print()"
   ]
  },
  {
   "cell_type": "code",
   "execution_count": 94,
   "id": "7183f2ac",
   "metadata": {},
   "outputs": [
    {
     "name": "stdout",
     "output_type": "stream",
     "text": [
      "3\n",
      "33333\n",
      "32223\n",
      "32123\n",
      "32223\n",
      "33333\n"
     ]
    }
   ],
   "source": [
    "n = int(input())\n",
    "for i in range(1,n+1):\n",
    "\n",
    "    temp = n\n",
    "    for j in range(1,i):\n",
    "        print(temp, end=\"\")\n",
    "        temp = temp -1\n",
    "    for j in range(1, (2*n)- (2*i) + 2):\n",
    "        print(n-i+1, end=\"\")\n",
    "\n",
    "    for j in range(1,i):\n",
    "        temp = temp+1\n",
    "\n",
    "        print(temp, end=\"\")\n",
    "\n",
    "    print()\n",
    "\n",
    "\n",
    "\n",
    "for i in range(n-1,0,-1): \n",
    "    temp = n\n",
    "\n",
    "    for j in range(1,i): \n",
    "        print(temp, end=\"\")\n",
    "        temp = temp - 1\n",
    "    for j in range(1, (2*n) - (2*i) + 2):\n",
    "        print(n-i+1, end=\"\")\n",
    "    for j in range(1,i): \n",
    "        temp = temp+1\n",
    "        print(temp, end=\"\")\n",
    "    print()"
   ]
  },
  {
   "cell_type": "code",
   "execution_count": 92,
   "id": "47be65ed",
   "metadata": {},
   "outputs": [
    {
     "name": "stdout",
     "output_type": "stream",
     "text": [
      "4\n",
      "4444444\n",
      "4333334\n",
      "4322234\n",
      "4321234\n",
      "4322234\n",
      "4333334\n",
      "4444444\n"
     ]
    }
   ],
   "source": [
    "N = int(input())\n",
    "k= (2*N)-1\n",
    "l=0\n",
    "h=k-1\n",
    "v=N\n",
    "matrix = [[0 for i in range(k)] for j in range(k)]\n",
    "for i in range(N):\n",
    "    for j in range(l,h+1):\n",
    "        matrix[i][j]=v\n",
    "    for j in   range(l+1,h+1):  \n",
    "        matrix[j][i]=v\n",
    "    for j in   range(l+1,h+1):  \n",
    "        matrix[h][j]=v\n",
    "    for j in   range(l+1,h):  \n",
    "        matrix[j][h]=v        \n",
    "    l=l+1\n",
    "    h=h-1\n",
    "    v=v-1\n",
    "for i in range(k):        \n",
    "    for j in range(k):\n",
    "        print(matrix[i][j],end='')\n",
    "    print()  "
   ]
  },
  {
   "cell_type": "code",
   "execution_count": 4,
   "id": "08148087",
   "metadata": {},
   "outputs": [
    {
     "name": "stdout",
     "output_type": "stream",
     "text": [
      "7\n",
      "1 2 3 4 5 6 7 \n",
      "15 16 17 18 19 20 21 \n",
      "29 30 31 32 33 34 35 \n",
      "43 44 45 46 47 48 49 \n",
      "36 37 38 39 40 41 42 \n",
      "22 23 24 25 26 27 28 \n",
      "8 9 10 11 12 13 14 \n"
     ]
    }
   ],
   "source": [
    "n = int(input())\n",
    "k=n//2\n",
    "if n%2!=0:\n",
    "    k+=1\n",
    "for i in range(k):\n",
    "    for j in range(1,n+1):\n",
    "   \n",
    "            print(n*2*i + j ,end = \" \");\n",
    "        \n",
    "               \n",
    "    print() \n",
    "    \n",
    "for i in range(n//2,0,-1):\n",
    "     for j in range(1,n+1):\n",
    "\n",
    "            print(n*(2*i-1) + j , end = \" \")\n",
    "\n",
    "      \n",
    "     print()"
   ]
  },
  {
   "cell_type": "code",
   "execution_count": null,
   "id": "072d3947",
   "metadata": {},
   "outputs": [],
   "source": []
  }
 ],
 "metadata": {
  "kernelspec": {
   "display_name": "Python 3 (ipykernel)",
   "language": "python",
   "name": "python3"
  },
  "language_info": {
   "codemirror_mode": {
    "name": "ipython",
    "version": 3
   },
   "file_extension": ".py",
   "mimetype": "text/x-python",
   "name": "python",
   "nbconvert_exporter": "python",
   "pygments_lexer": "ipython3",
   "version": "3.10.7"
  }
 },
 "nbformat": 4,
 "nbformat_minor": 5
}
