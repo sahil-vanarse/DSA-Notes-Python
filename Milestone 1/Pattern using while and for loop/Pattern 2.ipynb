{
 "cells": [
  {
   "cell_type": "markdown",
   "id": "c70d6942",
   "metadata": {},
   "source": [
    "****\n",
    "***\n",
    "**\n",
    "*"
   ]
  },
  {
   "cell_type": "code",
   "execution_count": 81,
   "id": "f5df78c2",
   "metadata": {},
   "outputs": [
    {
     "name": "stdout",
     "output_type": "stream",
     "text": [
      "4\n",
      "****\n",
      "***\n",
      "**\n",
      "*\n"
     ]
    }
   ],
   "source": [
    "n = int(input())\n",
    "i = 1\n",
    "while i <= n:\n",
    "    j = 1\n",
    "    while j <= n-i+1:\n",
    "        print(\"*\", end=\"\")\n",
    "        j += 1\n",
    "    print()\n",
    "    i += 1"
   ]
  },
  {
   "cell_type": "code",
   "execution_count": 83,
   "id": "4793efa7",
   "metadata": {},
   "outputs": [
    {
     "name": "stdout",
     "output_type": "stream",
     "text": [
      "4\n",
      "1234\n",
      "123\n",
      "12\n",
      "1\n"
     ]
    }
   ],
   "source": [
    "n = int(input())\n",
    "i = 1\n",
    "while i <= n:\n",
    "    j = 1\n",
    "    while j <= n-i+1:\n",
    "        print(j, end=\"\")\n",
    "        j += 1\n",
    "    print()\n",
    "    i += 1"
   ]
  },
  {
   "cell_type": "code",
   "execution_count": 77,
   "id": "e1ecb941",
   "metadata": {},
   "outputs": [
    {
     "name": "stdout",
     "output_type": "stream",
     "text": [
      "4\n",
      "****\n",
      "***\n",
      "**\n",
      "*\n"
     ]
    }
   ],
   "source": [
    "n = int(input())\n",
    "i = 1\n",
    "while i <= n:\n",
    "    j = n\n",
    "    while j >= i:\n",
    "        print(\"*\", end=\"\")\n",
    "        j -= 1\n",
    "    print()\n",
    "    i += 1"
   ]
  },
  {
   "cell_type": "code",
   "execution_count": 84,
   "id": "fac9e98a",
   "metadata": {},
   "outputs": [
    {
     "name": "stdout",
     "output_type": "stream",
     "text": [
      "4\n",
      "4321\n",
      "432\n",
      "43\n",
      "4\n"
     ]
    }
   ],
   "source": [
    "n = int(input())\n",
    "i = 1\n",
    "while i <= n:\n",
    "    j = n\n",
    "    while j >= i:\n",
    "        print(j, end=\"\")\n",
    "        j -= 1\n",
    "    print()\n",
    "    i += 1"
   ]
  },
  {
   "cell_type": "code",
   "execution_count": 79,
   "id": "07247629",
   "metadata": {},
   "outputs": [
    {
     "name": "stdout",
     "output_type": "stream",
     "text": [
      "4\n",
      "   *\n",
      "  **\n",
      " ***\n",
      "****\n"
     ]
    }
   ],
   "source": [
    "n = int(input())\n",
    "i = 1\n",
    "while i <= n:\n",
    "    spaces = 1\n",
    "    while spaces <= n - i :\n",
    "        print(\" \", end=\"\")\n",
    "        spaces += 1\n",
    "    stars = 1\n",
    "    while stars <= i:\n",
    "        print(\"*\", end=\"\")\n",
    "        stars += 1\n",
    "    print()\n",
    "    i += 1"
   ]
  },
  {
   "cell_type": "code",
   "execution_count": 2,
   "id": "b0bd1aff",
   "metadata": {},
   "outputs": [
    {
     "name": "stdout",
     "output_type": "stream",
     "text": [
      "4\n",
      "   1\n",
      "  12\n",
      " 123\n",
      "1234\n"
     ]
    }
   ],
   "source": [
    "n = int(input())\n",
    "i = 1\n",
    "while i <= n:\n",
    "    spaces = 1\n",
    "    while spaces <= n - i:\n",
    "        print(\" \", end=\"\")\n",
    "        spaces += 1\n",
    "    num = 1\n",
    "    while num <= i:\n",
    "        print(num, end=\"\")\n",
    "        num += 1\n",
    "    print()\n",
    "    i += 1"
   ]
  },
  {
   "cell_type": "code",
   "execution_count": 97,
   "id": "91938f63",
   "metadata": {},
   "outputs": [
    {
     "name": "stdout",
     "output_type": "stream",
     "text": [
      "4\n",
      "   1\n",
      "  121\n",
      " 12321\n",
      "1234321\n"
     ]
    }
   ],
   "source": [
    "n = int(input())\n",
    "i = 1\n",
    "while i <= n:\n",
    "    spaces = 1\n",
    "    while spaces <= n - i:\n",
    "        print(\" \", end=\"\")\n",
    "        spaces += 1\n",
    "    j = 1\n",
    "    num = 1\n",
    "    while j <= i:\n",
    "        print(num, end=\"\")  \n",
    "        j += 1\n",
    "        num += 1\n",
    "    num = i - 1\n",
    "    while num >= 1:\n",
    "        print(num, end=\"\")\n",
    "        num -= 1\n",
    "    print()\n",
    "    i += 1"
   ]
  },
  {
   "cell_type": "code",
   "execution_count": 58,
   "id": "6c98d8a9",
   "metadata": {},
   "outputs": [
    {
     "name": "stdout",
     "output_type": "stream",
     "text": [
      "4\n",
      "   *\n",
      "  ***\n",
      " *****\n",
      "*******\n"
     ]
    }
   ],
   "source": [
    "n = int(input())\n",
    "i = 1\n",
    "while i <= n:\n",
    "    spaces = 1\n",
    "    while spaces <= n - i:\n",
    "        print(\" \", end=\"\")\n",
    "        spaces = spaces + 1\n",
    "    j = 1\n",
    "    star = 1\n",
    "    while j <= i:\n",
    "        print(\"*\", end=\"\")\n",
    "        star = star + 1\n",
    "        j = j + 1\n",
    "    star = i - 1\n",
    "    while star >= 1:\n",
    "        print(\"*\", end=\"\")\n",
    "        star = star - 1 \n",
    "    print()\n",
    "    i = i + 1"
   ]
  },
  {
   "cell_type": "code",
   "execution_count": 110,
   "id": "1bd6cc93",
   "metadata": {},
   "outputs": [
    {
     "name": "stdout",
     "output_type": "stream",
     "text": [
      "4\n",
      "   1\n",
      "  232\n",
      " 34543\n",
      "4567654\n"
     ]
    }
   ],
   "source": [
    "n = int(input())\n",
    "i = 1\n",
    "while i <= n:\n",
    "    spaces = 1\n",
    "    while spaces <= n - i:\n",
    "        print(\" \", end=\"\")\n",
    "        spaces = spaces + 1\n",
    "    j = 1\n",
    "    p=i\n",
    "    while j <= i:\n",
    "        print(p, end=\"\")\n",
    "        j = j + 1\n",
    "        p+=1\n",
    "    p=p-2\n",
    "    while p>=i:\n",
    "        print(p,end=\"\")\n",
    "        p-=1\n",
    "    print()\n",
    "    i = i + 1\n",
    "        "
   ]
  },
  {
   "cell_type": "code",
   "execution_count": 11,
   "id": "e38e52ef",
   "metadata": {},
   "outputs": [
    {
     "name": "stdout",
     "output_type": "stream",
     "text": [
      "5\n",
      "  *\n",
      " ***\n",
      "*****\n",
      " ***\n",
      "  *\n"
     ]
    }
   ],
   "source": [
    "n = int(input())\n",
    "firstHalf = (n + 1) // 2\n",
    "secondHalf = n // 2\n",
    "#First Half\n",
    "currRow = 1 \n",
    "while currRow <= firstHalf:\n",
    "    spaces = 1 \n",
    "    while spaces <= (firstHalf - currRow) :\n",
    "        print(\" \", end = \"\")\n",
    "        spaces += 1\n",
    "    currCol = 1\n",
    "    while currCol <= (2 * currRow) - 1 :\n",
    "        print(\"*\", end = \"\")\n",
    "        currCol += 1\n",
    "        \n",
    "    print()\n",
    "    currRow += 1\n",
    "#Second Half \n",
    "currRow = secondHalf \n",
    "while currRow >= 1 :\n",
    "    spaces = 1\n",
    "    while spaces <= (secondHalf - currRow + 1) :\n",
    "        print(\" \", end = \"\") \n",
    "        spaces += 1\n",
    "    currCol = 1 \n",
    "    while currCol <= (2 * currRow) - 1 :\n",
    "        print(\"*\", end = \"\") \n",
    "        currCol += 1\n",
    "    \n",
    "    print()\n",
    "    currRow -= 1"
   ]
  },
  {
   "cell_type": "code",
   "execution_count": 119,
   "id": "bd5a057c",
   "metadata": {},
   "outputs": [
    {
     "name": "stdout",
     "output_type": "stream",
     "text": [
      "4\n",
      "1      1\n",
      "12    21\n",
      "123  321\n",
      "12344321\n"
     ]
    }
   ],
   "source": [
    "n = int(input())\n",
    "i=1\n",
    "\n",
    "while i <= n:\n",
    "    j=1\n",
    "    while j <= i:\n",
    "        print(j,end='')\n",
    "        j = j + 1\n",
    "        \n",
    "    sp = 1\n",
    "    while sp <= 2*(n - i):\n",
    "        print(' ',end ='')\n",
    "        sp = sp + 1\n",
    "        \n",
    "    p = i\n",
    "    j = 1\n",
    "    while j <= i:\n",
    "        print(p,end = '')\n",
    "        p = p - 1\n",
    "        j = j + 1\n",
    "    \n",
    "    print()\n",
    "    i=i+1"
   ]
  },
  {
   "cell_type": "code",
   "execution_count": 2,
   "id": "c04ea04a",
   "metadata": {},
   "outputs": [
    {
     "name": "stdout",
     "output_type": "stream",
     "text": [
      "3\n",
      "*00*00*\n",
      "0*0*0*0\n",
      "00***00\n"
     ]
    }
   ],
   "source": [
    "n = int(input())\n",
    "rows = 2*n + 1\n",
    "i = 1\n",
    "\n",
    "while i <= n:\n",
    "    j = 1\n",
    "    while j <= rows:\n",
    "        if(j == i or j == (rows // 2 + 1) or j == rows - i +1):\n",
    "            print('*',end = '')\n",
    "            \n",
    "        else:\n",
    "            print('0',end = '')\n",
    "\n",
    "        j = j + 1\n",
    "        \n",
    "    print()\n",
    "    i = i + 1"
   ]
  },
  {
   "cell_type": "code",
   "execution_count": 112,
   "id": "075cecf9",
   "metadata": {},
   "outputs": [
    {
     "name": "stdout",
     "output_type": "stream",
     "text": [
      "4\n",
      "   1\n",
      "  212\n",
      " 32123\n",
      "4321234\n"
     ]
    }
   ],
   "source": [
    "n = int(input())\n",
    "i = 1\n",
    "while i <= n:\n",
    "    spaces = 1\n",
    "    while spaces <= n - i:\n",
    "        print(\" \", end=\"\")\n",
    "        spaces = spaces + 1\n",
    "    p = i\n",
    "    j = 1\n",
    "    while j <= i:\n",
    "        print(p, end=\"\")\n",
    "        p = p - 1\n",
    "        j = j + 1\n",
    "    p = p + 2\n",
    "    while p <= i:\n",
    "        print(p, end=\"\")\n",
    "        p = p + 1\n",
    "    print()\n",
    "    i = i + 1"
   ]
  },
  {
   "cell_type": "code",
   "execution_count": 126,
   "id": "d773bc12",
   "metadata": {},
   "outputs": [
    {
     "name": "stdout",
     "output_type": "stream",
     "text": [
      "5\n",
      "* \n",
      " * * \n",
      "  * * * \n",
      " * * \n",
      "* \n"
     ]
    }
   ],
   "source": [
    "N = int(input())\n",
    "N1 = (N // 2) + 1\n",
    "N2 = N // 2\n",
    "\n",
    "for i in range(1, N1 + 1):\n",
    "    spaces = i - 1\n",
    "    for _ in range(spaces):\n",
    "        print(\" \", end=\"\")\n",
    "    stars = i\n",
    "    for _ in range(stars):\n",
    "        print(\"* \", end=\"\")\n",
    "    print()\n",
    "\n",
    "for i in range(1, N2 + 1):\n",
    "    spaces = N2 - i\n",
    "    for _ in range(spaces):\n",
    "        print(\" \", end=\"\")\n",
    "    stars = N2 - i + 1\n",
    "    for _ in range(stars):\n",
    "        print(\"* \", end=\"\")\n",
    "    print()## Read input as specified in the question.\n",
    "## Print output as specified in the question.\n"
   ]
  },
  {
   "cell_type": "code",
   "execution_count": 127,
   "id": "591c00e5",
   "metadata": {},
   "outputs": [
    {
     "name": "stdout",
     "output_type": "stream",
     "text": [
      "1 2 "
     ]
    }
   ],
   "source": [
    "i=1\n",
    "while i<5:\n",
    "    if i==3:\n",
    "        break\n",
    "    print(i,end=\" \")\n",
    "    i = i +1"
   ]
  },
  {
   "cell_type": "code",
   "execution_count": 128,
   "id": "f5ed26e0",
   "metadata": {},
   "outputs": [
    {
     "name": "stdout",
     "output_type": "stream",
     "text": [
      "1 2 1 2 "
     ]
    }
   ],
   "source": [
    "i=1\n",
    "while i<3:\n",
    "    j=1\n",
    "    while j<5:\n",
    "        if j==3:\n",
    "            break\n",
    "        print(j,end=\" \")\n",
    "        j = j + 1\n",
    "    i = i + 1"
   ]
  },
  {
   "cell_type": "code",
   "execution_count": null,
   "id": "dcb54bf0",
   "metadata": {},
   "outputs": [],
   "source": []
  }
 ],
 "metadata": {
  "kernelspec": {
   "display_name": "Python 3 (ipykernel)",
   "language": "python",
   "name": "python3"
  },
  "language_info": {
   "codemirror_mode": {
    "name": "ipython",
    "version": 3
   },
   "file_extension": ".py",
   "mimetype": "text/x-python",
   "name": "python",
   "nbconvert_exporter": "python",
   "pygments_lexer": "ipython3",
   "version": "3.10.7"
  }
 },
 "nbformat": 4,
 "nbformat_minor": 5
}
