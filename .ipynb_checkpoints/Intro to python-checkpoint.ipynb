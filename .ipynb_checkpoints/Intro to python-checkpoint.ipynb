{
 "cells": [
  {
   "cell_type": "markdown",
   "id": "4b2c1646",
   "metadata": {},
   "source": [
    "## Basic Python Program"
   ]
  },
  {
   "cell_type": "code",
   "execution_count": 1,
   "id": "909f79e6",
   "metadata": {},
   "outputs": [
    {
     "name": "stdout",
     "output_type": "stream",
     "text": [
      "Hello World\n"
     ]
    }
   ],
   "source": [
    "print(\"Hello World\")"
   ]
  },
  {
   "cell_type": "markdown",
   "id": "05cd5b95",
   "metadata": {},
   "source": [
    "## Variables"
   ]
  },
  {
   "cell_type": "code",
   "execution_count": 2,
   "id": "869219df",
   "metadata": {},
   "outputs": [
    {
     "name": "stdout",
     "output_type": "stream",
     "text": [
      "30\n",
      "30\n"
     ]
    }
   ],
   "source": [
    "a=10\n",
    "b=20 \n",
    "\n",
    "# direct calculations\n",
    "print(a+b)\n",
    "\n",
    "# assigned a variable to the calculations and printed the variable which contains the calculations\n",
    "sum=a+b\n",
    "print(sum)"
   ]
  },
  {
   "cell_type": "markdown",
   "id": "5ba67080",
   "metadata": {},
   "source": [
    "## Variable Namings"
   ]
  },
  {
   "cell_type": "code",
   "execution_count": 3,
   "id": "554ce645",
   "metadata": {},
   "outputs": [],
   "source": [
    "abc = 10\n",
    "_abc = 10\n",
    "ab_c12 = 10\n",
    "# we cannot name variable with the digits\n",
    "# we do not need to store the \n",
    "# values are stored in the binary form\n",
    "# variable is just the address of the some storage \n"
   ]
  },
  {
   "cell_type": "markdown",
   "id": "3f62deff",
   "metadata": {},
   "source": [
    "## Assigning different type of data to the variable"
   ]
  },
  {
   "cell_type": "code",
   "execution_count": 4,
   "id": "fa2f7ef9",
   "metadata": {},
   "outputs": [
    {
     "name": "stdout",
     "output_type": "stream",
     "text": [
      "<class 'int'>\n",
      "Sahil\n"
     ]
    },
    {
     "data": {
      "text/plain": [
       "str"
      ]
     },
     "execution_count": 4,
     "metadata": {},
     "output_type": "execute_result"
    }
   ],
   "source": [
    "# in python we do not need to assign the data type it automatically detects the data type adn assign to it\n",
    "# type fuction gives the type of the data \n",
    "a=10\n",
    "print(type(a))\n",
    "a=20\n",
    "a=\"Sahil\"\n",
    "print(a)\n",
    "type(a)"
   ]
  },
  {
   "cell_type": "markdown",
   "id": "ba66a84c",
   "metadata": {},
   "source": [
    "## Python Number"
   ]
  },
  {
   "cell_type": "code",
   "execution_count": 5,
   "id": "cb938054",
   "metadata": {},
   "outputs": [
    {
     "name": "stdout",
     "output_type": "stream",
     "text": [
      "10\n",
      "3.4\n",
      "(4+5j)\n",
      "<class 'int'>\n",
      "<class 'float'>\n",
      "<class 'complex'>\n"
     ]
    }
   ],
   "source": [
    "# in python we do not need to define the data type. Once we assign the value it will automatically tak the space\n",
    "a1 = 10\n",
    "a2 = 3.4\n",
    "a3 = 4 + 5j\n",
    "print(a1)\n",
    "print(a2)\n",
    "print(a3)\n",
    "print(type(a1))\n",
    "print(type(a2))\n",
    "print(type(a3))"
   ]
  },
  {
   "cell_type": "code",
   "execution_count": 6,
   "id": "cf2c5a15",
   "metadata": {},
   "outputs": [
    {
     "name": "stdout",
     "output_type": "stream",
     "text": [
      "2507173593616\n",
      "2507173593648\n",
      "11\n"
     ]
    }
   ],
   "source": [
    "# when we change the data the first data will contain the unique id and the second data will contain the unique id. Which means b was pointing to some other storage and when we did b=b+1 this has some other storage\n",
    "b = 10\n",
    "print(id(b))\n",
    "b = b + 1\n",
    "print(id(b))\n",
    "print(b)"
   ]
  },
  {
   "cell_type": "code",
   "execution_count": 7,
   "id": "0d1c6266",
   "metadata": {},
   "outputs": [
    {
     "name": "stdout",
     "output_type": "stream",
     "text": [
      "2507173593616\n",
      "2507173593616\n"
     ]
    }
   ],
   "source": [
    "# when there is same data present in the variables it will point to the one storage\n",
    "c = 10\n",
    "d = 10\n",
    "print(id(c))\n",
    "print(id(d))"
   ]
  },
  {
   "cell_type": "code",
   "execution_count": 8,
   "id": "53728371",
   "metadata": {},
   "outputs": [
    {
     "name": "stdout",
     "output_type": "stream",
     "text": [
      "2507251574704\n",
      "2507251568304\n"
     ]
    }
   ],
   "source": [
    "# python only store the same data from -5 to 256. After that even if the values of different variables are same it will have different storage\n",
    "f = 1000\n",
    "g = 1000\n",
    "print(id(f))\n",
    "print(id(g))"
   ]
  },
  {
   "cell_type": "code",
   "execution_count": 9,
   "id": "aea1df8f",
   "metadata": {},
   "outputs": [
    {
     "name": "stdout",
     "output_type": "stream",
     "text": [
      "2507173593616\n",
      "2507173593616\n"
     ]
    }
   ],
   "source": [
    "a= 10\n",
    "id1 =id(a)\n",
    "b= 10+2-2\n",
    "id2 =id(b)\n",
    "print(id1)\n",
    "print(id2)"
   ]
  },
  {
   "cell_type": "markdown",
   "id": "51fa953b",
   "metadata": {},
   "source": [
    "## Arithematic Operations "
   ]
  },
  {
   "cell_type": "code",
   "execution_count": 10,
   "id": "45336c57",
   "metadata": {},
   "outputs": [
    {
     "name": "stdout",
     "output_type": "stream",
     "text": [
      "14\n",
      "6\n",
      "40\n",
      "2.5\n",
      "2\n",
      "10000\n",
      "2\n"
     ]
    }
   ],
   "source": [
    "a = 10\n",
    "b = 4\n",
    "print(a+b) # addition\n",
    "print(a-b) # substraction\n",
    "print(a*b) # multiplication\n",
    "print(a/b) # float point division\n",
    "print(a%b) # modulus(remainder)\n",
    "print(a**b) # exponential(power to)\n",
    "print(a//b) # interger division"
   ]
  },
  {
   "cell_type": "code",
   "execution_count": 11,
   "id": "c80dde05",
   "metadata": {},
   "outputs": [
    {
     "data": {
      "text/plain": [
       "1.5"
      ]
     },
     "execution_count": 11,
     "metadata": {},
     "output_type": "execute_result"
    }
   ],
   "source": [
    "2 * 3 / 4"
   ]
  },
  {
   "cell_type": "code",
   "execution_count": 12,
   "id": "e20a2558",
   "metadata": {},
   "outputs": [
    {
     "data": {
      "text/plain": [
       "1"
      ]
     },
     "execution_count": 12,
     "metadata": {},
     "output_type": "execute_result"
    }
   ],
   "source": [
    "2 * 3 // 4"
   ]
  },
  {
   "cell_type": "code",
   "execution_count": 13,
   "id": "a3035b9d",
   "metadata": {},
   "outputs": [
    {
     "data": {
      "text/plain": [
       "24"
      ]
     },
     "execution_count": 13,
     "metadata": {},
     "output_type": "execute_result"
    }
   ],
   "source": [
    "# simple interest \n",
    "p = 100\n",
    "r = 12\n",
    "t = 2\n",
    "si = (p*r*t)//100\n",
    "si"
   ]
  },
  {
   "cell_type": "code",
   "execution_count": 14,
   "id": "0476c2f2",
   "metadata": {},
   "outputs": [
    {
     "data": {
      "text/plain": [
       "37"
      ]
     },
     "execution_count": 14,
     "metadata": {},
     "output_type": "execute_result"
    }
   ],
   "source": [
    "# fah to celcius conversion\n",
    "f = 100\n",
    "c = (f-32)*5//9\n",
    "c"
   ]
  },
  {
   "cell_type": "code",
   "execution_count": 15,
   "id": "e6ed7eaf",
   "metadata": {},
   "outputs": [
    {
     "name": "stdout",
     "output_type": "stream",
     "text": [
      "1\n"
     ]
    }
   ],
   "source": [
    "print(17//10)"
   ]
  },
  {
   "cell_type": "markdown",
   "id": "a9e001fc",
   "metadata": {},
   "source": [
    "## Taking Input"
   ]
  },
  {
   "cell_type": "code",
   "execution_count": 16,
   "id": "4a061013",
   "metadata": {},
   "outputs": [
    {
     "name": "stdout",
     "output_type": "stream",
     "text": [
      "12\n"
     ]
    },
    {
     "data": {
      "text/plain": [
       "'12'"
      ]
     },
     "execution_count": 16,
     "metadata": {},
     "output_type": "execute_result"
    }
   ],
   "source": [
    "# input command always gives str\n",
    "a=input()\n",
    "a"
   ]
  },
  {
   "cell_type": "code",
   "execution_count": 17,
   "id": "2a2345cc",
   "metadata": {},
   "outputs": [
    {
     "name": "stdout",
     "output_type": "stream",
     "text": [
      "12\n",
      "12\n",
      "1212\n",
      "<class 'str'>\n",
      "<class 'str'>\n"
     ]
    }
   ],
   "source": [
    "# this will concatinate the str \n",
    "g=input()\n",
    "h=input()\n",
    "print(g+h)\n",
    "print(type(g))\n",
    "print(type(h))"
   ]
  },
  {
   "cell_type": "code",
   "execution_count": 18,
   "id": "b08d9b55",
   "metadata": {},
   "outputs": [
    {
     "name": "stdout",
     "output_type": "stream",
     "text": [
      "<class 'int'>\n"
     ]
    }
   ],
   "source": [
    "c=\"34\"\n",
    "k=int(c)\n",
    "print(type(k))"
   ]
  },
  {
   "cell_type": "code",
   "execution_count": 19,
   "id": "4146d0dd",
   "metadata": {},
   "outputs": [
    {
     "name": "stdout",
     "output_type": "stream",
     "text": [
      "512345\n",
      "234234\n",
      "234234\n"
     ]
    },
    {
     "data": {
      "text/plain": [
       "281100987996028.0"
      ]
     },
     "execution_count": 19,
     "metadata": {},
     "output_type": "execute_result"
    }
   ],
   "source": [
    "# simple interest by taking input from the user\n",
    "p = float(input())\n",
    "r = float(input())\n",
    "t = float(input())\n",
    "si = (p*r*t)//100\n",
    "si"
   ]
  },
  {
   "cell_type": "code",
   "execution_count": 20,
   "id": "7549953c",
   "metadata": {},
   "outputs": [
    {
     "name": "stdout",
     "output_type": "stream",
     "text": [
      "Enter a Fahreinait : 234\n"
     ]
    },
    {
     "data": {
      "text/plain": [
       "112"
      ]
     },
     "execution_count": 20,
     "metadata": {},
     "output_type": "execute_result"
    }
   ],
   "source": [
    "f = int(input(\"Enter a Fahreinait : \"))\n",
    "c = (f-32)*5//9\n",
    "c"
   ]
  }
 ],
 "metadata": {
  "kernelspec": {
   "display_name": "Python 3 (ipykernel)",
   "language": "python",
   "name": "python3"
  },
  "language_info": {
   "codemirror_mode": {
    "name": "ipython",
    "version": 3
   },
   "file_extension": ".py",
   "mimetype": "text/x-python",
   "name": "python",
   "nbconvert_exporter": "python",
   "pygments_lexer": "ipython3",
   "version": "3.10.7"
  }
 },
 "nbformat": 4,
 "nbformat_minor": 5
}
