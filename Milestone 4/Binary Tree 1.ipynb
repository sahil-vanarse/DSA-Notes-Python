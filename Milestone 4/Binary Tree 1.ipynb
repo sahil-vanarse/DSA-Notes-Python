{
 "cells": [
  {
   "cell_type": "markdown",
   "id": "c69eb28e",
   "metadata": {},
   "source": [
    "### The tree is known as binary tree when each nodes has 0, 1 or max to max 2 nodes"
   ]
  },
  {
   "cell_type": "markdown",
   "id": "9c4563c2",
   "metadata": {},
   "source": [
    "### The top most data of the tree is know as Root and its children are known as nodes"
   ]
  },
  {
   "cell_type": "markdown",
   "id": "9887bfcf",
   "metadata": {},
   "source": [
    "### Root is very important node"
   ]
  },
  {
   "cell_type": "markdown",
   "id": "dff8abbd",
   "metadata": {},
   "source": [
    "### In generic trees it can have number of childrens"
   ]
  },
  {
   "cell_type": "markdown",
   "id": "8261f30d",
   "metadata": {},
   "source": [
    "### Parent(Top most data) as known as Root-> Child (Relation between child is known as Siblings) -> Leaf (End of the tree) it is nodes without children"
   ]
  },
  {
   "cell_type": "markdown",
   "id": "e47d07fa",
   "metadata": {},
   "source": [
    "### Anchestor means nodes Parent, then Grandparent of the node, GreatGrandparent of the node and so on till the Root"
   ]
  },
  {
   "cell_type": "markdown",
   "id": "722de1b1",
   "metadata": {},
   "source": [
    "### Tree will never have a cycle"
   ]
  },
  {
   "cell_type": "code",
   "execution_count": 1,
   "id": "80afc1bb",
   "metadata": {},
   "outputs": [],
   "source": [
    "class BinaryTreeNode:\n",
    "    def __init__(self,data):\n",
    "        self.data = data\n",
    "        self.left = None\n",
    "        self.right = None"
   ]
  },
  {
   "cell_type": "code",
   "execution_count": 2,
   "id": "6065341e",
   "metadata": {},
   "outputs": [],
   "source": [
    "def printTree(root):\n",
    "    if root == None:\n",
    "        # we need to write only return because if we return head all time it will return only 1\n",
    "        return\n",
    "    \n",
    "    # this will print the root first\n",
    "    print(root.data)\n",
    "    \n",
    "    # then it will make the call to the left and that recursive make the call to the left right of the child\n",
    "    printTree(root.left)\n",
    "    \n",
    "    # then it will make the call to the right and that recursive make the call to the left right of the child\n",
    "    printTree(root.right)"
   ]
  },
  {
   "cell_type": "code",
   "execution_count": 31,
   "id": "0b1a026e",
   "metadata": {},
   "outputs": [],
   "source": [
    "def printTreeDetailed(root):\n",
    "    if root == None:\n",
    "        return \n",
    "    print(root.data, end=\" : \")\n",
    "    if root.left != None:\n",
    "        print(\"L = \",root.left.data, end=\" , \")\n",
    "    if root.right != None:\n",
    "        print(\"R = \",root.right.data, end=\" \")\n",
    "    print()\n",
    "    printTreeDetailed(root.left)\n",
    "    printTreeDetailed(root.right)\n",
    "    "
   ]
  },
  {
   "cell_type": "code",
   "execution_count": 15,
   "id": "f22e1d11",
   "metadata": {},
   "outputs": [],
   "source": [
    "btn1 = BinaryTreeNode(1)\n",
    "btn2 = BinaryTreeNode(2)\n",
    "btn3 = BinaryTreeNode(3)\n",
    "btn4 = BinaryTreeNode(4)\n",
    "btn5 = BinaryTreeNode(5)"
   ]
  },
  {
   "cell_type": "code",
   "execution_count": 16,
   "id": "e7b3bc85",
   "metadata": {},
   "outputs": [],
   "source": [
    "btn1.left = btn2\n",
    "btn1.right = btn3\n",
    "btn2.left = btn4\n",
    "btn2.right = btn5"
   ]
  },
  {
   "cell_type": "code",
   "execution_count": 17,
   "id": "d89c8e90",
   "metadata": {},
   "outputs": [],
   "source": [
    "# As above see that btn1 will have the value 5 and left and right is still none then we have created again two instance ie \n",
    "# btn2 and btn3 ,and attached that instances to the btn1.left and btn1.right means that the left and right will be 3 and 4 \n",
    "# for the btn1 and hence it will be the binary tree"
   ]
  },
  {
   "cell_type": "code",
   "execution_count": 18,
   "id": "b789cd2b",
   "metadata": {},
   "outputs": [
    {
     "name": "stdout",
     "output_type": "stream",
     "text": [
      "1 : L :  2 , R :  3 \n",
      "2 : L :  4 , R :  5 \n",
      "4 : \n",
      "5 : \n",
      "3 : \n"
     ]
    }
   ],
   "source": [
    "printTreeDetailed(btn1)"
   ]
  },
  {
   "cell_type": "code",
   "execution_count": 24,
   "id": "245252d4-33e3-42be-bbc6-7da0cbb9fea4",
   "metadata": {},
   "outputs": [],
   "source": [
    "# Input of binary tree\n",
    "def treeInput():\n",
    "    rootdata = int(input())\n",
    "    if rootdata == -1:\n",
    "        return None\n",
    "    root = BinaryTreeNode(rootdata)\n",
    "    leftTree = treeInput()\n",
    "    rightTree = treeInput()\n",
    "    root.left = leftTree\n",
    "    root.right = rightTree\n",
    "    return root"
   ]
  },
  {
   "cell_type": "code",
   "execution_count": 34,
   "id": "e14a06e1-0926-410c-8f01-db0e72027886",
   "metadata": {},
   "outputs": [
    {
     "name": "stdin",
     "output_type": "stream",
     "text": [
      " 1\n",
      " 2\n",
      " 8\n",
      " -1\n",
      " -1\n",
      " 9\n",
      " -1\n",
      " -1\n",
      " 3\n",
      " 6\n",
      " -1\n",
      " -1\n",
      " 7\n",
      " -1\n",
      " -1\n"
     ]
    },
    {
     "name": "stdout",
     "output_type": "stream",
     "text": [
      "1 : L =  2 , R =  3 \n",
      "2 : L =  8 , R =  9 \n",
      "8 : \n",
      "9 : \n",
      "3 : L =  6 , R =  7 \n",
      "6 : \n",
      "7 : \n"
     ]
    }
   ],
   "source": [
    "root = treeInput()\n",
    "printTreeDetailed(root)"
   ]
  },
  {
   "cell_type": "code",
   "execution_count": 1,
   "id": "9ae2e530-8a3c-43a3-ad0d-781f5ba1157d",
   "metadata": {},
   "outputs": [
    {
     "name": "stdin",
     "output_type": "stream",
     "text": [
      " 1\n",
      " 2\n",
      " -1\n",
      " -1\n",
      " 3\n",
      " 4\n",
      " -1\n",
      " -1\n",
      " 5\n",
      " -1\n",
      " -1\n"
     ]
    },
    {
     "name": "stdout",
     "output_type": "stream",
     "text": [
      "1 : left Node Value :  2 , right Node value :  3\n",
      "2 : \n",
      "3 : left Node Value :  4 , right Node value :  5\n",
      "4 : \n",
      "5 : \n"
     ]
    }
   ],
   "source": [
    "# Number of nodes in binary tree\n",
    "class BTree:\n",
    "    def __init__(self,data):\n",
    "        self.data = data\n",
    "        self.left = None\n",
    "        self.right = None\n",
    "        \n",
    "def numOfNodes(root):\n",
    "    if root == None:\n",
    "        return 0\n",
    "    leftCount = numOfNodes(root.left)\n",
    "    rightCount = numOfNodes(root.right)\n",
    "    return  1 + leftCount + rightCount\n",
    "\n",
    "def sumOfNodes(root):\n",
    "    if root == None:\n",
    "        return 0\n",
    "    return root.data + sumOfNodes(root.left) + sumOfNodes(root.right)\n",
    "\n",
    "def printDetailedTree(root):\n",
    "    if root == None:\n",
    "        return \n",
    "    print(root.data, end=\" : \")\n",
    "    if root.left != None:\n",
    "        print(\"left Node Value : \",root.left.data, end =\" , \")\n",
    "    if root.right != None:\n",
    "        print(\"right Node value : \",root.right.data, end=\"\")\n",
    "    print()\n",
    "    printDetailedTree(root.left)\n",
    "    printDetailedTree(root.right)\n",
    "\n",
    "def takeTreeInput():\n",
    "    rootdata = int(input())\n",
    "    if rootdata == -1:\n",
    "        return None\n",
    "    root = BTree(rootdata)\n",
    "    leftTree = takeTreeInput()\n",
    "    rightTree = takeTreeInput()\n",
    "    root.left = leftTree\n",
    "    root.right = rightTree\n",
    "    return root\n",
    "\n",
    "root = takeTreeInput()\n",
    "printDetailedTree(root)"
   ]
  },
  {
   "cell_type": "code",
   "execution_count": 2,
   "id": "d80bbcb5-d64f-47e4-932d-8c34f3f622fb",
   "metadata": {},
   "outputs": [
    {
     "data": {
      "text/plain": [
       "5"
      ]
     },
     "execution_count": 2,
     "metadata": {},
     "output_type": "execute_result"
    }
   ],
   "source": [
    "numOfNodes(root)"
   ]
  },
  {
   "cell_type": "code",
   "execution_count": 3,
   "id": "233973f5-7506-403f-89a6-99165112ee52",
   "metadata": {},
   "outputs": [
    {
     "data": {
      "text/plain": [
       "15"
      ]
     },
     "execution_count": 3,
     "metadata": {},
     "output_type": "execute_result"
    }
   ],
   "source": [
    "sumOfNodes(root)"
   ]
  },
  {
   "cell_type": "code",
   "execution_count": 9,
   "id": "312d1b9d-b3db-481b-8007-975f9bb0650d",
   "metadata": {},
   "outputs": [
    {
     "name": "stdin",
     "output_type": "stream",
     "text": [
      " 1\n"
     ]
    },
    {
     "name": "stdout",
     "output_type": "stream",
     "text": [
      "left sub tree for :  1\n"
     ]
    },
    {
     "name": "stdin",
     "output_type": "stream",
     "text": [
      " 2\n"
     ]
    },
    {
     "name": "stdout",
     "output_type": "stream",
     "text": [
      "left sub tree for :  2\n"
     ]
    },
    {
     "name": "stdin",
     "output_type": "stream",
     "text": [
      " 4\n"
     ]
    },
    {
     "name": "stdout",
     "output_type": "stream",
     "text": [
      "left sub tree for :  4\n"
     ]
    },
    {
     "name": "stdin",
     "output_type": "stream",
     "text": [
      " -1\n"
     ]
    },
    {
     "name": "stdout",
     "output_type": "stream",
     "text": [
      "right sub tree for :  4\n"
     ]
    },
    {
     "name": "stdin",
     "output_type": "stream",
     "text": [
      " -1\n"
     ]
    },
    {
     "name": "stdout",
     "output_type": "stream",
     "text": [
      "right sub tree for :  2\n"
     ]
    },
    {
     "name": "stdin",
     "output_type": "stream",
     "text": [
      " 5\n"
     ]
    },
    {
     "name": "stdout",
     "output_type": "stream",
     "text": [
      "left sub tree for :  5\n"
     ]
    },
    {
     "name": "stdin",
     "output_type": "stream",
     "text": [
      " -1\n"
     ]
    },
    {
     "name": "stdout",
     "output_type": "stream",
     "text": [
      "right sub tree for :  5\n"
     ]
    },
    {
     "name": "stdin",
     "output_type": "stream",
     "text": [
      " -1\n"
     ]
    },
    {
     "name": "stdout",
     "output_type": "stream",
     "text": [
      "right sub tree for :  1\n"
     ]
    },
    {
     "name": "stdin",
     "output_type": "stream",
     "text": [
      " 3\n"
     ]
    },
    {
     "name": "stdout",
     "output_type": "stream",
     "text": [
      "left sub tree for :  3\n"
     ]
    },
    {
     "name": "stdin",
     "output_type": "stream",
     "text": [
      " -1\n"
     ]
    },
    {
     "name": "stdout",
     "output_type": "stream",
     "text": [
      "right sub tree for :  3\n"
     ]
    },
    {
     "name": "stdin",
     "output_type": "stream",
     "text": [
      " -1\n"
     ]
    },
    {
     "name": "stdout",
     "output_type": "stream",
     "text": [
      "Post Order traversal : \n",
      "4\n",
      "5\n",
      "2\n",
      "3\n",
      "1\n",
      "Pre Order traversal : \n",
      "1 : left Node Value :  2 , right Node value :  3\n",
      "2 : left Node Value :  4 , right Node value :  5\n",
      "4 : \n",
      "5 : \n",
      "3 : \n"
     ]
    }
   ],
   "source": [
    "class TreeBinary:\n",
    "    def __init__(self,data):\n",
    "        self.data = data\n",
    "        self.left = None\n",
    "        self.right = None\n",
    "        \n",
    "def postOrder(root):\n",
    "    if root == None:\n",
    "        return\n",
    "    postOrder(root.left)\n",
    "    postOrder(root.right)\n",
    "    print(root.data)\n",
    "\n",
    "def preOrder(root):\n",
    "    if root == None:\n",
    "        return \n",
    "    print(root.data, end=\" : \")\n",
    "    if root.left != None:\n",
    "        print(\"left Node Value : \",root.left.data, end =\" , \")\n",
    "    if root.right != None:\n",
    "        print(\"right Node value : \",root.right.data, end=\"\")\n",
    "    print()\n",
    "    preOrder(root.left)\n",
    "    preOrder(root.right)\n",
    "        \n",
    "def inputTree():\n",
    "    rootdata = int(input())\n",
    "    if rootdata == -1:\n",
    "        return None\n",
    "    root = TreeBinary(rootdata)\n",
    "    print(\"left sub tree for : \",rootdata)\n",
    "    leftSubTree = inputTree()\n",
    "    print(\"right sub tree for : \",rootdata)\n",
    "    rightSubTree = inputTree()\n",
    "    root.left = leftSubTree\n",
    "    root.right = rightSubTree\n",
    "    return root\n",
    "\n",
    "root = inputTree()\n",
    "print(\"Post Order traversal : \")\n",
    "postOrder(root)\n",
    "print(\"Pre Order traversal : \")\n",
    "preOrder(root)"
   ]
  },
  {
   "cell_type": "code",
   "execution_count": 11,
   "id": "c0f3dff2-b9bf-4949-915a-9230eaca21c2",
   "metadata": {},
   "outputs": [
    {
     "name": "stdout",
     "output_type": "stream",
     "text": [
      "4\n",
      "2\n",
      "5\n",
      "1\n",
      "3\n"
     ]
    }
   ],
   "source": [
    "def inOrder(root):\n",
    "    if root == None:\n",
    "        return\n",
    "    inOrder(root.left)\n",
    "    print(root.data)\n",
    "    inOrder(root.right)\n",
    "\n",
    "inOrder(root)"
   ]
  },
  {
   "cell_type": "code",
   "execution_count": 18,
   "id": "bebd986e-1355-4a51-aa39-180fd02b5e0c",
   "metadata": {},
   "outputs": [
    {
     "name": "stdin",
     "output_type": "stream",
     "text": [
      " 1\n"
     ]
    },
    {
     "name": "stdout",
     "output_type": "stream",
     "text": [
      "Left Sub Tree for the data  1\n"
     ]
    },
    {
     "name": "stdin",
     "output_type": "stream",
     "text": [
      " 2\n"
     ]
    },
    {
     "name": "stdout",
     "output_type": "stream",
     "text": [
      "Left Sub Tree for the data  2\n"
     ]
    },
    {
     "name": "stdin",
     "output_type": "stream",
     "text": [
      " 3\n"
     ]
    },
    {
     "name": "stdout",
     "output_type": "stream",
     "text": [
      "Left Sub Tree for the data  3\n"
     ]
    },
    {
     "name": "stdin",
     "output_type": "stream",
     "text": [
      " -1\n"
     ]
    },
    {
     "name": "stdout",
     "output_type": "stream",
     "text": [
      "Right Sub Tree for the data  3\n"
     ]
    },
    {
     "name": "stdin",
     "output_type": "stream",
     "text": [
      " -1\n"
     ]
    },
    {
     "name": "stdout",
     "output_type": "stream",
     "text": [
      "Right Sub Tree for the data  2\n"
     ]
    },
    {
     "name": "stdin",
     "output_type": "stream",
     "text": [
      " 4\n"
     ]
    },
    {
     "name": "stdout",
     "output_type": "stream",
     "text": [
      "Left Sub Tree for the data  4\n"
     ]
    },
    {
     "name": "stdin",
     "output_type": "stream",
     "text": [
      " -1\n"
     ]
    },
    {
     "name": "stdout",
     "output_type": "stream",
     "text": [
      "Right Sub Tree for the data  4\n"
     ]
    },
    {
     "name": "stdin",
     "output_type": "stream",
     "text": [
      " -1\n"
     ]
    },
    {
     "name": "stdout",
     "output_type": "stream",
     "text": [
      "Right Sub Tree for the data  1\n"
     ]
    },
    {
     "name": "stdin",
     "output_type": "stream",
     "text": [
      " 5\n"
     ]
    },
    {
     "name": "stdout",
     "output_type": "stream",
     "text": [
      "Left Sub Tree for the data  5\n"
     ]
    },
    {
     "name": "stdin",
     "output_type": "stream",
     "text": [
      " -1\n"
     ]
    },
    {
     "name": "stdout",
     "output_type": "stream",
     "text": [
      "Right Sub Tree for the data  5\n"
     ]
    },
    {
     "name": "stdin",
     "output_type": "stream",
     "text": [
      " -1\n"
     ]
    },
    {
     "data": {
      "text/plain": [
       "5"
      ]
     },
     "execution_count": 18,
     "metadata": {},
     "output_type": "execute_result"
    }
   ],
   "source": [
    "class BinTree:\n",
    "    def __init__(self,data):\n",
    "        self.data = data\n",
    "        self.left = None\n",
    "        self.right = None\n",
    "\n",
    "def largestNode(root):\n",
    "    if root == None:\n",
    "        return -1\n",
    "    leftLargest = largestNode(root.left)\n",
    "    rightLargest = largestNode(root.right)\n",
    "    largest = max(leftLargest, rightLargest, root.data)\n",
    "    return largest\n",
    "\n",
    "def treeInput():\n",
    "    rootData = int(input())\n",
    "    if rootData == -1:\n",
    "        return\n",
    "    root = BinTree(rootData)\n",
    "    print(\"Left Sub Tree for the data \", rootData)\n",
    "    leftSubTree = treeInput()\n",
    "    print(\"Right Sub Tree for the data \", rootData)\n",
    "    rightSubTree = treeInput()\n",
    "    root.left = leftSubTree\n",
    "    root.right = rightSubTree\n",
    "    return root\n",
    "\n",
    "root = treeInput()\n",
    "largestNode(root)"
   ]
  },
  {
   "cell_type": "code",
   "execution_count": 42,
   "id": "261a30f5-1d5c-4cd5-b592-7b0f179a93be",
   "metadata": {},
   "outputs": [
    {
     "name": "stdin",
     "output_type": "stream",
     "text": [
      " 1\n"
     ]
    },
    {
     "name": "stdout",
     "output_type": "stream",
     "text": [
      "Left Sub Tree for the data  1\n"
     ]
    },
    {
     "name": "stdin",
     "output_type": "stream",
     "text": [
      " 2\n"
     ]
    },
    {
     "name": "stdout",
     "output_type": "stream",
     "text": [
      "Left Sub Tree for the data  2\n"
     ]
    },
    {
     "name": "stdin",
     "output_type": "stream",
     "text": [
      " -1\n"
     ]
    },
    {
     "name": "stdout",
     "output_type": "stream",
     "text": [
      "Right Sub Tree for the data  2\n"
     ]
    },
    {
     "name": "stdin",
     "output_type": "stream",
     "text": [
      " -1\n"
     ]
    },
    {
     "name": "stdout",
     "output_type": "stream",
     "text": [
      "Right Sub Tree for the data  1\n"
     ]
    },
    {
     "name": "stdin",
     "output_type": "stream",
     "text": [
      " 3\n"
     ]
    },
    {
     "name": "stdout",
     "output_type": "stream",
     "text": [
      "Left Sub Tree for the data  3\n"
     ]
    },
    {
     "name": "stdin",
     "output_type": "stream",
     "text": [
      " -1\n"
     ]
    },
    {
     "name": "stdout",
     "output_type": "stream",
     "text": [
      "Right Sub Tree for the data  3\n"
     ]
    },
    {
     "name": "stdin",
     "output_type": "stream",
     "text": [
      " -1\n"
     ]
    },
    {
     "data": {
      "text/plain": [
       "2"
      ]
     },
     "execution_count": 42,
     "metadata": {},
     "output_type": "execute_result"
    }
   ],
   "source": [
    "class BinaryTreeNodes:\n",
    "    def __init__(self,data):\n",
    "        self.data = data\n",
    "        self.left = None\n",
    "        self.right = None\n",
    "\n",
    "def leafNode(root):\n",
    "    if root == None:\n",
    "        return 0\n",
    "    if root.left == None and root.right == None:\n",
    "        return 1\n",
    "    else:\n",
    "        return leafNode(root.left) + leafNode(root.right)\n",
    "    \n",
    "def nodeInput():\n",
    "    rootData = int(input())\n",
    "    if rootData == -1:\n",
    "        return\n",
    "    root = BinaryTreeNodes(rootData)\n",
    "    print(\"Left Sub Tree for the data \", root.data)\n",
    "    leftSubTree = nodeInput()\n",
    "    print(\"Right Sub Tree for the data \", root.data)\n",
    "    rightSubTree = nodeInput()\n",
    "    root.left = leftSubTree\n",
    "    root.right = rightSubTree\n",
    "    return root\n",
    "\n",
    "root = nodeInput()\n",
    "leafNode(root)"
   ]
  },
  {
   "cell_type": "code",
   "execution_count": 39,
   "id": "1694af6a-1e3b-4f72-8d89-fc52c807fbb1",
   "metadata": {},
   "outputs": [
    {
     "name": "stdin",
     "output_type": "stream",
     "text": [
      " 1\n"
     ]
    },
    {
     "name": "stdout",
     "output_type": "stream",
     "text": [
      "Left Sub Tree for the data  1\n"
     ]
    },
    {
     "name": "stdin",
     "output_type": "stream",
     "text": [
      " 2\n"
     ]
    },
    {
     "name": "stdout",
     "output_type": "stream",
     "text": [
      "Left Sub Tree for the data  2\n"
     ]
    },
    {
     "name": "stdin",
     "output_type": "stream",
     "text": [
      " 4\n"
     ]
    },
    {
     "name": "stdout",
     "output_type": "stream",
     "text": [
      "Left Sub Tree for the data  4\n"
     ]
    },
    {
     "name": "stdin",
     "output_type": "stream",
     "text": [
      " -1\n"
     ]
    },
    {
     "name": "stdout",
     "output_type": "stream",
     "text": [
      "Right Sub Tree for the data  4\n"
     ]
    },
    {
     "name": "stdin",
     "output_type": "stream",
     "text": [
      " -1\n"
     ]
    },
    {
     "name": "stdout",
     "output_type": "stream",
     "text": [
      "Right Sub Tree for the data  2\n"
     ]
    },
    {
     "name": "stdin",
     "output_type": "stream",
     "text": [
      " 5\n"
     ]
    },
    {
     "name": "stdout",
     "output_type": "stream",
     "text": [
      "Left Sub Tree for the data  5\n"
     ]
    },
    {
     "name": "stdin",
     "output_type": "stream",
     "text": [
      " -1\n"
     ]
    },
    {
     "name": "stdout",
     "output_type": "stream",
     "text": [
      "Right Sub Tree for the data  5\n"
     ]
    },
    {
     "name": "stdin",
     "output_type": "stream",
     "text": [
      " -1\n"
     ]
    },
    {
     "name": "stdout",
     "output_type": "stream",
     "text": [
      "Right Sub Tree for the data  1\n"
     ]
    },
    {
     "name": "stdin",
     "output_type": "stream",
     "text": [
      " 3\n"
     ]
    },
    {
     "name": "stdout",
     "output_type": "stream",
     "text": [
      "Left Sub Tree for the data  3\n"
     ]
    },
    {
     "name": "stdin",
     "output_type": "stream",
     "text": [
      " 6\n"
     ]
    },
    {
     "name": "stdout",
     "output_type": "stream",
     "text": [
      "Left Sub Tree for the data  6\n"
     ]
    },
    {
     "name": "stdin",
     "output_type": "stream",
     "text": [
      " -1\n"
     ]
    },
    {
     "name": "stdout",
     "output_type": "stream",
     "text": [
      "Right Sub Tree for the data  6\n"
     ]
    },
    {
     "name": "stdin",
     "output_type": "stream",
     "text": [
      " -1\n"
     ]
    },
    {
     "name": "stdout",
     "output_type": "stream",
     "text": [
      "Right Sub Tree for the data  3\n"
     ]
    },
    {
     "name": "stdin",
     "output_type": "stream",
     "text": [
      " -1\n",
      "Enter the number of the depth you want to get the data :  2\n"
     ]
    },
    {
     "name": "stdout",
     "output_type": "stream",
     "text": [
      "4\n",
      "5\n",
      "6\n"
     ]
    }
   ],
   "source": [
    "class BinaryTreeNode:\n",
    "    def __init__(self,data):\n",
    "        self.data = data\n",
    "        self.left = None\n",
    "        self.right = None\n",
    "        \n",
    "def printDepthk(root,k):\n",
    "    if root == None:\n",
    "        return\n",
    "    if k == 0:\n",
    "        print(root.data)\n",
    "        return\n",
    "    printDepthk(root.left, k-1)\n",
    "    printDepthk(root.right, k-1)\n",
    "\n",
    "def inputTreedata():\n",
    "    rootData = int(input())\n",
    "    if rootData == -1:\n",
    "        return\n",
    "    root = BinaryTreeNode(rootData)\n",
    "    print(\"Left Sub Tree for the data \", root.data)\n",
    "    left_Sub = inputTreedata()\n",
    "    print(\"Right Sub Tree for the data \", root.data)\n",
    "    right_Sub = inputTreedata()\n",
    "    root.left = left_Sub\n",
    "    root.right = right_Sub\n",
    "    return root\n",
    "root = inputTreedata()\n",
    "k = int(input(\"Enter the number of the depth you want to get the data : \"))\n",
    "printDepthk(root, k)"
   ]
  },
  {
   "cell_type": "code",
   "execution_count": 40,
   "id": "9bde7606-e601-4c78-bd32-89d8c95c863c",
   "metadata": {},
   "outputs": [],
   "source": [
    "def printDepthKusingD(root, k, d=0):\n",
    "    if root == None:\n",
    "        return\n",
    "    if k == d:\n",
    "        print(root.data)\n",
    "    printDepthKusingD(root.left, k , d+1)\n",
    "    printDepthKusingD(root.right, k , d+1)"
   ]
  },
  {
   "cell_type": "code",
   "execution_count": 41,
   "id": "087c4096-18f1-48f0-ba10-66a5dd822f88",
   "metadata": {},
   "outputs": [
    {
     "name": "stdout",
     "output_type": "stream",
     "text": [
      "4\n",
      "5\n",
      "6\n"
     ]
    }
   ],
   "source": [
    "printDepthKusingD(root,k)"
   ]
  },
  {
   "cell_type": "code",
   "execution_count": null,
   "id": "5725105a-0a2f-4c0e-9e14-0c97ca22d635",
   "metadata": {},
   "outputs": [],
   "source": []
  }
 ],
 "metadata": {
  "kernelspec": {
   "display_name": "Python 3 (ipykernel)",
   "language": "python",
   "name": "python3"
  },
  "language_info": {
   "codemirror_mode": {
    "name": "ipython",
    "version": 3
   },
   "file_extension": ".py",
   "mimetype": "text/x-python",
   "name": "python",
   "nbconvert_exporter": "python",
   "pygments_lexer": "ipython3",
   "version": "3.10.7"
  }
 },
 "nbformat": 4,
 "nbformat_minor": 5
}
