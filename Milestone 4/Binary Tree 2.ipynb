{
 "cells": [
  {
   "cell_type": "markdown",
   "id": "315b217a-a7e6-470b-9816-8c0aaf216e11",
   "metadata": {},
   "source": [
    "### Binary Tree time complexity is O(n)"
   ]
  },
  {
   "cell_type": "code",
   "execution_count": 1,
   "id": "ff10fe9e-4125-42b8-b937-0f7335201f29",
   "metadata": {},
   "outputs": [
    {
     "name": "stdin",
     "output_type": "stream",
     "text": [
      " 1\n"
     ]
    },
    {
     "name": "stdout",
     "output_type": "stream",
     "text": [
      "Left Sub Tree of the node :  1\n"
     ]
    },
    {
     "name": "stdin",
     "output_type": "stream",
     "text": [
      " 2\n"
     ]
    },
    {
     "name": "stdout",
     "output_type": "stream",
     "text": [
      "Left Sub Tree of the node :  2\n"
     ]
    },
    {
     "name": "stdin",
     "output_type": "stream",
     "text": [
      " 4\n"
     ]
    },
    {
     "name": "stdout",
     "output_type": "stream",
     "text": [
      "Left Sub Tree of the node :  4\n"
     ]
    },
    {
     "name": "stdin",
     "output_type": "stream",
     "text": [
      " -1\n"
     ]
    },
    {
     "name": "stdout",
     "output_type": "stream",
     "text": [
      "Right Sub Tree of the node :  4\n"
     ]
    },
    {
     "name": "stdin",
     "output_type": "stream",
     "text": [
      " -1\n"
     ]
    },
    {
     "name": "stdout",
     "output_type": "stream",
     "text": [
      "Right Sub Tree of the node :  2\n"
     ]
    },
    {
     "name": "stdin",
     "output_type": "stream",
     "text": [
      " 5\n"
     ]
    },
    {
     "name": "stdout",
     "output_type": "stream",
     "text": [
      "Left Sub Tree of the node :  5\n"
     ]
    },
    {
     "name": "stdin",
     "output_type": "stream",
     "text": [
      " -1\n"
     ]
    },
    {
     "name": "stdout",
     "output_type": "stream",
     "text": [
      "Right Sub Tree of the node :  5\n"
     ]
    },
    {
     "name": "stdin",
     "output_type": "stream",
     "text": [
      " -1\n"
     ]
    },
    {
     "name": "stdout",
     "output_type": "stream",
     "text": [
      "Right Sub Tree of the node :  1\n"
     ]
    },
    {
     "name": "stdin",
     "output_type": "stream",
     "text": [
      " 3\n"
     ]
    },
    {
     "name": "stdout",
     "output_type": "stream",
     "text": [
      "Left Sub Tree of the node :  3\n"
     ]
    },
    {
     "name": "stdin",
     "output_type": "stream",
     "text": [
      " -1\n"
     ]
    },
    {
     "name": "stdout",
     "output_type": "stream",
     "text": [
      "Right Sub Tree of the node :  3\n"
     ]
    },
    {
     "name": "stdin",
     "output_type": "stream",
     "text": [
      " -1\n"
     ]
    },
    {
     "name": "stdout",
     "output_type": "stream",
     "text": [
      "1 : L : 2 R : 3 \n",
      "2 : L : 4 R : 5 \n",
      "4 : \n",
      "5 : \n",
      "3 : \n",
      "After Removing Leaf Node\n",
      "1 : L : 2 \n",
      "2 : \n"
     ]
    }
   ],
   "source": [
    "class BinaryTree:\n",
    "    def __init__(self,data):\n",
    "        self.data = data\n",
    "        self.left = None\n",
    "        self.right = None\n",
    "\n",
    "def detailedTree(root):\n",
    "    if root == None:\n",
    "        return\n",
    "    print(root.data, end= \" : \")\n",
    "    if root.left is not None:\n",
    "        print(\"L :\",root.left.data, end=\" \")\n",
    "    if root.right is not None:\n",
    "        print(\"R :\",root.right.data, end=\" \")\n",
    "    print()\n",
    "    detailedTree(root.left)\n",
    "    detailedTree(root.right)\n",
    "    \n",
    "def removeLeafNode(root):\n",
    "    if root == None:\n",
    "        return None\n",
    "    # If the current node is a leaf (has no left and right children),\n",
    "    # return None to remove it from the tree.\n",
    "    if root.left is None and root.right is None:\n",
    "        # it means that the roots both children are none means root itself is a leaf and it removes it self\n",
    "        return None\n",
    "    # here we have root.left and root.right = recursive call because when the sub tree returns the value that it does not have any sub tree associated \n",
    "    # with it return none so for that to update the leaf node as none we have done root.left and root.right = recursive call\n",
    "    root.left = removeLeafNode(root.left)\n",
    "    root.right = removeLeafNode(root.right)\n",
    "    return root    \n",
    "\n",
    "def takeInput():\n",
    "    rootData = int(input())\n",
    "    if rootData == -1:\n",
    "        return\n",
    "    root = BinaryTree(rootData)\n",
    "    print(\"Left Sub Tree of the node : \",root.data)\n",
    "    leftTree = takeInput()\n",
    "    print(\"Right Sub Tree of the node : \",root.data)\n",
    "    rightTree = takeInput()\n",
    "    root.left = leftTree\n",
    "    root.right = rightTree\n",
    "    return root\n",
    "\n",
    "root = takeInput()\n",
    "detailedTree(root)\n",
    "print(\"After Removing Leaf Node\")\n",
    "root = removeLeafNode(root)\n",
    "detailedTree(root)"
   ]
  },
  {
   "cell_type": "markdown",
   "id": "b464eb58-0c4e-429a-8d26-a65c8af0be8a",
   "metadata": {},
   "source": [
    "### When ever there is question that has remove or delete then make the recursion call using root.left and root.right where they will return None whivh means that they have made the node as none or deleted it"
   ]
  },
  {
   "cell_type": "code",
   "execution_count": 2,
   "id": "f975ad90-10d1-4c81-991c-a9281e6671bf",
   "metadata": {},
   "outputs": [
    {
     "name": "stdin",
     "output_type": "stream",
     "text": [
      " 1\n"
     ]
    },
    {
     "name": "stdout",
     "output_type": "stream",
     "text": [
      "Left Sub Tree of the node :  1\n"
     ]
    },
    {
     "name": "stdin",
     "output_type": "stream",
     "text": [
      " 2\n"
     ]
    },
    {
     "name": "stdout",
     "output_type": "stream",
     "text": [
      "Left Sub Tree of the node :  2\n"
     ]
    },
    {
     "name": "stdin",
     "output_type": "stream",
     "text": [
      " 4\n"
     ]
    },
    {
     "name": "stdout",
     "output_type": "stream",
     "text": [
      "Left Sub Tree of the node :  4\n"
     ]
    },
    {
     "name": "stdin",
     "output_type": "stream",
     "text": [
      " -1\n"
     ]
    },
    {
     "name": "stdout",
     "output_type": "stream",
     "text": [
      "Right Sub Tree of the node :  4\n"
     ]
    },
    {
     "name": "stdin",
     "output_type": "stream",
     "text": [
      " -1\n"
     ]
    },
    {
     "name": "stdout",
     "output_type": "stream",
     "text": [
      "Right Sub Tree of the node :  2\n"
     ]
    },
    {
     "name": "stdin",
     "output_type": "stream",
     "text": [
      " 5\n"
     ]
    },
    {
     "name": "stdout",
     "output_type": "stream",
     "text": [
      "Left Sub Tree of the node :  5\n"
     ]
    },
    {
     "name": "stdin",
     "output_type": "stream",
     "text": [
      " -1\n"
     ]
    },
    {
     "name": "stdout",
     "output_type": "stream",
     "text": [
      "Right Sub Tree of the node :  5\n"
     ]
    },
    {
     "name": "stdin",
     "output_type": "stream",
     "text": [
      " -1\n"
     ]
    },
    {
     "name": "stdout",
     "output_type": "stream",
     "text": [
      "Right Sub Tree of the node :  1\n"
     ]
    },
    {
     "name": "stdin",
     "output_type": "stream",
     "text": [
      " 3\n"
     ]
    },
    {
     "name": "stdout",
     "output_type": "stream",
     "text": [
      "Left Sub Tree of the node :  3\n"
     ]
    },
    {
     "name": "stdin",
     "output_type": "stream",
     "text": [
      " -1\n"
     ]
    },
    {
     "name": "stdout",
     "output_type": "stream",
     "text": [
      "Right Sub Tree of the node :  3\n"
     ]
    },
    {
     "name": "stdin",
     "output_type": "stream",
     "text": [
      " -1\n"
     ]
    },
    {
     "name": "stdout",
     "output_type": "stream",
     "text": [
      "1 : L :  2 ,R :  3 \n",
      "2 : L :  4 ,R :  5 \n",
      "4 : \n",
      "5 : \n",
      "3 : \n",
      "True\n"
     ]
    }
   ],
   "source": [
    "# TC = O(nlogn)\n",
    "def height(root):\n",
    "    if root == None:\n",
    "        return 0\n",
    "    lefttree = height(root.left)\n",
    "    righttree = height(root.right)\n",
    "    return max(lefttree, righttree)+1\n",
    "    \n",
    "def preOrder(root):\n",
    "    if root == None:\n",
    "        return\n",
    "    print(root.data, end=\" : \")\n",
    "    if root.left != None:\n",
    "        print(\"L : \",root.left.data, end=\" ,\")\n",
    "    if root.right != None:\n",
    "        print(\"R : \",root.right.data, end=\" \")\n",
    "    print()\n",
    "    preOrder(root.left)\n",
    "    preOrder(root.right)\n",
    "    \n",
    "def isBalanced(root):\n",
    "    if root == None:\n",
    "        return True\n",
    "\n",
    "    # this is used to calculate the roots left sub tree height subtrees that include left and right (for eg if root is 1 and its left sub tree is 2 and \n",
    "    # and 2 may have its own left and right sub tree so we calculate its height \n",
    "    leftheight = height(root.left)\n",
    "\n",
    "   # this is used to calculate the roots right sub tree height subtrees that include left and right (for eg if root is 1 and its right sub tree is 3 and \n",
    "    # and 3 may have its own left and right sub tree so we calculate its height\n",
    "    rightheight = height(root.right)\n",
    "\n",
    "    # checked whether the height of both the sub Tree less than or equal to 1\n",
    "    if leftheight - rightheight > 1 or rightheight - leftheight > 1:\n",
    "        return False\n",
    "    # else recursively called and make the trees checked wether they are balanced or not \n",
    "    leftbalanced = isBalanced(root.left)\n",
    "    rightbalanced = isBalanced(root.right)\n",
    "\n",
    "    # if both the condition satisfies which means that the it is true\n",
    "    if leftbalanced and rightbalanced:\n",
    "        return True\n",
    "    else:\n",
    "        return False\n",
    "\n",
    "root = takeInput()\n",
    "preOrder(root)\n",
    "print(isBalanced(root))"
   ]
  },
  {
   "cell_type": "code",
   "execution_count": 3,
   "id": "0b98a88b-fea6-4aa3-90fa-ffb970acea75",
   "metadata": {},
   "outputs": [
    {
     "name": "stdin",
     "output_type": "stream",
     "text": [
      " 1\n"
     ]
    },
    {
     "name": "stdout",
     "output_type": "stream",
     "text": [
      "Left Sub Tree of the node :  1\n"
     ]
    },
    {
     "name": "stdin",
     "output_type": "stream",
     "text": [
      " -2\n"
     ]
    },
    {
     "name": "stdout",
     "output_type": "stream",
     "text": [
      "Left Sub Tree of the node :  -2\n"
     ]
    },
    {
     "name": "stdin",
     "output_type": "stream",
     "text": [
      " -1\n"
     ]
    },
    {
     "name": "stdout",
     "output_type": "stream",
     "text": [
      "Right Sub Tree of the node :  -2\n"
     ]
    },
    {
     "name": "stdin",
     "output_type": "stream",
     "text": [
      " -1\n"
     ]
    },
    {
     "name": "stdout",
     "output_type": "stream",
     "text": [
      "Right Sub Tree of the node :  1\n"
     ]
    },
    {
     "name": "stdin",
     "output_type": "stream",
     "text": [
      " 3\n"
     ]
    },
    {
     "name": "stdout",
     "output_type": "stream",
     "text": [
      "Left Sub Tree of the node :  3\n"
     ]
    },
    {
     "name": "stdin",
     "output_type": "stream",
     "text": [
      " -1\n"
     ]
    },
    {
     "name": "stdout",
     "output_type": "stream",
     "text": [
      "Right Sub Tree of the node :  3\n"
     ]
    },
    {
     "name": "stdin",
     "output_type": "stream",
     "text": [
      " -1\n"
     ]
    },
    {
     "data": {
      "text/plain": [
       "(2, True)"
      ]
     },
     "execution_count": 3,
     "metadata": {},
     "output_type": "execute_result"
    }
   ],
   "source": [
    "# TC = O(n)\n",
    "def getHeightandBalanced(root):\n",
    "    if root == None:\n",
    "        return 0, True\n",
    "\n",
    "    lh, leftbalanced = getHeightandBalanced(root.left)\n",
    "    rh, rightbalanced = getHeightandBalanced(root.right)\n",
    "\n",
    "    height = 1 + max(lh, rh)\n",
    "\n",
    "    if lh - rh > 1 or rh - lh > 1:\n",
    "        return height, False\n",
    "\n",
    "    if leftbalanced and rightbalanced:\n",
    "        return height, True\n",
    "    else:\n",
    "        return height, False\n",
    "\n",
    "root = takeInput()\n",
    "getHeightandBalanced(root)"
   ]
  },
  {
   "cell_type": "code",
   "execution_count": 4,
   "id": "4b355f7f-4d1e-42d8-ae47-92af5da363e5",
   "metadata": {},
   "outputs": [
    {
     "data": {
      "text/plain": [
       "True"
      ]
     },
     "execution_count": 4,
     "metadata": {},
     "output_type": "execute_result"
    }
   ],
   "source": [
    "# only if you want to return the True or False \n",
    "def isbalanced(root):\n",
    "    h, balance = getHeightandBalanced(root)\n",
    "    return balance\n",
    "\n",
    "isbalanced(root)"
   ]
  },
  {
   "cell_type": "code",
   "execution_count": 41,
   "id": "40566068-e089-4c2a-b034-d8e4893f4287",
   "metadata": {},
   "outputs": [
    {
     "name": "stdin",
     "output_type": "stream",
     "text": [
      " 1\n"
     ]
    },
    {
     "name": "stdout",
     "output_type": "stream",
     "text": [
      "Left Sub Tree of the node :  1\n"
     ]
    },
    {
     "name": "stdin",
     "output_type": "stream",
     "text": [
      " 2\n"
     ]
    },
    {
     "name": "stdout",
     "output_type": "stream",
     "text": [
      "Left Sub Tree of the node :  2\n"
     ]
    },
    {
     "name": "stdin",
     "output_type": "stream",
     "text": [
      " 5\n"
     ]
    },
    {
     "name": "stdout",
     "output_type": "stream",
     "text": [
      "Left Sub Tree of the node :  5\n"
     ]
    },
    {
     "name": "stdin",
     "output_type": "stream",
     "text": [
      " -1\n"
     ]
    },
    {
     "name": "stdout",
     "output_type": "stream",
     "text": [
      "Right Sub Tree of the node :  5\n"
     ]
    },
    {
     "name": "stdin",
     "output_type": "stream",
     "text": [
      " -1\n"
     ]
    },
    {
     "name": "stdout",
     "output_type": "stream",
     "text": [
      "Right Sub Tree of the node :  2\n"
     ]
    },
    {
     "name": "stdin",
     "output_type": "stream",
     "text": [
      " 6\n"
     ]
    },
    {
     "name": "stdout",
     "output_type": "stream",
     "text": [
      "Left Sub Tree of the node :  6\n"
     ]
    },
    {
     "name": "stdin",
     "output_type": "stream",
     "text": [
      " 7\n"
     ]
    },
    {
     "name": "stdout",
     "output_type": "stream",
     "text": [
      "Left Sub Tree of the node :  7\n"
     ]
    },
    {
     "name": "stdin",
     "output_type": "stream",
     "text": [
      " -1\n"
     ]
    },
    {
     "name": "stdout",
     "output_type": "stream",
     "text": [
      "Right Sub Tree of the node :  7\n"
     ]
    },
    {
     "name": "stdin",
     "output_type": "stream",
     "text": [
      " -1\n"
     ]
    },
    {
     "name": "stdout",
     "output_type": "stream",
     "text": [
      "Right Sub Tree of the node :  6\n"
     ]
    },
    {
     "name": "stdin",
     "output_type": "stream",
     "text": [
      " -1\n"
     ]
    },
    {
     "name": "stdout",
     "output_type": "stream",
     "text": [
      "Right Sub Tree of the node :  1\n"
     ]
    },
    {
     "name": "stdin",
     "output_type": "stream",
     "text": [
      " 3\n"
     ]
    },
    {
     "name": "stdout",
     "output_type": "stream",
     "text": [
      "Left Sub Tree of the node :  3\n"
     ]
    },
    {
     "name": "stdin",
     "output_type": "stream",
     "text": [
      " -1\n"
     ]
    },
    {
     "name": "stdout",
     "output_type": "stream",
     "text": [
      "Right Sub Tree of the node :  3\n"
     ]
    },
    {
     "name": "stdin",
     "output_type": "stream",
     "text": [
      " -1\n"
     ]
    },
    {
     "name": "stdout",
     "output_type": "stream",
     "text": [
      "Diameter of Tree is : \n"
     ]
    },
    {
     "data": {
      "text/plain": [
       "5"
      ]
     },
     "execution_count": 41,
     "metadata": {},
     "output_type": "execute_result"
    }
   ],
   "source": [
    "# diameter of tree\n",
    "def height(root):\n",
    "    if root == None:\n",
    "        return 0\n",
    "    leftTree = height(root.left)\n",
    "    rightTree = height(root.right)\n",
    "    return max(leftTree, rightTree) + 1\n",
    "\n",
    "def diameter(root):\n",
    "    if root == None:\n",
    "        return 0\n",
    "    # leftTree diameter (means edges of left Subtrees left and right height)\n",
    "    leftDiameter = diameter(root.left)\n",
    "\n",
    "    # leftTree diameter (means edges of right Subtrees left and right height)\n",
    "    rightDiameter = diameter(root.right)\n",
    "\n",
    "    # height of the root left subtrees nodes or children edges count\n",
    "    leftHeight = height(root.left)\n",
    "\n",
    "    # height of the root right subtrees nodes or children edges count\n",
    "    rightHeight = height(root.right)\n",
    "    currentDiameter = leftHeight + rightHeight + 1\n",
    "    return max(leftDiameter, rightDiameter, currentDiameter)\n",
    "root = takeInput()\n",
    "height(root)\n",
    "print(\"Diameter of Tree is : \")\n",
    "diameter(root)"
   ]
  },
  {
   "cell_type": "code",
   "execution_count": 21,
   "id": "c2712602-ba5e-47ab-9099-47e6aa125b05",
   "metadata": {},
   "outputs": [
    {
     "name": "stdout",
     "output_type": "stream",
     "text": [
      "Enter the root data \n"
     ]
    },
    {
     "name": "stdin",
     "output_type": "stream",
     "text": [
      " 1\n"
     ]
    },
    {
     "name": "stdout",
     "output_type": "stream",
     "text": [
      "Enter left child for  1\n"
     ]
    },
    {
     "name": "stdin",
     "output_type": "stream",
     "text": [
      " 2\n"
     ]
    },
    {
     "name": "stdout",
     "output_type": "stream",
     "text": [
      "Enter Right child for  1\n"
     ]
    },
    {
     "name": "stdin",
     "output_type": "stream",
     "text": [
      " 3\n"
     ]
    },
    {
     "name": "stdout",
     "output_type": "stream",
     "text": [
      "Enter left child for  2\n"
     ]
    },
    {
     "name": "stdin",
     "output_type": "stream",
     "text": [
      " 4\n"
     ]
    },
    {
     "name": "stdout",
     "output_type": "stream",
     "text": [
      "Enter Right child for  2\n"
     ]
    },
    {
     "name": "stdin",
     "output_type": "stream",
     "text": [
      " 5\n"
     ]
    },
    {
     "name": "stdout",
     "output_type": "stream",
     "text": [
      "Enter left child for  3\n"
     ]
    },
    {
     "name": "stdin",
     "output_type": "stream",
     "text": [
      " 6\n"
     ]
    },
    {
     "name": "stdout",
     "output_type": "stream",
     "text": [
      "Enter Right child for  3\n"
     ]
    },
    {
     "name": "stdin",
     "output_type": "stream",
     "text": [
      " 7\n"
     ]
    },
    {
     "name": "stdout",
     "output_type": "stream",
     "text": [
      "Enter left child for  4\n"
     ]
    },
    {
     "name": "stdin",
     "output_type": "stream",
     "text": [
      " -1\n"
     ]
    },
    {
     "name": "stdout",
     "output_type": "stream",
     "text": [
      "Enter Right child for  4\n"
     ]
    },
    {
     "name": "stdin",
     "output_type": "stream",
     "text": [
      " -1\n"
     ]
    },
    {
     "name": "stdout",
     "output_type": "stream",
     "text": [
      "Enter left child for  5\n"
     ]
    },
    {
     "name": "stdin",
     "output_type": "stream",
     "text": [
      " -1\n"
     ]
    },
    {
     "name": "stdout",
     "output_type": "stream",
     "text": [
      "Enter Right child for  5\n"
     ]
    },
    {
     "name": "stdin",
     "output_type": "stream",
     "text": [
      " -1\n"
     ]
    },
    {
     "name": "stdout",
     "output_type": "stream",
     "text": [
      "Enter left child for  6\n"
     ]
    },
    {
     "name": "stdin",
     "output_type": "stream",
     "text": [
      " -1\n"
     ]
    },
    {
     "name": "stdout",
     "output_type": "stream",
     "text": [
      "Enter Right child for  6\n"
     ]
    },
    {
     "name": "stdin",
     "output_type": "stream",
     "text": [
      " -1\n"
     ]
    },
    {
     "name": "stdout",
     "output_type": "stream",
     "text": [
      "Enter left child for  7\n"
     ]
    },
    {
     "name": "stdin",
     "output_type": "stream",
     "text": [
      " -1\n"
     ]
    },
    {
     "name": "stdout",
     "output_type": "stream",
     "text": [
      "Enter Right child for  7\n"
     ]
    },
    {
     "name": "stdin",
     "output_type": "stream",
     "text": [
      " -1\n"
     ]
    },
    {
     "name": "stdout",
     "output_type": "stream",
     "text": [
      "1 : L :  2 , R :  3 \n",
      "2 : L :  4 , R :  5 \n",
      "4 : \n",
      "5 : \n",
      "3 : L :  6 , R :  7 \n",
      "6 : \n",
      "7 : \n"
     ]
    }
   ],
   "source": [
    "# Level wise tree input\n",
    "import queue\n",
    "class Binary:\n",
    "    def __init__(self,data):\n",
    "        self.data = data\n",
    "        self.left = None\n",
    "        self.right = None\n",
    "\n",
    "def printBtnTree(root):\n",
    "    if root == None:\n",
    "        return\n",
    "    print(root.data, end=\" : \")\n",
    "    if root.left != None:\n",
    "        print(\"L : \", root.left.data, end=\" , \")\n",
    "    if root.right != None:\n",
    "        print(\"R : \", root.right.data, end=\" \")\n",
    "    print()\n",
    "    printBtnTree(root.left)\n",
    "    printBtnTree(root.right)\n",
    "\n",
    "def levelWiseInput():\n",
    "    q = queue.Queue()\n",
    "    print(\"Enter the root data \")\n",
    "    rootdata = int(input())\n",
    "    if rootdata == -1:\n",
    "        return None\n",
    "    root = Binary(rootdata)\n",
    "    q.put(root)\n",
    "    while (not(q.empty())):\n",
    "        currentNode = q.get()\n",
    "        print(\"Enter left child for \", currentNode.data)\n",
    "        leftChildData = int(input())\n",
    "        if leftChildData != -1:\n",
    "            leftChild = Binary(leftChildData)\n",
    "            currentNode.left = leftChild\n",
    "            q.put(leftChild)\n",
    "            \n",
    "        print(\"Enter Right child for \", currentNode.data)\n",
    "        rightChildData = int(input())\n",
    "        if rightChildData != -1:\n",
    "            rightChild = Binary(rightChildData)\n",
    "            currentNode.right = rightChild\n",
    "            q.put(rightChild)\n",
    "\n",
    "    return root\n",
    "\n",
    "root = levelWiseInput()\n",
    "printBtnTree(root)\n",
    "    "
   ]
  },
  {
   "cell_type": "code",
   "execution_count": 57,
   "id": "bd5f7d11-f7b3-49e1-b68d-ffa285e3a1a7",
   "metadata": {},
   "outputs": [
    {
     "name": "stdout",
     "output_type": "stream",
     "text": [
      "Enter the root data \n"
     ]
    },
    {
     "name": "stdin",
     "output_type": "stream",
     "text": [
      " 1\n"
     ]
    },
    {
     "name": "stdout",
     "output_type": "stream",
     "text": [
      "Enter left child for  1\n"
     ]
    },
    {
     "name": "stdin",
     "output_type": "stream",
     "text": [
      " 2\n"
     ]
    },
    {
     "name": "stdout",
     "output_type": "stream",
     "text": [
      "Enter Right child for  1\n"
     ]
    },
    {
     "name": "stdin",
     "output_type": "stream",
     "text": [
      " 3\n"
     ]
    },
    {
     "name": "stdout",
     "output_type": "stream",
     "text": [
      "Enter left child for  2\n"
     ]
    },
    {
     "name": "stdin",
     "output_type": "stream",
     "text": [
      " 4\n"
     ]
    },
    {
     "name": "stdout",
     "output_type": "stream",
     "text": [
      "Enter Right child for  2\n"
     ]
    },
    {
     "name": "stdin",
     "output_type": "stream",
     "text": [
      " 5\n"
     ]
    },
    {
     "name": "stdout",
     "output_type": "stream",
     "text": [
      "Enter left child for  3\n"
     ]
    },
    {
     "name": "stdin",
     "output_type": "stream",
     "text": [
      " 6\n"
     ]
    },
    {
     "name": "stdout",
     "output_type": "stream",
     "text": [
      "Enter Right child for  3\n"
     ]
    },
    {
     "name": "stdin",
     "output_type": "stream",
     "text": [
      " 7\n"
     ]
    },
    {
     "name": "stdout",
     "output_type": "stream",
     "text": [
      "Enter left child for  4\n"
     ]
    },
    {
     "name": "stdin",
     "output_type": "stream",
     "text": [
      " -1\n"
     ]
    },
    {
     "name": "stdout",
     "output_type": "stream",
     "text": [
      "Enter Right child for  4\n"
     ]
    },
    {
     "name": "stdin",
     "output_type": "stream",
     "text": [
      " -1\n"
     ]
    },
    {
     "name": "stdout",
     "output_type": "stream",
     "text": [
      "Enter left child for  5\n"
     ]
    },
    {
     "name": "stdin",
     "output_type": "stream",
     "text": [
      " -1\n"
     ]
    },
    {
     "name": "stdout",
     "output_type": "stream",
     "text": [
      "Enter Right child for  5\n"
     ]
    },
    {
     "name": "stdin",
     "output_type": "stream",
     "text": [
      " -1\n"
     ]
    },
    {
     "name": "stdout",
     "output_type": "stream",
     "text": [
      "Enter left child for  6\n"
     ]
    },
    {
     "name": "stdin",
     "output_type": "stream",
     "text": [
      " -1\n"
     ]
    },
    {
     "name": "stdout",
     "output_type": "stream",
     "text": [
      "Enter Right child for  6\n"
     ]
    },
    {
     "name": "stdin",
     "output_type": "stream",
     "text": [
      " -1\n"
     ]
    },
    {
     "name": "stdout",
     "output_type": "stream",
     "text": [
      "Enter left child for  7\n"
     ]
    },
    {
     "name": "stdin",
     "output_type": "stream",
     "text": [
      " -1\n"
     ]
    },
    {
     "name": "stdout",
     "output_type": "stream",
     "text": [
      "Enter Right child for  7\n"
     ]
    },
    {
     "name": "stdin",
     "output_type": "stream",
     "text": [
      " -1\n"
     ]
    },
    {
     "name": "stdout",
     "output_type": "stream",
     "text": [
      "1  \n",
      "2  \n",
      "3  \n",
      "4  \n",
      "5  \n",
      "6  \n",
      "7  \n"
     ]
    }
   ],
   "source": [
    "def levelWisePrint(root):\n",
    "    if root == None:\n",
    "        return\n",
    "    q = queue.Queue()\n",
    "    q.put(root)\n",
    "    while q.empty() == False:\n",
    "        currentRoot = q.get()\n",
    "        print(currentRoot.data, end=\"  \")\n",
    "        if currentRoot.left:\n",
    "            q.put(currentRoot.left)\n",
    "        if currentRoot.right:\n",
    "            q.put(currentRoot.right)\n",
    "        print()\n",
    "\n",
    "root = levelWiseInput()\n",
    "levelWisePrint(root)"
   ]
  },
  {
   "cell_type": "code",
   "execution_count": 58,
   "id": "bdb58e9d-7cea-42ba-8f3a-7e4daa1d8b65",
   "metadata": {},
   "outputs": [
    {
     "data": {
      "text/plain": [
       "1"
      ]
     },
     "execution_count": 58,
     "metadata": {},
     "output_type": "execute_result"
    }
   ],
   "source": [
    "\n",
    "# Python3 program for above approach\n",
    "class newNode:\n",
    "    def __init__(self, data):\n",
    "        self.val = data\n",
    "        self.left = None\n",
    "        self.right = None\n",
    " \n",
    "# Iterative method to do level order traversal\n",
    "# line by line\n",
    " \n",
    " \n",
    "def printLevelOrder(root):\n",
    " \n",
    "    # Base case\n",
    "    if root is None:\n",
    "        return\n",
    "    # Create an empty queue for level order traversal\n",
    "    q = []\n",
    " \n",
    "    # Enqueue root and initialize height\n",
    "    q.append(root)\n",
    " \n",
    "    while q:\n",
    " \n",
    "        # nodeCount (queue size) indicates number\n",
    "        # of nodes at current level.\n",
    "        count = len(q)\n",
    " \n",
    "        # Dequeue all nodes of current level and\n",
    "        # Enqueue all nodes of next level\n",
    "        while count > 0:\n",
    "            temp = q.pop(0)\n",
    "            print(temp.val, end=' ')\n",
    "            if temp.left:\n",
    "                q.append(temp.left)\n",
    "            if temp.right:\n",
    "                q.append(temp.right)\n",
    " \n",
    "            count -= 1\n",
    "        print(' ')\n",
    " \n",
    " \n",
    "# Driver Code\n",
    "root = newNode(1)\n",
    "root.left = newNode(2)\n",
    "root.right = newNode(3)\n",
    "root.left.left = newNode(4)\n",
    "root.left.right = newNode(5)\n",
    " \n",
    "printLevelOrder(root)"
   ]
  },
  {
   "cell_type": "code",
   "execution_count": 59,
   "id": "a0c08d3f-c736-4b3e-83bd-6c26a1322188",
   "metadata": {},
   "outputs": [
    {
     "name": "stdin",
     "output_type": "stream",
     "text": [
      " 1\n"
     ]
    },
    {
     "name": "stdout",
     "output_type": "stream",
     "text": [
      "Left Sub Tree of the node :  1\n"
     ]
    },
    {
     "name": "stdin",
     "output_type": "stream",
     "text": [
      " 2\n"
     ]
    },
    {
     "name": "stdout",
     "output_type": "stream",
     "text": [
      "Left Sub Tree of the node :  2\n"
     ]
    },
    {
     "name": "stdin",
     "output_type": "stream",
     "text": [
      " 4\n"
     ]
    },
    {
     "name": "stdout",
     "output_type": "stream",
     "text": [
      "Left Sub Tree of the node :  4\n"
     ]
    },
    {
     "name": "stdin",
     "output_type": "stream",
     "text": [
      " -1\n"
     ]
    },
    {
     "name": "stdout",
     "output_type": "stream",
     "text": [
      "Right Sub Tree of the node :  4\n"
     ]
    },
    {
     "name": "stdin",
     "output_type": "stream",
     "text": [
      " -1\n"
     ]
    },
    {
     "name": "stdout",
     "output_type": "stream",
     "text": [
      "Right Sub Tree of the node :  2\n"
     ]
    },
    {
     "name": "stdin",
     "output_type": "stream",
     "text": [
      " 5\n"
     ]
    },
    {
     "name": "stdout",
     "output_type": "stream",
     "text": [
      "Left Sub Tree of the node :  5\n"
     ]
    },
    {
     "name": "stdin",
     "output_type": "stream",
     "text": [
      " -1\n"
     ]
    },
    {
     "name": "stdout",
     "output_type": "stream",
     "text": [
      "Right Sub Tree of the node :  5\n"
     ]
    },
    {
     "name": "stdin",
     "output_type": "stream",
     "text": [
      " -1\n"
     ]
    },
    {
     "name": "stdout",
     "output_type": "stream",
     "text": [
      "Right Sub Tree of the node :  1\n"
     ]
    },
    {
     "name": "stdin",
     "output_type": "stream",
     "text": [
      " 3\n"
     ]
    },
    {
     "name": "stdout",
     "output_type": "stream",
     "text": [
      "Left Sub Tree of the node :  3\n"
     ]
    },
    {
     "name": "stdin",
     "output_type": "stream",
     "text": [
      " 6\n"
     ]
    },
    {
     "name": "stdout",
     "output_type": "stream",
     "text": [
      "Left Sub Tree of the node :  6\n"
     ]
    },
    {
     "name": "stdin",
     "output_type": "stream",
     "text": [
      " -1\n"
     ]
    },
    {
     "name": "stdout",
     "output_type": "stream",
     "text": [
      "Right Sub Tree of the node :  6\n"
     ]
    },
    {
     "name": "stdin",
     "output_type": "stream",
     "text": [
      " -1\n"
     ]
    },
    {
     "name": "stdout",
     "output_type": "stream",
     "text": [
      "Right Sub Tree of the node :  3\n"
     ]
    },
    {
     "name": "stdin",
     "output_type": "stream",
     "text": [
      " 7\n"
     ]
    },
    {
     "name": "stdout",
     "output_type": "stream",
     "text": [
      "Left Sub Tree of the node :  7\n"
     ]
    },
    {
     "name": "stdin",
     "output_type": "stream",
     "text": [
      " -1\n"
     ]
    },
    {
     "name": "stdout",
     "output_type": "stream",
     "text": [
      "Right Sub Tree of the node :  7\n"
     ]
    },
    {
     "name": "stdin",
     "output_type": "stream",
     "text": [
      " -1\n"
     ]
    },
    {
     "name": "stdout",
     "output_type": "stream",
     "text": [
      "4\n",
      "2\n",
      "5\n",
      "1\n",
      "6\n",
      "3\n",
      "7\n"
     ]
    }
   ],
   "source": [
    "def post(root):\n",
    "    if root == None:\n",
    "        return\n",
    "    post(root.left)\n",
    "    print(root.data)\n",
    "    post(root.right)\n",
    "\n",
    "root = takeInput()\n",
    "post(root)"
   ]
  },
  {
   "cell_type": "code",
   "execution_count": 60,
   "id": "a9fbf517-bf3d-4f9a-8417-ff9c8d9676e4",
   "metadata": {},
   "outputs": [
    {
     "name": "stdout",
     "output_type": "stream",
     "text": [
      "4\n",
      "5\n",
      "2\n",
      "6\n",
      "7\n",
      "3\n",
      "1\n"
     ]
    }
   ],
   "source": [
    "def post(root):\n",
    "    if root == None:\n",
    "        return\n",
    "    post(root.left)\n",
    "    post(root.right)\n",
    "    print(root.data)\n",
    "\n",
    "#root = takeInput()\n",
    "post(root)"
   ]
  },
  {
   "cell_type": "code",
   "execution_count": 3,
   "id": "5a53fc53-3e3f-480a-b949-6842ab3a5a50",
   "metadata": {},
   "outputs": [],
   "source": [
    "class Binary:\n",
    "    def __init__(self,data):\n",
    "        self.data = data\n",
    "        self.left = None\n",
    "        self.right = None"
   ]
  },
  {
   "cell_type": "markdown",
   "id": "8fc5c296-3db1-4df2-b2bc-4dd74bedb61e",
   "metadata": {},
   "source": [
    "# Binary tree has two searches\n",
    "# DFS = Depth first search such as post order , inorder , pre order\n",
    "# BFS = Breadth first search such as levelwise traversal\n",
    "\n",
    "# BFS is used to visit the nodes from the root\n",
    "# DFS is used to visit the nodes from the leaves\n",
    "\n",
    "# The most important points is, BFS starts visiting nodes from root while DFS starts visiting nodes from leaves. So if our problem is to search something that is more likely to closer to root, we would prefer BFS. And if the target node is close to a leaf, we would prefer DFS.\n",
    "\n",
    "# when solving the questions like levelwise traversal zigzag etc use queue and deque"
   ]
  },
  {
   "cell_type": "code",
   "execution_count": 1,
   "id": "83ec567b-4886-4ad1-a699-6b6e00b80c93",
   "metadata": {},
   "outputs": [
    {
     "ename": "NameError",
     "evalue": "name 'root' is not defined",
     "output_type": "error",
     "traceback": [
      "\u001b[1;31m---------------------------------------------------------------------------\u001b[0m",
      "\u001b[1;31mNameError\u001b[0m                                 Traceback (most recent call last)",
      "Cell \u001b[1;32mIn[1], line 20\u001b[0m\n\u001b[0;32m     16\u001b[0m     maxDiameter \u001b[38;5;241m=\u001b[39m \u001b[38;5;28mmax\u001b[39m(leftPair\u001b[38;5;241m.\u001b[39mdiameter, rightPair\u001b[38;5;241m.\u001b[39mdiameter, currentDaimeter)\n\u001b[0;32m     18\u001b[0m     \u001b[38;5;28;01mreturn\u001b[39;00m Pair(height, maxDiameter)\n\u001b[1;32m---> 20\u001b[0m result \u001b[38;5;241m=\u001b[39m daimeterofBt(\u001b[43mroot\u001b[49m)\n\u001b[0;32m     21\u001b[0m \u001b[38;5;28mprint\u001b[39m(result\u001b[38;5;241m.\u001b[39mdiameter)\n",
      "\u001b[1;31mNameError\u001b[0m: name 'root' is not defined"
     ]
    }
   ],
   "source": [
    "class Pair:\n",
    "    def __init__(self, height, diameter):\n",
    "        self.height = height\n",
    "        self.diameter = diameter\n",
    "def daimeterofBt(root):\n",
    "    if root is None:\n",
    "        pair = Pair(0,0)\n",
    "        return pair\n",
    "\n",
    "    leftPair = daimeterofBt(root.left)\n",
    "    rightPair = daimeterofBt(root.right)\n",
    "\n",
    "    height = max(leftPair.height, rightPair.height) + 1\n",
    "\n",
    "    currentDaimeter = leftPair.height + rightPair.height + 1\n",
    "    maxDiameter = max(leftPair.diameter, rightPair.diameter, currentDaimeter)\n",
    "\n",
    "    return Pair(height, maxDiameter)\n",
    "\n",
    "result = daimeterofBt(root)\n",
    "print(result.diameter)"
   ]
  },
  {
   "cell_type": "code",
   "execution_count": 1,
   "id": "0b41eead-6b1e-4ed4-965f-f732ec83b9ea",
   "metadata": {},
   "outputs": [
    {
     "name": "stdin",
     "output_type": "stream",
     "text": [
      " 1\n"
     ]
    },
    {
     "name": "stdout",
     "output_type": "stream",
     "text": [
      "Enter the left Sub Tree for the :  1\n"
     ]
    },
    {
     "name": "stdin",
     "output_type": "stream",
     "text": [
      " 2\n"
     ]
    },
    {
     "name": "stdout",
     "output_type": "stream",
     "text": [
      "Enter the left Sub Tree for the :  2\n"
     ]
    },
    {
     "name": "stdin",
     "output_type": "stream",
     "text": [
      " 4\n"
     ]
    },
    {
     "name": "stdout",
     "output_type": "stream",
     "text": [
      "Enter the left Sub Tree for the :  4\n"
     ]
    },
    {
     "name": "stdin",
     "output_type": "stream",
     "text": [
      " -1\n"
     ]
    },
    {
     "name": "stdout",
     "output_type": "stream",
     "text": [
      "Enter the Right Sub Tree for the :  4\n"
     ]
    },
    {
     "name": "stdin",
     "output_type": "stream",
     "text": [
      " -1\n"
     ]
    },
    {
     "name": "stdout",
     "output_type": "stream",
     "text": [
      "Enter the Right Sub Tree for the :  2\n"
     ]
    },
    {
     "name": "stdin",
     "output_type": "stream",
     "text": [
      " 5\n"
     ]
    },
    {
     "name": "stdout",
     "output_type": "stream",
     "text": [
      "Enter the left Sub Tree for the :  5\n"
     ]
    },
    {
     "name": "stdin",
     "output_type": "stream",
     "text": [
      " -1\n"
     ]
    },
    {
     "name": "stdout",
     "output_type": "stream",
     "text": [
      "Enter the Right Sub Tree for the :  5\n"
     ]
    },
    {
     "name": "stdin",
     "output_type": "stream",
     "text": [
      " -1\n"
     ]
    },
    {
     "name": "stdout",
     "output_type": "stream",
     "text": [
      "Enter the Right Sub Tree for the :  1\n"
     ]
    },
    {
     "name": "stdin",
     "output_type": "stream",
     "text": [
      " 3\n"
     ]
    },
    {
     "name": "stdout",
     "output_type": "stream",
     "text": [
      "Enter the left Sub Tree for the :  3\n"
     ]
    },
    {
     "name": "stdin",
     "output_type": "stream",
     "text": [
      " 6\n"
     ]
    },
    {
     "name": "stdout",
     "output_type": "stream",
     "text": [
      "Enter the left Sub Tree for the :  6\n"
     ]
    },
    {
     "name": "stdin",
     "output_type": "stream",
     "text": [
      " -1\n"
     ]
    },
    {
     "name": "stdout",
     "output_type": "stream",
     "text": [
      "Enter the Right Sub Tree for the :  6\n"
     ]
    },
    {
     "name": "stdin",
     "output_type": "stream",
     "text": [
      " -1\n"
     ]
    },
    {
     "name": "stdout",
     "output_type": "stream",
     "text": [
      "Enter the Right Sub Tree for the :  3\n"
     ]
    },
    {
     "name": "stdin",
     "output_type": "stream",
     "text": [
      " 7\n"
     ]
    },
    {
     "name": "stdout",
     "output_type": "stream",
     "text": [
      "Enter the left Sub Tree for the :  7\n"
     ]
    },
    {
     "name": "stdin",
     "output_type": "stream",
     "text": [
      " -1\n"
     ]
    },
    {
     "name": "stdout",
     "output_type": "stream",
     "text": [
      "Enter the Right Sub Tree for the :  7\n"
     ]
    },
    {
     "name": "stdin",
     "output_type": "stream",
     "text": [
      " -1\n"
     ]
    },
    {
     "name": "stdout",
     "output_type": "stream",
     "text": [
      "1 L :  2 R :  3 \n",
      "2 L :  4 R :  5 \n",
      "4 \n",
      "5 \n",
      "3 L :  6 R :  7 \n",
      "6 \n",
      "7 \n"
     ]
    }
   ],
   "source": [
    "class BinaryTree:\n",
    "    def __init__(self,data):\n",
    "        self.data = data\n",
    "        self.left = None\n",
    "        self.right = None\n",
    "\n",
    "def preOrder(root):\n",
    "    if root == None:\n",
    "        return\n",
    "    print(root.data, end=\" \")\n",
    "\n",
    "    if root.left != None:\n",
    "        print(\"L : \", root.left.data, end=\" \")\n",
    "    if root.right != None:\n",
    "        print(\"R : \", root.right.data, end=\" \")\n",
    "    print()\n",
    "    preOrder(root.left)\n",
    "    preOrder(root.right)\n",
    "\n",
    "def takeInput():\n",
    "    rootData = int(input())\n",
    "    if rootData == -1 :\n",
    "        return\n",
    "\n",
    "    root = BinaryTree(rootData)\n",
    "    print(\"Enter the left Sub Tree for the : \", root.data)\n",
    "    leftTree = takeInput()\n",
    "    print(\"Enter the Right Sub Tree for the : \", root.data)\n",
    "    rightTree = takeInput()\n",
    "    root.left = leftTree\n",
    "    root.right = rightTree\n",
    "    return root\n",
    "\n",
    "root = takeInput()\n",
    "preOrder(root)"
   ]
  },
  {
   "cell_type": "code",
   "execution_count": 2,
   "id": "5d2d164d-6e21-4ca9-a763-87b0506db603",
   "metadata": {},
   "outputs": [
    {
     "data": {
      "text/plain": [
       "[1, 3, 7]"
      ]
     },
     "execution_count": 2,
     "metadata": {},
     "output_type": "execute_result"
    }
   ],
   "source": [
    "# root to node\n",
    "\n",
    "def rootToNode(root, target):\n",
    "    def rootToNodeHelper(root, target, path):\n",
    "        if root == None:\n",
    "            return\n",
    "\n",
    "        # here we just append the root data \n",
    "        path.append(root.data)\n",
    "\n",
    "        # check and return if the target node is the root data\n",
    "        if root.data == target:\n",
    "            return path\n",
    "\n",
    "        # as we created a path as the list the leftTraversal will as be created becuase of the recursive call \n",
    "        leftTraversal = rootToNodeHelper(root.left, target, path.copy())\n",
    "        rightTraversal = rootToNodeHelper(root.right, target, path.copy())\n",
    "\n",
    "        # and here the leftTraversal and rightTraversal will have path which will be renamed because of the traversing and we will return the \n",
    "        # the variable which we have created for it as the list\n",
    "        if leftTraversal:\n",
    "            return leftTraversal\n",
    "\n",
    "        if rightTraversal:\n",
    "            return rightTraversal\n",
    "\n",
    "        return None\n",
    "    return rootToNodeHelper(root, target, [])\n",
    "\n",
    "target = 7\n",
    "rootToNode(root, target)"
   ]
  },
  {
   "cell_type": "code",
   "execution_count": 3,
   "id": "f3927cd9-a21a-44b8-9e85-1eb1445958a8",
   "metadata": {},
   "outputs": [
    {
     "data": {
      "text/plain": [
       "[6, 3, 1]"
      ]
     },
     "execution_count": 3,
     "metadata": {},
     "output_type": "execute_result"
    }
   ],
   "source": [
    "# node to root\n",
    "\n",
    "def nodeToRoot(root, node):\n",
    "    def nodeToRootHelper(root, node, path):\n",
    "        if root == None:\n",
    "            return\n",
    "        if root.data == node:\n",
    "            path.append(root.data)\n",
    "            return path\n",
    "\n",
    "        leftTraversal = nodeToRootHelper(root.left, node, path.copy())\n",
    "        rightTraversal = nodeToRootHelper(root.right, node, path.copy())\n",
    "\n",
    "        if leftTraversal:\n",
    "            leftTraversal.append(root.data)\n",
    "            return leftTraversal\n",
    "            \n",
    "        if rightTraversal:\n",
    "            rightTraversal.append(root.data)\n",
    "            return rightTraversal\n",
    "\n",
    "        return None\n",
    "    return nodeToRootHelper(root, node, [])\n",
    "\n",
    "node = 6\n",
    "nodeToRoot(root, node)"
   ]
  },
  {
   "cell_type": "code",
   "execution_count": 4,
   "id": "41bb387c-0203-4f15-9709-248a64db266a",
   "metadata": {},
   "outputs": [
    {
     "data": {
      "text/plain": [
       "[1, 2, 5]"
      ]
     },
     "execution_count": 4,
     "metadata": {},
     "output_type": "execute_result"
    }
   ],
   "source": [
    "def rootToLeafNodeTotal(root, targetVal):\n",
    "    def rootToLeafNodeTotalHelper(root, targetVal, path, sumOfAll):\n",
    "        if root == None:\n",
    "            return\n",
    "        path.append(root.data)\n",
    "\n",
    "        if root.left == None and root.right == None:\n",
    "            sumOfAll += root.data\n",
    "\n",
    "            if sumOfAll == targetVal:\n",
    "                return path\n",
    "\n",
    "        leftPath = rootToLeafNodeTotalHelper(root.left, targetVal, path.copy(), sumOfAll + root.data)\n",
    "        rightPath = rootToLeafNodeTotalHelper(root.right, targetVal, path.copy(), sumOfAll + root.data)\n",
    "\n",
    "        if leftPath:\n",
    "            return leftPath\n",
    "        if rightPath:\n",
    "            return rightPath\n",
    "        return None\n",
    "    \n",
    "    return rootToLeafNodeTotalHelper(root, targetVal, [], 0)\n",
    "\n",
    "targetVal = 8\n",
    "rootToLeafNodeTotal(root, targetVal)"
   ]
  },
  {
   "cell_type": "code",
   "execution_count": null,
   "id": "7a06ef5d-5aca-4c9e-9d95-ae3ba5c8671f",
   "metadata": {},
   "outputs": [],
   "source": []
  }
 ],
 "metadata": {
  "kernelspec": {
   "display_name": "Python 3 (ipykernel)",
   "language": "python",
   "name": "python3"
  },
  "language_info": {
   "codemirror_mode": {
    "name": "ipython",
    "version": 3
   },
   "file_extension": ".py",
   "mimetype": "text/x-python",
   "name": "python",
   "nbconvert_exporter": "python",
   "pygments_lexer": "ipython3",
   "version": "3.10.7"
  }
 },
 "nbformat": 4,
 "nbformat_minor": 5
}
