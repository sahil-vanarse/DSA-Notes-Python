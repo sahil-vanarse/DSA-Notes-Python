{
 "cells": [
  {
   "cell_type": "markdown",
   "id": "0d324fd6-08f1-4946-8a8d-a4ac6c7ec95c",
   "metadata": {},
   "source": [
    "### When we compute same thing again and again is known as overlapping subproblem it is mostly seen in the recursion, Dynamic programming is also the part of the recursion but we dont compute same thing again and again we store the values so that we did not to compute that again and again"
   ]
  },
  {
   "cell_type": "markdown",
   "id": "fd25d557-1f21-4a3f-9c71-b2ca553ff490",
   "metadata": {},
   "source": [
    "#### 1) Memorization : It is the process in which we store the values we visited so that we need not to compute it again and again but it will be true  for where there will be overlapping sub problems. For eg: Fibonacci series will can use Memorization . In which case we cant use  memorization is for eg: Factorial of number\n",
    "#### 2) Top Down Approach : Recursive approach\n",
    "#### 3) Bottom Up approach : Iterative approach"
   ]
  },
  {
   "cell_type": "code",
   "execution_count": 12,
   "id": "b1510d19-a698-4e8f-b95d-8c8c788de9fd",
   "metadata": {},
   "outputs": [
    {
     "name": "stdin",
     "output_type": "stream",
     "text": [
      "Enter the number :  6\n"
     ]
    },
    {
     "name": "stdout",
     "output_type": "stream",
     "text": [
      "8\n"
     ]
    }
   ],
   "source": [
    "# first write the program for the fibonacci series using the recursion\n",
    "# TC : O(2^n)   SC : O(n)\n",
    "def fib(n):\n",
    "    if n==0 or n==1:\n",
    "        return n\n",
    "    else:\n",
    "        return fib(n-1) + fib(n-2)\n",
    "\n",
    "if __name__ == \"__main__\":\n",
    "    n = int(input(\"Enter the number : \"))\n",
    "    print(fib(n))"
   ]
  },
  {
   "cell_type": "code",
   "execution_count": 34,
   "id": "8b54b7ac-5ae9-42a3-8a44-f0e2d288cfa9",
   "metadata": {},
   "outputs": [
    {
     "name": "stdin",
     "output_type": "stream",
     "text": [
      "Enter the number :  6\n"
     ]
    },
    {
     "name": "stdout",
     "output_type": "stream",
     "text": [
      "8\n"
     ]
    }
   ],
   "source": [
    "# first program of Dynamic programming\n",
    "# TC : O(n)   SC : O(n)\n",
    "def fib(n):\n",
    "    memo = [None] * (n+1)\n",
    "    if n==0 or n==1:\n",
    "        return n\n",
    "    # if the number is computed first then return that number \n",
    "    elif memo[n] != None:\n",
    "        return memo[n]\n",
    "    # else it is not computed, compute it first and then return it\n",
    "    else:\n",
    "        memo[n] = fib(n-1) + fib(n-2)\n",
    "        return memo[n]\n",
    "\n",
    "if __name__ == \"__main__\":\n",
    "    n = int(input(\"Enter the number : \"))\n",
    "    # memorization table to store the visited number\n",
    "    # memo = [None] * (n+1)\n",
    "    print(fib(n))"
   ]
  },
  {
   "cell_type": "code",
   "execution_count": 23,
   "id": "aaea06cc-4159-4d20-823d-7972c5e94e14",
   "metadata": {},
   "outputs": [
    {
     "name": "stdin",
     "output_type": "stream",
     "text": [
      " 10\n"
     ]
    },
    {
     "name": "stdout",
     "output_type": "stream",
     "text": [
      "55\n"
     ]
    }
   ],
   "source": [
    "# fibonacci series using Dp iterative way . Iterative way is the faster than recursive approach\n",
    "# TC = O(n)  SC = O(n)\n",
    "def iterative_fib(n):\n",
    "    dp = [None] * (n+1)\n",
    "    dp[0] = 0\n",
    "    dp[1] = 1\n",
    "    for i in range(2,n+1):\n",
    "        dp[i] = dp[i-1] + dp[i-2]\n",
    "    return dp[n]\n",
    "\n",
    "if __name__ == \"__main__\":\n",
    "    n = int(input())\n",
    "    print(iterative_fib(n)) "
   ]
  },
  {
   "cell_type": "code",
   "execution_count": 54,
   "id": "1888fad2-8f88-4c07-9f19-d13d9c9f4967",
   "metadata": {},
   "outputs": [
    {
     "name": "stdin",
     "output_type": "stream",
     "text": [
      " 51\n"
     ]
    },
    {
     "name": "stdout",
     "output_type": "stream",
     "text": [
      "32951280099\n"
     ]
    }
   ],
   "source": [
    "# fibonacci series using Dp iterative way . Iterative way is the faster than recursive approach\n",
    "# TC = O(n)  SC = O(1)\n",
    "def iterative_fib(n):\n",
    "    # most optimized solution\n",
    "    step1 = 1\n",
    "    step2 = 1\n",
    "    step3 = 0\n",
    "    for i in range(2, n+1):\n",
    "        step3 = step1 + step2\n",
    "        step1 = step2\n",
    "        step2 = step3\n",
    "    return step3\n",
    "\n",
    "if __name__ == \"__main__\":\n",
    "    n = int(input())\n",
    "    print(iterative_fib(n)) "
   ]
  },
  {
   "cell_type": "code",
   "execution_count": 30,
   "id": "697a5cbd-e86b-4063-81cc-094debf0480d",
   "metadata": {},
   "outputs": [
    {
     "name": "stdin",
     "output_type": "stream",
     "text": [
      " 1\n",
      " 5\n",
      " 2 9 4 1 3\n"
     ]
    },
    {
     "name": "stdout",
     "output_type": "stream",
     "text": [
      "12\n"
     ]
    }
   ],
   "source": [
    "from os import *\n",
    "from sys import *\n",
    "from collections import *\n",
    "from math import *\n",
    "\n",
    "from sys import stdin\n",
    "\n",
    "def maximumNonAdjacentSum(nums):    \n",
    "    # Write your code here.\n",
    "    n = len(nums)\n",
    "    dp = [None] * (n+1)\n",
    "\n",
    "    def helperFunction(idx, dp):\n",
    "        if idx >= len(nums):\n",
    "            return 0\n",
    "        if dp[idx] != None:\n",
    "            return dp[idx]\n",
    "        else:\n",
    "            firstElementCheck = nums[idx] + helperFunction(idx+2, dp)\n",
    "            secondElementCheck = helperFunction(idx+1, dp)\n",
    "            dp[idx] = max(firstElementCheck, secondElementCheck)\n",
    "            return dp[idx]\n",
    "            \n",
    "\n",
    "    return helperFunction(0, dp)\n",
    "\n",
    "# Main.\n",
    "t = int(input())\n",
    "\n",
    "while t > 0:\n",
    "    \n",
    "    n = int(input())\n",
    "    arr = list(map(int, input().rstrip().split(\" \")))\n",
    "    print(maximumNonAdjacentSum(arr))\n",
    "    \n",
    "    t -= 1"
   ]
  },
  {
   "cell_type": "markdown",
   "id": "882e1923-c626-4bf5-b2fc-558f5e9c7f78",
   "metadata": {},
   "source": [
    "# How to identify the DP Problem\n",
    "## it can be solved by the greedy as well as DP\n",
    "### target based such as subset, subarray"
   ]
  },
  {
   "cell_type": "code",
   "execution_count": 29,
   "id": "641e58d7-fe2b-4848-8c2b-26078ce5338b",
   "metadata": {},
   "outputs": [
    {
     "data": {
      "text/plain": [
       "{1: 1, 2: 1, 3: 1, 4: 1}"
      ]
     },
     "execution_count": 29,
     "metadata": {},
     "output_type": "execute_result"
    }
   ],
   "source": [
    "nums = [1,2,3,4]\n",
    "unordered_map = dict()\n",
    "for ele in nums:\n",
    "    unordered_map[ele] = unordered_map.get(ele, 0) +1\n",
    "unordered_map"
   ]
  },
  {
   "cell_type": "code",
   "execution_count": null,
   "id": "af063438-df42-4476-a8f7-748ba2d8cc4a",
   "metadata": {},
   "outputs": [],
   "source": []
  }
 ],
 "metadata": {
  "kernelspec": {
   "display_name": "Python 3 (ipykernel)",
   "language": "python",
   "name": "python3"
  },
  "language_info": {
   "codemirror_mode": {
    "name": "ipython",
    "version": 3
   },
   "file_extension": ".py",
   "mimetype": "text/x-python",
   "name": "python",
   "nbconvert_exporter": "python",
   "pygments_lexer": "ipython3",
   "version": "3.10.7"
  }
 },
 "nbformat": 4,
 "nbformat_minor": 5
}
