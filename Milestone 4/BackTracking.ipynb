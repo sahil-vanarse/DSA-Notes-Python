{
 "cells": [
  {
   "cell_type": "markdown",
   "id": "0e99429e-6b8e-4f61-aaa6-8bfdee9d4368",
   "metadata": {},
   "source": [
    "# Backtracking = It is the form of the recursion"
   ]
  },
  {
   "cell_type": "markdown",
   "id": "0610df32-1ced-4f97-959e-0a60c5f71677",
   "metadata": {},
   "source": [
    "# The difference between the Backtracking and the DP is that we do not need optimization in such case we can use Backtracking"
   ]
  },
  {
   "cell_type": "markdown",
   "id": "cf37123d-20ce-4ed5-9550-1fb47eea042b",
   "metadata": {},
   "source": [
    "# Backtracking is used to find all the possible ways (longest way , for the shortest way backtracking cannot be the best option)"
   ]
  },
  {
   "cell_type": "markdown",
   "id": "859f05a3-3415-4c08-94d5-caec09be4a52",
   "metadata": {},
   "source": [
    "# In general, backtracking can be used to solve combinatorial problems"
   ]
  },
  {
   "cell_type": "markdown",
   "id": "ce2cfcd2-21da-4fed-a88b-e20c7c115e22",
   "metadata": {},
   "source": [
    "# Which of the following is used for the construction of state-space tree for a backtracking algorithm : DFS"
   ]
  },
  {
   "cell_type": "code",
   "execution_count": 11,
   "id": "fa7cd868-1ca9-408d-a67e-0bb3636373fa",
   "metadata": {},
   "outputs": [
    {
     "name": "stdout",
     "output_type": "stream",
     "text": [
      "------- 1 ----------\n",
      "--------- a --------\n",
      "-----BT----\n",
      "------- 2 ----------\n",
      "--------- a --------\n",
      "-----BT----\n",
      "------- 3 ----------\n",
      "--------- b --------\n",
      "-----BT----\n",
      "------- path below ---------\n",
      "--------- ['a', 'a', 'b'] -------\n",
      "------- 3 ----------\n",
      "--------- ab --------\n",
      "------- 2 ----------\n",
      "--------- aa --------\n",
      "-----BT----\n",
      "------- 3 ----------\n",
      "--------- b --------\n",
      "-----BT----\n",
      "------- path below ---------\n",
      "--------- ['aa', 'b'] -------\n",
      "------- 3 ----------\n",
      "--------- aab --------\n",
      "['aa', 'b']\n",
      "['a', 'a', 'b']\n"
     ]
    }
   ],
   "source": []
  },
  {
   "cell_type": "code",
   "execution_count": 17,
   "id": "04ac2f65-521e-4b89-8178-6b59ace860cb",
   "metadata": {},
   "outputs": [],
   "source": [
    "rows = [set() for _ in range(9)]"
   ]
  },
  {
   "cell_type": "code",
   "execution_count": 18,
   "id": "f1d47035-03a0-410b-86c4-31b3337764d4",
   "metadata": {},
   "outputs": [
    {
     "data": {
      "text/plain": [
       "[set(), set(), set(), set(), set(), set(), set(), set(), set()]"
      ]
     },
     "execution_count": 18,
     "metadata": {},
     "output_type": "execute_result"
    }
   ],
   "source": [
    "rows\n"
   ]
  },
  {
   "cell_type": "code",
   "execution_count": 19,
   "id": "00d386e6-1104-4a71-be78-0b41eded403b",
   "metadata": {},
   "outputs": [],
   "source": [
    "rows[2].add(4)"
   ]
  },
  {
   "cell_type": "code",
   "execution_count": 22,
   "id": "49faa0e7-808a-488b-b2e5-43da0fd6c13c",
   "metadata": {},
   "outputs": [],
   "source": [
    "rows[2].add(4)"
   ]
  },
  {
   "cell_type": "code",
   "execution_count": 23,
   "id": "5fc7e70c-5598-4d20-b3e5-735b870a18fc",
   "metadata": {},
   "outputs": [
    {
     "data": {
      "text/plain": [
       "[set(), set(), {4}, set(), set(), set(), set(), set(), set()]"
      ]
     },
     "execution_count": 23,
     "metadata": {},
     "output_type": "execute_result"
    }
   ],
   "source": [
    "rows"
   ]
  },
  {
   "cell_type": "code",
   "execution_count": 31,
   "id": "f3a57283-0935-4612-be06-f11411fc1c83",
   "metadata": {},
   "outputs": [],
   "source": [
    "arr = [[1,2], [3,4]]\n",
    "if 2 in arr:\n",
    "    print(0)"
   ]
  },
  {
   "cell_type": "code",
   "execution_count": 34,
   "id": "f567c210-bf18-44ee-aa44-93af238334d3",
   "metadata": {},
   "outputs": [
    {
     "data": {
      "text/plain": [
       "1"
      ]
     },
     "execution_count": 34,
     "metadata": {},
     "output_type": "execute_result"
    }
   ],
   "source": [
    "3//3"
   ]
  },
  {
   "cell_type": "code",
   "execution_count": 35,
   "id": "38607e77-2dfc-4e1e-9816-b6d8b0cc05c2",
   "metadata": {},
   "outputs": [],
   "source": [
    "grid = [[ set() for j in range(3)] for i in range(3)]"
   ]
  },
  {
   "cell_type": "code",
   "execution_count": 36,
   "id": "c05ad575-494e-4017-8c51-bd1f3eab4509",
   "metadata": {},
   "outputs": [
    {
     "data": {
      "text/plain": [
       "[[set(), set(), set()], [set(), set(), set()], [set(), set(), set()]]"
      ]
     },
     "execution_count": 36,
     "metadata": {},
     "output_type": "execute_result"
    }
   ],
   "source": [
    "grid"
   ]
  },
  {
   "cell_type": "code",
   "execution_count": 43,
   "id": "c4296902-bd64-4e6b-968b-b54b1a487b7d",
   "metadata": {},
   "outputs": [
    {
     "name": "stdout",
     "output_type": "stream",
     "text": [
      "[[1, 1], [2, 3], [4, 5], [4, 6], [6, 7]]\n"
     ]
    }
   ],
   "source": [
    "# Sample 2D array\n",
    "array_2d = [[4,5],[4,6],[6,7],[2,3],[1,1]]\n",
    "\n",
    "# Sort the 2D array based on the values in the sub-arrays at index 0\n",
    "sorted_array_2d = sorted(array_2d, key=lambda x: x[0])\n",
    "\n",
    "# Print the sorted array\n",
    "print(sorted_array_2d)\n"
   ]
  },
  {
   "cell_type": "code",
   "execution_count": 45,
   "id": "3d8fcf08-4641-4893-b0be-6ce5a1b90780",
   "metadata": {},
   "outputs": [
    {
     "name": "stdout",
     "output_type": "stream",
     "text": [
      "[[1, 1], [2, 3], [4, 6], [4, 5], [6, 7]]\n"
     ]
    }
   ],
   "source": [
    "# Sample 2D array\n",
    "array_2d = [[4,5],[4,6],[6,7],[2,3],[1,1]]\n",
    "\n",
    "# Sort the 2D array based on the values in the sub-arrays at index 0\n",
    "sorted_array_2d = sorted(array_2d, key=lambda x: (x[0], -x[1]))\n",
    "\n",
    "# Print the sorted array\n",
    "print(sorted_array_2d)\n"
   ]
  },
  {
   "cell_type": "code",
   "execution_count": 47,
   "id": "c455a9f4-265d-411b-9980-52f41270c708",
   "metadata": {},
   "outputs": [
    {
     "data": {
      "text/plain": [
       "0"
      ]
     },
     "execution_count": 47,
     "metadata": {},
     "output_type": "execute_result"
    }
   ],
   "source": [
    "1//3"
   ]
  },
  {
   "cell_type": "code",
   "execution_count": 48,
   "id": "310cbae8-51c0-4122-ba60-56dc45bcc254",
   "metadata": {},
   "outputs": [
    {
     "data": {
      "text/plain": [
       "1"
      ]
     },
     "execution_count": 48,
     "metadata": {},
     "output_type": "execute_result"
    }
   ],
   "source": [
    "1%3"
   ]
  },
  {
   "cell_type": "code",
   "execution_count": 49,
   "id": "0c5924f1-1684-40b8-9c14-528ea3c5e19d",
   "metadata": {},
   "outputs": [
    {
     "data": {
      "text/plain": [
       "False"
      ]
     },
     "execution_count": 49,
     "metadata": {},
     "output_type": "execute_result"
    }
   ],
   "source": [
    "2>2"
   ]
  },
  {
   "cell_type": "code",
   "execution_count": 50,
   "id": "0a373ccd-f8f3-417b-962a-58ffd07943d3",
   "metadata": {},
   "outputs": [
    {
     "data": {
      "text/plain": [
       "1"
      ]
     },
     "execution_count": 50,
     "metadata": {},
     "output_type": "execute_result"
    }
   ],
   "source": [
    "5//3"
   ]
  },
  {
   "cell_type": "code",
   "execution_count": null,
   "id": "3cce2843-d115-4191-a40b-65224e092ca3",
   "metadata": {},
   "outputs": [],
   "source": []
  }
 ],
 "metadata": {
  "kernelspec": {
   "display_name": "Python 3 (ipykernel)",
   "language": "python",
   "name": "python3"
  },
  "language_info": {
   "codemirror_mode": {
    "name": "ipython",
    "version": 3
   },
   "file_extension": ".py",
   "mimetype": "text/x-python",
   "name": "python",
   "nbconvert_exporter": "python",
   "pygments_lexer": "ipython3",
   "version": "3.10.7"
  }
 },
 "nbformat": 4,
 "nbformat_minor": 5
}
