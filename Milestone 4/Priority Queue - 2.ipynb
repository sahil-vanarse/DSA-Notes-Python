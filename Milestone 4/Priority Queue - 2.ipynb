{
 "cells": [
  {
   "cell_type": "markdown",
   "id": "656a959b-fb57-48b3-95aa-4f78c441c820",
   "metadata": {},
   "source": [
    "## Heap Sort :\n",
    "### Time complexity is O(logn)\n",
    "### Space Complexity can be O(n) or can be O(1) if we dont use extra space"
   ]
  },
  {
   "cell_type": "markdown",
   "id": "51a1fc7b-976e-46e0-8896-ab3f501d3b3c",
   "metadata": {},
   "source": [
    "## Sorting Techniques in Heap :\n",
    "### If for the sorting we use the min heap we will get the array in decreasing order\n",
    "### If for the sorting we use the max heap we will get the array in increasing order"
   ]
  },
  {
   "cell_type": "code",
   "execution_count": 1,
   "id": "19622c4e-cf6d-432b-aa2b-606bd25076a9",
   "metadata": {},
   "outputs": [
    {
     "name": "stdin",
     "output_type": "stream",
     "text": [
      " 7\n",
      " 2 9 5 3 7 1 0\n"
     ]
    },
    {
     "name": "stdout",
     "output_type": "stream",
     "text": [
      "0 1 2 3 5 7 9 "
     ]
    }
   ],
   "source": [
    "# Heap sort with the O(n) time and O(1) space complexity\n",
    "\n",
    "def downHeapify(arr, i, n):\n",
    "    # percolate down will give us the arr in the acending arder but we will need to put the value to the last of the arr as we need to remove it\n",
    "    parentIndex = i\n",
    "    leftChildIndex = 2*parentIndex+1\n",
    "    rightChildIndex = 2*parentIndex+2\n",
    "    while leftChildIndex < n:\n",
    "        minIndex = parentIndex\n",
    "        if arr[minIndex] > arr[leftChildIndex]:\n",
    "            minIndex = leftChildIndex\n",
    "        if rightChildIndex < n and arr[minIndex] > arr[rightChildIndex]:\n",
    "            minIndex = rightChildIndex\n",
    "\n",
    "        if minIndex == parentIndex:\n",
    "            return\n",
    "        arr[minIndex], arr[parentIndex] = arr[parentIndex], arr[minIndex]\n",
    "\n",
    "        parentIndex = minIndex \n",
    "        leftChildIndex = 2*parentIndex+1\n",
    "        rightChildIndex = 2*parentIndex+2\n",
    "    return\n",
    "            \n",
    "\n",
    "def heapSort(arr):\n",
    "    # we need to operate through the non leaf nodes and do not look to the leaf nodes and go to the top of the root\n",
    "    for i in range(n//2-1, -1, -1):\n",
    "        # down heapify is same as percolate down\n",
    "        downHeapify(arr, i, n)\n",
    "\n",
    "    for i in range(n-1, 0, -1):\n",
    "        arr[0], arr[i] = arr[i], arr[0]\n",
    "        # now we will be calling the down heapify for the rest of the part\n",
    "        # from 0 to i because we are loop it in the reverse form as you see above\n",
    "        downHeapify(arr, 0, i)\n",
    "    return\n",
    "\n",
    "n = int(input())\n",
    "arr = [int(ele) for ele in input().split()]\n",
    "heapSort(arr)\n",
    "for ele in arr[::-1]:\n",
    "    print(ele, end=\" \")"
   ]
  },
  {
   "cell_type": "markdown",
   "id": "bb6f5a20-5b85-4e79-b71c-02096815a9d5",
   "metadata": {},
   "source": [
    "# Inbuilt Heap and Priority Queue"
   ]
  },
  {
   "cell_type": "markdown",
   "id": "62314d30-93f2-40e6-b013-5f91e1ba7a4a",
   "metadata": {},
   "source": [
    "### Min Heap"
   ]
  },
  {
   "cell_type": "code",
   "execution_count": 7,
   "id": "59238c26-4def-4593-b9ac-e475ffe4a9e2",
   "metadata": {},
   "outputs": [
    {
     "data": {
      "text/plain": [
       "[1, 5, 4, 8, 7, 9, 11]"
      ]
     },
     "execution_count": 7,
     "metadata": {},
     "output_type": "execute_result"
    }
   ],
   "source": [
    "import heapq\n",
    "li = [1,5,4,8,7,9,11]\n",
    "# to create the heap\n",
    "heapq.heapify(li)\n",
    "li"
   ]
  },
  {
   "cell_type": "code",
   "execution_count": 8,
   "id": "18466e4e-c640-41cd-afd2-36ba5964b176",
   "metadata": {},
   "outputs": [
    {
     "data": {
      "text/plain": [
       "[1, 2, 4, 5, 7, 9, 11, 8]"
      ]
     },
     "execution_count": 8,
     "metadata": {},
     "output_type": "execute_result"
    }
   ],
   "source": [
    "#to push the value to the heap\n",
    "heapq.heappush(li,2)\n",
    "li"
   ]
  },
  {
   "cell_type": "code",
   "execution_count": 9,
   "id": "1b76d588-dfe1-4ba9-bf3e-862d2da1830b",
   "metadata": {},
   "outputs": [
    {
     "data": {
      "text/plain": [
       "1"
      ]
     },
     "execution_count": 9,
     "metadata": {},
     "output_type": "execute_result"
    }
   ],
   "source": [
    "# remove the min value from the heap\n",
    "heapq.heappop(li)"
   ]
  },
  {
   "cell_type": "code",
   "execution_count": 10,
   "id": "f9511df3-c490-43bc-8520-4497de0027a0",
   "metadata": {},
   "outputs": [
    {
     "data": {
      "text/plain": [
       "2"
      ]
     },
     "execution_count": 10,
     "metadata": {},
     "output_type": "execute_result"
    }
   ],
   "source": [
    "# replace function replaces the minimum element of the heap that is the top element\n",
    "heapq.heapreplace(li,6)"
   ]
  },
  {
   "cell_type": "code",
   "execution_count": 11,
   "id": "1f4a12ff-cede-4f8a-88f1-bd826954f30d",
   "metadata": {},
   "outputs": [
    {
     "data": {
      "text/plain": [
       "[4, 5, 6, 8, 7, 9, 11]"
      ]
     },
     "execution_count": 11,
     "metadata": {},
     "output_type": "execute_result"
    }
   ],
   "source": [
    "li"
   ]
  },
  {
   "cell_type": "markdown",
   "id": "c0dc118e-876b-45d4-9e1b-acb9d72612c3",
   "metadata": {},
   "source": [
    "### Max Heap"
   ]
  },
  {
   "cell_type": "code",
   "execution_count": 30,
   "id": "a70ce9ad-9e4c-4d46-8253-980657dadd48",
   "metadata": {},
   "outputs": [
    {
     "data": {
      "text/plain": [
       "[9, 6, 8, 5, 4, 7, 2, 0, 1]"
      ]
     },
     "execution_count": 30,
     "metadata": {},
     "output_type": "execute_result"
    }
   ],
   "source": [
    "import heapq\n",
    "li = [2,6,9,5,4,7,8,0,1]\n",
    "# this is used for the max heap\n",
    "heapq._heapify_max(li)\n",
    "li"
   ]
  },
  {
   "cell_type": "code",
   "execution_count": 31,
   "id": "8048d26a-dedf-4515-a56b-7e27ec75cc89",
   "metadata": {},
   "outputs": [
    {
     "data": {
      "text/plain": [
       "9"
      ]
     },
     "execution_count": 31,
     "metadata": {},
     "output_type": "execute_result"
    }
   ],
   "source": [
    "# used to pop the max element from the heap \n",
    "heapq._heappop_max(li)"
   ]
  },
  {
   "cell_type": "code",
   "execution_count": 32,
   "id": "cd05dee6-d334-4ddd-9cdd-100ec4f061a6",
   "metadata": {},
   "outputs": [
    {
     "data": {
      "text/plain": [
       "[8, 6, 7, 5, 4, 1, 2, 0]"
      ]
     },
     "execution_count": 32,
     "metadata": {},
     "output_type": "execute_result"
    }
   ],
   "source": [
    "li"
   ]
  },
  {
   "cell_type": "code",
   "execution_count": 33,
   "id": "220ac002-f93b-4628-9376-1491f8a0ff6f",
   "metadata": {},
   "outputs": [
    {
     "data": {
      "text/plain": [
       "8"
      ]
     },
     "execution_count": 33,
     "metadata": {},
     "output_type": "execute_result"
    }
   ],
   "source": [
    "heapq._heapreplace_max(li,54)"
   ]
  },
  {
   "cell_type": "code",
   "execution_count": 34,
   "id": "e9688510-f6bf-4a17-aeaa-4d0315173e6d",
   "metadata": {},
   "outputs": [
    {
     "data": {
      "text/plain": [
       "[54, 6, 7, 5, 4, 1, 2, 0]"
      ]
     },
     "execution_count": 34,
     "metadata": {},
     "output_type": "execute_result"
    }
   ],
   "source": [
    "li"
   ]
  },
  {
   "cell_type": "code",
   "execution_count": 35,
   "id": "f9ae8aa4-67dd-4e25-88fb-fc3497598a7a",
   "metadata": {},
   "outputs": [
    {
     "data": {
      "text/plain": [
       "[100, 54, 7, 6, 4, 1, 2, 0, 5]"
      ]
     },
     "execution_count": 35,
     "metadata": {},
     "output_type": "execute_result"
    }
   ],
   "source": [
    "# push or append the element to the heap\n",
    "li.append(100)\n",
    "# in this siftdown max what is do is we append the element first to the li and the we call the function , function takes 3 arguements i.e heap(li),\n",
    "# tillwhere we want to go (in this below case we have gone till the root element) and the length of the li\n",
    "heapq._siftdown_max(li, 0, len(li)-1)\n",
    "li"
   ]
  },
  {
   "cell_type": "code",
   "execution_count": 38,
   "id": "a1056a5b-98ee-4cc9-8864-382897ab4e35",
   "metadata": {},
   "outputs": [
    {
     "name": "stdin",
     "output_type": "stream",
     "text": [
      " 6\n",
      "  2 5 8 3 1 9\n",
      " 3\n"
     ]
    },
    {
     "name": "stdout",
     "output_type": "stream",
     "text": [
      "1 2 3\n"
     ]
    }
   ],
   "source": [
    "# this the one solution \n",
    "import heapq\n",
    "def kSmallest(lst, k):\n",
    "    # first built the min heap using the library \n",
    "    heapq.heapify(lst)\n",
    "\n",
    "    k_smallest_element = []\n",
    "\n",
    "    for i in range(k):\n",
    "        small_values = heapq.heappop(lst)\n",
    "        k_smallest_element.append(small_values)\n",
    "    return k_smallest_element\n",
    "\n",
    "\n",
    "# Main\n",
    "n=int(input())\n",
    "lst=list(int(i) for i in input().strip().split(' '))\n",
    "k=int(input())\n",
    "ans=kSmallest(lst, k)\n",
    "ans.sort()\n",
    "print(*ans, sep=' ')"
   ]
  },
  {
   "cell_type": "code",
   "execution_count": 41,
   "id": "9b7561fe-80c8-4761-b7ae-94e3005122e2",
   "metadata": {},
   "outputs": [
    {
     "name": "stdin",
     "output_type": "stream",
     "text": [
      " 6\n",
      "  2 5 8 3 1 9\n",
      " 3\n"
     ]
    },
    {
     "name": "stdout",
     "output_type": "stream",
     "text": [
      "1 2 3\n"
     ]
    }
   ],
   "source": [
    "# this is the second solution\n",
    "import heapq\n",
    "def kSmallest(lst, k):\n",
    "    heap = lst[:k]\n",
    "    heapq._heapify_max(heap)\n",
    "    n = len(lst)\n",
    "    for i in range(k, n):\n",
    "        if heap[0] > lst[i]:\n",
    "            heapq._heapreplace_max(heap, lst[i])\n",
    "    return heap\n",
    "    \n",
    "# Main\n",
    "n=int(input())\n",
    "lst=list(int(i) for i in input().strip().split(' '))\n",
    "k=int(input())\n",
    "ans=kSmallest(lst, k)\n",
    "ans.sort()\n",
    "print(*ans, sep=' ')"
   ]
  },
  {
   "cell_type": "code",
   "execution_count": 42,
   "id": "83388d5e-6a73-438d-9393-a9e4918a5ef7",
   "metadata": {},
   "outputs": [],
   "source": [
    "# heapq.heappusppop works as the replacement function if you are solving the k largest type questions"
   ]
  },
  {
   "cell_type": "code",
   "execution_count": null,
   "id": "cd5511e4-dd42-49a7-af29-42a59182adc3",
   "metadata": {},
   "outputs": [],
   "source": []
  }
 ],
 "metadata": {
  "kernelspec": {
   "display_name": "Python 3 (ipykernel)",
   "language": "python",
   "name": "python3"
  },
  "language_info": {
   "codemirror_mode": {
    "name": "ipython",
    "version": 3
   },
   "file_extension": ".py",
   "mimetype": "text/x-python",
   "name": "python",
   "nbconvert_exporter": "python",
   "pygments_lexer": "ipython3",
   "version": "3.10.7"
  }
 },
 "nbformat": 4,
 "nbformat_minor": 5
}
