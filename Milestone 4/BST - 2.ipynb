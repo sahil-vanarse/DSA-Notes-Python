{
 "cells": [
  {
   "cell_type": "code",
   "execution_count": 3,
   "id": "59a02477-e5d6-45c0-b933-c2cfd177c7aa",
   "metadata": {},
   "outputs": [],
   "source": [
    "import queue\n",
    "class BinaryTree:\n",
    "    def __init__(self,data):\n",
    "        self.data = data\n",
    "        self.left = None\n",
    "        self.right = None\n",
    "        \n",
    "def printPreOrder(root):\n",
    "    if root == None:\n",
    "        return\n",
    "\n",
    "    print(root.data, end=\" : \")\n",
    "    if root.left != None:\n",
    "        print(\"L : \",root.left.data, end=\" \")\n",
    "    if root.right != None:\n",
    "        print(\"R : \",root.right.data, end=\" \")\n",
    "    print()\n",
    "    printPreOrder(root.left)\n",
    "    printPreOrder(root.right)\n",
    "    \n",
    "def takeInput():\n",
    "    q = queue.Queue()\n",
    "    print(\"Enter the root data : \")\n",
    "    rootData = int(input())\n",
    "    if rootData == -1:\n",
    "        return None\n",
    "    root = BinaryTree(rootData)\n",
    "    q.put(root)\n",
    "\n",
    "    while q.empty() == False:\n",
    "        currentNode = q.get()\n",
    "        print(\"Enter the Left Tree for : \", currentNode.data)\n",
    "        leftTree = int(input())\n",
    "        if leftTree != -1:\n",
    "            leftSubTree = BinaryTree(leftTree)\n",
    "            currentNode.left = leftSubTree\n",
    "            q.put(leftSubTree)\n",
    "\n",
    "        print(\"Enter the Right Tree for : \", currentNode.data)\n",
    "        rightTree = int(input())\n",
    "        if rightTree != -1:\n",
    "            rightSubTree = BinaryTree(rightTree)\n",
    "            currentNode.right = rightSubTree\n",
    "            q.put(rightSubTree)\n",
    "\n",
    "    return root"
   ]
  },
  {
   "cell_type": "code",
   "execution_count": 4,
   "id": "72b1cd48-06da-40be-ba5e-6ad61acbb5d2",
   "metadata": {},
   "outputs": [
    {
     "name": "stdout",
     "output_type": "stream",
     "text": [
      "Enter the root data : \n"
     ]
    },
    {
     "name": "stdin",
     "output_type": "stream",
     "text": [
      " 1\n"
     ]
    },
    {
     "name": "stdout",
     "output_type": "stream",
     "text": [
      "Enter the Left Tree for :  1\n"
     ]
    },
    {
     "name": "stdin",
     "output_type": "stream",
     "text": [
      " 2\n"
     ]
    },
    {
     "name": "stdout",
     "output_type": "stream",
     "text": [
      "Enter the Right Tree for :  1\n"
     ]
    },
    {
     "name": "stdin",
     "output_type": "stream",
     "text": [
      " 3\n"
     ]
    },
    {
     "name": "stdout",
     "output_type": "stream",
     "text": [
      "Enter the Left Tree for :  2\n"
     ]
    },
    {
     "name": "stdin",
     "output_type": "stream",
     "text": [
      " -1\n"
     ]
    },
    {
     "name": "stdout",
     "output_type": "stream",
     "text": [
      "Enter the Right Tree for :  2\n"
     ]
    },
    {
     "name": "stdin",
     "output_type": "stream",
     "text": [
      " -1\n"
     ]
    },
    {
     "name": "stdout",
     "output_type": "stream",
     "text": [
      "Enter the Left Tree for :  3\n"
     ]
    },
    {
     "name": "stdin",
     "output_type": "stream",
     "text": [
      " 4\n"
     ]
    },
    {
     "name": "stdout",
     "output_type": "stream",
     "text": [
      "Enter the Right Tree for :  3\n"
     ]
    },
    {
     "name": "stdin",
     "output_type": "stream",
     "text": [
      " 6\n"
     ]
    },
    {
     "name": "stdout",
     "output_type": "stream",
     "text": [
      "Enter the Left Tree for :  4\n"
     ]
    },
    {
     "name": "stdin",
     "output_type": "stream",
     "text": [
      " -1\n"
     ]
    },
    {
     "name": "stdout",
     "output_type": "stream",
     "text": [
      "Enter the Right Tree for :  4\n"
     ]
    },
    {
     "name": "stdin",
     "output_type": "stream",
     "text": [
      " -1\n"
     ]
    },
    {
     "name": "stdout",
     "output_type": "stream",
     "text": [
      "Enter the Left Tree for :  6\n"
     ]
    },
    {
     "name": "stdin",
     "output_type": "stream",
     "text": [
      " 5\n"
     ]
    },
    {
     "name": "stdout",
     "output_type": "stream",
     "text": [
      "Enter the Right Tree for :  6\n"
     ]
    },
    {
     "name": "stdin",
     "output_type": "stream",
     "text": [
      " 9\n"
     ]
    },
    {
     "name": "stdout",
     "output_type": "stream",
     "text": [
      "Enter the Left Tree for :  5\n"
     ]
    },
    {
     "name": "stdin",
     "output_type": "stream",
     "text": [
      " 7\n"
     ]
    },
    {
     "name": "stdout",
     "output_type": "stream",
     "text": [
      "Enter the Right Tree for :  5\n"
     ]
    },
    {
     "name": "stdin",
     "output_type": "stream",
     "text": [
      " 8\n"
     ]
    },
    {
     "name": "stdout",
     "output_type": "stream",
     "text": [
      "Enter the Left Tree for :  9\n"
     ]
    },
    {
     "name": "stdin",
     "output_type": "stream",
     "text": [
      " -1\n"
     ]
    },
    {
     "name": "stdout",
     "output_type": "stream",
     "text": [
      "Enter the Right Tree for :  9\n"
     ]
    },
    {
     "name": "stdin",
     "output_type": "stream",
     "text": [
      " -1\n"
     ]
    },
    {
     "name": "stdout",
     "output_type": "stream",
     "text": [
      "Enter the Left Tree for :  7\n"
     ]
    },
    {
     "name": "stdin",
     "output_type": "stream",
     "text": [
      " -1\n"
     ]
    },
    {
     "name": "stdout",
     "output_type": "stream",
     "text": [
      "Enter the Right Tree for :  7\n"
     ]
    },
    {
     "name": "stdin",
     "output_type": "stream",
     "text": [
      " -1\n"
     ]
    },
    {
     "name": "stdout",
     "output_type": "stream",
     "text": [
      "Enter the Left Tree for :  8\n"
     ]
    },
    {
     "name": "stdin",
     "output_type": "stream",
     "text": [
      " -1\n"
     ]
    },
    {
     "name": "stdout",
     "output_type": "stream",
     "text": [
      "Enter the Right Tree for :  8\n"
     ]
    },
    {
     "name": "stdin",
     "output_type": "stream",
     "text": [
      " -1\n"
     ]
    },
    {
     "name": "stdout",
     "output_type": "stream",
     "text": [
      "1 : L :  2 R :  3 \n",
      "2 : \n",
      "3 : L :  4 R :  6 \n",
      "4 : \n",
      "6 : L :  5 R :  9 \n",
      "5 : L :  7 R :  8 \n",
      "7 : \n",
      "8 : \n",
      "9 : \n"
     ]
    }
   ],
   "source": [
    "root = takeInput()\n",
    "printPreOrder(root)"
   ]
  },
  {
   "cell_type": "code",
   "execution_count": 5,
   "id": "2757698b-fd6d-4bbc-9f9b-58d2a3f50cd0",
   "metadata": {},
   "outputs": [],
   "source": [
    "# to find the path from the node to the root\n",
    "def nodeToRootPath(root, node):\n",
    "    # if root has no value assing to it\n",
    "    if root == None:\n",
    "        return None\n",
    "\n",
    "    # if our node value is roots value means that we will only append the root value to the list\n",
    "    if root.data == node:\n",
    "        li = list()\n",
    "        li.append(root.data)\n",
    "        return li\n",
    "\n",
    "    # Recursive call on the left of the tree\n",
    "    leftOutput = nodeToRootPath(root.left, node)\n",
    "\n",
    "    # You should write the name of the recursive calls name to append the elements others it's already being handled in the recursive calls\n",
    "    \n",
    "    if leftOutput != None:\n",
    "        # here leftOutput works as a list as we have given li as the list for the root.data\n",
    "        leftOutput.append(root.data)\n",
    "        return leftOutput\n",
    "\n",
    "    # Recursive call on the left of the tree\n",
    "    rightOutput = nodeToRootPath(root.right, node)\n",
    "    if rightOutput != None:\n",
    "        rightOutput.append(root.data)\n",
    "        return rightOutput\n",
    "\n",
    "    else:\n",
    "        return None\n",
    "        "
   ]
  },
  {
   "cell_type": "code",
   "execution_count": 6,
   "id": "b9ea52e2-0d43-4758-92ca-4bc7e96731c0",
   "metadata": {},
   "outputs": [
    {
     "data": {
      "text/plain": [
       "[4, 3, 1]"
      ]
     },
     "execution_count": 6,
     "metadata": {},
     "output_type": "execute_result"
    }
   ],
   "source": [
    "nodeToRootPath(root,4)"
   ]
  },
  {
   "cell_type": "code",
   "execution_count": 7,
   "id": "32174b16-f6ea-44e4-996c-99a25d6e70a2",
   "metadata": {},
   "outputs": [],
   "source": [
    "def rootToTheNodeHelper(root, target, path):\n",
    "    if root == None:\n",
    "        return\n",
    "\n",
    "    # append the root value to the path first\n",
    "    path += str(root.data) + \" \"\n",
    "\n",
    "    # if the root value itself is the target value return the path\n",
    "    if root.data == target:\n",
    "        print(path.strip())\n",
    "\n",
    "    # now recursively travel to the left and right tree assuming that we have found the path\n",
    "    leftpath = rootToTheNodeHelper(root.left, target, path)\n",
    "    rightpath = rootToTheNodeHelper(root.right, target, path)\n",
    "\n",
    "    # assume that the path is found on the left tree\n",
    "    if leftpath:\n",
    "        print(path + str(root.data) +\" \")\n",
    "\n",
    "    # assume that the path is found on the right tree\n",
    "    elif rightpath:\n",
    "        print(path + str(root.data) + \" \")\n",
    "\n",
    "    # no path found\n",
    "    else:\n",
    "        return None\n",
    "\n",
    "    # if leftpath or rightpath:\n",
    "    #     print(path + str(root.data) + \" \")\n",
    "\n",
    "def rootToNode(root, target):\n",
    "    rootToTheNodeHelper(root, target, \"\")"
   ]
  },
  {
   "cell_type": "code",
   "execution_count": 8,
   "id": "fb60289d-9914-435a-8ff3-12d34531cfa9",
   "metadata": {},
   "outputs": [
    {
     "name": "stdout",
     "output_type": "stream",
     "text": [
      "1 3\n"
     ]
    }
   ],
   "source": [
    "target = 3\n",
    "rootToNode(root, target)"
   ]
  },
  {
   "cell_type": "code",
   "execution_count": 9,
   "id": "67d11d3f-7ee8-4326-a01d-b412bec2502e",
   "metadata": {},
   "outputs": [],
   "source": [
    "def nodeRoot(root, target, path):\n",
    "    if root == None:\n",
    "        return\n",
    "\n",
    "    path += str(root.data)\n",
    "\n",
    "    if root.data == target:\n",
    "        print(\" \".join(path[::-1]))\n",
    "\n",
    "    leftTree = nodeRoot(root.left, target, path)\n",
    "    rightTree = nodeRoot(root.right, target, path)\n",
    "\n",
    "def nodetoroot(root,target):\n",
    "    nodeRoot(root, target, \"\")"
   ]
  },
  {
   "cell_type": "code",
   "execution_count": 10,
   "id": "10749443-719a-48a4-a845-ec4d66e9013b",
   "metadata": {},
   "outputs": [
    {
     "name": "stdout",
     "output_type": "stream",
     "text": [
      "5 6 3 1\n"
     ]
    }
   ],
   "source": [
    "nodetoroot(root,5)"
   ]
  },
  {
   "cell_type": "markdown",
   "id": "e7cb29bd-9089-48b3-9790-c0cef3f09e29",
   "metadata": {},
   "source": [
    "### BST Class"
   ]
  },
  {
   "cell_type": "code",
   "execution_count": 32,
   "id": "df8705b6-416e-44ea-90fa-aa437a41136b",
   "metadata": {},
   "outputs": [],
   "source": [
    "class BinarySTClass:\n",
    "    def __init__(self,data):\n",
    "        self.data = data\n",
    "        self.left = None\n",
    "        self.right = None"
   ]
  },
  {
   "cell_type": "code",
   "execution_count": 58,
   "id": "5230b1cf-7254-4f33-8060-69909013c30c",
   "metadata": {},
   "outputs": [],
   "source": [
    "class BST:\n",
    "    def __init__(self):\n",
    "        self.root = None\n",
    "        self.numNodeCount = 0\n",
    "\n",
    "    def printTreeHelper(self, root):\n",
    "        if root == None:\n",
    "            return\n",
    "\n",
    "        print(root.data, end =\" : \")\n",
    "\n",
    "        if root.left != None:\n",
    "            print(\"L : \", root.left.data, end=\" \")\n",
    "\n",
    "        if root.right != None:\n",
    "            print(\"R : \", root.right.data, end=\" \")\n",
    "        print()\n",
    "        self.printTreeHelper(root.left)\n",
    "        self.printTreeHelper(root.right)\n",
    "\n",
    "    def printTree(self):\n",
    "        self.printTreeHelper(self.root)\n",
    "        \n",
    "\n",
    "    def isPresentHelper(self, root, data):\n",
    "        if root == None:\n",
    "            return False\n",
    "\n",
    "        if root.data == data:\n",
    "            return True\n",
    "\n",
    "        if root.data > data:\n",
    "            return self.isPresentHelper(root.left, data)\n",
    "\n",
    "        elif root.data <= data:\n",
    "            return self.isPresentHelper(root.right, data)\n",
    "            \n",
    "    def isPresent(self,data):\n",
    "        return self.isPresentHelper(self.root, data)\n",
    "\n",
    "    def insertHelper(self, root, data):\n",
    "        if root == None:\n",
    "            node = BinarySTClass(data)\n",
    "            return node\n",
    "\n",
    "        if root.data > data:\n",
    "            root.left = self.insertHelper(root.left, data)\n",
    "            return root\n",
    "        else:\n",
    "            root.right = self.insertHelper(root.right, data)\n",
    "            return root\n",
    "    \n",
    "    def insert(self, data):\n",
    "        self.numNodeCount += 1\n",
    "        self.root = self.insertHelper(self.root, data)\n",
    "\n",
    "    def min(self, root):\n",
    "        if root == None:\n",
    "            return 10000000\n",
    "\n",
    "        if root.left == None:\n",
    "            return root.data\n",
    "        return self.min(root.left)\n",
    "\n",
    "    def deleteDataHelper(self, root, data):\n",
    "        if root == None:\n",
    "            return False, None\n",
    "        if root.data < data:\n",
    "            deleted, newRightNode = self.deleteDataHelper(root.right, data)\n",
    "            root.right = newRightNode\n",
    "            return deleted, root\n",
    "\n",
    "        if root.data > data:\n",
    "            deleted, newLeftNode = self.deleteDataHelper(root.left, data)\n",
    "            root.left = newLeftNode\n",
    "            return deleted, root\n",
    "\n",
    "        # if root is leaf\n",
    "        if root.left is None and root.right is None:\n",
    "            return True, None\n",
    "\n",
    "        # root has one child\n",
    "        if root.left is None:\n",
    "            return True, root.right\n",
    "\n",
    "        if root.right is None:\n",
    "            return True, root.left\n",
    "\n",
    "        # root has 2 child\n",
    "        replacement = self.min(root.right)\n",
    "        root.data = replacement\n",
    "        deleted, newRightNode = self.deleteDataHelper(root.right, replacement)\n",
    "        root.right = newRightNode\n",
    "        return True, root\n",
    "        \n",
    "    def deleteData(self,data):\n",
    "        deleted, newRoot = self.deleteDataHelper(self.root, data)\n",
    "        if deleted :\n",
    "            self.numNodeCount -= 1\n",
    "        self.root = newRoot\n",
    "        return deleted\n",
    "\n",
    "    def count(self):\n",
    "        return self.numNodeCount"
   ]
  },
  {
   "cell_type": "code",
   "execution_count": 59,
   "id": "f97ba9a0-6888-46ab-8ac7-1f6431ac3814",
   "metadata": {},
   "outputs": [
    {
     "name": "stdout",
     "output_type": "stream",
     "text": [
      "True\n",
      "False\n",
      "False\n",
      "True\n",
      "2\n",
      "12 : L :  5 \n",
      "5 : \n"
     ]
    }
   ],
   "source": [
    "b = BST()\n",
    "b.insert(10)\n",
    "b.insert(5)\n",
    "b.insert(12)\n",
    "print(b.isPresent(10))\n",
    "print(b.isPresent(7))\n",
    "print(b.deleteData(4))\n",
    "print(b.deleteData(10))\n",
    "print(b.count())\n",
    "b.printTree()"
   ]
  },
  {
   "cell_type": "markdown",
   "id": "a7b2b33e-7d16-4517-a1de-7e04afb1753f",
   "metadata": {},
   "source": [
    "# All the functions are O(h)"
   ]
  },
  {
   "cell_type": "markdown",
   "id": "74297ff8-ca7a-412d-bfc3-05506b01f251",
   "metadata": {},
   "source": [
    "AVL Trees are important to read just read once"
   ]
  },
  {
   "cell_type": "code",
   "execution_count": 66,
   "id": "5a92a74b-104f-463e-878a-a6d7b3878e75",
   "metadata": {},
   "outputs": [],
   "source": [
    "import queue\n",
    "class BinaryTree:\n",
    "    def __init__(self,data):\n",
    "        self.data = data\n",
    "        self.left = None\n",
    "        self.right = None\n",
    "        \n",
    "def printPreOrder(root):\n",
    "    if root == None:\n",
    "        return\n",
    "\n",
    "    print(root.data, end=\" : \")\n",
    "    if root.left != None:\n",
    "        print(\"L : \",root.left.data, end=\" \")\n",
    "    if root.right != None:\n",
    "        print(\"R : \",root.right.data, end=\" \")\n",
    "    print()\n",
    "    printPreOrder(root.left)\n",
    "    printPreOrder(root.right)\n",
    "    \n",
    "def takeInput():\n",
    "    q = queue.Queue()\n",
    "    print(\"Enter the root data : \")\n",
    "    rootData = int(input())\n",
    "    if rootData == -1:\n",
    "        return None\n",
    "    root = BinaryTree(rootData)\n",
    "    q.put(root)\n",
    "\n",
    "    while q.empty() == False:\n",
    "        currentNode = q.get()\n",
    "        print(\"Enter the Left Tree for : \", currentNode.data)\n",
    "        leftTree = int(input())\n",
    "        if leftTree != -1:\n",
    "            leftSubTree = BinaryTree(leftTree)\n",
    "            currentNode.left = leftSubTree\n",
    "            q.put(leftSubTree)\n",
    "\n",
    "        print(\"Enter the Right Tree for : \", currentNode.data)\n",
    "        rightTree = int(input())\n",
    "        if rightTree != -1:\n",
    "            rightSubTree = BinaryTree(rightTree)\n",
    "            currentNode.right = rightSubTree\n",
    "            q.put(rightSubTree)\n",
    "\n",
    "    return root"
   ]
  },
  {
   "cell_type": "code",
   "execution_count": 69,
   "id": "7df70a78-33b2-46b4-a566-55cd11aac2a6",
   "metadata": {},
   "outputs": [
    {
     "name": "stdout",
     "output_type": "stream",
     "text": [
      "Enter the root data : \n"
     ]
    },
    {
     "name": "stdin",
     "output_type": "stream",
     "text": [
      " 1\n"
     ]
    },
    {
     "name": "stdout",
     "output_type": "stream",
     "text": [
      "Enter the Left Tree for :  1\n"
     ]
    },
    {
     "name": "stdin",
     "output_type": "stream",
     "text": [
      " 2\n"
     ]
    },
    {
     "name": "stdout",
     "output_type": "stream",
     "text": [
      "Enter the Right Tree for :  1\n"
     ]
    },
    {
     "name": "stdin",
     "output_type": "stream",
     "text": [
      " 3\n"
     ]
    },
    {
     "name": "stdout",
     "output_type": "stream",
     "text": [
      "Enter the Left Tree for :  2\n"
     ]
    },
    {
     "name": "stdin",
     "output_type": "stream",
     "text": [
      " -1\n"
     ]
    },
    {
     "name": "stdout",
     "output_type": "stream",
     "text": [
      "Enter the Right Tree for :  2\n"
     ]
    },
    {
     "name": "stdin",
     "output_type": "stream",
     "text": [
      " -1\n"
     ]
    },
    {
     "name": "stdout",
     "output_type": "stream",
     "text": [
      "Enter the Left Tree for :  3\n"
     ]
    },
    {
     "name": "stdin",
     "output_type": "stream",
     "text": [
      " 4\n"
     ]
    },
    {
     "name": "stdout",
     "output_type": "stream",
     "text": [
      "Enter the Right Tree for :  3\n"
     ]
    },
    {
     "name": "stdin",
     "output_type": "stream",
     "text": [
      " 6\n"
     ]
    },
    {
     "name": "stdout",
     "output_type": "stream",
     "text": [
      "Enter the Left Tree for :  4\n"
     ]
    },
    {
     "name": "stdin",
     "output_type": "stream",
     "text": [
      " -1\n"
     ]
    },
    {
     "name": "stdout",
     "output_type": "stream",
     "text": [
      "Enter the Right Tree for :  4\n"
     ]
    },
    {
     "name": "stdin",
     "output_type": "stream",
     "text": [
      " -1\n"
     ]
    },
    {
     "name": "stdout",
     "output_type": "stream",
     "text": [
      "Enter the Left Tree for :  6\n"
     ]
    },
    {
     "name": "stdin",
     "output_type": "stream",
     "text": [
      " 5\n"
     ]
    },
    {
     "name": "stdout",
     "output_type": "stream",
     "text": [
      "Enter the Right Tree for :  6\n"
     ]
    },
    {
     "name": "stdin",
     "output_type": "stream",
     "text": [
      " 9\n"
     ]
    },
    {
     "name": "stdout",
     "output_type": "stream",
     "text": [
      "Enter the Left Tree for :  5\n"
     ]
    },
    {
     "name": "stdin",
     "output_type": "stream",
     "text": [
      " 7\n"
     ]
    },
    {
     "name": "stdout",
     "output_type": "stream",
     "text": [
      "Enter the Right Tree for :  5\n"
     ]
    },
    {
     "name": "stdin",
     "output_type": "stream",
     "text": [
      " 8\n"
     ]
    },
    {
     "name": "stdout",
     "output_type": "stream",
     "text": [
      "Enter the Left Tree for :  9\n"
     ]
    },
    {
     "name": "stdin",
     "output_type": "stream",
     "text": [
      " -1\n"
     ]
    },
    {
     "name": "stdout",
     "output_type": "stream",
     "text": [
      "Enter the Right Tree for :  9\n"
     ]
    },
    {
     "name": "stdin",
     "output_type": "stream",
     "text": [
      " -1\n"
     ]
    },
    {
     "name": "stdout",
     "output_type": "stream",
     "text": [
      "Enter the Left Tree for :  7\n"
     ]
    },
    {
     "name": "stdin",
     "output_type": "stream",
     "text": [
      " -1\n"
     ]
    },
    {
     "name": "stdout",
     "output_type": "stream",
     "text": [
      "Enter the Right Tree for :  7\n"
     ]
    },
    {
     "name": "stdin",
     "output_type": "stream",
     "text": [
      " -1\n"
     ]
    },
    {
     "name": "stdout",
     "output_type": "stream",
     "text": [
      "Enter the Left Tree for :  8\n"
     ]
    },
    {
     "name": "stdin",
     "output_type": "stream",
     "text": [
      " -1\n"
     ]
    },
    {
     "name": "stdout",
     "output_type": "stream",
     "text": [
      "Enter the Right Tree for :  8\n"
     ]
    },
    {
     "name": "stdin",
     "output_type": "stream",
     "text": [
      " -1\n"
     ]
    },
    {
     "data": {
      "text/plain": [
       "3"
      ]
     },
     "execution_count": 69,
     "metadata": {},
     "output_type": "execute_result"
    }
   ],
   "source": [
    "def lcaOf2Nodes(root, node1, node2):\n",
    "    if root == None:\n",
    "        return\n",
    "\n",
    "    if root.data == node1 or root.data == node2:\n",
    "        return root\n",
    "\n",
    "    leftSearch = lcaOf2Nodes(root.left, node1, node2)\n",
    "    rightSearch = lcaOf2Nodes(root.right, node1, node2)\n",
    "\n",
    "    if leftSearch and rightSearch:\n",
    "        return root.data\n",
    "\n",
    "    if leftSearch:\n",
    "        return leftSearch\n",
    "\n",
    "    if rightSearch:\n",
    "        return rightSearch\n",
    "\n",
    "\n",
    "root = takeInput()\n",
    "node1 = 4\n",
    "node2 = 6\n",
    "lcaOf2Nodes(root, node1, node2)"
   ]
  },
  {
   "cell_type": "code",
   "execution_count": 71,
   "id": "78de8b10-99ae-421e-b974-fe05884a296c",
   "metadata": {},
   "outputs": [
    {
     "data": {
      "text/plain": [
       "6"
      ]
     },
     "execution_count": 71,
     "metadata": {},
     "output_type": "execute_result"
    }
   ],
   "source": [
    "node1 = 5\n",
    "node2 = 9\n",
    "lcaOf2Nodes(root, node1, node2)"
   ]
  },
  {
   "cell_type": "code",
   "execution_count": 75,
   "id": "cb989f68-e444-46cb-b389-719a05889726",
   "metadata": {},
   "outputs": [
    {
     "data": {
      "text/plain": [
       "6"
      ]
     },
     "execution_count": 75,
     "metadata": {},
     "output_type": "execute_result"
    }
   ],
   "source": [
    "def lcaOf3Nodes(root, node1, node2, node3):\n",
    "    if root == None:\n",
    "        return\n",
    "\n",
    "    if root.data == node1 or root.data == node2 or root.data == node3:\n",
    "        return root\n",
    "\n",
    "    leftSearch = lcaOf3Nodes(root.left, node1, node2, node3)\n",
    "    rightSearch = lcaOf3Nodes(root.right, node1, node2, node3)\n",
    "\n",
    "    if leftSearch and rightSearch:\n",
    "        return root.data\n",
    "\n",
    "    if leftSearch:\n",
    "        return leftSearch\n",
    "\n",
    "    if rightSearch:\n",
    "        return rightSearch\n",
    "\n",
    "\n",
    "# root = takeInput()\n",
    "node1 = 7\n",
    "node2 = 8\n",
    "node3 = 9\n",
    "lcaOf3Nodes(root, node1, node2, node3)"
   ]
  },
  {
   "cell_type": "code",
   "execution_count": 77,
   "id": "22fc3b3e-6c26-49ec-b65b-86a47766f42f",
   "metadata": {},
   "outputs": [],
   "source": [
    "class BinaryTreeNode:\n",
    "    def __init__(self, data):\n",
    "        self.data = data\n",
    "        self.left = None\n",
    "        self.right = None\n",
    "\n",
    "def findMin(root):\n",
    "    while root.left is not None:\n",
    "        root = root.left\n",
    "    return root\n",
    "\n",
    "def deleteNode(root, target):\n",
    "    if root is None:\n",
    "        return None\n",
    "\n",
    "    if target < root.data:\n",
    "        root.left = deleteNode(root.left, target)\n",
    "    elif target > root.data:\n",
    "        root.right = deleteNode(root.right, target)\n",
    "    else:\n",
    "        # Node with only one child or no child\n",
    "        if root.left is None:\n",
    "            return root.right\n",
    "        elif root.right is None:\n",
    "            return root.left\n",
    "\n",
    "        # Node with two children, get the in-order successor (smallest\n",
    "        # in the right subtree) or in-order predecessor (largest in the\n",
    "        # left subtree) and replace the current node's value with it.\n",
    "        root.data = findMin(root.right).data\n",
    "        root.right = deleteNode(root.right, root.data)\n",
    "\n",
    "    return root\n",
    "\n",
    "\n",
    "def takeInput():\n",
    "    q = queue.Queue()\n",
    "    print(\"Enter the root data : \")\n",
    "    rootData = int(input())\n",
    "    if rootData == -1:\n",
    "        return None\n",
    "    root = BinaryTree(rootData)\n",
    "    q.put(root)\n",
    "\n",
    "    while q.empty() == False:\n",
    "        currentNode = q.get()\n",
    "        print(\"Enter the Left Tree for : \", currentNode.data)\n",
    "        leftTree = int(input())\n",
    "        if leftTree != -1:\n",
    "            leftSubTree = BinaryTree(leftTree)\n",
    "            currentNode.left = leftSubTree\n",
    "            q.put(leftSubTree)\n",
    "\n",
    "        print(\"Enter the Right Tree for : \", currentNode.data)\n",
    "        rightTree = int(input())\n",
    "        if rightTree != -1:\n",
    "            rightSubTree = BinaryTree(rightTree)\n",
    "            currentNode.right = rightSubTree\n",
    "            q.put(rightSubTree)\n",
    "\n",
    "    return root"
   ]
  },
  {
   "cell_type": "code",
   "execution_count": 78,
   "id": "aac3e4d2-407d-4a06-8545-d48a96f58ecf",
   "metadata": {},
   "outputs": [
    {
     "name": "stdout",
     "output_type": "stream",
     "text": [
      "Enter the root data : \n"
     ]
    },
    {
     "name": "stdin",
     "output_type": "stream",
     "text": [
      " 1\n"
     ]
    },
    {
     "name": "stdout",
     "output_type": "stream",
     "text": [
      "Enter the Left Tree for :  1\n"
     ]
    },
    {
     "name": "stdin",
     "output_type": "stream",
     "text": [
      " 2\n"
     ]
    },
    {
     "name": "stdout",
     "output_type": "stream",
     "text": [
      "Enter the Right Tree for :  1\n"
     ]
    },
    {
     "name": "stdin",
     "output_type": "stream",
     "text": [
      " 3\n"
     ]
    },
    {
     "name": "stdout",
     "output_type": "stream",
     "text": [
      "Enter the Left Tree for :  2\n"
     ]
    },
    {
     "name": "stdin",
     "output_type": "stream",
     "text": [
      " -1\n"
     ]
    },
    {
     "name": "stdout",
     "output_type": "stream",
     "text": [
      "Enter the Right Tree for :  2\n"
     ]
    },
    {
     "name": "stdin",
     "output_type": "stream",
     "text": [
      " -1\n"
     ]
    },
    {
     "name": "stdout",
     "output_type": "stream",
     "text": [
      "Enter the Left Tree for :  3\n"
     ]
    },
    {
     "name": "stdin",
     "output_type": "stream",
     "text": [
      " 4\n"
     ]
    },
    {
     "name": "stdout",
     "output_type": "stream",
     "text": [
      "Enter the Right Tree for :  3\n"
     ]
    },
    {
     "name": "stdin",
     "output_type": "stream",
     "text": [
      " 5\n"
     ]
    },
    {
     "name": "stdout",
     "output_type": "stream",
     "text": [
      "Enter the Left Tree for :  4\n"
     ]
    },
    {
     "name": "stdin",
     "output_type": "stream",
     "text": [
      " -1\n"
     ]
    },
    {
     "name": "stdout",
     "output_type": "stream",
     "text": [
      "Enter the Right Tree for :  4\n"
     ]
    },
    {
     "name": "stdin",
     "output_type": "stream",
     "text": [
      " -1\n"
     ]
    },
    {
     "name": "stdout",
     "output_type": "stream",
     "text": [
      "Enter the Left Tree for :  5\n"
     ]
    },
    {
     "name": "stdin",
     "output_type": "stream",
     "text": [
      " 6\n"
     ]
    },
    {
     "name": "stdout",
     "output_type": "stream",
     "text": [
      "Enter the Right Tree for :  5\n"
     ]
    },
    {
     "name": "stdin",
     "output_type": "stream",
     "text": [
      " 7\n"
     ]
    },
    {
     "name": "stdout",
     "output_type": "stream",
     "text": [
      "Enter the Left Tree for :  6\n"
     ]
    },
    {
     "name": "stdin",
     "output_type": "stream",
     "text": [
      " -1\n"
     ]
    },
    {
     "name": "stdout",
     "output_type": "stream",
     "text": [
      "Enter the Right Tree for :  6\n"
     ]
    },
    {
     "name": "stdin",
     "output_type": "stream",
     "text": [
      " -1\n"
     ]
    },
    {
     "name": "stdout",
     "output_type": "stream",
     "text": [
      "Enter the Left Tree for :  7\n"
     ]
    },
    {
     "name": "stdin",
     "output_type": "stream",
     "text": [
      " 8\n"
     ]
    },
    {
     "name": "stdout",
     "output_type": "stream",
     "text": [
      "Enter the Right Tree for :  7\n"
     ]
    },
    {
     "name": "stdin",
     "output_type": "stream",
     "text": [
      " 9\n"
     ]
    },
    {
     "name": "stdout",
     "output_type": "stream",
     "text": [
      "Enter the Left Tree for :  8\n"
     ]
    },
    {
     "name": "stdin",
     "output_type": "stream",
     "text": [
      " -1\n"
     ]
    },
    {
     "name": "stdout",
     "output_type": "stream",
     "text": [
      "Enter the Right Tree for :  8\n"
     ]
    },
    {
     "name": "stdin",
     "output_type": "stream",
     "text": [
      " -1\n"
     ]
    },
    {
     "name": "stdout",
     "output_type": "stream",
     "text": [
      "Enter the Left Tree for :  9\n"
     ]
    },
    {
     "name": "stdin",
     "output_type": "stream",
     "text": [
      " -1\n"
     ]
    },
    {
     "name": "stdout",
     "output_type": "stream",
     "text": [
      "Enter the Right Tree for :  9\n"
     ]
    },
    {
     "name": "stdin",
     "output_type": "stream",
     "text": [
      " -1\n"
     ]
    }
   ],
   "source": [
    "root = takeInput()\n",
    "target = 5\n",
    "deleteNode(root, target)"
   ]
  },
  {
   "cell_type": "code",
   "execution_count": 1,
   "id": "e2403ed8-e99d-4705-b501-7ba10d33dd98",
   "metadata": {},
   "outputs": [
    {
     "name": "stdout",
     "output_type": "stream",
     "text": [
      "Enter the root data\n"
     ]
    },
    {
     "name": "stdin",
     "output_type": "stream",
     "text": [
      " 1\n"
     ]
    },
    {
     "name": "stdout",
     "output_type": "stream",
     "text": [
      "Enter left sub  1\n"
     ]
    },
    {
     "name": "stdin",
     "output_type": "stream",
     "text": [
      " 2\n"
     ]
    },
    {
     "name": "stdout",
     "output_type": "stream",
     "text": [
      "Enter right sub  1\n"
     ]
    },
    {
     "name": "stdin",
     "output_type": "stream",
     "text": [
      " 3\n"
     ]
    },
    {
     "name": "stdout",
     "output_type": "stream",
     "text": [
      "Enter left sub  2\n"
     ]
    },
    {
     "name": "stdin",
     "output_type": "stream",
     "text": [
      " 4\n"
     ]
    },
    {
     "name": "stdout",
     "output_type": "stream",
     "text": [
      "Enter right sub  2\n"
     ]
    },
    {
     "name": "stdin",
     "output_type": "stream",
     "text": [
      " 5\n"
     ]
    },
    {
     "name": "stdout",
     "output_type": "stream",
     "text": [
      "Enter left sub  3\n"
     ]
    },
    {
     "name": "stdin",
     "output_type": "stream",
     "text": [
      " 6\n"
     ]
    },
    {
     "name": "stdout",
     "output_type": "stream",
     "text": [
      "Enter right sub  3\n"
     ]
    },
    {
     "name": "stdin",
     "output_type": "stream",
     "text": [
      " 7\n"
     ]
    },
    {
     "name": "stdout",
     "output_type": "stream",
     "text": [
      "Enter left sub  4\n"
     ]
    },
    {
     "name": "stdin",
     "output_type": "stream",
     "text": [
      " 8\n"
     ]
    },
    {
     "name": "stdout",
     "output_type": "stream",
     "text": [
      "Enter right sub  4\n"
     ]
    },
    {
     "name": "stdin",
     "output_type": "stream",
     "text": [
      " -1\n"
     ]
    },
    {
     "name": "stdout",
     "output_type": "stream",
     "text": [
      "Enter left sub  5\n"
     ]
    },
    {
     "name": "stdin",
     "output_type": "stream",
     "text": [
      " -1\n"
     ]
    },
    {
     "name": "stdout",
     "output_type": "stream",
     "text": [
      "Enter right sub  5\n"
     ]
    },
    {
     "name": "stdin",
     "output_type": "stream",
     "text": [
      " -1\n"
     ]
    },
    {
     "name": "stdout",
     "output_type": "stream",
     "text": [
      "Enter left sub  6\n"
     ]
    },
    {
     "name": "stdin",
     "output_type": "stream",
     "text": [
      " -1\n"
     ]
    },
    {
     "name": "stdout",
     "output_type": "stream",
     "text": [
      "Enter right sub  6\n"
     ]
    },
    {
     "name": "stdin",
     "output_type": "stream",
     "text": [
      " -1\n"
     ]
    },
    {
     "name": "stdout",
     "output_type": "stream",
     "text": [
      "Enter left sub  7\n"
     ]
    },
    {
     "name": "stdin",
     "output_type": "stream",
     "text": [
      " -1\n"
     ]
    },
    {
     "name": "stdout",
     "output_type": "stream",
     "text": [
      "Enter right sub  7\n"
     ]
    },
    {
     "name": "stdin",
     "output_type": "stream",
     "text": [
      " -1\n"
     ]
    },
    {
     "name": "stdout",
     "output_type": "stream",
     "text": [
      "Enter left sub  8\n"
     ]
    },
    {
     "name": "stdin",
     "output_type": "stream",
     "text": [
      " -1\n"
     ]
    },
    {
     "name": "stdout",
     "output_type": "stream",
     "text": [
      "Enter right sub  8\n"
     ]
    },
    {
     "name": "stdin",
     "output_type": "stream",
     "text": [
      " -1\n"
     ]
    },
    {
     "name": "stdout",
     "output_type": "stream",
     "text": [
      "[1, 2, 4, 8]\n",
      "[1, 2, 5]\n",
      "[1, 3, 6]\n",
      "[1, 3, 7]\n"
     ]
    }
   ],
   "source": [
    "import queue\n",
    "\n",
    "class BinaryTree:\n",
    "    def __init__(self,data):\n",
    "        self.data = data\n",
    "        self.left = None\n",
    "        self.right = None\n",
    "\n",
    "def rootToLeaf(root):\n",
    "    def rootToLeafHelper(root,path):\n",
    "        if root is None:\n",
    "            return None\n",
    "        path.append(root.data)\n",
    "        \n",
    "        if root.left is None and root.right is None:\n",
    "            print(path)\n",
    "            \n",
    "        leftTraversal = rootToLeafHelper(root.left, path.copy())\n",
    "        rightTraversal = rootToLeafHelper(root.right, path.copy())\n",
    "        \n",
    "        if leftTraversal:\n",
    "            print(leftTraversal)\n",
    "            \n",
    "        if rightTraversal:\n",
    "            print(rightTraversal)\n",
    "    return rootToLeafHelper(root,[])\n",
    "    \n",
    "       \n",
    "def takeInput():\n",
    "    q = queue.Queue()\n",
    "    print(\"Enter the root data\")\n",
    "    rootData = int(input())\n",
    "    if rootData == -1:\n",
    "        return None\n",
    "    root = BinaryTree(rootData)\n",
    "    q.put(root)\n",
    "    \n",
    "    while q.empty() == False:\n",
    "        currentNode = q.get()\n",
    "        \n",
    "        print(\"Enter left sub \", currentNode.data)\n",
    "        leftTree = int(input())\n",
    "        if leftTree != -1:\n",
    "            leftSub = BinaryTree(leftTree)\n",
    "            currentNode.left = leftSub\n",
    "            q.put(leftSub)\n",
    "            \n",
    "        print(\"Enter right sub \", currentNode.data)\n",
    "        rightTree = int(input())\n",
    "        if rightTree != -1:\n",
    "            rightSub = BinaryTree(rightTree)\n",
    "            currentNode.right = rightSub\n",
    "            q.put(rightSub)\n",
    "    return root\n",
    "    \n",
    "root = takeInput()\n",
    "rootToLeaf(root)"
   ]
  },
  {
   "cell_type": "code",
   "execution_count": null,
   "id": "1daa2d45-c3a7-4ed1-8f1f-eb9d42872ab4",
   "metadata": {},
   "outputs": [],
   "source": []
  }
 ],
 "metadata": {
  "kernelspec": {
   "display_name": "Python 3 (ipykernel)",
   "language": "python",
   "name": "python3"
  },
  "language_info": {
   "codemirror_mode": {
    "name": "ipython",
    "version": 3
   },
   "file_extension": ".py",
   "mimetype": "text/x-python",
   "name": "python",
   "nbconvert_exporter": "python",
   "pygments_lexer": "ipython3",
   "version": "3.10.7"
  }
 },
 "nbformat": 4,
 "nbformat_minor": 5
}
