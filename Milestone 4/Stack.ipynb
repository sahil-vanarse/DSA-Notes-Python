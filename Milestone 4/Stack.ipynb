{
 "cells": [
  {
   "cell_type": "markdown",
   "id": "a7ff8f9c",
   "metadata": {},
   "source": [
    "### Stack : Is a abstract data type\n",
    "#### Push : Insert\n",
    "#### Pop : Delete\n",
    "#### Top : Access the top element\n",
    "#### Size : Size of stack\n",
    "#### isEmpty : Empty or not\n",
    "#### Element cannot be accessed from empty stack\n",
    "#### Element cannot be deleted from empty stack"
   ]
  },
  {
   "cell_type": "markdown",
   "id": "39fa051c",
   "metadata": {},
   "source": [
    "### Stack using Array"
   ]
  },
  {
   "cell_type": "code",
   "execution_count": 1,
   "id": "3228708e",
   "metadata": {},
   "outputs": [],
   "source": [
    "class Stack:\n",
    "    def __init__(self):\n",
    "        # make the array as private so that no one can use the array \n",
    "        self.__data = []\n",
    "    \n",
    "    # in this method we use to append the element\n",
    "    def push(self,item):\n",
    "        self.__data.append(item)\n",
    "        \n",
    "    def pop(self):\n",
    "        if self.isEmpty():\n",
    "            print(\"Hey Buddy Stack is Empty !!!\")\n",
    "            return\n",
    "        return self.__data.pop()\n",
    "        \n",
    "    def top(self):\n",
    "        if self.isEmpty():\n",
    "            print(\"Hey Buddy Stack is Empty !!!\")\n",
    "            return\n",
    "        # the below is done in such a way that __data means the array and in that array what we do is that we count length of\n",
    "        # array and and -1 beacuse the length of array start from zero this we give us top element means last element\n",
    "        return self.__data[len(self.__data)-1]\n",
    "        #return self.__data[-1]\n",
    "    \n",
    "    def size(self):\n",
    "        return len(self.__data)\n",
    "    \n",
    "    def isEmpty(self):\n",
    "        return self.size() == 0\n",
    "        "
   ]
  },
  {
   "cell_type": "code",
   "execution_count": 2,
   "id": "7cc1d424",
   "metadata": {},
   "outputs": [],
   "source": [
    "st = Stack()\n",
    "st.push(13)\n",
    "st.push(14)\n",
    "st.push(15)\n",
    "st.push(16)"
   ]
  },
  {
   "cell_type": "code",
   "execution_count": 3,
   "id": "37912e4e",
   "metadata": {},
   "outputs": [
    {
     "name": "stdout",
     "output_type": "stream",
     "text": [
      "16\n",
      "15\n",
      "14\n",
      "13\n"
     ]
    }
   ],
   "source": [
    "while st.isEmpty() is not True:\n",
    "    print(st.pop())"
   ]
  },
  {
   "cell_type": "code",
   "execution_count": 4,
   "id": "7fd785a6",
   "metadata": {},
   "outputs": [
    {
     "name": "stdout",
     "output_type": "stream",
     "text": [
      "Hey Buddy Stack is Empty !!!\n"
     ]
    }
   ],
   "source": [
    "st.top()"
   ]
  },
  {
   "cell_type": "markdown",
   "id": "aeb6c814",
   "metadata": {},
   "source": [
    "### Stack using LinkedList"
   ]
  },
  {
   "cell_type": "code",
   "execution_count": 5,
   "id": "951e6450",
   "metadata": {},
   "outputs": [],
   "source": [
    "class Node:\n",
    "    def __init__(self,data):\n",
    "        self.data = data\n",
    "        self.next = None\n",
    "        \n",
    "class StackLinkedList:\n",
    "    def __init__(self):\n",
    "        self.__head = None\n",
    "        self.__count = 0\n",
    "        \n",
    "    def push(self,element):\n",
    "        newNode = Node(element)\n",
    "        newNode.next = self.__head\n",
    "        self.__head = newNode\n",
    "        self.__count = self.count + 1\n",
    "        \n",
    "    def pop(self):\n",
    "        if self.isEmpty():\n",
    "            print(\"Hey Stack is Empty !!!\")\n",
    "            return\n",
    "        data = self.__head.data\n",
    "        self.__head = self.__head.next\n",
    "        self.__count = self.__count - 1\n",
    "        return data\n",
    "    \n",
    "    def top(self):\n",
    "        if self.isEmpty():\n",
    "            print(\"Hey Stack is Empty !!!\")\n",
    "            return \n",
    "        data = self.__head.data\n",
    "        return data\n",
    "    \n",
    "    def size(self):\n",
    "        return self.__count\n",
    "    \n",
    "    def isEmpty(self):\n",
    "        return self.size() == 0"
   ]
  },
  {
   "cell_type": "code",
   "execution_count": 6,
   "id": "08dff011",
   "metadata": {},
   "outputs": [],
   "source": [
    "stack = Stack()\n",
    "stack.push(1)\n",
    "stack.push(2)\n",
    "stack.push(3)"
   ]
  },
  {
   "cell_type": "code",
   "execution_count": 7,
   "id": "b9909805",
   "metadata": {},
   "outputs": [
    {
     "data": {
      "text/plain": [
       "3"
      ]
     },
     "execution_count": 7,
     "metadata": {},
     "output_type": "execute_result"
    }
   ],
   "source": [
    "stack.top()"
   ]
  },
  {
   "cell_type": "code",
   "execution_count": 8,
   "id": "833006b1",
   "metadata": {},
   "outputs": [
    {
     "name": "stdout",
     "output_type": "stream",
     "text": [
      "3\n",
      "2\n",
      "1\n"
     ]
    }
   ],
   "source": [
    "while stack.isEmpty() is False:\n",
    "    print(stack.pop())"
   ]
  },
  {
   "cell_type": "code",
   "execution_count": 19,
   "id": "f3108c8d",
   "metadata": {},
   "outputs": [
    {
     "name": "stdout",
     "output_type": "stream",
     "text": [
      "1 2 3\n",
      "[3, 2, 1]\n"
     ]
    }
   ],
   "source": [
    "def reverseStack(s1,s2):\n",
    "    if len(s1) <= 1:\n",
    "        return s1\n",
    "    while(len(s1) != 1):\n",
    "        ele = s1.pop()\n",
    "        s2.append(ele)\n",
    "    lastElement = s1.pop()\n",
    "    while(len(s2) != 0):\n",
    "        ele = s2.pop()\n",
    "        s1.append(ele)\n",
    "    reverseStack(s1,s2)\n",
    "    s1.append(lastElement)\n",
    "    return s1\n",
    "    \n",
    "s1 = [int(x) for x in input().split()]\n",
    "s2 = []\n",
    "print(reverseStack(s1,s2))"
   ]
  },
  {
   "cell_type": "code",
   "execution_count": 5,
   "id": "265c59d3",
   "metadata": {},
   "outputs": [
    {
     "name": "stdout",
     "output_type": "stream",
     "text": [
      "1 1 2 "
     ]
    }
   ],
   "source": [
    "# Python3 program for brute force method to calculate stock span values\n",
    "\n",
    "# Fills list S[] with span values\n",
    "\n",
    "\n",
    "def calculateSpan(price, n, S):\n",
    "\n",
    "\t# Span value of first day is always 1\n",
    "\tS[0] = 1\n",
    "\n",
    "\t# Calculate span value of remaining days by linearly\n",
    "\t# checking previous days\n",
    "\tfor i in range(1, n, 1):\n",
    "\t\tS[i] = 1 # Initialize span value\n",
    "\n",
    "\t\t# Traverse left while the next element on left is\n",
    "\t\t# smaller than price[i]\n",
    "\t\tj = i - 1\n",
    "\t\twhile (j >= 0) and (price[i] >= price[j]):\n",
    "\t\t\tS[i] += 1\n",
    "\t\t\tj -= 1\n",
    "\n",
    "# A utility function to print elements of array\n",
    "\n",
    "\n",
    "def printArray(arr, n):\n",
    "\n",
    "\tfor i in range(n):\n",
    "\t\tprint(arr[i], end=\" \")\n",
    "\n",
    "\n",
    "# Driver program to test above function\n",
    "price = [10, 4, 5]\n",
    "n = len(price)\n",
    "S = [None] * n\n",
    "\n",
    "# Fill the span values in list S[]\n",
    "calculateSpan(price, n, S)\n",
    "\n",
    "# print the calculated span values\n",
    "printArray(S, n)\n",
    "\n",
    "\n",
    "# This code is contributed by Sunny Karira\n"
   ]
  },
  {
   "cell_type": "code",
   "execution_count": null,
   "id": "bc5c1090",
   "metadata": {},
   "outputs": [],
   "source": []
  }
 ],
 "metadata": {
  "kernelspec": {
   "display_name": "Python 3 (ipykernel)",
   "language": "python",
   "name": "python3"
  },
  "language_info": {
   "codemirror_mode": {
    "name": "ipython",
    "version": 3
   },
   "file_extension": ".py",
   "mimetype": "text/x-python",
   "name": "python",
   "nbconvert_exporter": "python",
   "pygments_lexer": "ipython3",
   "version": "3.10.7"
  }
 },
 "nbformat": 4,
 "nbformat_minor": 5
}
