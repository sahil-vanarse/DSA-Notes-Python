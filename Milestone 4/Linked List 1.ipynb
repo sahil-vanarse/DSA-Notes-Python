{
 "cells": [
  {
   "cell_type": "markdown",
   "id": "66c7fae4",
   "metadata": {},
   "source": [
    "#### Node store 2 things i.e data and referrence of next node\n",
    "#### Referrence of 1st node is called Head\n",
    "#### Referrence of last node is called Tail\n",
    "#### Linked List is collection of node"
   ]
  },
  {
   "cell_type": "code",
   "execution_count": 55,
   "id": "acb888a0",
   "metadata": {},
   "outputs": [
    {
     "name": "stdout",
     "output_type": "stream",
     "text": [
      "<__main__.Node object at 0x000001961F793C10> 13\n",
      "<__main__.Node object at 0x000001961F797820> 15\n",
      "<__main__.Node object at 0x000001961F794CD0> 20\n",
      "<__main__.Node object at 0x000001961F7976D0> 30\n",
      "None None\n"
     ]
    },
    {
     "data": {
      "text/plain": [
       "<__main__.Node at 0x1961f794cd0>"
      ]
     },
     "execution_count": 55,
     "metadata": {},
     "output_type": "execute_result"
    }
   ],
   "source": [
    "class Node:\n",
    "    def __init__(self,data):\n",
    "        # taking data input\n",
    "        self.data = data\n",
    "        # assignning next as None which means it store the address of next node\n",
    "        self.next = None\n",
    "        \n",
    "a = Node(13)\n",
    "b = Node(15)\n",
    "c = Node(20)\n",
    "d = Node(30)\n",
    "a.next = b\n",
    "b.next = c\n",
    "c.next = d\n",
    "d.next = None\n",
    "#print(a.data)\n",
    "#print(b.data)\n",
    "#print(a.next.data)\n",
    "\n",
    "print(a, a.data)\n",
    "print(a.next, b.data)\n",
    "print(b.next, c.data)\n",
    "print(c.next, d.data)\n",
    "print(d.next, None)\n",
    "\n",
    "a.next.next"
   ]
  },
  {
   "cell_type": "code",
   "execution_count": 9,
   "id": "d782235d",
   "metadata": {},
   "outputs": [
    {
     "ename": "AttributeError",
     "evalue": "'NoneType' object has no attribute 'data'",
     "output_type": "error",
     "traceback": [
      "\u001b[1;31m---------------------------------------------------------------------------\u001b[0m",
      "\u001b[1;31mAttributeError\u001b[0m                            Traceback (most recent call last)",
      "Cell \u001b[1;32mIn[9], line 2\u001b[0m\n\u001b[0;32m      1\u001b[0m \u001b[38;5;66;03m# as we see here error because the b data has no next value present it in and its none so we see attribute error\u001b[39;00m\n\u001b[1;32m----> 2\u001b[0m \u001b[43mb\u001b[49m\u001b[38;5;241;43m.\u001b[39;49m\u001b[43mnext\u001b[49m\u001b[38;5;241;43m.\u001b[39;49m\u001b[43mdata\u001b[49m\n",
      "\u001b[1;31mAttributeError\u001b[0m: 'NoneType' object has no attribute 'data'"
     ]
    }
   ],
   "source": [
    "# as we see here error because the b data has no next value present it in and its none so we see attribute error\n",
    "b.next.data"
   ]
  },
  {
   "cell_type": "code",
   "execution_count": 10,
   "id": "b929629b",
   "metadata": {},
   "outputs": [
    {
     "name": "stdout",
     "output_type": "stream",
     "text": [
      "20 10 "
     ]
    }
   ],
   "source": [
    "class Node:\n",
    "    def __init__(self, data):\n",
    "        self.data = data\n",
    "        self.next = None\n",
    "def printLL(head):\n",
    "    while head is not None:\n",
    "        print(head.data,end=\" \")\n",
    "        head = head.next\n",
    "\n",
    "\n",
    "\n",
    "node1 = Node(10)\n",
    "node2 = Node(20)\n",
    "node2.next = node1\n",
    "printLL(node2)"
   ]
  },
  {
   "cell_type": "markdown",
   "id": "7c2b795b",
   "metadata": {},
   "source": [
    "# Taking Input for the Linked List. Time complexity of O(n^2) Taking input "
   ]
  },
  {
   "cell_type": "code",
   "execution_count": 20,
   "id": "55576c9a",
   "metadata": {},
   "outputs": [
    {
     "name": "stdout",
     "output_type": "stream",
     "text": [
      "1 2 3 4 5\n",
      "1-> 2-> 3-> 4-> 5-> None\n"
     ]
    }
   ],
   "source": [
    "class Node:\n",
    "    def __init__(self,data):\n",
    "        self.data = data\n",
    "        self.next = None\n",
    "\n",
    "def printLL(head):\n",
    "    while head is not None:\n",
    "        print(str(head.data) + \"->\", end=\" \")\n",
    "        head = head.next\n",
    "    print(\"None\")\n",
    "def takeInput():\n",
    "    inputList = [int(x) for x in input().split()]\n",
    "    head = None\n",
    "    \n",
    "    for currData in inputList:\n",
    "        if currData == -1:\n",
    "            break\n",
    "        \n",
    "        newNode = Node(currData)\n",
    "        #print(newNode.data)\n",
    "        if head is None:\n",
    "            head = newNode\n",
    "            #print(head.data)\n",
    "        else:\n",
    "            curr = head\n",
    "            #print(curr)\n",
    "            while curr.next is not None:\n",
    "                curr = curr.next\n",
    "            curr.next = newNode\n",
    "    return head\n",
    "head = takeInput()\n",
    "printLL(head)"
   ]
  },
  {
   "cell_type": "markdown",
   "id": "4bcd02f6",
   "metadata": {},
   "source": [
    "# Time complexity of O(n) Taking input "
   ]
  },
  {
   "cell_type": "code",
   "execution_count": 26,
   "id": "298182bf",
   "metadata": {},
   "outputs": [
    {
     "name": "stdout",
     "output_type": "stream",
     "text": [
      "1 2 3 4 5\n",
      "1-> 2-> 3-> 4-> 5-> None\n"
     ]
    }
   ],
   "source": [
    "class Node:\n",
    "    def __init__(self, data):\n",
    "        self.data = data\n",
    "        self.next = None\n",
    "\n",
    "def printLL(head):\n",
    "    while head is not None:\n",
    "        print(str(head.data) + \"->\", end=\" \")\n",
    "        head = head.next\n",
    "    print(\"None\")\n",
    "    return\n",
    "\n",
    "def takeInput():\n",
    "    inputList = [int(x) for x in input().split()]\n",
    "    head = None\n",
    "    tail = None\n",
    "    \n",
    "    for currData in inputList:\n",
    "        if currData == -1:\n",
    "            break\n",
    "            \n",
    "        newNode = Node(currData)\n",
    "        if head is None:\n",
    "            head = newNode\n",
    "            tail = newNode\n",
    "        else:\n",
    "            tail.next = newNode\n",
    "            tail = newNode\n",
    "            \n",
    "    return head\n",
    "\n",
    "head = takeInput()\n",
    "printLL(head)\n"
   ]
  },
  {
   "cell_type": "code",
   "execution_count": 30,
   "id": "31b6f0cc",
   "metadata": {},
   "outputs": [
    {
     "name": "stdout",
     "output_type": "stream",
     "text": [
      "1 2 3 4 5 6\n",
      "1-> 2-> 3-> 4-> 5-> 6-> None\n",
      "<__main__.LLNode object at 0x00000196208E5690>\n",
      "<__main__.LLNode object at 0x00000196208BD000>\n",
      "<__main__.LLNode object at 0x00000196208BD000>\n",
      "<__main__.LLNode object at 0x00000196209AFCD0>\n",
      "1-> 2-> 6-> 3-> 4-> 5-> 6-> None\n"
     ]
    }
   ],
   "source": [
    "class LLNode:\n",
    "    def __init__(self,data):\n",
    "        self.data = data\n",
    "        self.next = None\n",
    "\n",
    "def printLL(head):\n",
    "    while head is not None:\n",
    "        print(str(head.data)+ \"->\", end=\" \")\n",
    "        head = head.next\n",
    "    print(\"None\")\n",
    "    return\n",
    "\n",
    "def length(head):\n",
    "    count = 0\n",
    "    while head is not None:\n",
    "        count = count + 1\n",
    "        head = head.next\n",
    "    return count\n",
    "\n",
    "def insertAtI(head,index,data):\n",
    "    if index < 0 or index > length(head):\n",
    "        return head\n",
    "    \n",
    "    count = 0\n",
    "    prev = None\n",
    "    curr = head\n",
    "    \n",
    "    while count < index:\n",
    "        prev = curr\n",
    "        curr = curr.next\n",
    "        print(prev)\n",
    "        print(curr)\n",
    "        count = count + 1\n",
    "        \n",
    "    newNode = LLNode(data)\n",
    "    if prev is not None:\n",
    "        prev.next = newNode\n",
    "    else:\n",
    "        head = newNode\n",
    "    newNode.next = curr\n",
    "    \n",
    "    return head\n",
    "    \n",
    "def takeInput():\n",
    "    inputList = [int(x) for x in input().split()]\n",
    "    head = None\n",
    "    tail = None\n",
    "    \n",
    "    for currData in inputList:\n",
    "        if currData == -1:\n",
    "            break\n",
    "        \n",
    "        newNode = LLNode(currData)\n",
    "        \n",
    "        if head is None:\n",
    "            head = newNode\n",
    "            tail = newNode\n",
    "            \n",
    "        else:\n",
    "            tail.next = newNode\n",
    "            tail = newNode\n",
    "            \n",
    "    return head\n",
    "\n",
    "head = takeInput()\n",
    "printLL(head)\n",
    "head = insertAtI(head,2,6)\n",
    "printLL(head)"
   ]
  },
  {
   "cell_type": "code",
   "execution_count": 62,
   "id": "2cb14949",
   "metadata": {},
   "outputs": [
    {
     "name": "stdout",
     "output_type": "stream",
     "text": [
      "1 2 3 4 5 6\n",
      "1-> 2-> 3-> 4-> 5-> 6-> None\n",
      "1-> 2-> 10-> 3-> 4-> 5-> 6-> None\n"
     ]
    }
   ],
   "source": [
    "# Insert using recurrsion\n",
    "class Node:\n",
    "    def __init__(self,data):\n",
    "        self.data = data\n",
    "        self.next = None\n",
    "\n",
    "def printList(head):\n",
    "    while head is not None:\n",
    "        print(str(head.data) + \"->\" , end = \" \")\n",
    "        head = head.next\n",
    "    print(\"None\")\n",
    "    \n",
    "def insertAtIR(head, i, data):\n",
    "    if i < 0 :\n",
    "        return head\n",
    "    \n",
    "    if i == 0:\n",
    "        newNode = Node(data)\n",
    "        newNode.next = head\n",
    "        return newNode\n",
    "    \n",
    "    if head is None:\n",
    "        return None\n",
    "    \n",
    "    smallhead = insertAtIR(head.next, i - 1, data)\n",
    "    head.next = smallhead\n",
    "    return head\n",
    "\n",
    "def takeInput():\n",
    "    inputList = [int(x) for x in input().split()]\n",
    "    head = None\n",
    "    tail = None\n",
    "    \n",
    "    for currData in inputList:\n",
    "        if currData == -1 :\n",
    "            break\n",
    "        \n",
    "        newNode = Node(currData)\n",
    "        \n",
    "        if head is None:\n",
    "            head = newNode\n",
    "            tail = newNode\n",
    "        else:\n",
    "            tail.next = newNode\n",
    "            tail = newNode\n",
    "            \n",
    "    return head\n",
    "\n",
    "head = takeInput()\n",
    "printList(head)\n",
    "head = insertAtIR(head, 2, 10)\n",
    "printList(head)"
   ]
  },
  {
   "cell_type": "code",
   "execution_count": null,
   "id": "43f242e0",
   "metadata": {},
   "outputs": [],
   "source": []
  }
 ],
 "metadata": {
  "kernelspec": {
   "display_name": "Python 3 (ipykernel)",
   "language": "python",
   "name": "python3"
  },
  "language_info": {
   "codemirror_mode": {
    "name": "ipython",
    "version": 3
   },
   "file_extension": ".py",
   "mimetype": "text/x-python",
   "name": "python",
   "nbconvert_exporter": "python",
   "pygments_lexer": "ipython3",
   "version": "3.10.7"
  }
 },
 "nbformat": 4,
 "nbformat_minor": 5
}
