{
 "cells": [
  {
   "cell_type": "code",
   "execution_count": 1,
   "id": "0994d0c6",
   "metadata": {},
   "outputs": [
    {
     "name": "stdout",
     "output_type": "stream",
     "text": [
      "1 2 3 4 5\n",
      "1-> 2-> 3-> 4-> 5-> None\n",
      "5-> 4-> 3-> 2-> 1-> None\n"
     ]
    }
   ],
   "source": [
    "class Node:\n",
    "    def __init__(self,data):\n",
    "        self.data = data\n",
    "        self.next = None\n",
    "        \n",
    "def printList(head):\n",
    "    while head is not None:\n",
    "        print(str(head.data) + \"->\", end = \" \")\n",
    "        head = head.next\n",
    "    print(\"None\")\n",
    "    \n",
    "def reverse(head):\n",
    "    if head is None or head.next is None:\n",
    "        return head\n",
    "    smallHead = reverse(head.next)\n",
    "    current = smallHead\n",
    "    while current.next is not None:\n",
    "        current = current.next\n",
    "    current.next = head\n",
    "    head.next = None\n",
    "    return smallHead\n",
    "\n",
    "def reverse2(head):\n",
    "    if head is None or head.next is None:\n",
    "        return head, head\n",
    "    smallHead, smallTail = reverse2(head.next)\n",
    "    smallTail.next = head\n",
    "    head.next = None\n",
    "    return smallHead, head\n",
    "\n",
    "def reverse3(head):\n",
    "    if head is None or head.next is None:\n",
    "        return head\n",
    "    smallHead = reverse3(head.next)\n",
    "    tail = head.next\n",
    "    tail.next = head\n",
    "    head.next = None\n",
    "    return smallHead\n",
    "    \n",
    "def takeInput():\n",
    "    inputList = [int(x) for x in input().split()]\n",
    "    head = None\n",
    "    tail = None\n",
    "    \n",
    "    for currData in inputList:\n",
    "        if currData == -1:\n",
    "            break\n",
    "        \n",
    "        newNode = Node(currData)\n",
    "            \n",
    "        if head is None:\n",
    "            head = newNode\n",
    "            tail = newNode\n",
    "        else:\n",
    "            tail.next = newNode\n",
    "            tail = newNode\n",
    "    return head\n",
    "\n",
    "head = takeInput()\n",
    "printList(head)\n",
    "head = reverse(head)\n",
    "printList(head)"
   ]
  },
  {
   "cell_type": "code",
   "execution_count": 33,
   "id": "60aea21d",
   "metadata": {},
   "outputs": [
    {
     "name": "stdout",
     "output_type": "stream",
     "text": [
      "1 2 3\n",
      "None\n",
      "None\n",
      "3-> 2-> 1-> None\n"
     ]
    }
   ],
   "source": [
    "head = takeInput()\n",
    "head,tail = reverse2(head)\n",
    "printList(head)"
   ]
  },
  {
   "cell_type": "code",
   "execution_count": 2,
   "id": "d2d3c7e0",
   "metadata": {},
   "outputs": [
    {
     "name": "stdout",
     "output_type": "stream",
     "text": [
      "1 2 3 4 5\n",
      "5-> 4-> 3-> 2-> 1-> None\n"
     ]
    }
   ],
   "source": [
    "head = takeInput()\n",
    "head = reverse3(head)\n",
    "printList(head)"
   ]
  },
  {
   "cell_type": "code",
   "execution_count": 4,
   "id": "ea3c820a",
   "metadata": {},
   "outputs": [
    {
     "name": "stdout",
     "output_type": "stream",
     "text": [
      "1 2 3\n",
      "1-> 2-> 3-> None\n",
      "3-> 2-> 1-> None\n"
     ]
    }
   ],
   "source": [
    "class IterNode:\n",
    "    def __init__(self,data):\n",
    "        self.data = data\n",
    "        self.next = None\n",
    "\n",
    "def printList(head):\n",
    "    while head is not None:\n",
    "        print(str(head.data) + \"->\", end= \" \")\n",
    "        head = head.next\n",
    "    print(\"None\")\n",
    "\n",
    "def reverseIter(head):\n",
    "    if head is None or head.next is None:\n",
    "        return head\n",
    "    \n",
    "    current = head\n",
    "    previous = None\n",
    "    \n",
    "    while current is not None:\n",
    "        next_node = current.next\n",
    "        current.next = previous\n",
    "        previous = current\n",
    "        current = next_node\n",
    "    return previous\n",
    "\n",
    "def takeInput():\n",
    "    inputList = [int(x) for x in input().split()]\n",
    "    head = None\n",
    "    tail = None\n",
    "    \n",
    "    for currData in inputList:\n",
    "        if currData == -1:\n",
    "            break\n",
    "            \n",
    "        \n",
    "        newNode = IterNode(currData)\n",
    "        \n",
    "        if head is None:\n",
    "            head = newNode\n",
    "            tail = newNode\n",
    "        else:\n",
    "            tail.next = newNode\n",
    "            tail = newNode\n",
    "    return head\n",
    "\n",
    "head = takeInput()\n",
    "printList(head)\n",
    "head = reverseIter(head)\n",
    "printList(head)"
   ]
  },
  {
   "cell_type": "code",
   "execution_count": null,
   "id": "9ad83b0f",
   "metadata": {},
   "outputs": [],
   "source": []
  }
 ],
 "metadata": {
  "kernelspec": {
   "display_name": "Python 3 (ipykernel)",
   "language": "python",
   "name": "python3"
  },
  "language_info": {
   "codemirror_mode": {
    "name": "ipython",
    "version": 3
   },
   "file_extension": ".py",
   "mimetype": "text/x-python",
   "name": "python",
   "nbconvert_exporter": "python",
   "pygments_lexer": "ipython3",
   "version": "3.10.7"
  }
 },
 "nbformat": 4,
 "nbformat_minor": 5
}
