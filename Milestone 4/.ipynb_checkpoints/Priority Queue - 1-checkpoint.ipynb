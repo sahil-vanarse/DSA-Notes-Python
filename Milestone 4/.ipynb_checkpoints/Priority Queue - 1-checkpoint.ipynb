{
 "cells": [
  {
   "cell_type": "markdown",
   "id": "d5c5c884-b7a5-465f-a73b-93327bf27445",
   "metadata": {},
   "source": [
    "# The Priority Queue is basically based on the First Come First Serve"
   ]
  },
  {
   "cell_type": "markdown",
   "id": "b2b5bea0-2a44-4835-b179-c4c430fd83a8",
   "metadata": {},
   "source": [
    "## Varition in Priority :\n",
    "### Min Priority Queue = Element with least Priority Comes First\n",
    "### Max Priority Queue = Element with Most Priority Comes First"
   ]
  },
  {
   "cell_type": "markdown",
   "id": "48eaa704-5724-4392-b214-e1b735b4de75",
   "metadata": {},
   "source": [
    "# Implementing priority queue has 3 factors :\n",
    "## For unsorted Array:\n",
    "#### insert : O(1)  because the element will be added to the last of the array\n",
    "#### getmin/getmax : O(n)  because it has to traverse the whole list to search for the minimum element in the array\n",
    "#### removemin/removemax : O(n)  because it hase to shift the element after the elements from its posirion has been removed it has n+n = 2n which is O(n)\n",
    "\n",
    "## For sorted Array:\n",
    "#### insert : O(n) because if we want to insert the element at specific index the other elements needs to shifted again therefore it is O(n)\n",
    "#### getmin/getmax : O(n) because the element will be present at the 0th position\n",
    "#### removemin/removemax : O(n) because after removing the element from the it has to shift the further elements which takes O(n) \n",
    "\n",
    "## For unsorted Linked List:\n",
    "#### insert : O(1)  because the element will be added to the last of the array\n",
    "#### getmin/getmax : O(n)  because it has to traverse the whole list to search for the minimum element in the array\n",
    "#### removemin/removemax : O(n)  because it hase to shift the element after the elements from its posirion has been removed it has n+n = 2n which is O(n)\n",
    "\n",
    "## For sorted Array:\n",
    "#### insert : O(n) because if we want to insert the element at specific index the other elements needs to shifted again therefore it is O(n)\n",
    "#### getmin/getmax : O(n) because the element will be present at the 0th position\n",
    "#### removemin/removemax : O(n) because after removing the element from the it has to shift the further elements which takes O(n) \n",
    "\n",
    "## For BST:\n",
    "#### insert : O(h) because it has to traverse whole tree to find the correct position\n",
    "#### getmin/getmax : O(h) because it has to traverse whole tree left tree to find the correct position to get it\n",
    "#### removemin/removemax : O(h) because it has to traverse the whole tree to search and remove the element\n",
    "\n",
    "## For Balanced BST (Best to apply):\n",
    "#### insert : O(logn) \n",
    "#### getmin/getmax : O(logn)\n",
    "#### removemin/removemax : O(logn)\n",
    "\n",
    "## For Hashmap:\n",
    "#### insert : O(1) \n",
    "#### getmin/getmax : O(n)\n",
    "#### removemin/removemax : O(n)"
   ]
  },
  {
   "cell_type": "markdown",
   "id": "b8dbd2e4-f0a8-4683-9339-dbf6769f4069",
   "metadata": {},
   "source": [
    "# Intro to Heaps"
   ]
  },
  {
   "cell_type": "markdown",
   "id": "62dd036d-3467-4e6b-9ef7-b25564f3d58d",
   "metadata": {},
   "source": [
    "## Heaps : 1) Complete Binary Tree(CBT)  2) Heap order property\n",
    "### we need to make the complete binary tree and insert the nodes from left to right and make sure that you are making complete binary tree\n",
    "### we cannot remove the element directly we need to reomve the last nodes first from right to left to maintain the complete binary tree\n",
    "### Heap has to maintain complete binary tree property :\n",
    "#### For the Min Heap :\n",
    "##### parent node should be less than child node\n",
    "#### For the Max Heap :\n",
    "##### parent node should be greater than child node\n",
    "\n",
    "#### Insertion in heap takes O(logn) Times because it traverse in its subtree with the proper positioning"
   ]
  },
  {
   "cell_type": "code",
   "execution_count": 50,
   "id": "904b94ca-1fa1-4236-a4fa-2a2e07c4b5f5",
   "metadata": {},
   "outputs": [
    {
     "name": "stdout",
     "output_type": "stream",
     "text": [
      "B\n",
      "D\n",
      "C\n",
      "A\n"
     ]
    }
   ],
   "source": [
    "# Implementation of Priority Queue\n",
    "\n",
    "# To create the node of the element with their priority\n",
    "class PriorityQueueNode:\n",
    "    def __init__(self, value, priority):\n",
    "        self.value = value\n",
    "        self.priority = priority\n",
    "\n",
    "# to create the array where the elements will be stored in the form of the array\n",
    "class PriorityQueue():\n",
    "    def __init__(self):\n",
    "        self.pq = []\n",
    "\n",
    "    def getSize(self,):\n",
    "        return len(self.pq)\n",
    "\n",
    "    def isEmpty(self):\n",
    "        return self.getSize() == 0\n",
    "\n",
    "    def getMin(self):\n",
    "        if self.isEmpty:\n",
    "            return None\n",
    "        return self.pq[0].value\n",
    "\n",
    "    # Up heapify operation for the put the smallest element to the top \n",
    "    # to check the element with its parent and then if it is smaller then we need to swap it and run this process till the root of the CBT\n",
    "    def __percolateUp(self):\n",
    "        childIndex = self.getSize() - 1\n",
    "        while childIndex > 0:\n",
    "            parentIndex = (childIndex - 1)//2\n",
    "            if self.pq[childIndex].priority < self.pq[parentIndex].priority:\n",
    "                self.pq[childIndex], self.pq[parentIndex] = self.pq[parentIndex], self.pq[childIndex]\n",
    "                childIndex = parentIndex\n",
    "            else:\n",
    "                break\n",
    " \n",
    "    def insert(self, value, priority):\n",
    "        pqNode = PriorityQueueNode(value, priority)\n",
    "        self.pq.append(pqNode)\n",
    "        self.__percolateUp()\n",
    "\n",
    "    # down heapify operation is used when we remove the top element and put the last element of the array/pq in the place of it then\n",
    "    # we need to satisfy the CBT criteria and need to maintain the min heap\n",
    "    def __percolateDown(self):\n",
    "        parentIndex = 0\n",
    "        leftChildIndex = 2 * parentIndex + 1\n",
    "        rightChildIndex = 2 * parentIndex + 2\n",
    "    \n",
    "        while leftChildIndex < self.getSize():\n",
    "            minIndex = parentIndex\n",
    "            if self.pq[leftChildIndex].priority < self.pq[minIndex].priority:\n",
    "                minIndex = leftChildIndex\n",
    "            if rightChildIndex < self.getSize() and self.pq[rightChildIndex].priority < self.pq[minIndex].priority:\n",
    "                minIndex = rightChildIndex\n",
    "    \n",
    "            if minIndex == parentIndex:\n",
    "                break\n",
    "            self.pq[parentIndex], self.pq[minIndex] = self.pq[minIndex], self.pq[parentIndex]\n",
    "            parentIndex = minIndex\n",
    "            leftChildIndex = 2 * parentIndex + 1\n",
    "            rightChildIndex = 2 * parentIndex + 2\n",
    "\n",
    "    def removeMin(self):\n",
    "        if self.getSize() is True:\n",
    "            return None\n",
    "        ele = self.pq[0].value\n",
    "        self.pq[0] = self.pq[self.getSize()-1]\n",
    "        self.pq.pop()\n",
    "        self.__percolateDown()\n",
    "        return ele\n",
    "\n",
    "pq = PriorityQueue()\n",
    "pq.insert(\"A\", 10)\n",
    "pq.insert(\"B\", 2)\n",
    "pq.insert(\"C\", 7)\n",
    "pq.insert(\"D\", 6)\n",
    "for i in range(4):\n",
    "    print(pq.removeMin())"
   ]
  }
 ],
 "metadata": {
  "kernelspec": {
   "display_name": "Python 3 (ipykernel)",
   "language": "python",
   "name": "python3"
  },
  "language_info": {
   "codemirror_mode": {
    "name": "ipython",
    "version": 3
   },
   "file_extension": ".py",
   "mimetype": "text/x-python",
   "name": "python",
   "nbconvert_exporter": "python",
   "pygments_lexer": "ipython3",
   "version": "3.10.7"
  }
 },
 "nbformat": 4,
 "nbformat_minor": 5
}
