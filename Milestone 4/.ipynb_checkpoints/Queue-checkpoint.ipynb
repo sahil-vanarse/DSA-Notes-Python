{
 "cells": [
  {
   "cell_type": "markdown",
   "id": "61cc0edc",
   "metadata": {},
   "source": [
    "#### Enqueue = Inserting the element in the queue\n",
    "#### Dequeue = Popping the element from the queue\n",
    "#### Size = Size of the queue\n",
    "#### isEmpty = Checking the queue is empty or not\n",
    "#### front = Top most element of the queue"
   ]
  },
  {
   "cell_type": "code",
   "execution_count": 37,
   "id": "26a63b84",
   "metadata": {},
   "outputs": [],
   "source": [
    "class Queue:\n",
    "    def __init__(self):\n",
    "        # creating a empty list with the private variable so that the variable cant be accessed outside the class\n",
    "        self.__data = []\n",
    "        self.__count = 0\n",
    "        self.__front = 0\n",
    "     \n",
    "    def enqueue(self,element):\n",
    "        self.__data.append(element)\n",
    "        self.__count += 1\n",
    "        \n",
    "    def dequeue(self):\n",
    "        if self.isEmpty():\n",
    "            print(\"Hey buddy the queue is empty and will not able to pop the element\")\n",
    "            return\n",
    "        element = self.__data[self.__front]\n",
    "        self.__front = self.__front + 1\n",
    "        self.__count -= 1\n",
    "        return element\n",
    "    \n",
    "    def front(self):\n",
    "        if self.isEmpty():\n",
    "            print(\"Hey brother you queue is empty\")\n",
    "        return self.__data[self.__front]\n",
    "    \n",
    "    def size(self):\n",
    "        return self.__count\n",
    "    \n",
    "    def isEmpty(self):\n",
    "        return self.size() == 0\n",
    "    \n",
    "queue = Queue()\n",
    "queue.enqueue(10)\n",
    "queue.enqueue(40)\n",
    "queue.enqueue(30)\n",
    "queue.enqueue(70)"
   ]
  },
  {
   "cell_type": "code",
   "execution_count": 38,
   "id": "d103b84e",
   "metadata": {},
   "outputs": [
    {
     "data": {
      "text/plain": [
       "4"
      ]
     },
     "execution_count": 38,
     "metadata": {},
     "output_type": "execute_result"
    }
   ],
   "source": [
    "queue.size()"
   ]
  },
  {
   "cell_type": "code",
   "execution_count": 39,
   "id": "edc198fa",
   "metadata": {},
   "outputs": [
    {
     "data": {
      "text/plain": [
       "False"
      ]
     },
     "execution_count": 39,
     "metadata": {},
     "output_type": "execute_result"
    }
   ],
   "source": [
    "queue.isEmpty()"
   ]
  },
  {
   "cell_type": "code",
   "execution_count": 40,
   "id": "20e05750",
   "metadata": {},
   "outputs": [
    {
     "name": "stdout",
     "output_type": "stream",
     "text": [
      "10\n",
      "40\n",
      "30\n",
      "70\n"
     ]
    }
   ],
   "source": [
    "while queue.isEmpty() is False:\n",
    "    #print(queue.front())\n",
    "    print(queue.dequeue())"
   ]
  },
  {
   "cell_type": "code",
   "execution_count": 43,
   "id": "fe482422",
   "metadata": {},
   "outputs": [],
   "source": [
    "class Node:\n",
    "    def __init__(self, data):\n",
    "        self.data = data\n",
    "        self.next = None\n",
    "        \n",
    "class Queue:\n",
    "    def __init__(self):\n",
    "        self.__head = None\n",
    "        self.__tail = None\n",
    "        self.__count = 0\n",
    "        \n",
    "    def enqueue(self, val):\n",
    "        if self.__head is None:\n",
    "            newNode = Node(val)\n",
    "            self.__head = newNode\n",
    "            self.__tail = newNode\n",
    "            self.__count += 1\n",
    "        else:\n",
    "            newNode = Node(val)\n",
    "            self.__tail.next = newNode\n",
    "            self.__tail = newNode\n",
    "            self.__count += 1\n",
    "            \n",
    "    def dequeue(self):\n",
    "        if self.isEmpty():\n",
    "            print(\"Hey brother your queue is empty\")\n",
    "            return \n",
    "        data = self.__head.data\n",
    "        self.__head = self.__head.next\n",
    "        self.__count -= 1\n",
    "        return data\n",
    "    \n",
    "    def front(self):\n",
    "        if self.isEmpty():\n",
    "            print(\"Hey brother your queue is empty\")\n",
    "            return\n",
    "        data = self.__head.data\n",
    "        return data\n",
    "    \n",
    "    def size(self):\n",
    "        return self.__count\n",
    "    \n",
    "    def isEmpty(self):\n",
    "        return self.__count == 0\n",
    "    \n",
    "q = Queue()\n",
    "q.enqueue(1)\n",
    "q.enqueue(2)\n",
    "q.enqueue(3)"
   ]
  },
  {
   "cell_type": "code",
   "execution_count": null,
   "id": "c429425d",
   "metadata": {},
   "outputs": [],
   "source": []
  }
 ],
 "metadata": {
  "kernelspec": {
   "display_name": "Python 3 (ipykernel)",
   "language": "python",
   "name": "python3"
  },
  "language_info": {
   "codemirror_mode": {
    "name": "ipython",
    "version": 3
   },
   "file_extension": ".py",
   "mimetype": "text/x-python",
   "name": "python",
   "nbconvert_exporter": "python",
   "pygments_lexer": "ipython3",
   "version": "3.10.7"
  }
 },
 "nbformat": 4,
 "nbformat_minor": 5
}
