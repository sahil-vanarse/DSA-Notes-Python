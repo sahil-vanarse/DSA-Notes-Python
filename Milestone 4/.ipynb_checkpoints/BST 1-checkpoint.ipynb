{
 "cells": [
  {
   "cell_type": "markdown",
   "id": "e48ca42b-6632-4447-850a-7e97bc9c1cf8",
   "metadata": {},
   "source": [
    "### Binary tree is used for the searching the element in the tree\n",
    "### elements small compared to the root should be on the left side \n",
    "### elements greater compared to the root should be on the right side "
   ]
  },
  {
   "cell_type": "markdown",
   "id": "868dc3b3-382d-44c6-a254-fef4cbd946f0",
   "metadata": {},
   "source": [
    "### For each node with data d its left subtrees < d and right subtrees >= d\n",
    "\n",
    "### if our binary tree is tree means it has left and right child then the time complexity will be O(logn) and height is logn\n",
    "### if our binary tree is doesnt look like a tree means a root has all the right childs or all the left childs then the time complexity will be O(n) and height is also n"
   ]
  },
  {
   "cell_type": "code",
   "execution_count": 20,
   "id": "5dd5346f-184f-4d85-8f48-f3b7f32528fa",
   "metadata": {},
   "outputs": [
    {
     "name": "stdin",
     "output_type": "stream",
     "text": [
      " 1\n"
     ]
    },
    {
     "name": "stdout",
     "output_type": "stream",
     "text": [
      "Left Tree :  1\n"
     ]
    },
    {
     "name": "stdin",
     "output_type": "stream",
     "text": [
      " 2\n"
     ]
    },
    {
     "name": "stdout",
     "output_type": "stream",
     "text": [
      "Right Tree :  1\n"
     ]
    },
    {
     "name": "stdin",
     "output_type": "stream",
     "text": [
      " 3\n"
     ]
    },
    {
     "name": "stdout",
     "output_type": "stream",
     "text": [
      "Left Tree :  2\n"
     ]
    },
    {
     "name": "stdin",
     "output_type": "stream",
     "text": [
      " 4\n"
     ]
    },
    {
     "name": "stdout",
     "output_type": "stream",
     "text": [
      "Right Tree :  2\n"
     ]
    },
    {
     "name": "stdin",
     "output_type": "stream",
     "text": [
      " 5\n"
     ]
    },
    {
     "name": "stdout",
     "output_type": "stream",
     "text": [
      "Left Tree :  3\n"
     ]
    },
    {
     "name": "stdin",
     "output_type": "stream",
     "text": [
      " 6\n"
     ]
    },
    {
     "name": "stdout",
     "output_type": "stream",
     "text": [
      "Right Tree :  3\n"
     ]
    },
    {
     "name": "stdin",
     "output_type": "stream",
     "text": [
      " 7\n"
     ]
    },
    {
     "name": "stdout",
     "output_type": "stream",
     "text": [
      "Left Tree :  4\n"
     ]
    },
    {
     "name": "stdin",
     "output_type": "stream",
     "text": [
      " -1\n"
     ]
    },
    {
     "name": "stdout",
     "output_type": "stream",
     "text": [
      "Right Tree :  4\n"
     ]
    },
    {
     "name": "stdin",
     "output_type": "stream",
     "text": [
      " -1\n"
     ]
    },
    {
     "name": "stdout",
     "output_type": "stream",
     "text": [
      "Left Tree :  5\n"
     ]
    },
    {
     "name": "stdin",
     "output_type": "stream",
     "text": [
      " -1\n"
     ]
    },
    {
     "name": "stdout",
     "output_type": "stream",
     "text": [
      "Right Tree :  5\n"
     ]
    },
    {
     "name": "stdin",
     "output_type": "stream",
     "text": [
      " -1\n"
     ]
    },
    {
     "name": "stdout",
     "output_type": "stream",
     "text": [
      "Left Tree :  6\n"
     ]
    },
    {
     "name": "stdin",
     "output_type": "stream",
     "text": [
      " -1\n"
     ]
    },
    {
     "name": "stdout",
     "output_type": "stream",
     "text": [
      "Right Tree :  6\n"
     ]
    },
    {
     "name": "stdin",
     "output_type": "stream",
     "text": [
      " -1\n"
     ]
    },
    {
     "name": "stdout",
     "output_type": "stream",
     "text": [
      "Left Tree :  7\n"
     ]
    },
    {
     "name": "stdin",
     "output_type": "stream",
     "text": [
      " -1\n"
     ]
    },
    {
     "name": "stdout",
     "output_type": "stream",
     "text": [
      "Right Tree :  7\n"
     ]
    },
    {
     "name": "stdin",
     "output_type": "stream",
     "text": [
      " -1\n"
     ]
    }
   ],
   "source": [
    "import queue\n",
    "from collections import deque\n",
    "class BST:\n",
    "    def __init__(self,data):\n",
    "        self.data = data\n",
    "        self.left = None\n",
    "        self.right = None\n",
    "\n",
    "def print_levelwise(root):\n",
    "    if root is None:\n",
    "        return\n",
    "\n",
    "    queue = deque([root])\n",
    "\n",
    "    while queue:\n",
    "        levelwise = len(queue)\n",
    "        for i in range(levelwise):\n",
    "            node = queue.popleft()\n",
    "            print(node.data, end=' ')\n",
    "    \n",
    "            if node.left:\n",
    "                queue.append(node.left)\n",
    "            if node.right:\n",
    "                queue.append(node.right)\n",
    "        print()\n",
    "\n",
    "\n",
    "def takeInput():\n",
    "    q = queue.Queue()\n",
    "    rootData = int(input())\n",
    "    if rootData == -1:\n",
    "        return None\n",
    "    root = BST(rootData)\n",
    "    q.put(root)\n",
    "\n",
    "    while not q.empty():\n",
    "        currentNode = q.get()\n",
    "        print(\"Left Tree : \", currentNode.data)\n",
    "        leftTree = int(input())\n",
    "        if leftTree != -1:\n",
    "            leftChild = BST(leftTree)\n",
    "            currentNode.left = leftChild\n",
    "            q.put(leftChild)\n",
    "\n",
    "        print(\"Right Tree : \", currentNode.data)\n",
    "        rightTree = int(input())\n",
    "        if rightTree != -1:\n",
    "            rightChild = BST(rightTree)\n",
    "            currentNode.right = rightChild\n",
    "            q.put(rightChild)\n",
    "\n",
    "    return root\n",
    "\n",
    "root = takeInput()"
   ]
  },
  {
   "cell_type": "code",
   "execution_count": 50,
   "id": "2bf0ec4b-bc10-4670-9a68-032422e67f9d",
   "metadata": {},
   "outputs": [
    {
     "name": "stdout",
     "output_type": "stream",
     "text": [
      "1 \n",
      "2 3 \n",
      "4 5 6 7 \n"
     ]
    }
   ],
   "source": [
    "print_levelwise(root)"
   ]
  },
  {
   "cell_type": "code",
   "execution_count": 94,
   "id": "4ea75141-8ba7-459a-a843-62faa505c0b9",
   "metadata": {},
   "outputs": [],
   "source": [
    "import queue\n",
    "class BinaryST:\n",
    "    def __init__(self, data):\n",
    "        self.data = data\n",
    "        self.left = None\n",
    "        self.right = None"
   ]
  },
  {
   "cell_type": "code",
   "execution_count": 113,
   "id": "01948928-4a3a-43dc-b036-3c7203076b2c",
   "metadata": {},
   "outputs": [],
   "source": [
    "# Function to search for a target node in a binary tree\n",
    "def search(root, targetNode):\n",
    "    # If the current node is None, the target node is not found\n",
    "    if root == None:\n",
    "        return False\n",
    "\n",
    "    # If the current node's data matches the target node, return True\n",
    "    if root.data == targetNode:\n",
    "        return True\n",
    "\n",
    "    # If the target node is smaller than the current node's data,\n",
    "    # search in the left subtree (as all values on the left are smaller)\n",
    "    elif root.data > targetNode:\n",
    "        return search(root.left, targetNode)\n",
    "\n",
    "    # If the target node is larger than the current node's data,\n",
    "    # search in the right subtree (as all values on the right are larger)\n",
    "    elif root.data < targetNode:\n",
    "        return search(root.right, targetNode)\n"
   ]
  },
  {
   "cell_type": "code",
   "execution_count": 114,
   "id": "d1964d8d-a5ef-472a-93d9-27486cd02c67",
   "metadata": {},
   "outputs": [],
   "source": [
    "# Function to print nodes in a binary tree that fall within the range [k1, k2]\n",
    "def nodesBetweenK1K2(root, k1, k2):\n",
    "    # If the current node is None, return as there are no nodes to process\n",
    "    if root is None:\n",
    "        return\n",
    "\n",
    "    # If the value of k1 is greater than the current node's data,\n",
    "    # it means all nodes in the left subtree are smaller than k1.\n",
    "    # So, recursively search in the right subtree.\n",
    "    if k1 > root.data:\n",
    "        nodesBetweenK1K2(root.right, k1, k2)\n",
    "\n",
    "    # If the value of k2 is less than the current node's data,\n",
    "    # it means all nodes in the right subtree are larger than k2.\n",
    "    # So, recursively search in the left subtree.\n",
    "    elif k2 < root.data:\n",
    "        nodesBetweenK1K2(root.left, k1, k2)\n",
    "\n",
    "    # If the current node's data is within the range [k1, k2],\n",
    "    # it means the node falls within the desired range.\n",
    "    # Print the current node's data and then recursively search\n",
    "    # in both the left and right subtrees.\n",
    "    else:\n",
    "        nodesBetweenK1K2(root.left, k1, k2)\n",
    "        print(root.data)\n",
    "        nodesBetweenK1K2(root.right, k1, k2)\n"
   ]
  },
  {
   "cell_type": "code",
   "execution_count": 115,
   "id": "25d1f70e-2749-4a09-b49b-7af88b3212e0",
   "metadata": {},
   "outputs": [],
   "source": [
    "def takeInputLevelWise():\n",
    "    q = queue.Queue()\n",
    "    print(\"Enter the root\")\n",
    "    rootData = int(input())\n",
    "    if rootData == -1:\n",
    "        return None\n",
    "    root = BinaryST(rootData)\n",
    "    q.put(root)\n",
    "\n",
    "    while q.empty() == False:\n",
    "        currentNode = q.get()\n",
    "        print(\"Left Sub tree for the Node : \", currentNode.data)\n",
    "        leftTreeInput = int(input())\n",
    "        \n",
    "        if leftTreeInput != -1:\n",
    "            leftTree = BinaryST(leftTreeInput)\n",
    "            currentNode.left = leftTree\n",
    "            q.put(leftTree)\n",
    "\n",
    "        print(\"Right Sub tree for the Node : \", currentNode.data)\n",
    "        rightTreeInput = int(input())\n",
    "        \n",
    "        if rightTreeInput != -1:\n",
    "            rightTree = BinaryST(rightTreeInput)\n",
    "            currentNode.right = rightTree\n",
    "            q.put(rightTree)\n",
    "\n",
    "    return root\n"
   ]
  },
  {
   "cell_type": "code",
   "execution_count": 116,
   "id": "09477e2e-89b2-40fe-886b-365a414f6c20",
   "metadata": {},
   "outputs": [
    {
     "name": "stdout",
     "output_type": "stream",
     "text": [
      "Enter the root\n"
     ]
    },
    {
     "name": "stdin",
     "output_type": "stream",
     "text": [
      " 10\n"
     ]
    },
    {
     "name": "stdout",
     "output_type": "stream",
     "text": [
      "Left Sub tree for the Node :  10\n"
     ]
    },
    {
     "name": "stdin",
     "output_type": "stream",
     "text": [
      " 4\n"
     ]
    },
    {
     "name": "stdout",
     "output_type": "stream",
     "text": [
      "Right Sub tree for the Node :  10\n"
     ]
    },
    {
     "name": "stdin",
     "output_type": "stream",
     "text": [
      " 15\n"
     ]
    },
    {
     "name": "stdout",
     "output_type": "stream",
     "text": [
      "Left Sub tree for the Node :  4\n"
     ]
    },
    {
     "name": "stdin",
     "output_type": "stream",
     "text": [
      " 2\n"
     ]
    },
    {
     "name": "stdout",
     "output_type": "stream",
     "text": [
      "Right Sub tree for the Node :  4\n"
     ]
    },
    {
     "name": "stdin",
     "output_type": "stream",
     "text": [
      " 6\n"
     ]
    },
    {
     "name": "stdout",
     "output_type": "stream",
     "text": [
      "Left Sub tree for the Node :  15\n"
     ]
    },
    {
     "name": "stdin",
     "output_type": "stream",
     "text": [
      " 14\n"
     ]
    },
    {
     "name": "stdout",
     "output_type": "stream",
     "text": [
      "Right Sub tree for the Node :  15\n"
     ]
    },
    {
     "name": "stdin",
     "output_type": "stream",
     "text": [
      " 18\n"
     ]
    },
    {
     "name": "stdout",
     "output_type": "stream",
     "text": [
      "Left Sub tree for the Node :  2\n"
     ]
    },
    {
     "name": "stdin",
     "output_type": "stream",
     "text": [
      " -1\n"
     ]
    },
    {
     "name": "stdout",
     "output_type": "stream",
     "text": [
      "Right Sub tree for the Node :  2\n"
     ]
    },
    {
     "name": "stdin",
     "output_type": "stream",
     "text": [
      " -1\n"
     ]
    },
    {
     "name": "stdout",
     "output_type": "stream",
     "text": [
      "Left Sub tree for the Node :  6\n"
     ]
    },
    {
     "name": "stdin",
     "output_type": "stream",
     "text": [
      " -1\n"
     ]
    },
    {
     "name": "stdout",
     "output_type": "stream",
     "text": [
      "Right Sub tree for the Node :  6\n"
     ]
    },
    {
     "name": "stdin",
     "output_type": "stream",
     "text": [
      " -1\n"
     ]
    },
    {
     "name": "stdout",
     "output_type": "stream",
     "text": [
      "Left Sub tree for the Node :  14\n"
     ]
    },
    {
     "name": "stdin",
     "output_type": "stream",
     "text": [
      " -1\n"
     ]
    },
    {
     "name": "stdout",
     "output_type": "stream",
     "text": [
      "Right Sub tree for the Node :  14\n"
     ]
    },
    {
     "name": "stdin",
     "output_type": "stream",
     "text": [
      " -1\n"
     ]
    },
    {
     "name": "stdout",
     "output_type": "stream",
     "text": [
      "Left Sub tree for the Node :  18\n"
     ]
    },
    {
     "name": "stdin",
     "output_type": "stream",
     "text": [
      " -1\n"
     ]
    },
    {
     "name": "stdout",
     "output_type": "stream",
     "text": [
      "Right Sub tree for the Node :  18\n"
     ]
    },
    {
     "name": "stdin",
     "output_type": "stream",
     "text": [
      " -1\n"
     ]
    },
    {
     "data": {
      "text/plain": [
       "True"
      ]
     },
     "execution_count": 116,
     "metadata": {},
     "output_type": "execute_result"
    }
   ],
   "source": [
    "root = takeInputLevelWise()\n",
    "search(root, 2)"
   ]
  },
  {
   "cell_type": "code",
   "execution_count": 117,
   "id": "15bcb1d5-215f-4b99-baac-6ef1c1da4ae2",
   "metadata": {},
   "outputs": [
    {
     "data": {
      "text/plain": [
       "True"
      ]
     },
     "execution_count": 117,
     "metadata": {},
     "output_type": "execute_result"
    }
   ],
   "source": [
    "search(root, 18)"
   ]
  },
  {
   "cell_type": "code",
   "execution_count": 118,
   "id": "10ce3f86-99f0-4d60-bbf5-0abb0efe6592",
   "metadata": {},
   "outputs": [
    {
     "name": "stdout",
     "output_type": "stream",
     "text": [
      "4\n",
      "6\n",
      "10\n",
      "14\n",
      "15\n"
     ]
    }
   ],
   "source": [
    "nodesBetweenK1K2(root, 4, 15)"
   ]
  },
  {
   "cell_type": "code",
   "execution_count": 130,
   "id": "02bca9e0-b18a-4632-af50-baae743abbe1",
   "metadata": {},
   "outputs": [
    {
     "name": "stdin",
     "output_type": "stream",
     "text": [
      " 1 2 3 4 5 6 7\n"
     ]
    },
    {
     "name": "stdout",
     "output_type": "stream",
     "text": [
      "4 : L :  2 R :  6 \n",
      "2 : L :  1 R :  3 \n",
      "1 : \n",
      "3 : \n",
      "6 : L :  5 R :  7 \n",
      "5 : \n",
      "7 : \n"
     ]
    }
   ],
   "source": [
    "def constructBinaryTree(arr):\n",
    "    if len(arr) == 0:\n",
    "        return None\n",
    "    length = len(arr)-1\n",
    "    mid = length // 2\n",
    "    leftPortion = arr[:mid]\n",
    "    rightPortion = arr[mid+1 :]\n",
    "    rootData = arr[mid]\n",
    "    root = BinaryST(rootData)\n",
    "\n",
    "    root.left = constructBinaryTree(leftPortion)\n",
    "    root.right = constructBinaryTree(rightPortion)\n",
    "\n",
    "    return root\n",
    "    \n",
    "def preorderTraversal(root):\n",
    "    if root is not None:\n",
    "        print(root.data, end=' : ')  # Print the current node's data\n",
    "        if root.left != None:\n",
    "            print(\"L : \", root.left.data, end=\" \")\n",
    "        if root.left != None:\n",
    "            print(\"R : \", root.right.data, end=\" \")\n",
    "        print()   \n",
    "        preorderTraversal(root.left)  # Recursively traverse the left subtree\n",
    "        preorderTraversal(root.right) # Recursively traverse the right subtree\n",
    "        \n",
    "arr = [int(x) for x in input().split()]\n",
    "root = constructBinaryTree(arr)\n",
    "preorderTraversal(root)"
   ]
  },
  {
   "cell_type": "code",
   "execution_count": 145,
   "id": "7b6efdfd-e50d-4b73-9f08-ce49529743e2",
   "metadata": {},
   "outputs": [
    {
     "name": "stdout",
     "output_type": "stream",
     "text": [
      "Enter the root data\n"
     ]
    },
    {
     "name": "stdin",
     "output_type": "stream",
     "text": [
      " 4\n"
     ]
    },
    {
     "name": "stdout",
     "output_type": "stream",
     "text": [
      "left Tree Data :  4\n"
     ]
    },
    {
     "name": "stdin",
     "output_type": "stream",
     "text": [
      " 2\n"
     ]
    },
    {
     "name": "stdout",
     "output_type": "stream",
     "text": [
      "Right Tree Data :  4\n"
     ]
    },
    {
     "name": "stdin",
     "output_type": "stream",
     "text": [
      " 6\n"
     ]
    },
    {
     "name": "stdout",
     "output_type": "stream",
     "text": [
      "left Tree Data :  2\n"
     ]
    },
    {
     "name": "stdin",
     "output_type": "stream",
     "text": [
      " 1\n"
     ]
    },
    {
     "name": "stdout",
     "output_type": "stream",
     "text": [
      "Right Tree Data :  2\n"
     ]
    },
    {
     "name": "stdin",
     "output_type": "stream",
     "text": [
      " 3\n"
     ]
    },
    {
     "name": "stdout",
     "output_type": "stream",
     "text": [
      "left Tree Data :  6\n"
     ]
    },
    {
     "name": "stdin",
     "output_type": "stream",
     "text": [
      " 5\n"
     ]
    },
    {
     "name": "stdout",
     "output_type": "stream",
     "text": [
      "Right Tree Data :  6\n"
     ]
    },
    {
     "name": "stdin",
     "output_type": "stream",
     "text": [
      " 7\n"
     ]
    },
    {
     "name": "stdout",
     "output_type": "stream",
     "text": [
      "left Tree Data :  1\n"
     ]
    },
    {
     "name": "stdin",
     "output_type": "stream",
     "text": [
      " -1\n"
     ]
    },
    {
     "name": "stdout",
     "output_type": "stream",
     "text": [
      "Right Tree Data :  1\n"
     ]
    },
    {
     "name": "stdin",
     "output_type": "stream",
     "text": [
      " -1\n"
     ]
    },
    {
     "name": "stdout",
     "output_type": "stream",
     "text": [
      "left Tree Data :  3\n"
     ]
    },
    {
     "name": "stdin",
     "output_type": "stream",
     "text": [
      " -1\n"
     ]
    },
    {
     "name": "stdout",
     "output_type": "stream",
     "text": [
      "Right Tree Data :  3\n"
     ]
    },
    {
     "name": "stdin",
     "output_type": "stream",
     "text": [
      " -1\n"
     ]
    },
    {
     "name": "stdout",
     "output_type": "stream",
     "text": [
      "left Tree Data :  5\n"
     ]
    },
    {
     "name": "stdin",
     "output_type": "stream",
     "text": [
      " -1\n"
     ]
    },
    {
     "name": "stdout",
     "output_type": "stream",
     "text": [
      "Right Tree Data :  5\n"
     ]
    },
    {
     "name": "stdin",
     "output_type": "stream",
     "text": [
      " -1\n"
     ]
    },
    {
     "name": "stdout",
     "output_type": "stream",
     "text": [
      "left Tree Data :  7\n"
     ]
    },
    {
     "name": "stdin",
     "output_type": "stream",
     "text": [
      " -1\n"
     ]
    },
    {
     "name": "stdout",
     "output_type": "stream",
     "text": [
      "Right Tree Data :  7\n"
     ]
    },
    {
     "name": "stdin",
     "output_type": "stream",
     "text": [
      " -1\n"
     ]
    },
    {
     "data": {
      "text/plain": [
       "True"
      ]
     },
     "execution_count": 145,
     "metadata": {},
     "output_type": "execute_result"
    }
   ],
   "source": [
    "import queue\n",
    "# checking a tree is a BST or not\n",
    "\n",
    "# to find the minimum in tree\n",
    "def minTree(root):\n",
    "    if root == None:\n",
    "        return 100000000000\n",
    "    leftmin = minTree(root.left)\n",
    "    rightmin = minTree(root.right)\n",
    "    return min(leftmin, rightmin, root.data)\n",
    "\n",
    "# to find maximum in tree\n",
    "def maxTree(root):\n",
    "    if root == None:\n",
    "        return -100000000000\n",
    "\n",
    "    leftMax = maxTree(root.left)\n",
    "    rightMax = maxTree(root.right)\n",
    "    return max(leftMax, rightMax, root.data)\n",
    "    \n",
    "def checkBST(root):\n",
    "    if root == None:\n",
    "        return True\n",
    "\n",
    "    leftMax = maxTree(root.left)\n",
    "    rightMin = minTree(root.right)\n",
    "\n",
    "    if root.data > rightMin or root.data <= leftMax:\n",
    "        return False\n",
    "\n",
    "    leftTreecheck = checkBST(root.left)\n",
    "    rightTreecheck = checkBST(root.right)\n",
    "\n",
    "    return leftTreecheck and rightTreecheck\n",
    "\n",
    "    \n",
    "def takeInput():\n",
    "    q = queue.Queue()\n",
    "    print(\"Enter the root data\")\n",
    "    rootData = int(input())\n",
    "    if rootData == -1:\n",
    "        return None\n",
    "    root = BinaryST(rootData)\n",
    "    q.put(root)\n",
    "\n",
    "    while q.empty() == False:\n",
    "        currentNode = q.get()\n",
    "        print(\"left Tree Data : \", currentNode.data)\n",
    "        leftInput = int(input())\n",
    "        if leftInput != -1:\n",
    "            leftTree = BinaryST(leftInput)\n",
    "            currentNode.left = leftTree\n",
    "            q.put(leftTree)\n",
    "\n",
    "        print(\"Right Tree Data : \", currentNode.data)\n",
    "        rightInput = int(input())\n",
    "        if rightInput != -1:\n",
    "            rightTree = BinaryST(rightInput)\n",
    "            currentNode.right = rightTree\n",
    "            q.put(rightTree)\n",
    "\n",
    "    return root\n",
    "    \n",
    "root = takeInput()\n",
    "checkBST(root)"
   ]
  },
  {
   "cell_type": "code",
   "execution_count": 164,
   "id": "c8f0c425-0a6c-44cf-aa0a-2e08f287caf2",
   "metadata": {},
   "outputs": [
    {
     "data": {
      "text/plain": [
       "(1, 7, True)"
      ]
     },
     "execution_count": 164,
     "metadata": {},
     "output_type": "execute_result"
    }
   ],
   "source": [
    "def checkBSTimproved(root):\n",
    "    if root == None:\n",
    "        return 1000000000, -1000000000, True\n",
    "\n",
    "    leftMin, leftMax, leftcheck = checkBSTimproved(root.left)\n",
    "    rightMin, rightMax, rightcheck = checkBSTimproved(root.right)\n",
    "\n",
    "    minimum = min(leftMin, rightMin, root.data)\n",
    "    maximum = max(leftMax, rightMax, root.data)\n",
    "\n",
    "    isBST = True\n",
    "    if leftMax >= root.data or rightMin < root.data:\n",
    "        isBST = False\n",
    "\n",
    "    if not(leftcheck) and not(rightcheck):\n",
    "        isBST = False\n",
    "\n",
    "    return minimum, maximum, isBST\n",
    "\n",
    "checkBSTimproved(root)"
   ]
  },
  {
   "cell_type": "code",
   "execution_count": 172,
   "id": "ecbbfae6-e434-42ff-8b1d-b47a514478d8",
   "metadata": {},
   "outputs": [
    {
     "data": {
      "text/plain": [
       "True"
      ]
     },
     "execution_count": 172,
     "metadata": {},
     "output_type": "execute_result"
    }
   ],
   "source": [
    "def onlyCheck(root):\n",
    "    minimum, maximum, isBST = checkBSTimproved(root)\n",
    "    return isBST\n",
    "\n",
    "onlyCheck(root)"
   ]
  },
  {
   "cell_type": "code",
   "execution_count": 170,
   "id": "4b5aba44-3cd1-47d6-92a1-624b752b35be",
   "metadata": {},
   "outputs": [
    {
     "data": {
      "text/plain": [
       "True"
      ]
     },
     "execution_count": 170,
     "metadata": {},
     "output_type": "execute_result"
    }
   ],
   "source": [
    "def checkUsingConstraint(root, min, max):\n",
    "    if root is None:\n",
    "        return True\n",
    "\n",
    "    if root.data < min or root.data > max:\n",
    "        return False\n",
    "\n",
    "    leftTree = checkUsingConstraint(root.left, min, root.data)\n",
    "    rightTree = checkUsingConstraint(root.right, root.data, max)\n",
    "\n",
    "    return leftTree and rightTree\n",
    "\n",
    "checkUsingConstraint(root, -10000000, 100000000)"
   ]
  },
  {
   "cell_type": "code",
   "execution_count": null,
   "id": "deb3438d-1e1a-41f4-8599-8a9913b70296",
   "metadata": {},
   "outputs": [],
   "source": []
  }
 ],
 "metadata": {
  "kernelspec": {
   "display_name": "Python 3 (ipykernel)",
   "language": "python",
   "name": "python3"
  },
  "language_info": {
   "codemirror_mode": {
    "name": "ipython",
    "version": 3
   },
   "file_extension": ".py",
   "mimetype": "text/x-python",
   "name": "python",
   "nbconvert_exporter": "python",
   "pygments_lexer": "ipython3",
   "version": "3.10.7"
  }
 },
 "nbformat": 4,
 "nbformat_minor": 5
}
