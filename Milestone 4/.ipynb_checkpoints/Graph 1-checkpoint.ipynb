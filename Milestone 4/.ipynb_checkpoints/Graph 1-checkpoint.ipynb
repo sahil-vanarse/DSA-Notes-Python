{
 "cells": [
  {
   "cell_type": "markdown",
   "id": "c1555bc1-13d6-42ab-b163-1a2e4c94ed76",
   "metadata": {},
   "source": [
    "# What is Graph ?\n",
    "\n",
    "#### Graph is all about vertices and edges . Vertices are basically nodes. It the corner point\n",
    "#### And through which vertices are connected are known as edges. It is not necessary that the nodes are connected with each vertices\n",
    "#### For eg our social media apps are basically a graph and google maps uses graph to find the path\n",
    "#### There is no hierarchy in this, any node can be connected to the any node and aslo they cannot be connected, they can be also a single node present in it\n"
   ]
  },
  {
   "cell_type": "markdown",
   "id": "7a006a39-9ef7-43c8-b3c4-30cb59b3406d",
   "metadata": {},
   "source": [
    "# Terminology of Graph\n",
    "\n",
    "#### Adjacent Node or Vertex : Suppose we have 3 vertex A, B, C. And we A is connected to B and B is connected to C this is known as adjacent edges but A is not connected to C then this is call as non adjacent edges\n",
    "#### Degree : this represents how many edges are passing through the vertex in our case A has 1 because it passes to the B, B has 2 because it passed through the A and C , C has 1 because C it passes to the B only\n",
    "#### Path : we can say that there is a path because to reach C from A we can go from A -> B -> C\n",
    "#### Connected Graph : if there is path between any two vertices in a graph it is known as Connected Graph\n",
    "#### Connected Component : suppose we have a A -> B -> C as one path in a graph we called it as component and D -> E is another component, in this both of this graphs are not connected to each other, there can be multiple sub-graphs in a single graphs\n",
    "#### Tree : it is parent child structure it is also a graph because each child has adjacent child associated with it. Tree is graph but graph is not a Tree. Tree is connected graph, but there is no cycle."
   ]
  },
  {
   "cell_type": "markdown",
   "id": "a9894deb-e9e2-4ffd-8617-cb2d9a21ce8d",
   "metadata": {},
   "source": [
    "# Complexity in terms of edges\n",
    "\n",
    "#### 1) Min edges in a graph can be 0 if there is no vertex connected to each other ( suppose in a graph there are sub graphs as A, B, C, D but each of them are not connected to each other in this case there is no edges in the graph )\n",
    "#### 2) Min edges in a connected Graph ( a tree is like a connected graph with no cycle ) n-1 edges ( suppose we have 4 vertices then there should be atleast 3 edges)\n",
    "#### 3) Max edges O(n2) camplexity ( suppose we have 4 vertex A, B, C, D then this will have n * n edges i.e 8 means that each vertex is connected to all other vertices  "
   ]
  },
  {
   "cell_type": "markdown",
   "id": "f2b2057b-d659-4f67-9fa6-bfabc556ef8e",
   "metadata": {},
   "source": [
    "# Implementation of Graph\n",
    "##### Basically the graph is implemented using 2d graph and we need to assume it as the graph"
   ]
  },
  {
   "cell_type": "code",
   "execution_count": 18,
   "id": "f6db6e16-004e-4aee-9da3-fb3efe2fcd10",
   "metadata": {},
   "outputs": [
    {
     "name": "stdout",
     "output_type": "stream",
     "text": [
      "Before adding the edges \n",
      "[[0, 0, 0, 0, 0], [0, 0, 0, 0, 0], [0, 0, 0, 0, 0], [0, 0, 0, 0, 0], [0, 0, 0, 0, 0]]\n",
      "After adding the edges \n",
      "[[0, 1, 0, 0, 0], [1, 0, 0, 1, 0], [0, 0, 0, 0, 1], [0, 1, 0, 0, 0], [0, 0, 1, 0, 0]]\n"
     ]
    },
    {
     "data": {
      "text/plain": [
       "[[0, 1, 0, 0, 0],\n",
       " [1, 0, 0, 1, 0],\n",
       " [0, 0, 0, 0, 1],\n",
       " [0, 1, 0, 0, 0],\n",
       " [0, 0, 1, 0, 0]]"
      ]
     },
     "execution_count": 18,
     "metadata": {},
     "output_type": "execute_result"
    }
   ],
   "source": [
    "class Graph:\n",
    "    def __init__(self, nVertices):\n",
    "        # Initialize the Graph with a given number of vertices\n",
    "        self.nVertices = nVertices\n",
    "        # Create an adjacency matrix initialized with 0's\n",
    "        self.adjacentMatrix = [[0 for j in range(nVertices)] for i in range(nVertices)]\n",
    "\n",
    "    def addEdges(self, v1, v2):\n",
    "        # Add an edge between two vertices by setting the corresponding entry in the adjacency matrix to 1\n",
    "        self.adjacentMatrix[v1][v2] = 1\n",
    "        self.adjacentMatrix[v2][v1] = 1\n",
    "\n",
    "    def removeEdges(self, v1, v2):\n",
    "        # Check if the edge exists before removing it\n",
    "        if self.containsEdges(v1,v2) == False:\n",
    "            return\n",
    "        # Remove the edge by setting the corresponding entry in the adjacency matrix to 0\n",
    "        self.adjacentMatrix[v1][v2] = 0\n",
    "        self.adjacentMatrix[v2][v1] = 0\n",
    "\n",
    "    def containsEdges(self, v1, v2):\n",
    "        # Check if there is an edge between two vertices\n",
    "        return True if self.adjacentMatrix[v1][v2] > 0 else False\n",
    "\n",
    "    # if we want to see the adj matrix without the calling another function we can use __str__\n",
    "    def __str__(self):\n",
    "        # Return the string representation of the adjacency matrix\n",
    "        return str(self.adjacentMatrix)\n",
    "\n",
    "    # else this is the another method to display the matrix but this requires calling the function\n",
    "    def printAdjMat(self):\n",
    "        # Return the string representation of the adjacency matrix\n",
    "        return self.adjacentMatrix\n",
    "\n",
    "# Create a graph with 5 vertices\n",
    "g = Graph(5)\n",
    "print(\"Before adding the edges \")\n",
    "print(g)  # Print the initial adjacency matrix\n",
    "g.addEdges(0,1)  # Add edges between vertices 0 and 1\n",
    "g.addEdges(1,3)  # Add edges between vertices 1 and 3\n",
    "g.addEdges(2,4)  # Add edges between vertices 2 and 4\n",
    "print(\"After adding the edges \")\n",
    "print(g)  # Print the updated adjacency matrix\n",
    "\n",
    "# calling the function to see the adj Mat\n",
    "g.printAdjMat()"
   ]
  },
  {
   "cell_type": "markdown",
   "id": "c627c985-aba8-4222-8b02-2f00ad7550fa",
   "metadata": {},
   "source": [
    "# DFS in Graph : Depth First Search is done using recursion\n",
    "\n",
    "### In the DFS after visiting the node or vertex mark it as visited so the recursion depth will not occur because the dfs will continuosly call and the graph has loop in it or can not have loop in it so it is necessary to mark the node so that we dont visit it again"
   ]
  },
  {
   "cell_type": "code",
   "execution_count": 52,
   "id": "ab59cf90-4de6-4198-bb9a-2170dbf30f30",
   "metadata": {},
   "outputs": [
    {
     "name": "stdout",
     "output_type": "stream",
     "text": [
      "[[0, 1, 1, 0, 0], [1, 0, 0, 1, 0], [1, 0, 0, 1, 1], [0, 1, 1, 0, 0], [0, 0, 1, 0, 0]]\n",
      " This is the DFS \n",
      "0\n",
      "1\n",
      "3\n",
      "2\n",
      "4\n",
      "----\n",
      "----\n",
      "----\n",
      "----\n",
      "----\n",
      " This is the BFS \n",
      "0\n",
      "1\n",
      "2\n",
      "3\n",
      "4\n"
     ]
    }
   ],
   "source": [
    "import queue\n",
    "\n",
    "class Graph:\n",
    "    def __init__(self, nVertices):\n",
    "        \"\"\"\n",
    "        Initialize a graph with a given number of vertices.\n",
    "\n",
    "        Args:\n",
    "        - nVertices (int): The number of vertices in the graph.\n",
    "        \"\"\"\n",
    "        self.nVertices = nVertices\n",
    "        self.adj_mat = [[0 for j in range(nVertices)] for i in range(nVertices)]\n",
    "\n",
    "    def addEdges(self, v1, v2):\n",
    "        \"\"\"\n",
    "        Add an edge between two vertices.\n",
    "\n",
    "        Args:\n",
    "        - v1 (int): The index of the first vertex.\n",
    "        - v2 (int): The index of the second vertex.\n",
    "        \"\"\"\n",
    "        self.adj_mat[v1][v2] = 1\n",
    "        self.adj_mat[v2][v1] = 1\n",
    "\n",
    "    def removeEdges(self, v1, v2):\n",
    "        \"\"\"\n",
    "        Remove an edge between two vertices.\n",
    "\n",
    "        Args:\n",
    "        - v1 (int): The index of the first vertex.\n",
    "        - v2 (int): The index of the second vertex.\n",
    "        \"\"\"\n",
    "        if self.adj_mat[v1][v2] == 0:\n",
    "            return \n",
    "        self.adj_mat[v1][v2] = 0\n",
    "        self.adj_mat[v2][v1] = 0\n",
    "\n",
    "    def containsEdge(self, v1, v2):\n",
    "        \"\"\"\n",
    "        Check if there is an edge between two vertices.\n",
    "\n",
    "        Args:\n",
    "        - v1 (int): The index of the first vertex.\n",
    "        - v2 (int): The index of the second vertex.\n",
    "\n",
    "        Returns:\n",
    "        - bool: True if an edge exists, False otherwise.\n",
    "        \"\"\"\n",
    "        return self.adj_mat[v1][v2] > 0\n",
    "\n",
    "    def printGraph(self):\n",
    "        \"\"\"\n",
    "        Return the adjacency matrix of the graph.\n",
    "\n",
    "        Returns:\n",
    "        - list of lists: The adjacency matrix.\n",
    "        \"\"\"\n",
    "        return self.adj_mat\n",
    "\n",
    "    def __dfsHelper(self, startVertex, visited):\n",
    "        \"\"\"\n",
    "        Perform depth-first search (DFS) traversal starting from a given vertex.\n",
    "\n",
    "        Args:\n",
    "        - startVertex (int): The index of the starting vertex.\n",
    "        - visited (list of bool): List to track visited vertices.\n",
    "        \"\"\"\n",
    "        print(startVertex)\n",
    "        visited[startVertex] = True\n",
    "        for i in range(self.nVertices):\n",
    "            if self.adj_mat[startVertex][i] > 0 and visited[i] == False:\n",
    "                self.__dfsHelper(i, visited)\n",
    "        # print(\"----\")\n",
    "\n",
    "    def dfs(self):\n",
    "        \"\"\"\n",
    "        Perform depth-first search (DFS) traversal on the graph.\n",
    "        \"\"\"\n",
    "        visited = [False for _ in range(self.nVertices)]\n",
    "        # this loop is important because our graph can contain the components means there can be multiple sub graphs which may not be connected to each \n",
    "        # other so to get is value we need to iterate over it\n",
    "        for i in range(self.nVertices):\n",
    "            if visited[i] is False:\n",
    "                self.__dfsHelper(i, visited)\n",
    "\n",
    "    def __bfsHelper(self, sv, visited):\n",
    "        q = queue.Queue()\n",
    "        q.put(sv)  # Put the start vertex 'sv' instead of always 0\n",
    "        visited[sv] = True  # Mark the start vertex as visited\n",
    "        while q.empty() is False:\n",
    "            u = q.get()\n",
    "            print(u)\n",
    "            for i in range(self.nVertices):\n",
    "                if self.adj_mat[u][i] > 0 and visited[i] is False:\n",
    "                    q.put(i)\n",
    "                    visited[i] = True\n",
    "\n",
    "\n",
    "    def bfs(self):\n",
    "        visited = [False for i in range(self.nVertices)]\n",
    "        for i in range(self.nVertices):\n",
    "            if visited[i] is False:\n",
    "                self.__bfsHelper(i, visited)\n",
    "# Example usage:\n",
    "g = Graph(5)\n",
    "g.addEdges(0, 1)\n",
    "g.addEdges(1, 3)\n",
    "g.addEdges(0, 2)\n",
    "g.addEdges(2, 3)\n",
    "g.addEdges(2, 4)\n",
    "\n",
    "# g.addEdges(0, 1)\n",
    "# g.addEdges(0, 3)\n",
    "# g.addEdges(1, 2)\n",
    "print(g.printGraph())\n",
    "print(\" This is the DFS \" )\n",
    "g.dfs()\n",
    "print(\" This is the BFS \" )\n",
    "g.bfs()"
   ]
  },
  {
   "cell_type": "code",
   "execution_count": 21,
   "id": "805501f5-9b70-47f3-bf98-9b15bbde0eb8",
   "metadata": {},
   "outputs": [
    {
     "name": "stdout",
     "output_type": "stream",
     "text": [
      "[[0, 1, 0, 1, 0, 0, 0], [1, 0, 0, 0, 0, 0, 0], [0, 0, 0, 0, 1, 1, 0], [1, 0, 0, 0, 0, 0, 0], [0, 0, 1, 0, 0, 0, 1], [0, 0, 1, 0, 0, 0, 0], [0, 0, 0, 0, 1, 0, 0]]\n",
      " This is the DFS \n",
      "0\n",
      "1\n",
      "3\n",
      "2\n",
      "4\n",
      "6\n",
      "5\n",
      " This is the BFS \n",
      "0\n",
      "1\n",
      "3\n",
      "2\n",
      "4\n",
      "5\n",
      "6\n"
     ]
    }
   ],
   "source": [
    "# for disconnected graph\n",
    "g = Graph(7)\n",
    "g.addEdges(0, 1)\n",
    "g.addEdges(0, 3)\n",
    "g.addEdges(4, 6)\n",
    "g.addEdges(2, 5)\n",
    "g.addEdges(2, 4)\n",
    "print(g.printGraph())\n",
    "print(\" This is the DFS \" )\n",
    "g.dfs()\n",
    "print(\" This is the BFS \" )\n",
    "g.bfs()"
   ]
  },
  {
   "cell_type": "code",
   "execution_count": 25,
   "id": "8c305512-8fd0-42e7-89fe-02b7130f5aa9",
   "metadata": {},
   "outputs": [
    {
     "data": {
      "text/plain": [
       "True"
      ]
     },
     "execution_count": 25,
     "metadata": {},
     "output_type": "execute_result"
    }
   ],
   "source": [
    "# all keyword \n",
    "\n",
    "a = [True, True, True]\n",
    "all(a)"
   ]
  },
  {
   "cell_type": "code",
   "execution_count": 26,
   "id": "3ab96cdf-0efc-458f-b5a7-603cab9b9c39",
   "metadata": {},
   "outputs": [
    {
     "data": {
      "text/plain": [
       "False"
      ]
     },
     "execution_count": 26,
     "metadata": {},
     "output_type": "execute_result"
    }
   ],
   "source": [
    "a = [True, False, True]\n",
    "all(a)"
   ]
  },
  {
   "cell_type": "code",
   "execution_count": 45,
   "id": "20d3c975-a50e-40ac-ab61-6b480c9095ab",
   "metadata": {},
   "outputs": [
    {
     "name": "stdin",
     "output_type": "stream",
     "text": [
      " 4 3\n",
      " 0 1\n",
      " 1 3 \n",
      " 0 3\n"
     ]
    },
    {
     "name": "stdout",
     "output_type": "stream",
     "text": [
      "false\n"
     ]
    }
   ],
   "source": [
    "class Graph:\n",
    "    def __init__(self, nVertices):\n",
    "        self.nVertices = nVertices\n",
    "        self.adj_mat = [[0 for j in range(nVertices)] for i in range(nVertices)]\n",
    "\n",
    "    def addEdges(self, v1, v2):\n",
    "        self.adj_mat[v1][v2] = 1\n",
    "        self.adj_mat[v2][v1] = 1\n",
    "\n",
    "    def __dfs(self, startVertex, visited):\n",
    "        visited[startVertex] = True\n",
    "\n",
    "        for itsNeigbour in range(self.nVertices):\n",
    "            # Check if there's an edge between startVertex and itsNeigbour\n",
    "            if self.adj_mat[startVertex][itsNeigbour] == 1 and visited[itsNeigbour] is False:\n",
    "                self.__dfs(itsNeigbour, visited)\n",
    "\n",
    "    def isConnected(self):\n",
    "        visited = [False for _ in range(self.nVertices)]\n",
    "        self.__dfs(0, visited)\n",
    "\n",
    "        # Check if all vertices are visited\n",
    "        return all(visited)\n",
    "\n",
    "vertices, edges = map(int, input().strip().split())\n",
    "\n",
    "g = Graph(vertices)\n",
    "\n",
    "for e in range(edges):\n",
    "    v1, v2 = map(int, input().strip().split())\n",
    "    g.addEdges(v1, v2)\n",
    "\n",
    "result = g.isConnected()\n",
    "\n",
    "if result:\n",
    "    print(\"true\")\n",
    "else:\n",
    "    print(\"false\")\n"
   ]
  },
  {
   "cell_type": "markdown",
   "id": "6eaca4b7-8d58-409e-81fc-2d648319c711",
   "metadata": {},
   "source": [
    "# Variations of graph"
   ]
  },
  {
   "cell_type": "markdown",
   "id": "ed54d2e2-74c6-41f5-86be-e80dbdefec04",
   "metadata": {},
   "source": [
    "1) Undirected Graph\n",
    "2) Directes Graph\n",
    "3) Weighted Undirected Graph\n",
    "4) Weighted Directed Graph"
   ]
  },
  {
   "cell_type": "code",
   "execution_count": null,
   "id": "9afc735a-5df7-4858-ab8d-fb33fcf0f8de",
   "metadata": {},
   "outputs": [],
   "source": []
  }
 ],
 "metadata": {
  "kernelspec": {
   "display_name": "Python 3 (ipykernel)",
   "language": "python",
   "name": "python3"
  },
  "language_info": {
   "codemirror_mode": {
    "name": "ipython",
    "version": 3
   },
   "file_extension": ".py",
   "mimetype": "text/x-python",
   "name": "python",
   "nbconvert_exporter": "python",
   "pygments_lexer": "ipython3",
   "version": "3.10.7"
  }
 },
 "nbformat": 4,
 "nbformat_minor": 5
}
