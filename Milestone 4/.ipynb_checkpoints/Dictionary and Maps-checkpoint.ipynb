{
 "cells": [
  {
   "cell_type": "markdown",
   "id": "c3e40543-1cb1-415e-8cc2-85ff21f4a28c",
   "metadata": {},
   "source": [
    "### Hashing has 3 components\n",
    "\n",
    "### Key : Maps and Integer\n",
    "### Hash functions : converts keys to integer\n",
    "### HasH tables : Stores the Frequency"
   ]
  },
  {
   "cell_type": "markdown",
   "id": "50cb036a-aefd-44f6-b5fe-21961ce03251",
   "metadata": {},
   "source": [
    "### Collision : When same numbers in the maps collide with each other is known as collision\n",
    "\n",
    "#### What is good hash function ?\n",
    "#### A good hash function is function where the number of collision is less\n",
    "\n",
    "#### Types of Collision :\n",
    "#### > Division = f(k) = k % m (where m is the size of the hash table)\n",
    "#### > Mid Square = f(k) = k^2 ( f(52) = 52^52 = 2704 so we will take middle values that is 70)\n",
    "#### > Folding = k1 + k2 ... kp (where k1 will have 2 values and k2 will have 2 values this will continue till kp)\n",
    "#### > Multiplication = fraction of the multiplied value * 100 "
   ]
  },
  {
   "cell_type": "markdown",
   "id": "bdf546cc-69a9-4702-97cb-99982bd2af74",
   "metadata": {},
   "source": [
    "### Open Addressing :\n",
    "#### Linear Probing \n",
    "#### Quadratic Probing\n",
    "#### Double Hashing"
   ]
  },
  {
   "cell_type": "markdown",
   "id": "f3c833c0-6876-495f-8b54-5d33c1508bc3",
   "metadata": {},
   "source": [
    "### Load Factor Calculation in Hashmap : LF = Number of elements in hashmaps / Total number of buckets in the hashmaps"
   ]
  },
  {
   "cell_type": "markdown",
   "id": "d488a5eb-b3d8-4f89-b20d-e8ce4fbebcfb",
   "metadata": {},
   "source": [
    "### Rehashing :Rehashing is the process of increasing the size of a hashmap and redistributing the elements to new buckets based on their new hash values. It is done to improve the performance of the hashmap and to prevent collisions caused by a high load factor.\n",
    "\n",
    "### Rehashing is needed in a hashmap to prevent collision and to maintain the efficiency of the data structure."
   ]
  },
  {
   "cell_type": "code",
   "execution_count": 1,
   "id": "d2c1c93d-05eb-4239-a1fc-c67dfb6b26a7",
   "metadata": {},
   "outputs": [
    {
     "data": {
      "text/plain": [
       "'\\nMethods to implement hashmaps\\n1) insert (key, value)\\n2) get(key) -> value\\n3) delete(key)\\n'"
      ]
     },
     "execution_count": 1,
     "metadata": {},
     "output_type": "execute_result"
    }
   ],
   "source": [
    "'''\n",
    "Methods to implement hashmaps\n",
    "1) insert (key, value)\n",
    "2) get(key) -> value\n",
    "3) delete(key)\n",
    "'''\n"
   ]
  },
  {
   "cell_type": "code",
   "execution_count": 2,
   "id": "c231a353-4493-48df-9623-c3f4b617ec85",
   "metadata": {},
   "outputs": [
    {
     "name": "stdout",
     "output_type": "stream",
     "text": [
      "93\n",
      "Hash Table does not contain key : Kunal\n",
      "Entry not in the hash table :  Nayana\n",
      "None\n"
     ]
    }
   ],
   "source": [
    "class HashTables:\n",
    "    def __init__(self, size):\n",
    "        # size of the hash table\n",
    "        self.size = size\n",
    "        # call on the hash function\n",
    "        self.create_hash_table()\n",
    "        \n",
    "    def create_hash_table(self):\n",
    "        # we will be creating the list within list where 1 list will be bucket\n",
    "        # creating the hashtable of the size of the list\n",
    "        self.hash_table = [[] for _ in range(self.size)]\n",
    "\n",
    "    # now we will create the insert function to insert the values to the table\n",
    "    \"\"\"Insert key and value pair into the hash table. If the key is already exists, update its value\"\"\" \n",
    "    def insert(self, key, value):\n",
    "        # hash is a inbuilt function\n",
    "        hash_val = hash(key) % self.size\n",
    "\n",
    "        bucket = self.hash_table[hash_val]\n",
    "        isFound = False\n",
    "        idx = -1\n",
    "        for i in range(len(bucket)):\n",
    "            stored_key, stored_val = bucket[i]\n",
    "            if stored_key == key:\n",
    "                isFound = True\n",
    "                idx = i\n",
    "                break\n",
    "        if isFound:\n",
    "            self.hash_table[hash_val][idx] = (key, value)\n",
    "        else:\n",
    "            # how this 2d list is created suppose \"Sahil\" after hashing is a number we get the it is stored in the list and in another list \n",
    "            # associated with stores the key and value for eg : \"Sahil\" after hashing is number 4673246883245 the it is stored in the array\n",
    "            # then after inserting the values that hashing number is associated with the key and value\n",
    "            # [[\"Sahil\", 93]] where the inner list is the hashed numbered associated\n",
    "            self.hash_table[hash_val].append((key, value))\n",
    "\n",
    "    def get(self, key):\n",
    "        hash_val = hash(key) % self.size\n",
    "        bucket = self.hash_table[hash_val]\n",
    "        for i in range(len(bucket)):\n",
    "            stored_key, stored_val = bucket[i]\n",
    "            if stored_key == key:\n",
    "                return stored_val\n",
    "        return \"Hash Table does not contain key : \" + key\n",
    "\n",
    "    def delete(self,key):\n",
    "        hash_val = hash(key) % self.size\n",
    "        bucket = self.hash_table[hash_val]\n",
    "        isFound = False\n",
    "        idx = -1\n",
    "        for i in range(len(bucket)):\n",
    "            stored_key, stored_val = bucket[i]\n",
    "            if stored_key == key:\n",
    "                isFound = True\n",
    "                idx = i\n",
    "\n",
    "        if isFound:\n",
    "            self.hash_table[hash_val].pop(i)\n",
    "        else:\n",
    "            print( \"Entry not in the hash table : \", key)\n",
    "\n",
    "hash_table = HashTables(10)\n",
    "hash_table.insert(\"Sahil\", 93)\n",
    "hash_table.insert(\"Deepen\", 83)\n",
    "print(hash_table.get(\"Sahil\"))\n",
    "print(hash_table.get(\"Kunal\"))\n",
    "print(hash_table.delete(\"Nayana\"))"
   ]
  },
  {
   "cell_type": "code",
   "execution_count": 3,
   "id": "f79a0f98-6b38-40be-88da-ad96d2db3212",
   "metadata": {},
   "outputs": [
    {
     "data": {
      "text/plain": [
       "7"
      ]
     },
     "execution_count": 3,
     "metadata": {},
     "output_type": "execute_result"
    }
   ],
   "source": [
    "hash(\"sahil\") % 10   # here as this is the number we get after the hashing then the item will be stored in the 4th index"
   ]
  },
  {
   "cell_type": "code",
   "execution_count": 4,
   "id": "67055e3b-c58d-425a-943d-7218e64d554c",
   "metadata": {},
   "outputs": [
    {
     "data": {
      "text/plain": [
       "4"
      ]
     },
     "execution_count": 4,
     "metadata": {},
     "output_type": "execute_result"
    }
   ],
   "source": [
    "hash(\"d\") % 10"
   ]
  },
  {
   "cell_type": "code",
   "execution_count": 5,
   "id": "433b1e7c-ad59-4653-a89d-33571beff081",
   "metadata": {},
   "outputs": [
    {
     "name": "stdout",
     "output_type": "stream",
     "text": [
      "[[], [], [], [], [], [], [], [], [], []]\n",
      "[('Sahil', 69), ('Deepen', 69)]\n",
      "[('Sahil', 69), ('Deepen', 69)]\n",
      "[('Sahil', 69), ('Deepen', 69)]\n"
     ]
    }
   ],
   "source": [
    "hash_table = [[] for _ in range(10)]\n",
    "print(hash_table)\n",
    "hash_table[4].append((\"Sahil\",69))\n",
    "hash_table[4].append((\"Deepen\",69))\n",
    "print(hash_table[4])\n",
    "b = hash_table[4]\n",
    "for i in b:\n",
    "    print(b)\n",
    "    "
   ]
  },
  {
   "cell_type": "code",
   "execution_count": 6,
   "id": "63ed6551-5fde-404f-b080-cb441d50af51",
   "metadata": {},
   "outputs": [
    {
     "name": "stdout",
     "output_type": "stream",
     "text": [
      "2\n"
     ]
    },
    {
     "data": {
      "text/plain": [
       "'Sahil'"
      ]
     },
     "execution_count": 6,
     "metadata": {},
     "output_type": "execute_result"
    }
   ],
   "source": [
    "print(len(b))\n",
    "s,v=b[0]\n",
    "s"
   ]
  },
  {
   "cell_type": "markdown",
   "id": "86babbac-4ad3-449e-bbbe-a5a237bd9c81",
   "metadata": {},
   "source": [
    "### Above is the explaination of the how the hashmaps is working"
   ]
  },
  {
   "cell_type": "markdown",
   "id": "9de942e7-2816-4114-91d8-5c3d1dfccb9e",
   "metadata": {},
   "source": [
    "# Dictionary 1"
   ]
  },
  {
   "cell_type": "code",
   "execution_count": 7,
   "id": "4a981df8-8be3-4edb-ac1c-44310ff54518",
   "metadata": {},
   "outputs": [
    {
     "data": {
      "text/plain": [
       "{'Sahil': 69, 'Deepen': 72}"
      ]
     },
     "execution_count": 7,
     "metadata": {},
     "output_type": "execute_result"
    }
   ],
   "source": [
    "# method 1 to create the dictionary\n",
    "temp_dict = dict({\n",
    "    \"Sahil\" : 69,\n",
    "    \"Deepen\" : 72,\n",
    "})\n",
    "temp_dict"
   ]
  },
  {
   "cell_type": "code",
   "execution_count": 8,
   "id": "0239c328-5171-4ea7-81f2-eefe8d910d5f",
   "metadata": {},
   "outputs": [
    {
     "data": {
      "text/plain": [
       "{'Nayana': 100, 'Vikram': 100}"
      ]
     },
     "execution_count": 8,
     "metadata": {},
     "output_type": "execute_result"
    }
   ],
   "source": [
    "# method 2 to create the dictionary\n",
    "temp_dict = dict([\n",
    "    (\"Nayana\", 100),\n",
    "    (\"Vikram\", 100),\n",
    "])\n",
    "temp_dict"
   ]
  },
  {
   "cell_type": "code",
   "execution_count": 9,
   "id": "760dc026-6be6-4d29-a9b9-75734825aea1",
   "metadata": {},
   "outputs": [
    {
     "data": {
      "text/plain": [
       "{'Sahil': 69, 'Deepen': 72}"
      ]
     },
     "execution_count": 9,
     "metadata": {},
     "output_type": "execute_result"
    }
   ],
   "source": [
    "# method 3 to create the dictionary\n",
    "temp_dict = {\n",
    "    \"Sahil\" : 69,\n",
    "    \"Deepen\" : 72,\n",
    "}\n",
    "temp_dict"
   ]
  },
  {
   "cell_type": "code",
   "execution_count": 10,
   "id": "89f32046-b76c-4036-9795-d49840701774",
   "metadata": {},
   "outputs": [
    {
     "data": {
      "text/plain": [
       "{'Sahil': 0, 'Deepen': 0, 'Kunal': 0}"
      ]
     },
     "execution_count": 10,
     "metadata": {},
     "output_type": "execute_result"
    }
   ],
   "source": [
    "# method 4 to create the dictionary\n",
    "keys = [\"Sahil\",\"Deepen\",\"Kunal\"]\n",
    "temp_dict1 = dict.fromkeys(keys,0)\n",
    "temp_dict1"
   ]
  },
  {
   "cell_type": "code",
   "execution_count": 11,
   "id": "dfdac802-8d40-4df9-8155-fd4006f203db",
   "metadata": {},
   "outputs": [
    {
     "name": "stdout",
     "output_type": "stream",
     "text": [
      "{'Sahil': 69, 'Deepen': 100}\n",
      "{'Sahil': 69, 'Deepen': 72}\n"
     ]
    }
   ],
   "source": [
    "import copy\n",
    "new_dict = copy.deepcopy(temp_dict)\n",
    "new_dict[\"Deepen\"] = 100\n",
    "# values here will not be changed in the other dict because we have used deep copy means that it copies the data but have diffrent address\n",
    "# which will not change the other dict values\n",
    "print(new_dict)\n",
    "print(temp_dict)"
   ]
  },
  {
   "cell_type": "code",
   "execution_count": 12,
   "id": "44672ce2-4c57-4230-9fed-4a5b6a266cf4",
   "metadata": {},
   "outputs": [
    {
     "name": "stdout",
     "output_type": "stream",
     "text": [
      "{'Sahil': 69, 'Deepen': 100}\n",
      "{'Sahil': 69, 'Deepen': 100}\n"
     ]
    }
   ],
   "source": [
    "new_dict = temp_dict\n",
    "new_dict[\"Deepen\"] = 100\n",
    "# here we see that we have copied the dict as new_dict but when we see that the values we have changed in the new_dict changes in the temp_dict too\n",
    "# this because the new_dict will also point towards the temp_dict and both will share the same referrnece or the address\n",
    "print(new_dict)\n",
    "print(temp_dict)"
   ]
  },
  {
   "cell_type": "code",
   "execution_count": 13,
   "id": "f2a4b3bb-3603-4216-b43b-84d3fb136ae9",
   "metadata": {},
   "outputs": [
    {
     "data": {
      "text/plain": [
       "2"
      ]
     },
     "execution_count": 13,
     "metadata": {},
     "output_type": "execute_result"
    }
   ],
   "source": [
    "len(new_dict)"
   ]
  },
  {
   "cell_type": "code",
   "execution_count": 14,
   "id": "15e756a9-067a-48b1-8c01-495bd7220921",
   "metadata": {},
   "outputs": [
    {
     "name": "stdout",
     "output_type": "stream",
     "text": [
      "{'Sahil': 69, 'Deepen': 1100}\n",
      "{'Sahil': 69, 'Deepen': 100}\n"
     ]
    }
   ],
   "source": [
    "# we can use other method for the copy as well\n",
    "\n",
    "new_dict1 = temp_dict.copy()\n",
    "new_dict1[\"Deepen\"] = 1100\n",
    "print(new_dict1)\n",
    "print(temp_dict)"
   ]
  },
  {
   "cell_type": "markdown",
   "id": "3d9ba068-6fff-481c-a5af-2c5aca52cff4",
   "metadata": {},
   "source": [
    "# Dictionary 2"
   ]
  },
  {
   "cell_type": "code",
   "execution_count": 15,
   "id": "2d60dffb-d245-427d-854e-c157201fcb8a",
   "metadata": {},
   "outputs": [
    {
     "data": {
      "text/plain": [
       "{'Sahil': 69, 'Deepen': 72}"
      ]
     },
     "execution_count": 15,
     "metadata": {},
     "output_type": "execute_result"
    }
   ],
   "source": [
    "temp_dict = {\n",
    "    \"Sahil\" : 69,\n",
    "    \"Deepen\" : 72,\n",
    "}\n",
    "temp_dict"
   ]
  },
  {
   "cell_type": "code",
   "execution_count": 16,
   "id": "13d27348-8e53-4683-b899-e1451178d59b",
   "metadata": {},
   "outputs": [
    {
     "name": "stdout",
     "output_type": "stream",
     "text": [
      "69\n",
      "72\n"
     ]
    }
   ],
   "source": [
    "# Accessing element in the dictionary\n",
    "\n",
    "# Method 1\n",
    "print(temp_dict[\"Sahil\"])\n",
    "\n",
    "# Method 2\n",
    "print(temp_dict.get(\"Deepen\"))"
   ]
  },
  {
   "cell_type": "code",
   "execution_count": 17,
   "id": "d0eae10d-f350-4ff3-b1a2-a923b7db7ad2",
   "metadata": {},
   "outputs": [
    {
     "ename": "KeyError",
     "evalue": "'KYX'",
     "output_type": "error",
     "traceback": [
      "\u001b[1;31m---------------------------------------------------------------------------\u001b[0m",
      "\u001b[1;31mKeyError\u001b[0m                                  Traceback (most recent call last)",
      "Cell \u001b[1;32mIn[17], line 2\u001b[0m\n\u001b[0;32m      1\u001b[0m \u001b[38;5;66;03m# Errors we can get\u001b[39;00m\n\u001b[1;32m----> 2\u001b[0m \u001b[38;5;28mprint\u001b[39m(\u001b[43mtemp_dict\u001b[49m\u001b[43m[\u001b[49m\u001b[38;5;124;43m\"\u001b[39;49m\u001b[38;5;124;43mKYX\u001b[39;49m\u001b[38;5;124;43m\"\u001b[39;49m\u001b[43m]\u001b[49m)\n",
      "\u001b[1;31mKeyError\u001b[0m: 'KYX'"
     ]
    }
   ],
   "source": [
    "# Errors we can get\n",
    "print(temp_dict[\"KYX\"])"
   ]
  },
  {
   "cell_type": "code",
   "execution_count": 18,
   "id": "4f277b32-2051-4fc6-8ee8-1b006038dca6",
   "metadata": {},
   "outputs": [
    {
     "name": "stdout",
     "output_type": "stream",
     "text": [
      "None\n"
     ]
    }
   ],
   "source": [
    "# This is the safer method to get the element as it doesnt throw the error if the key is not present it throws the None\n",
    "print(temp_dict.get(\"Jghd\"))"
   ]
  },
  {
   "cell_type": "code",
   "execution_count": 19,
   "id": "396e603e-b763-46fc-9d65-873f510eb68e",
   "metadata": {},
   "outputs": [
    {
     "name": "stdout",
     "output_type": "stream",
     "text": [
      "0\n"
     ]
    }
   ],
   "source": [
    "# this because if the key is not present returns the 0\n",
    "print(temp_dict.get(\"Jghd\",0))"
   ]
  },
  {
   "cell_type": "code",
   "execution_count": 36,
   "id": "3858b9dd-7314-46af-a09d-a6013fc92aa6",
   "metadata": {},
   "outputs": [
    {
     "name": "stdin",
     "output_type": "stream",
     "text": [
      "Enter the name of the student whose details you want to get Sahil\n"
     ]
    },
    {
     "data": {
      "text/plain": [
       "69"
      ]
     },
     "execution_count": 36,
     "metadata": {},
     "output_type": "execute_result"
    }
   ],
   "source": [
    "key = input(\"Enter the name of the student whose details you want to get\")\n",
    "temp_dict.get(key, 0)"
   ]
  },
  {
   "cell_type": "code",
   "execution_count": 22,
   "id": "e9cf1da1-56f3-4b2f-a9e3-5b2f5e9a725c",
   "metadata": {},
   "outputs": [
    {
     "data": {
      "text/plain": [
       "dict_keys(['Sahil', 'Deepen'])"
      ]
     },
     "execution_count": 22,
     "metadata": {},
     "output_type": "execute_result"
    }
   ],
   "source": [
    "# Getting the keys in the dictionaries\n",
    "temp_dict.keys()"
   ]
  },
  {
   "cell_type": "code",
   "execution_count": 23,
   "id": "0533744a-e732-4bbc-9448-bed39341914a",
   "metadata": {},
   "outputs": [
    {
     "data": {
      "text/plain": [
       "dict_values([69, 72])"
      ]
     },
     "execution_count": 23,
     "metadata": {},
     "output_type": "execute_result"
    }
   ],
   "source": [
    "# Getting the values in the dictionaries\n",
    "temp_dict.values()"
   ]
  },
  {
   "cell_type": "code",
   "execution_count": 24,
   "id": "f36d8a0f-2b82-424b-89e1-b67ba54681ae",
   "metadata": {},
   "outputs": [
    {
     "data": {
      "text/plain": [
       "dict_items([('Sahil', 69), ('Deepen', 72)])"
      ]
     },
     "execution_count": 24,
     "metadata": {},
     "output_type": "execute_result"
    }
   ],
   "source": [
    "# Getting Key values pair in the dictionary\n",
    "temp_dict.items()"
   ]
  },
  {
   "cell_type": "code",
   "execution_count": 25,
   "id": "08cae307-42cd-48a5-bed4-29308245abb0",
   "metadata": {},
   "outputs": [
    {
     "name": "stdout",
     "output_type": "stream",
     "text": [
      "Sahil 69\n",
      "Deepen 72\n"
     ]
    }
   ],
   "source": [
    "for key in temp_dict:\n",
    "    print(key, temp_dict[key])"
   ]
  },
  {
   "cell_type": "code",
   "execution_count": 26,
   "id": "e97cdf49-ebc2-44fe-aaf5-92a2715e9870",
   "metadata": {},
   "outputs": [
    {
     "name": "stdout",
     "output_type": "stream",
     "text": [
      "Sahil 69\n",
      "Deepen 72\n"
     ]
    }
   ],
   "source": [
    "for key, values in temp_dict.items():\n",
    "    print(key, values)"
   ]
  },
  {
   "cell_type": "markdown",
   "id": "7b310b53-fd76-49b8-88c1-0e6b0c3bb50d",
   "metadata": {},
   "source": [
    "# Dictonary 3"
   ]
  },
  {
   "cell_type": "code",
   "execution_count": 27,
   "id": "b9b3168b-55e3-402a-bce6-43825dc8de9d",
   "metadata": {},
   "outputs": [
    {
     "name": "stdout",
     "output_type": "stream",
     "text": [
      "{'Kunal': 90, 'Smit': 89, 'Sachin': 56, 'Prem': 78}\n",
      "Again updated\n",
      "{'Kunal': 100, 'Smit': 89, 'Sachin': 56, 'Prem': 78}\n"
     ]
    }
   ],
   "source": [
    "# update elements in dictionary\n",
    "\n",
    "dictionary = {}\n",
    "\n",
    "dictionary.update([(\"Kunal\", 90),(\"Smit\", 89),(\"Sachin\", 56),(\"Prem\", 78)])\n",
    "print(dictionary)\n",
    "print(\"Again updated\")\n",
    "dictionary.update([(\"Kunal\", 100)])\n",
    "print(dictionary)"
   ]
  },
  {
   "cell_type": "code",
   "execution_count": 28,
   "id": "3980d9c8-66e1-4d5a-98ba-66e87c7b83bd",
   "metadata": {},
   "outputs": [
    {
     "name": "stdout",
     "output_type": "stream",
     "text": [
      "100\n"
     ]
    }
   ],
   "source": [
    "# delete elements in dictionary\n",
    "marks = dictionary.pop(\"Kunal\")\n",
    "print(marks)"
   ]
  },
  {
   "cell_type": "code",
   "execution_count": 29,
   "id": "fc6c1f51-faf7-46fe-9133-b1437814d7f9",
   "metadata": {},
   "outputs": [],
   "source": [
    "del(dictionary[\"Smit\"])"
   ]
  },
  {
   "cell_type": "code",
   "execution_count": 30,
   "id": "ca21cf22-77c6-42c1-83da-7c72fe6cc293",
   "metadata": {},
   "outputs": [
    {
     "data": {
      "text/plain": [
       "{'Sachin': 56, 'Prem': 78}"
      ]
     },
     "execution_count": 30,
     "metadata": {},
     "output_type": "execute_result"
    }
   ],
   "source": [
    "dictionary"
   ]
  },
  {
   "cell_type": "code",
   "execution_count": 31,
   "id": "a77832c8-b3f8-4c4e-a545-2c679214012f",
   "metadata": {},
   "outputs": [],
   "source": [
    "# clear the whole dictionary\n",
    "dictionary.clear()"
   ]
  },
  {
   "cell_type": "code",
   "execution_count": 32,
   "id": "c83f358b-00e5-4e3b-b20b-d1c692de0b0b",
   "metadata": {},
   "outputs": [
    {
     "data": {
      "text/plain": [
       "{}"
      ]
     },
     "execution_count": 32,
     "metadata": {},
     "output_type": "execute_result"
    }
   ],
   "source": [
    "dictionary"
   ]
  },
  {
   "cell_type": "markdown",
   "id": "6f5166e9-a88d-4fe8-8883-3fdfc805000f",
   "metadata": {},
   "source": [
    "# Time complexity\n",
    "### 1) Average = O(1) (insertion, deletion, update) everything is the O(1)\n",
    "### 2) Worst = O(n) (due to collision factor)"
   ]
  },
  {
   "cell_type": "markdown",
   "id": "434d43d2-e21c-4598-9938-d6981f122b82",
   "metadata": {},
   "source": [
    "# In python if the question is of the hashmap we can use the hashmap because in the python the dictionary also work as the hashmaps"
   ]
  },
  {
   "cell_type": "code",
   "execution_count": 33,
   "id": "2c47f18d-6b2a-47cb-a20d-84f13caa681b",
   "metadata": {},
   "outputs": [
    {
     "data": {
      "text/plain": [
       "['dog', 'cat']"
      ]
     },
     "execution_count": 33,
     "metadata": {},
     "output_type": "execute_result"
    }
   ],
   "source": [
    "def frequency(words, k):\n",
    "    hash_map = dict()\n",
    "    for word in words:\n",
    "        if word in hash_map:\n",
    "            hash_map[word] += 1\n",
    "        else:\n",
    "            hash_map[word] = 1\n",
    "\n",
    "    ans = []\n",
    "    for key in hash_map:\n",
    "        if hash_map[key] >= k:\n",
    "            ans.append(key)\n",
    "    return ans\n",
    "words = [\"dog\",\"cat\",\"dog\",\"cat\",\"wolf\",\"pig\",\"donkey\"]\n",
    "k = 2\n",
    "frequency(words, k)"
   ]
  },
  {
   "cell_type": "code",
   "execution_count": 35,
   "id": "a983bfe1-71d7-4256-97a2-215fc41993d9",
   "metadata": {},
   "outputs": [
    {
     "name": "stdin",
     "output_type": "stream",
     "text": [
      " 10\n",
      " 1 1 1 1 1 2 2 2 3 3 \n"
     ]
    },
    {
     "name": "stdout",
     "output_type": "stream",
     "text": [
      "1\n"
     ]
    }
   ],
   "source": [
    "def maximum_freq(arr):\n",
    "    mapped = dict()\n",
    "\n",
    "    for num in arr:\n",
    "        if num in mapped:\n",
    "            mapped[num] += 1\n",
    "        else:\n",
    "            mapped[num] = 1\n",
    "    \n",
    "    # maximum = max(mapped, key=mapped.get)\n",
    "    # return maximum\n",
    "    ans = []\n",
    "    count = 0\n",
    "    value = None\n",
    "    for key in mapped:\n",
    "        if mapped[key] > count:\n",
    "            count = mapped[key]\n",
    "            value = key\n",
    "    ans.append(value)\n",
    "    print(*ans)\n",
    "\n",
    "\n",
    "# Read the size of the array\n",
    "n = int(input())\n",
    "\n",
    "# Read the elements of the array and store them in a list\n",
    "arr = list(map(int, input().split()))\n",
    "\n",
    "# Call the maximum_freq function to find the number with the maximum frequency\n",
    "maximum_freq(arr)"
   ]
  },
  {
   "cell_type": "code",
   "execution_count": 1,
   "id": "670d9407-adaf-4d56-8ab4-479555c64cfe",
   "metadata": {},
   "outputs": [
    {
     "data": {
      "text/plain": [
       "9"
      ]
     },
     "execution_count": 1,
     "metadata": {},
     "output_type": "execute_result"
    }
   ],
   "source": [
    "def pairSum(nums, target):  # 3,5,9,1,2,6,5,2,4,3,1    4\n",
    "    freq = {}\n",
    "    ans = 0\n",
    "\n",
    "    for num in nums:\n",
    "        expect = target - num\n",
    "        ans += freq.get(expect, 0)\n",
    "        if num in freq:\n",
    "            freq[num] += 1\n",
    "        else:\n",
    "            freq[num] = 1\n",
    "    return ans\n",
    "nums = [2,3,1,2,2,3,1,1]\n",
    "target = 4\n",
    "pairSum(nums, target)"
   ]
  },
  {
   "cell_type": "code",
   "execution_count": 43,
   "id": "b7faf758-abf2-421f-b62c-ac9fc803f42e",
   "metadata": {},
   "outputs": [
    {
     "data": {
      "text/plain": [
       "2"
      ]
     },
     "execution_count": 43,
     "metadata": {},
     "output_type": "execute_result"
    }
   ],
   "source": [
    "freq = {1:2}\n",
    "freq.get(1)"
   ]
  },
  {
   "cell_type": "code",
   "execution_count": 50,
   "id": "692eebbb-8fb4-44aa-b022-24def8db6a84",
   "metadata": {},
   "outputs": [
    {
     "name": "stdin",
     "output_type": "stream",
     "text": [
      " 4\n",
      " 5 1 2 4\n",
      " 3\n"
     ]
    },
    {
     "name": "stdout",
     "output_type": "stream",
     "text": [
      "2\n"
     ]
    }
   ],
   "source": [
    "def printPairDiffK(l, k):\n",
    "    pairCount=0\n",
    "    m = {}\n",
    "\n",
    "    for num in l:\n",
    "        if num+k in m:\n",
    "            pairCount += m[num+k]\n",
    "        if k!=0 and num-k in m:\n",
    "            pairCount += m[num-k]\n",
    "        \n",
    "        # Update map\n",
    "        if num in m:\n",
    "            m[num] += 1\n",
    "        else:\n",
    "            m[num] = 1\n",
    "\n",
    "    return pairCount\n",
    "\n",
    "#Main method\n",
    "n=int (input())\n",
    "l=list(int(i) for i in input().strip().split(' '))\n",
    "k=int (input())\n",
    "print(printPairDiffK(l, k))"
   ]
  },
  {
   "cell_type": "code",
   "execution_count": 37,
   "id": "2cdd0c2a-172d-4063-bd81-ebd3c160eff1",
   "metadata": {},
   "outputs": [
    {
     "data": {
      "text/plain": [
       "{'aet': ['ate', 'eat', 'tea'], 'em': ['me', 'em'], 'abt': ['bat', 'abt']}"
      ]
     },
     "execution_count": 37,
     "metadata": {},
     "output_type": "execute_result"
    }
   ],
   "source": [
    "# group anagrams\n",
    "\n",
    "# create a anagram key\n",
    "# below code is used to sort the string \n",
    "def createAnagramKey(string):\n",
    "    key = ''\n",
    "    for ch in sorted(string):\n",
    "        key += ch\n",
    "    return str(key)\n",
    " \n",
    " \n",
    "def groupAnagramWords(data):\n",
    "    group = {}\n",
    "    # this will iterate over the elements present in the array\n",
    "    for ele in data:\n",
    "        # in this the first element will go to the above function and it will return the sorted string and create it as the key \n",
    "        if group.get(createAnagramKey(ele)) == None:\n",
    "            # if the key is none it will be assigned with the value ele \n",
    "            group[createAnagramKey(ele)] = [ele]\n",
    "        else:\n",
    "            # else it will append to the list of its key\n",
    "            group[createAnagramKey(ele)].append(ele)\n",
    "    return group\n",
    "\n",
    "grouped = groupAnagramWords([\"ate\", \"eat\", \"tea\", \"me\", \"em\", \"bat\", \"abt\"])\n",
    "grouped"
   ]
  },
  {
   "cell_type": "code",
   "execution_count": 28,
   "id": "8ea747b7-52e6-43b0-a0aa-f6c7dd5636ff",
   "metadata": {},
   "outputs": [
    {
     "name": "stdout",
     "output_type": "stream",
     "text": [
      "['ate', 'eat', 'tea']\n",
      "['me', 'em']\n",
      "['bat', 'abt']\n"
     ]
    }
   ],
   "source": [
    "for key, values in grouped.items():\n",
    "    print(values)"
   ]
  },
  {
   "cell_type": "code",
   "execution_count": 30,
   "id": "7fce09cf-f883-481a-bc22-361b394e2346",
   "metadata": {},
   "outputs": [
    {
     "name": "stdout",
     "output_type": "stream",
     "text": [
      "1\n"
     ]
    }
   ],
   "source": [
    "dict = {1:None}\n",
    "if dict.get(1) == None:\n",
    "        print(1)"
   ]
  },
  {
   "cell_type": "code",
   "execution_count": 52,
   "id": "250afdba-fea8-4ffc-a1b8-8166e8294a79",
   "metadata": {},
   "outputs": [
    {
     "data": {
      "text/plain": [
       "[['lump', 'plum'], ['eat', 'tea'], ['me', 'em']]"
      ]
     },
     "execution_count": 52,
     "metadata": {},
     "output_type": "execute_result"
    }
   ],
   "source": [
    "# another method for the anagram\n",
    "def groupAnagrams(words):\n",
    "    # create the dictionary for anagrams\n",
    "    group= {}\n",
    "\n",
    "    # iterate over the word in words\n",
    "    for word in words:\n",
    "        sorted_word = ''.join(sorted(word))\n",
    "        if sorted_word in group:\n",
    "            group[sorted_word].append(word)            \n",
    "        else:\n",
    "            group[sorted_word] = [word]\n",
    "    return list(group.values())\n",
    "\n",
    "words = words = ['lump', 'eat',  'me',  'tea', 'em', 'plum']\n",
    "result = groupAnagrams(words)  \n",
    "result"
   ]
  },
  {
   "cell_type": "code",
   "execution_count": 50,
   "id": "2b3533a7-fbed-4338-86ec-a516aa75d7f0",
   "metadata": {},
   "outputs": [
    {
     "data": {
      "text/plain": [
       "['lump', 'plum', 'eat', 'tea', 'me', 'em']"
      ]
     },
     "execution_count": 50,
     "metadata": {},
     "output_type": "execute_result"
    }
   ],
   "source": [
    "ana = []\n",
    "for i in result:\n",
    "    for j in i:\n",
    "        ana.append(j)\n",
    "\n",
    "ana"
   ]
  },
  {
   "cell_type": "code",
   "execution_count": 43,
   "id": "f28673ba-7b85-4058-8635-d1ac64af7765",
   "metadata": {},
   "outputs": [
    {
     "data": {
      "text/plain": [
       "'aaddffss'"
      ]
     },
     "execution_count": 43,
     "metadata": {},
     "output_type": "execute_result"
    }
   ],
   "source": [
    "a = sorted(\"asdfasdf\")\n",
    "''.join(a)"
   ]
  },
  {
   "cell_type": "code",
   "execution_count": 55,
   "id": "5fe0d58b-ec21-44b0-95c5-2db6f7bc827f",
   "metadata": {},
   "outputs": [
    {
     "data": {
      "text/plain": [
       "1"
      ]
     },
     "execution_count": 55,
     "metadata": {},
     "output_type": "execute_result"
    }
   ],
   "source": [
    "a = [1,2]\n",
    "a[1]-1"
   ]
  },
  {
   "cell_type": "code",
   "execution_count": 56,
   "id": "b3376850-d602-44d7-baf5-d8e788d92686",
   "metadata": {},
   "outputs": [
    {
     "name": "stdout",
     "output_type": "stream",
     "text": [
      "4\n"
     ]
    }
   ],
   "source": [
    "class Solution(object):\n",
    "   def longestConsecutive(self, a):\n",
    "      a = set(a)\n",
    "      longest = 0\n",
    "      for i in a:\n",
    "         if i-1 not in a:\n",
    "            current = i\n",
    "            streak = 0\n",
    "            while i in a:\n",
    "               i+=1\n",
    "               streak+=1\n",
    "               longest = max(longest,streak)\n",
    "      return longest\n",
    "\n",
    "ob = Solution()\n",
    "print(ob.longestConsecutive([100,4,250,1,3,2]))"
   ]
  },
  {
   "cell_type": "code",
   "execution_count": 63,
   "id": "68a66230-bc87-4719-a5ea-09d8aa66cdfc",
   "metadata": {},
   "outputs": [
    {
     "name": "stdin",
     "output_type": "stream",
     "text": [
      " codingninjas\n"
     ]
    },
    {
     "name": "stdout",
     "output_type": "stream",
     "text": [
      "codingjas\n"
     ]
    }
   ],
   "source": [
    "def uniqueChar(s): \n",
    "    # Write your code here\n",
    "    unique = {}\n",
    "\n",
    "    for char in s:\n",
    "        if char in unique:\n",
    "            unique[char] += 1\n",
    "        else:\n",
    "            unique[char] = 1\n",
    "    \n",
    "    unique_values = []\n",
    "    for key in unique:\n",
    "        unique_values.append(key)\n",
    "    join_unique_values = ''.join(unique_values)\n",
    "    return join_unique_values\n",
    "\n",
    "# Main \n",
    "s=input() \n",
    "print(uniqueChar(s))"
   ]
  },
  {
   "cell_type": "code",
   "execution_count": 64,
   "id": "9a96a153-8998-4cb4-b899-c3b34aefb395",
   "metadata": {},
   "outputs": [
    {
     "name": "stdout",
     "output_type": "stream",
     "text": [
      "19:43:16\n",
      "19\n",
      "43\n",
      "16\n"
     ]
    }
   ],
   "source": [
    "import time\n",
    "timestamp=time.strftime('%H:%M:%S')\n",
    "print(timestamp)\n",
    "timestamp=time.strftime('%H')\n",
    "print(timestamp)\n",
    "timestamp=time.strftime('%M')\n",
    "print(timestamp)\n",
    "timestamp=time.strftime('%S')\n",
    "print(timestamp)"
   ]
  },
  {
   "cell_type": "code",
   "execution_count": 72,
   "id": "9948d113-7c8e-4bc0-b70b-1f2a26e8710b",
   "metadata": {},
   "outputs": [
    {
     "data": {
      "text/plain": [
       "6"
      ]
     },
     "execution_count": 72,
     "metadata": {},
     "output_type": "execute_result"
    }
   ],
   "source": [
    "a = [1,2,3]\n",
    "k = lambda x : sum(x)\n",
    "result = k(a)\n",
    "result"
   ]
  },
  {
   "cell_type": "code",
   "execution_count": 78,
   "id": "b24e88e0-8678-4027-8564-c18ab641779b",
   "metadata": {},
   "outputs": [
    {
     "name": "stdout",
     "output_type": "stream",
     "text": [
      "[7, 3, 9]\n"
     ]
    }
   ],
   "source": [
    "a = {9: 100, 3: 400, 7: 500}\n",
    "k = sorted(a, key=lambda x: a[x], reverse=True)\n",
    "print(k)"
   ]
  },
  {
   "cell_type": "code",
   "execution_count": 88,
   "id": "af4a1500-0dd6-4f42-a5cd-f721d7c03048",
   "metadata": {},
   "outputs": [
    {
     "data": {
      "text/plain": [
       "45"
      ]
     },
     "execution_count": 88,
     "metadata": {},
     "output_type": "execute_result"
    }
   ],
   "source": [
    "# Formula for calculating number of calculations\n",
    "from math import factorial\n",
    "def nc2(n):\n",
    "    ans = 0\n",
    "    if n!=1:\n",
    "        ans = factorial(n) // (factorial(2)*factorial(n-2))\n",
    "    return ans\n",
    "\n",
    "nc2(10)"
   ]
  },
  {
   "cell_type": "code",
   "execution_count": null,
   "id": "a5d0e17d-378e-4190-8009-67ea9a3ca5a9",
   "metadata": {},
   "outputs": [],
   "source": []
  }
 ],
 "metadata": {
  "kernelspec": {
   "display_name": "Python 3 (ipykernel)",
   "language": "python",
   "name": "python3"
  },
  "language_info": {
   "codemirror_mode": {
    "name": "ipython",
    "version": 3
   },
   "file_extension": ".py",
   "mimetype": "text/x-python",
   "name": "python",
   "nbconvert_exporter": "python",
   "pygments_lexer": "ipython3",
   "version": "3.10.7"
  }
 },
 "nbformat": 4,
 "nbformat_minor": 5
}
