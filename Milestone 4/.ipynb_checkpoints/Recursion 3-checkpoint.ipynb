{
 "cells": [
  {
   "cell_type": "code",
   "execution_count": 1,
   "id": "6e5e534e-6a5b-4316-bdf7-d15b3cde6b04",
   "metadata": {},
   "outputs": [
    {
     "name": "stdout",
     "output_type": "stream",
     "text": [
      "\n",
      "c\n",
      "b\n",
      "bc\n",
      "a\n",
      "ac\n",
      "ab\n",
      "abc\n"
     ]
    }
   ],
   "source": [
    "# Function to generate all subsequences of a given string\n",
    "\n",
    "# this it the code to store the subs and at the end return the output in the form of list\n",
    "def subsequences(string):\n",
    "    # Base case: if the string is empty, return a list containing an empty string\n",
    "    if len(string) == 0:\n",
    "        return ['']\n",
    "\n",
    "    # Recursive case:\n",
    "    # 1. Generate subsequences of the string without its first character\n",
    "    subseq_without_first = subsequences(string[1:])\n",
    "    \n",
    "    # 2. For each subsequence generated without the first character,\n",
    "    #    append the first character of the string to it and add it to a new list\n",
    "    subseq_with_first = [string[0] + sub for sub in subseq_without_first]\n",
    "\n",
    "    # 3. Concatenate the list of subsequences without the first character and\n",
    "    #    the list of subsequences with the first character\n",
    "    return subseq_without_first + subseq_with_first\n",
    "\n",
    "# Example usage:\n",
    "string = \"abc\"\n",
    "output = subsequences(string)\n",
    "\n",
    "# Print each subsequence\n",
    "for subseq in output:\n",
    "    print(subseq)\n"
   ]
  },
  {
   "cell_type": "code",
   "execution_count": 2,
   "id": "ce65463b-31a6-4a0e-8641-487f0f2d66f4",
   "metadata": {},
   "outputs": [
    {
     "name": "stdout",
     "output_type": "stream",
     "text": [
      "[' adg', ' adh', ' adi', ' aeg', ' aeh', ' aei', ' afg', ' afh', ' afi', ' bdg', ' bdh', ' bdi', ' beg', ' beh', ' bei', ' bfg', ' bfh', ' bfi', ' cdg', ' cdh', ' cdi', ' ceg', ' ceh', ' cei', ' cfg', ' cfh', ' cfi']\n"
     ]
    }
   ],
   "source": [
    "# Function to return characters associated with a digit on a telephone keypad\n",
    "\n",
    "# this it the code to store the subs and at the end return the output in the form of list\n",
    "def keypadString(digit):\n",
    "    if digit == 2:\n",
    "        return \"abc\"\n",
    "    if digit == 3:\n",
    "        return \"def\"\n",
    "    if digit == 4:\n",
    "        return \"ghi\"\n",
    "    if digit == 5:\n",
    "        return \"jkl\"\n",
    "    if digit == 6:\n",
    "        return \"mno\"\n",
    "    if digit == 7:\n",
    "        return \"pqrs\"\n",
    "    if digit == 8:\n",
    "        return \"tuv\"\n",
    "    if digit == 9:\n",
    "        return \"wxyz\"\n",
    "    else:\n",
    "        return \" \"  # Return a space for other characters (0 and 1)\n",
    "\n",
    "# Function to generate all possible combinations of characters corresponding to a given number\n",
    "def keypad(number):\n",
    "    if number == 0:\n",
    "        return [\" \"]  # Base case: return a list containing a single space for 0\n",
    "    else:\n",
    "        smallerNumber = number // 10  # Get the number without the last digit\n",
    "        lastdigit = number % 10  # Get the last digit\n",
    "\n",
    "        # Recursively call the keypad function to get all combinations for the smaller number\n",
    "        smallerOutput = keypad(smallerNumber)\n",
    "        # Get the characters associated with the last digit\n",
    "        lastdigitOption = keypadString(lastdigit)\n",
    "\n",
    "        output = list()  # Initialize an empty list to store combinations\n",
    "\n",
    "        # Iterate through each string generated for the smaller number\n",
    "        for stringGenerated in smallerOutput:\n",
    "            # Iterate through each character corresponding to the last digit\n",
    "            for stringToConcatWithStringGenerated in lastdigitOption:\n",
    "                # Concatenate the character from last digit with each string from smaller number\n",
    "                option = stringGenerated + stringToConcatWithStringGenerated\n",
    "                # Add the concatenated string to the output list\n",
    "                output.append(option)\n",
    "\n",
    "        return output  # Return the list containing all combinations\n",
    "\n",
    "number = 234  # Example number\n",
    "print(keypad(number))  # Print all possible combinations for the given number\n"
   ]
  },
  {
   "cell_type": "code",
   "execution_count": 3,
   "id": "1040c215-34e4-487b-b706-3a4d5c49655f",
   "metadata": {},
   "outputs": [
    {
     "name": "stdout",
     "output_type": "stream",
     "text": [
      "120\n"
     ]
    }
   ],
   "source": [
    "# Function to compute factorial using top-down approach (recursion)\n",
    "def fact(n, ans=1):\n",
    "    # Base case: if n is 0, print the result (which is 1) and return\n",
    "    if n == 0:\n",
    "        print(ans)\n",
    "        return\n",
    "    else:\n",
    "        # Multiply the current answer (initialized as 1) by the current value of n\n",
    "        ans = ans * n\n",
    "        # Recursively call the fact function with n-1 and updated ans\n",
    "        fact(n - 1, ans)\n",
    "\n",
    "# Call the fact function with the initial value of 5\n",
    "fact(5)\n"
   ]
  },
  {
   "cell_type": "code",
   "execution_count": 4,
   "id": "20e2eb75-d8f1-48e3-b424-89ec8e06853a",
   "metadata": {},
   "outputs": [
    {
     "name": "stdout",
     "output_type": "stream",
     "text": [
      "2\n"
     ]
    }
   ],
   "source": [
    "def minArray(arr, mini = float('inf')):\n",
    "    if len(arr) == 0:\n",
    "        print(mini)\n",
    "        return\n",
    "    else:\n",
    "        mini = min(arr[0], mini)\n",
    "        minArray(arr[1:], mini)\n",
    "\n",
    "arr = [8,7,2,5]\n",
    "minArray(arr)"
   ]
  },
  {
   "cell_type": "code",
   "execution_count": 5,
   "id": "2c31a048-e67d-4805-b06a-4500974c0930",
   "metadata": {},
   "outputs": [
    {
     "name": "stdout",
     "output_type": "stream",
     "text": [
      "['ad', 'ae', 'af', 'bd', 'be', 'bf', 'cd', 'ce', 'cf']\n"
     ]
    }
   ],
   "source": [
    "def keypad(n):\n",
    "    if n == \"2\":\n",
    "        return \"abc\"\n",
    "    if n == \"3\":\n",
    "        return \"def\"\n",
    "    if n == \"4\":\n",
    "        return \"ghi\"\n",
    "    if n == \"5\":\n",
    "        return \"jkl\"\n",
    "    if n == \"6\":\n",
    "        return \"mno\"\n",
    "    if n == \"7\":\n",
    "        return \"pqrs\"\n",
    "    if n == \"8\":\n",
    "        return \"tuv\"\n",
    "    if n == \"9\":\n",
    "        return \"wxyz\"\n",
    "    else:\n",
    "        return \" \"\n",
    "\n",
    "def letterCombinations(digits):\n",
    "    \"\"\"\n",
    "    :type digits: str\n",
    "    :rtype: List[str]\n",
    "    \"\"\"\n",
    "    if not digits:\n",
    "        return []\n",
    "    else:\n",
    "        # Extract the last digit\n",
    "        lastDigit = digits[-1]\n",
    "\n",
    "        # Extract the smaller number by removing the last digit\n",
    "        smallerNumber = digits[:-1] if len(digits) > 1 else \"\"\n",
    "\n",
    "        # Recursively compute combinations for the smaller number\n",
    "        smallerOutput = letterCombinations(smallerNumber) if smallerNumber else [\"\"]\n",
    "\n",
    "        # Get the characters associated with the last digit\n",
    "        lastDigitOption = keypad(lastDigit)\n",
    "\n",
    "        output = []\n",
    "\n",
    "        # Combine the smaller output with the characters of the last digit\n",
    "        for stringGeneratedByTheRecursion in smallerOutput:\n",
    "            for StringToConcat in lastDigitOption:\n",
    "                option = stringGeneratedByTheRecursion + StringToConcat\n",
    "                output.append(option)\n",
    "\n",
    "        return output\n",
    "\n",
    "digits = \"23\"\n",
    "print(letterCombinations(digits))\n"
   ]
  },
  {
   "cell_type": "code",
   "execution_count": 6,
   "id": "74f92c71-a020-49c0-b8e7-9c4d915ea765",
   "metadata": {},
   "outputs": [
    {
     "data": {
      "text/plain": [
       "[1]"
      ]
     },
     "execution_count": 6,
     "metadata": {},
     "output_type": "execute_result"
    }
   ],
   "source": [
    "a = [1, 2]\n",
    "a[:-1]"
   ]
  },
  {
   "cell_type": "code",
   "execution_count": 7,
   "id": "12121684-eb15-4397-9add-846fe1d7e244",
   "metadata": {},
   "outputs": [
    {
     "name": "stdout",
     "output_type": "stream",
     "text": [
      "\n",
      "c\n",
      "b\n",
      "bc\n",
      "a\n",
      "ac\n",
      "ab\n",
      "abc\n"
     ]
    }
   ],
   "source": [
    "# Our function will have the inputString and outputString; the output string will change accordingly\n",
    "def printSubs(inputString, outputString=\"\"):\n",
    "    if len(inputString) == 0:\n",
    "        # As we see above, if the length of the string is empty, then we will just print the outputString which is default to empty\n",
    "        print(outputString)\n",
    "        return \n",
    "    else:\n",
    "        # Exclude the 0th char\n",
    "        printSubs(inputString[1:], outputString)\n",
    "        # Include the 0th char\n",
    "        printSubs(inputString[1:], outputString + inputString[0])\n",
    "\n",
    "inputString = 'abc'\n",
    "printSubs(inputString)\n"
   ]
  },
  {
   "cell_type": "code",
   "execution_count": 8,
   "id": "40fd4779-f833-418e-8a9a-362e297b3aab",
   "metadata": {},
   "outputs": [
    {
     "name": "stdout",
     "output_type": "stream",
     "text": [
      "ad\n",
      "bd\n",
      "cd\n",
      "ae\n",
      "be\n",
      "ce\n",
      "af\n",
      "bf\n",
      "cf\n"
     ]
    }
   ],
   "source": [
    "def keypadString(digit):\n",
    "    \"\"\"\n",
    "    Maps a digit (2-9) to the corresponding letters on a phone keypad.\n",
    "\n",
    "    Args:\n",
    "        digit (int): The digit to convert (2-9).\n",
    "\n",
    "    Returns:\n",
    "        str: The letters associated with the digit, or a space (\" \") for 0 and 1.\n",
    "    \"\"\"\n",
    "\n",
    "    if digit == 2:\n",
    "        return \"abc\"\n",
    "    elif digit == 3:\n",
    "        return \"def\"\n",
    "    elif digit == 4:\n",
    "        return \"ghi\"\n",
    "    elif digit == 5:\n",
    "        return \"jkl\"\n",
    "    elif digit == 6:\n",
    "        return \"mno\"\n",
    "    elif digit == 7:\n",
    "        return \"pqrs\"\n",
    "    elif digit == 8:\n",
    "        return \"tuv\"\n",
    "    elif digit == 9:\n",
    "        return \"wxyz\"\n",
    "    else:\n",
    "        return \" \"  # Return a space for other characters (0 and 1)\n",
    "\n",
    "def keypadBackTracking(inputString, outputString=\"\"):\n",
    "    \"\"\"\n",
    "    Generates all possible letter combinations for a given phone number (digit string).\n",
    "\n",
    "    Args:\n",
    "        inputString (int): The phone number as a digit string.\n",
    "        outputString (str, optional): An empty string to store letter combinations (default \"\").\n",
    "    \"\"\"\n",
    "\n",
    "    if inputString == 0:\n",
    "        print(outputString)  # Print the complete letter combination\n",
    "        return\n",
    "\n",
    "    exceptLastDigit = inputString // 10  # Extract digits excluding the last one\n",
    "    lastDigit = inputString % 10        # Extract the last digit\n",
    "\n",
    "    lastDigitOption = keypadString(lastDigit)  # Get letter options for the last digit\n",
    "\n",
    "    for lastDigitChar in lastDigitOption:\n",
    "        output = lastDigitChar + outputString  # Prepend letter to current combination\n",
    "        keypadBackTracking(exceptLastDigit, output)  # Recursive call with remaining digits\n",
    "\n",
    "inputString = 23\n",
    "keypadBackTracking(inputString)\n"
   ]
  },
  {
   "cell_type": "code",
   "execution_count": 9,
   "id": "774ff8e6-0cff-40f4-a699-b11337880c27",
   "metadata": {},
   "outputs": [
    {
     "name": "stdout",
     "output_type": "stream",
     "text": [
      "a\n",
      "b\n",
      "c\n"
     ]
    }
   ],
   "source": [
    "st = 'abc'\n",
    "for s in st:\n",
    "    print(s)"
   ]
  },
  {
   "cell_type": "code",
   "execution_count": 17,
   "id": "9533748d-4730-4c2e-9c3a-5e1c706bd0f9",
   "metadata": {},
   "outputs": [],
   "source": [
    "# in the problems like subset, subsequence we need to do inclusion and exclusion like take the value or not to take the value"
   ]
  },
  {
   "cell_type": "code",
   "execution_count": 26,
   "id": "9c66c67d-4f0e-42e0-854a-72a639b3b8a9",
   "metadata": {},
   "outputs": [
    {
     "name": "stdin",
     "output_type": "stream",
     "text": [
      "Enter a string:  ab\n"
     ]
    },
    {
     "name": "stdout",
     "output_type": "stream",
     "text": [
      "ab\n",
      "ba\n"
     ]
    }
   ],
   "source": [
    "def listToStringConversion(listStr):\n",
    "    return ''.join(listStr)\n",
    "\n",
    "def backTrack(string, index, stringLength):\n",
    "    if index == stringLength:\n",
    "        print(listToStringConversion(string))\n",
    "    else:\n",
    "        for i in range(index, stringLength):\n",
    "            # Swap characters\n",
    "            string[index], string[i] = string[i], string[index]\n",
    "            backTrack(string, index + 1, stringLength)\n",
    "            # Backtrack by restoring the original order\n",
    "            string[index], string[i] = string[i], string[index]\n",
    "\n",
    "def printPermutations(string):\n",
    "    # Convert the input string to a list of characters\n",
    "    char_list = list(string)\n",
    "    backTrack(char_list, 0, len(char_list))\n",
    "\n",
    "# Example usage\n",
    "user_input = input(\"Enter a string: \")\n",
    "printPermutations(user_input)\n"
   ]
  },
  {
   "cell_type": "code",
   "execution_count": 31,
   "id": "af0cf569-0eb5-46ba-9e60-6dbf5b296d1e",
   "metadata": {},
   "outputs": [
    {
     "name": "stdin",
     "output_type": "stream",
     "text": [
      " 6\n",
      " 3 4 8 9 5 1\n",
      " 9\n"
     ]
    },
    {
     "name": "stdout",
     "output_type": "stream",
     "text": [
      "9 \n",
      "8 1 \n",
      "4 5 \n",
      "3 5 1 \n"
     ]
    }
   ],
   "source": [
    "import sys\n",
    "sys.setrecursionlimit(10 ** 8)\n",
    "\n",
    "def subsetsSumK(arr, k):\n",
    "    if len(arr) == 0:\n",
    "        return [[]] if k == 0 else []\n",
    "    \n",
    "    withOutFirstElement = subsetsSumK(arr[1:], k)\n",
    "    withFirstElement = subsetsSumK(arr[1:], k - arr[0])\n",
    "    \n",
    "    output = []\n",
    "    \n",
    "    for ele in withOutFirstElement:\n",
    "        output.append(ele)\n",
    "    # print(output)\n",
    "    for ele in withFirstElement:\n",
    "        output.append([arr[0]] + ele)\n",
    "    # print(output)\n",
    "    return output\n",
    "\n",
    "def takeInput():\n",
    "    n = int(input().strip())\n",
    "    if n == 0:\n",
    "        return [], 0\n",
    "    arr = [int(element) for element in input().strip().split()]\n",
    "    return arr, n\n",
    "\n",
    "def printListOfList(liOfLi):\n",
    "    for li in liOfLi:\n",
    "        for elem in li:\n",
    "            print(elem, end=\" \")\n",
    "        print()\n",
    "\n",
    "arr, n = takeInput()\n",
    "\n",
    "if n != 0:\n",
    "    k = int(input().strip())\n",
    "    liOfLi = subsetsSumK(arr, k)\n",
    "    printListOfList(liOfLi)\n"
   ]
  },
  {
   "cell_type": "code",
   "execution_count": 55,
   "id": "6a3ddbe4-96e6-4ea7-a505-0e38a913b135",
   "metadata": {},
   "outputs": [
    {
     "name": "stdin",
     "output_type": "stream",
     "text": [
      " 3\n",
      " 12 15 20\n"
     ]
    },
    {
     "name": "stdout",
     "output_type": "stream",
     "text": [
      "\n",
      "20\n",
      "15\n",
      "15 20\n",
      "12\n",
      "12 20\n",
      "12 15\n",
      "12 15 20\n"
     ]
    }
   ],
   "source": [
    "def subsets(arr, n):\n",
    "    if len(arr) == 0:\n",
    "        return [[]]\n",
    "    else:\n",
    "        withoutFirstElement = subsets(arr[1:], n)\n",
    "\n",
    "        withFirstElement = list()\n",
    "        for ele in withoutFirstElement:\n",
    "            withFirstElement.extend([[arr[0]]+ ele])\n",
    "        \n",
    "        return withoutFirstElement + withFirstElement  \n",
    "\n",
    "n = int(input())\n",
    "arr = [ int(x) for x in input().strip().split()]\n",
    "result = subsets(arr, n)\n",
    "for lists in result:\n",
    "    print(*lists)"
   ]
  },
  {
   "cell_type": "code",
   "execution_count": 44,
   "id": "68f5c876-649b-4df1-bd55-bf7fcf62f7f7",
   "metadata": {},
   "outputs": [
    {
     "data": {
      "text/plain": [
       "[1, 2, 3, [1, 1]]"
      ]
     },
     "execution_count": 44,
     "metadata": {},
     "output_type": "execute_result"
    }
   ],
   "source": [
    "a = [1, 2 , 3]\n",
    "a.extend([[a[0]] + [1]])\n",
    "a"
   ]
  },
  {
   "cell_type": "code",
   "execution_count": 47,
   "id": "83962a13-39c8-4c14-ad72-eadeccd3b919",
   "metadata": {},
   "outputs": [
    {
     "data": {
      "text/plain": [
       "[[1, 2, 3], [4, 5, 6]]"
      ]
     },
     "execution_count": 47,
     "metadata": {},
     "output_type": "execute_result"
    }
   ],
   "source": [
    "a = [1,2,3]\n",
    "b = [4,5,6]\n",
    "c = []\n",
    "d = c.extend([a[:]] + [b[:]])\n",
    "c"
   ]
  },
  {
   "cell_type": "code",
   "execution_count": 52,
   "id": "c472f04b-f6da-456b-8e5d-96b086cb99b6",
   "metadata": {},
   "outputs": [
    {
     "name": "stdin",
     "output_type": "stream",
     "text": [
      "Enter a string:  abc\n"
     ]
    }
   ],
   "source": [
    "def permutations(string, start=0):\n",
    "    if len(string) == 0:\n",
    "        return ['']  # Base case: return a list containing an empty string\n",
    "    \n",
    "    output = []  # Initialize an empty list to store permutations\n",
    "\n",
    "    for i in range(start, len(string)):\n",
    "        # Create a new string with characters swapped\n",
    "        string_list = list(string)\n",
    "        string_list[start], string_list[i] = string_list[i], string_list[start]\n",
    "        new_string = ''.join(string_list)\n",
    "        # Recursively generate permutations for the substring starting from index 'start+1'\n",
    "        perms = permutations(new_string, start + 1)\n",
    "        # Extend the output list with permutations generated for the current substring\n",
    "        output.extend(perms)\n",
    "\n",
    "    return output\n",
    "\n",
    "string = input(\"Enter a string: \")\n",
    "ans = permutations(string)\n",
    "for s in ans:\n",
    "    print(s)\n"
   ]
  },
  {
   "cell_type": "code",
   "execution_count": 61,
   "id": "c96fe068-e539-4232-a1b9-b409729e1dcd",
   "metadata": {},
   "outputs": [
    {
     "name": "stdin",
     "output_type": "stream",
     "text": [
      " 5\n",
      " 4 3 1 5 2\n",
      " 8\n"
     ]
    },
    {
     "name": "stdout",
     "output_type": "stream",
     "text": [
      "[1, 5, 2]\n",
      "[3, 5]\n",
      "[4, 3, 1]\n"
     ]
    }
   ],
   "source": [
    "from math import *\n",
    "from collections import *\n",
    "from sys import *\n",
    "from os import *\n",
    "\n",
    "## Read input as specified in the question.\n",
    "## Print output as specified in the question.\n",
    "\n",
    "def printSubsetsSumK(arr, k, output = []):\n",
    "    if len(arr) == 0:\n",
    "        if k == 0:\n",
    "            print(output)\n",
    "        return\n",
    "    \n",
    "    else:\n",
    "        printSubsetsSumK(arr[1:], k, output)\n",
    "        printSubsetsSumK(arr[1:], k - arr[0], output + [arr[0]])\n",
    "    \n",
    "\n",
    "\n",
    "n = int(input())\n",
    "arr = [ int(x) for x in input().strip().split()]\n",
    "k = int(input())\n",
    "printSubsetsSumK(arr, k)"
   ]
  },
  {
   "cell_type": "code",
   "execution_count": 59,
   "id": "04384151-991f-4819-a046-173a9f47fa35",
   "metadata": {},
   "outputs": [
    {
     "data": {
      "text/plain": [
       "'lihas'"
      ]
     },
     "execution_count": 59,
     "metadata": {},
     "output_type": "execute_result"
    }
   ],
   "source": [
    "a = 'sahil'\n",
    "b = a[::-1]\n",
    "b"
   ]
  },
  {
   "cell_type": "code",
   "execution_count": 80,
   "id": "4a055ba6-6c33-43d6-b26d-6a2f7c28512b",
   "metadata": {},
   "outputs": [
    {
     "name": "stdin",
     "output_type": "stream",
     "text": [
      " 3\n",
      " 12 15 20\n"
     ]
    },
    {
     "name": "stdout",
     "output_type": "stream",
     "text": [
      "12\n",
      "15\n",
      "12 20\n",
      "15 20\n",
      "20\n",
      "12 15\n",
      "\n",
      "12 15 20\n"
     ]
    }
   ],
   "source": [
    "from typing import List\n",
    "\n",
    "class Solution:\n",
    "    def subsetsWithDup(self, nums: List[int]) -> List[List[int]]:\n",
    "        nums.sort()\n",
    "        if len(nums) == 0:\n",
    "            return [[]]\n",
    "        else:\n",
    "            output = set()  # Use a set to store subsets without duplicates\n",
    "            withoutFirstElement = self.subsetsWithDup(nums[1:])\n",
    "\n",
    "            # Add subsets without the first element\n",
    "            for ele in withoutFirstElement:\n",
    "                output.add(tuple(ele))  # Convert the list to a tuple to use it as a set element\n",
    "\n",
    "            # Add subsets with the first element\n",
    "            for ele in withoutFirstElement:\n",
    "                output.add(tuple([nums[0]] + ele))  # Convert the list to a tuple to use it as a set element\n",
    "        \n",
    "        return [list(subset) for subset in output]  # Convert the sets back to lists for the output\n",
    "\n",
    "if __name__ == \"__main__\":\n",
    "    n = int(input())\n",
    "    nums = list(map(int, input().split()))  \n",
    "    obj = Solution()\n",
    "    ans = obj.subsetsWithDup(nums)\n",
    "    for subset in ans:\n",
    "        print(*subset)\n"
   ]
  },
  {
   "cell_type": "code",
   "execution_count": 93,
   "id": "3dec7e23-a908-4f89-b6c3-2cf616588a92",
   "metadata": {},
   "outputs": [
    {
     "name": "stdin",
     "output_type": "stream",
     "text": [
      " abc\n"
     ]
    },
    {
     "name": "stdout",
     "output_type": "stream",
     "text": [
      "('a', 'b', 'c')\n",
      "('a', 'c', 'b')\n",
      "('b', 'a', 'c')\n",
      "('b', 'c', 'a')\n",
      "('c', 'a', 'b')\n",
      "('c', 'b', 'a')\n"
     ]
    }
   ],
   "source": [
    "import itertools\n",
    "\n",
    "def permutations(string):\n",
    "    # Initialize an empty list to store permutations\n",
    "    output = []\n",
    "    \n",
    "    # Iterate over permutations of the input string\n",
    "    for permutes in itertools.permutations(string):\n",
    "        # Join the characters in the permutation tuple to form a string\n",
    "        # permutedString = ''.join(permutes)\n",
    "        # Append the generated permutation to the output list\n",
    "        output.append(permutes)\n",
    "    \n",
    "    # Return the list of permutations\n",
    "    return output\n",
    "\n",
    "# Input\n",
    "string = input()\n",
    "\n",
    "# Generate and print permutations\n",
    "ans = permutations(string)\n",
    "for s in ans:\n",
    "    print(s)\n"
   ]
  },
  {
   "cell_type": "code",
   "execution_count": null,
   "id": "963e9b21-fd96-4452-aa37-2d96af8ece5f",
   "metadata": {},
   "outputs": [],
   "source": []
  },
  {
   "cell_type": "code",
   "execution_count": null,
   "id": "1b4c1079-fbfe-451e-b20b-fce994fb4ae8",
   "metadata": {},
   "outputs": [],
   "source": []
  },
  {
   "cell_type": "code",
   "execution_count": 108,
   "id": "7df2f503-eb75-44c3-87fd-31083bd184ee",
   "metadata": {},
   "outputs": [
    {
     "name": "stdin",
     "output_type": "stream",
     "text": [
      " abc\n"
     ]
    },
    {
     "name": "stdout",
     "output_type": "stream",
     "text": [
      "abc\n",
      "acb\n",
      "bac\n",
      "bca\n",
      "cab\n",
      "cba\n"
     ]
    },
    {
     "data": {
      "text/plain": [
       "6"
      ]
     },
     "execution_count": 108,
     "metadata": {},
     "output_type": "execute_result"
    }
   ],
   "source": [
    "def permutations(string):\n",
    "    def generate_permutations(curr_str, remaining_str):\n",
    "        if len(remaining_str) == 0:\n",
    "            output.append(curr_str)\n",
    "        else:\n",
    "            for i in range(len(remaining_str)):\n",
    "                next_str = curr_str + remaining_str[i]\n",
    "                # print(\"> \",next_str)\n",
    "                rest_str = remaining_str[:i] + remaining_str[i+1:]\n",
    "                # print(\"> \",rest_str)\n",
    "                generate_permutations(next_str, rest_str)\n",
    "\n",
    "    output = []\n",
    "    generate_permutations('', string)\n",
    "    return output\n",
    "\n",
    "# Input\n",
    "string = input()\n",
    "\n",
    "# Generate and print permutations\n",
    "ans = permutations(string)\n",
    "c = 0\n",
    "for s in ans:\n",
    "    print(s)\n",
    "    c += 1\n",
    "c\n",
    "    \n"
   ]
  },
  {
   "cell_type": "code",
   "execution_count": null,
   "id": "affd70aa-6900-490e-8123-f3c5c95d5985",
   "metadata": {},
   "outputs": [],
   "source": []
  }
 ],
 "metadata": {
  "kernelspec": {
   "display_name": "Python 3 (ipykernel)",
   "language": "python",
   "name": "python3"
  },
  "language_info": {
   "codemirror_mode": {
    "name": "ipython",
    "version": 3
   },
   "file_extension": ".py",
   "mimetype": "text/x-python",
   "name": "python",
   "nbconvert_exporter": "python",
   "pygments_lexer": "ipython3",
   "version": "3.10.7"
  }
 },
 "nbformat": 4,
 "nbformat_minor": 5
}
