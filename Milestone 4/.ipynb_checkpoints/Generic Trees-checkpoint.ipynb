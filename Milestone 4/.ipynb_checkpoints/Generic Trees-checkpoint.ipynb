{
 "cells": [
  {
   "cell_type": "markdown",
   "id": "aa568d59-ec41-4d80-abff-efd793b57206",
   "metadata": {},
   "source": [
    "### There is no limitations of the child"
   ]
  },
  {
   "cell_type": "code",
   "execution_count": 1,
   "id": "70acc999-4a9a-4479-8a3d-6282bc9ac8aa",
   "metadata": {},
   "outputs": [],
   "source": [
    "class GenericTree:\n",
    "    def __init__(self, data):\n",
    "        self.data = data\n",
    "        self.children = list()"
   ]
  },
  {
   "cell_type": "code",
   "execution_count": 2,
   "id": "ac4cb904-f9c4-4cbf-9aec-a33db858ded6",
   "metadata": {},
   "outputs": [],
   "source": [
    "def printTree(root):\n",
    "    # we didnt require base case here because in this we are creating a array if the childrens are empty then the for loop will not execute and hence \n",
    "    # leaf node becomes our base case. But still we will use it because if the root will none it will be none.data which will throw an error to overcome\n",
    "    # we will use root == None as the edge case remember that this is not the base case\n",
    "    if root == None:\n",
    "        return\n",
    "    print(root.data)\n",
    "    for child in root.children:\n",
    "        printTree(child)"
   ]
  },
  {
   "cell_type": "code",
   "execution_count": 3,
   "id": "9368d106-3f47-484e-846e-8f89f25cdd43",
   "metadata": {},
   "outputs": [],
   "source": [
    "def printDetailedTree(root):\n",
    "    if root == None:\n",
    "        return\n",
    "\n",
    "    print(root.data, \" : \", end=\"\")\n",
    "    for child in root.children:\n",
    "        print(child.data,\",\", end=\"\")\n",
    "    print()\n",
    "    for child in root.children:\n",
    "        printDetailedTree(child)"
   ]
  },
  {
   "cell_type": "code",
   "execution_count": 4,
   "id": "df208517-f574-4df9-84b4-2f2a9229b25b",
   "metadata": {},
   "outputs": [],
   "source": [
    "n1 = GenericTree(5)\n",
    "n2 = GenericTree(2)\n",
    "n3 = GenericTree(9)\n",
    "n4 = GenericTree(8)\n",
    "n5 = GenericTree(7)\n",
    "n6 = GenericTree(15)\n",
    "n7 = GenericTree(1)\n",
    "\n",
    "n1.children.append(n2)\n",
    "n1.children.append(n3)\n",
    "n1.children.append(n4)\n",
    "n1.children.append(n5)\n",
    "\n",
    "n3.children.append(n6)\n",
    "n3.children.append(n7)"
   ]
  },
  {
   "cell_type": "code",
   "execution_count": 5,
   "id": "4c212df6-7b01-4fba-bc4a-b4e73c15a2a5",
   "metadata": {},
   "outputs": [
    {
     "name": "stdout",
     "output_type": "stream",
     "text": [
      "5\n",
      "2\n",
      "9\n",
      "15\n",
      "1\n",
      "8\n",
      "7\n"
     ]
    }
   ],
   "source": [
    "printTree(n1)"
   ]
  },
  {
   "cell_type": "code",
   "execution_count": 6,
   "id": "c14110ab-83c5-47bb-9d86-be1a157cc67c",
   "metadata": {},
   "outputs": [
    {
     "name": "stdout",
     "output_type": "stream",
     "text": [
      "5  : 2 ,9 ,8 ,7 ,\n",
      "2  : \n",
      "9  : 15 ,1 ,\n",
      "15  : \n",
      "1  : \n",
      "8  : \n",
      "7  : \n"
     ]
    }
   ],
   "source": [
    "printDetailedTree(n1)"
   ]
  },
  {
   "cell_type": "code",
   "execution_count": 7,
   "id": "b610247a-e2dc-488f-aef9-104c64a0ab14",
   "metadata": {},
   "outputs": [],
   "source": [
    "class TreeGeneric:\n",
    "    def __init__(self,data):\n",
    "        self.data = data\n",
    "        self.children = []\n",
    "\n",
    "def printTreeDetailed(root):\n",
    "    if root == None:\n",
    "        return \n",
    "    print(root.data, end=\" : \")\n",
    "\n",
    "    for child in root.children:\n",
    "        print(child.data, \" ,\", end=\"\")\n",
    "    print()\n",
    "    for child in root.children:\n",
    "        printTreeDetailed(child)\n",
    "\n",
    "def takeInput():\n",
    "    print(\"Enter the root data\")\n",
    "    rootData = int(input())\n",
    "\n",
    "    if rootData == -1:\n",
    "        return None\n",
    "\n",
    "    root = TreeGeneric(rootData)\n",
    "\n",
    "    print(\"Enter the number of childrens you want for the : \", root.data)\n",
    "    childrenCount = int(input())\n",
    "\n",
    "    for i in range(childrenCount):\n",
    "        child = takeInput()\n",
    "        root.children.append(child)\n",
    "    return root"
   ]
  },
  {
   "cell_type": "code",
   "execution_count": 8,
   "id": "1675de4a-2c62-43fb-9c42-93473c25244c",
   "metadata": {},
   "outputs": [
    {
     "name": "stdout",
     "output_type": "stream",
     "text": [
      "Enter the root data\n"
     ]
    },
    {
     "name": "stdin",
     "output_type": "stream",
     "text": [
      " 1\n"
     ]
    },
    {
     "name": "stdout",
     "output_type": "stream",
     "text": [
      "Enter the number of childrens you want for the :  1\n"
     ]
    },
    {
     "name": "stdin",
     "output_type": "stream",
     "text": [
      " 3\n"
     ]
    },
    {
     "name": "stdout",
     "output_type": "stream",
     "text": [
      "Enter the root data\n"
     ]
    },
    {
     "name": "stdin",
     "output_type": "stream",
     "text": [
      " 2\n"
     ]
    },
    {
     "name": "stdout",
     "output_type": "stream",
     "text": [
      "Enter the number of childrens you want for the :  2\n"
     ]
    },
    {
     "name": "stdin",
     "output_type": "stream",
     "text": [
      " 0\n"
     ]
    },
    {
     "name": "stdout",
     "output_type": "stream",
     "text": [
      "Enter the root data\n"
     ]
    },
    {
     "name": "stdin",
     "output_type": "stream",
     "text": [
      " 3\n"
     ]
    },
    {
     "name": "stdout",
     "output_type": "stream",
     "text": [
      "Enter the number of childrens you want for the :  3\n"
     ]
    },
    {
     "name": "stdin",
     "output_type": "stream",
     "text": [
      " 2\n"
     ]
    },
    {
     "name": "stdout",
     "output_type": "stream",
     "text": [
      "Enter the root data\n"
     ]
    },
    {
     "name": "stdin",
     "output_type": "stream",
     "text": [
      " 4\n"
     ]
    },
    {
     "name": "stdout",
     "output_type": "stream",
     "text": [
      "Enter the number of childrens you want for the :  4\n"
     ]
    },
    {
     "name": "stdin",
     "output_type": "stream",
     "text": [
      " 0\n"
     ]
    },
    {
     "name": "stdout",
     "output_type": "stream",
     "text": [
      "Enter the root data\n"
     ]
    },
    {
     "name": "stdin",
     "output_type": "stream",
     "text": [
      " 5\n"
     ]
    },
    {
     "name": "stdout",
     "output_type": "stream",
     "text": [
      "Enter the number of childrens you want for the :  5\n"
     ]
    },
    {
     "name": "stdin",
     "output_type": "stream",
     "text": [
      " 0\n"
     ]
    },
    {
     "name": "stdout",
     "output_type": "stream",
     "text": [
      "Enter the root data\n"
     ]
    },
    {
     "name": "stdin",
     "output_type": "stream",
     "text": [
      " 6\n"
     ]
    },
    {
     "name": "stdout",
     "output_type": "stream",
     "text": [
      "Enter the number of childrens you want for the :  6\n"
     ]
    },
    {
     "name": "stdin",
     "output_type": "stream",
     "text": [
      " 0\n"
     ]
    },
    {
     "name": "stdout",
     "output_type": "stream",
     "text": [
      "1 : 2  ,3  ,6  ,\n",
      "2 : \n",
      "3 : 4  ,5  ,\n",
      "4 : \n",
      "5 : \n",
      "6 : \n"
     ]
    }
   ],
   "source": [
    "root = takeInput()\n",
    "printTreeDetailed(root)"
   ]
  },
  {
   "cell_type": "code",
   "execution_count": 9,
   "id": "f449e2b4-410f-419b-8672-fb014ae032cb",
   "metadata": {},
   "outputs": [
    {
     "data": {
      "text/plain": [
       "6"
      ]
     },
     "execution_count": 9,
     "metadata": {},
     "output_type": "execute_result"
    }
   ],
   "source": [
    "# number of nodes in Generic trees\n",
    "def numOfNode(root):\n",
    "    if root == None:\n",
    "        return 0\n",
    "    count = 1\n",
    "    for child in root.children:\n",
    "        count = count + numOfNode(child)\n",
    "    return count\n",
    "\n",
    "numOfNode(root)"
   ]
  },
  {
   "cell_type": "code",
   "execution_count": 10,
   "id": "8e763f8e-cc70-478d-a5bb-e04d78c953d6",
   "metadata": {},
   "outputs": [
    {
     "data": {
      "text/plain": [
       "21"
      ]
     },
     "execution_count": 10,
     "metadata": {},
     "output_type": "execute_result"
    }
   ],
   "source": [
    "# sum of nodes in Generic trees\n",
    "def sumOfNode(root):\n",
    "    if root == None:\n",
    "        return 0\n",
    "    count = root.data\n",
    "    for child in root.children:\n",
    "        count = count + sumOfNode(child)\n",
    "    return count\n",
    "\n",
    "sumOfNode(root)"
   ]
  },
  {
   "cell_type": "code",
   "execution_count": 11,
   "id": "18f99b9f-52f6-4921-928f-edccfd71a384",
   "metadata": {},
   "outputs": [
    {
     "data": {
      "text/plain": [
       "6"
      ]
     },
     "execution_count": 11,
     "metadata": {},
     "output_type": "execute_result"
    }
   ],
   "source": [
    "# maxDataNode\n",
    "\n",
    "def maxDataNode(tree):\n",
    "    if tree == None:\n",
    "        return None\n",
    "\n",
    "    max_node = tree\n",
    "\n",
    "    for child in tree.children:\n",
    "        child_max = maxDataNode(child)\n",
    "        if child_max.data > max_node.data:\n",
    "            max_node = child_max\n",
    "\n",
    "    return max_node\n",
    "\n",
    "maxDataNode(root).data"
   ]
  },
  {
   "cell_type": "code",
   "execution_count": 12,
   "id": "0accf402-380a-4ea3-8443-81f70d867766",
   "metadata": {},
   "outputs": [
    {
     "data": {
      "text/plain": [
       "3"
      ]
     },
     "execution_count": 12,
     "metadata": {},
     "output_type": "execute_result"
    }
   ],
   "source": [
    "# height of tree\n",
    "\n",
    "def heightTree(root):\n",
    "    if root == None:\n",
    "        return\n",
    "\n",
    "    height = 0\n",
    "    for child in root.children:\n",
    "        childHeight = heightTree(child)\n",
    "        height = max(childHeight, height)\n",
    "    height = height + 1\n",
    "    return height\n",
    "\n",
    "heightTree(root)"
   ]
  },
  {
   "cell_type": "code",
   "execution_count": 1,
   "id": "b2f2ea91-5184-48b7-a86a-2323270f0085",
   "metadata": {},
   "outputs": [
    {
     "name": "stdout",
     "output_type": "stream",
     "text": [
      "Enter the root Data\n"
     ]
    },
    {
     "name": "stdin",
     "output_type": "stream",
     "text": [
      " 1\n"
     ]
    },
    {
     "name": "stdout",
     "output_type": "stream",
     "text": [
      "Enter the number of childrens you want for the  1\n"
     ]
    },
    {
     "name": "stdin",
     "output_type": "stream",
     "text": [
      " 3\n"
     ]
    },
    {
     "name": "stdout",
     "output_type": "stream",
     "text": [
      "Enter the child for  1\n"
     ]
    },
    {
     "name": "stdin",
     "output_type": "stream",
     "text": [
      " 2\n"
     ]
    },
    {
     "name": "stdout",
     "output_type": "stream",
     "text": [
      "Enter the child for  1\n"
     ]
    },
    {
     "name": "stdin",
     "output_type": "stream",
     "text": [
      " 3\n"
     ]
    },
    {
     "name": "stdout",
     "output_type": "stream",
     "text": [
      "Enter the child for  1\n"
     ]
    },
    {
     "name": "stdin",
     "output_type": "stream",
     "text": [
      " 4\n"
     ]
    },
    {
     "name": "stdout",
     "output_type": "stream",
     "text": [
      "Enter the number of childrens you want for the  2\n"
     ]
    },
    {
     "name": "stdin",
     "output_type": "stream",
     "text": [
      " 2\n"
     ]
    },
    {
     "name": "stdout",
     "output_type": "stream",
     "text": [
      "Enter the child for  2\n"
     ]
    },
    {
     "name": "stdin",
     "output_type": "stream",
     "text": [
      " 5\n"
     ]
    },
    {
     "name": "stdout",
     "output_type": "stream",
     "text": [
      "Enter the child for  2\n"
     ]
    },
    {
     "name": "stdin",
     "output_type": "stream",
     "text": [
      " 6\n"
     ]
    },
    {
     "name": "stdout",
     "output_type": "stream",
     "text": [
      "Enter the number of childrens you want for the  3\n"
     ]
    },
    {
     "name": "stdin",
     "output_type": "stream",
     "text": [
      " 2\n"
     ]
    },
    {
     "name": "stdout",
     "output_type": "stream",
     "text": [
      "Enter the child for  3\n"
     ]
    },
    {
     "name": "stdin",
     "output_type": "stream",
     "text": [
      " 7\n"
     ]
    },
    {
     "name": "stdout",
     "output_type": "stream",
     "text": [
      "Enter the child for  3\n"
     ]
    },
    {
     "name": "stdin",
     "output_type": "stream",
     "text": [
      " 8\n"
     ]
    },
    {
     "name": "stdout",
     "output_type": "stream",
     "text": [
      "Enter the number of childrens you want for the  4\n"
     ]
    },
    {
     "name": "stdin",
     "output_type": "stream",
     "text": [
      " 2\n"
     ]
    },
    {
     "name": "stdout",
     "output_type": "stream",
     "text": [
      "Enter the child for  4\n"
     ]
    },
    {
     "name": "stdin",
     "output_type": "stream",
     "text": [
      " 9\n"
     ]
    },
    {
     "name": "stdout",
     "output_type": "stream",
     "text": [
      "Enter the child for  4\n"
     ]
    },
    {
     "name": "stdin",
     "output_type": "stream",
     "text": [
      " 10\n"
     ]
    },
    {
     "name": "stdout",
     "output_type": "stream",
     "text": [
      "Enter the number of childrens you want for the  5\n"
     ]
    },
    {
     "name": "stdin",
     "output_type": "stream",
     "text": [
      " 0\n"
     ]
    },
    {
     "name": "stdout",
     "output_type": "stream",
     "text": [
      "Enter the number of childrens you want for the  6\n"
     ]
    },
    {
     "name": "stdin",
     "output_type": "stream",
     "text": [
      " 0\n"
     ]
    },
    {
     "name": "stdout",
     "output_type": "stream",
     "text": [
      "Enter the number of childrens you want for the  7\n"
     ]
    },
    {
     "name": "stdin",
     "output_type": "stream",
     "text": [
      " 0\n"
     ]
    },
    {
     "name": "stdout",
     "output_type": "stream",
     "text": [
      "Enter the number of childrens you want for the  8\n"
     ]
    },
    {
     "name": "stdin",
     "output_type": "stream",
     "text": [
      " 0\n"
     ]
    },
    {
     "name": "stdout",
     "output_type": "stream",
     "text": [
      "Enter the number of childrens you want for the  9\n"
     ]
    },
    {
     "name": "stdin",
     "output_type": "stream",
     "text": [
      " 0\n"
     ]
    },
    {
     "name": "stdout",
     "output_type": "stream",
     "text": [
      "Enter the number of childrens you want for the  10\n"
     ]
    },
    {
     "name": "stdin",
     "output_type": "stream",
     "text": [
      " 0\n"
     ]
    },
    {
     "name": "stdout",
     "output_type": "stream",
     "text": [
      "1 : 2  ,  3  ,  4  ,  \n",
      "2 : 5  ,  6  ,  \n",
      "5 : \n",
      "6 : \n",
      "3 : 7  ,  8  ,  \n",
      "7 : \n",
      "8 : \n",
      "4 : 9  ,  10  ,  \n",
      "9 : \n",
      "10 : \n"
     ]
    }
   ],
   "source": [
    "# levelwise input \n",
    "\n",
    "import queue\n",
    "class GenericTree:\n",
    "    def __init__(self, data):\n",
    "        self.data = data\n",
    "        self.children = []\n",
    "def printDetailedTree(root):\n",
    "    if root == None:\n",
    "        return\n",
    "\n",
    "    print(root.data, end=\" : \")\n",
    "    for child in root.children:\n",
    "        print(child.data, \" , \",end=\" \")\n",
    "    print()\n",
    "    for child in root.children:\n",
    "        printDetailedTree(child)\n",
    "\n",
    "def takeTreeInput():\n",
    "    q = queue.Queue()\n",
    "    print(\"Enter the root Data\")\n",
    "    rootData = int(input())\n",
    "    if rootData == -1:\n",
    "        return None\n",
    "    root = GenericTree(rootData)\n",
    "    q.put(root)\n",
    "    while not q.empty():\n",
    "        currentNode = q.get()\n",
    "        print(\"Enter the number of childrens you want for the \", currentNode.data)\n",
    "        childrenNum = int(input())\n",
    "        for i in range(childrenNum):\n",
    "            print(\"Enter the child for \", currentNode.data)\n",
    "            childData = int(input())\n",
    "            child = GenericTree(childData)\n",
    "            currentNode.children.append(child)\n",
    "            q.put(child)\n",
    "\n",
    "    return root\n",
    "\n",
    "root = takeTreeInput()\n",
    "printDetailedTree(root)"
   ]
  },
  {
   "cell_type": "code",
   "execution_count": 1,
   "id": "3d07347d-1ae4-41c3-a2ea-d33f3a8301bb",
   "metadata": {},
   "outputs": [],
   "source": [
    "# enumerate is used for iteration of 2 3 values in in for loop\n",
    "# for i, child enumerate(root.children)\n",
    "\n",
    "# for childofTree1, childofTree2 in zip(tree1.children, tree2.children):\n",
    "#         if not isIdentical(childofTree1, childofTree2):\n",
    "#             return False\n",
    "# this is used for 2 trees to be interating simulatneously"
   ]
  },
  {
   "cell_type": "code",
   "execution_count": 8,
   "id": "3796a8b8-9fbb-474d-96f2-cf8ee95a0f04",
   "metadata": {},
   "outputs": [
    {
     "name": "stdout",
     "output_type": "stream",
     "text": [
      "Enter the root data :\n"
     ]
    },
    {
     "name": "stdin",
     "output_type": "stream",
     "text": [
      " 1\n"
     ]
    },
    {
     "name": "stdout",
     "output_type": "stream",
     "text": [
      "Enter the number of children you want for the  1\n"
     ]
    },
    {
     "name": "stdin",
     "output_type": "stream",
     "text": [
      " 2\n"
     ]
    },
    {
     "name": "stdout",
     "output_type": "stream",
     "text": [
      "Enter  1  the child for  1\n"
     ]
    },
    {
     "name": "stdin",
     "output_type": "stream",
     "text": [
      " 3\n"
     ]
    },
    {
     "name": "stdout",
     "output_type": "stream",
     "text": [
      "Enter  2  the child for  1\n"
     ]
    },
    {
     "name": "stdin",
     "output_type": "stream",
     "text": [
      " 4\n"
     ]
    },
    {
     "name": "stdout",
     "output_type": "stream",
     "text": [
      "Enter the number of children you want for the  3\n"
     ]
    },
    {
     "name": "stdin",
     "output_type": "stream",
     "text": [
      " 0\n"
     ]
    },
    {
     "name": "stdout",
     "output_type": "stream",
     "text": [
      "Enter the number of children you want for the  4\n"
     ]
    },
    {
     "name": "stdin",
     "output_type": "stream",
     "text": [
      " 0\n"
     ]
    },
    {
     "name": "stdout",
     "output_type": "stream",
     "text": [
      "1 : 3 , 4 , \n",
      "3 : \n",
      "4 : \n"
     ]
    }
   ],
   "source": [
    "# isidentical\n",
    "import queue\n",
    "\n",
    "class GenericTree:\n",
    "    def __init__(self, data):\n",
    "        self.data = data\n",
    "        self.children = []\n",
    "\n",
    "def printDetailedTree(root):\n",
    "    if root is None:\n",
    "        return \n",
    "    print(root.data, end=\" : \")\n",
    "    for child in root.children:\n",
    "        print(child.data, \", \", end=\"\")\n",
    "    print()\n",
    "    for child in root.children:\n",
    "        printDetailedTree(child)\n",
    "\n",
    "def takeInput():\n",
    "    q = queue.Queue()\n",
    "    print(\"Enter the root data :\")\n",
    "    rootData = int(input())\n",
    "    if rootData == -1:\n",
    "        return None\n",
    "    root = GenericTree(rootData)\n",
    "    q.put(root)\n",
    "    while not q.empty():\n",
    "        currentNode = q.get()\n",
    "        print(\"Enter the number of children you want for the \", currentNode.data)\n",
    "        childNum = int(input())\n",
    "\n",
    "        for i in range(1,childNum+1):\n",
    "            print(\"Enter \", i,\" the child for \", currentNode.data)\n",
    "            childInput = int(input())\n",
    "            child = GenericTree(childInput)\n",
    "            currentNode.children.append(child)\n",
    "            q.put(child)\n",
    "\n",
    "    return root\n",
    "root = takeInput()   \n",
    "printDetailedTree(root)"
   ]
  },
  {
   "cell_type": "code",
   "execution_count": null,
   "id": "776d9ba3-6cd4-4a6e-9593-d7b559c0fe59",
   "metadata": {},
   "outputs": [],
   "source": []
  }
 ],
 "metadata": {
  "kernelspec": {
   "display_name": "Python 3 (ipykernel)",
   "language": "python",
   "name": "python3"
  },
  "language_info": {
   "codemirror_mode": {
    "name": "ipython",
    "version": 3
   },
   "file_extension": ".py",
   "mimetype": "text/x-python",
   "name": "python",
   "nbconvert_exporter": "python",
   "pygments_lexer": "ipython3",
   "version": "3.10.7"
  }
 },
 "nbformat": 4,
 "nbformat_minor": 5
}
