{
 "cells": [
  {
   "cell_type": "markdown",
   "id": "b7bd829b",
   "metadata": {},
   "source": [
    "#### Enqueue = Inserting the element in the queue\n",
    "#### Dequeue = Popping the element from the queue\n",
    "#### Size = Size of the queue\n",
    "#### isEmpty = Checking the queue is empty or not\n",
    "#### front = Top most element of the queue"
   ]
  },
  {
   "cell_type": "code",
   "execution_count": 1,
   "id": "3e686dfe",
   "metadata": {},
   "outputs": [],
   "source": [
    "class Queue:\n",
    "    def __init__(self):\n",
    "        # creating a empty list with the private variable so that the variable cant be accessed outside the class\n",
    "        self.__data = []\n",
    "        self.__count = 0\n",
    "        self.__front = 0\n",
    "     \n",
    "    def enqueue(self,element):\n",
    "        self.__data.append(element)\n",
    "        self.__count += 1\n",
    "        \n",
    "    def dequeue(self):\n",
    "        if self.isEmpty():\n",
    "            print(\"Hey buddy the queue is empty and will not able to pop the element\")\n",
    "            return\n",
    "        element = self.__data[self.__front]\n",
    "        self.__front = self.__front + 1\n",
    "        self.__count -= 1\n",
    "        return element\n",
    "    \n",
    "    def front(self):\n",
    "        if self.isEmpty():\n",
    "            print(\"Hey brother you queue is empty\")\n",
    "        return self.__data[self.__front]\n",
    "    \n",
    "    def size(self):\n",
    "        return self.__count\n",
    "    \n",
    "    def isEmpty(self):\n",
    "        return self.size() == 0\n",
    "    \n",
    "queue = Queue()\n",
    "queue.enqueue(10)\n",
    "queue.enqueue(40)\n",
    "queue.enqueue(30)\n",
    "queue.enqueue(70)"
   ]
  },
  {
   "cell_type": "code",
   "execution_count": 2,
   "id": "bace67ff",
   "metadata": {},
   "outputs": [
    {
     "data": {
      "text/plain": [
       "4"
      ]
     },
     "execution_count": 2,
     "metadata": {},
     "output_type": "execute_result"
    }
   ],
   "source": [
    "queue.size()"
   ]
  },
  {
   "cell_type": "code",
   "execution_count": 3,
   "id": "1eae10ec",
   "metadata": {},
   "outputs": [
    {
     "data": {
      "text/plain": [
       "False"
      ]
     },
     "execution_count": 3,
     "metadata": {},
     "output_type": "execute_result"
    }
   ],
   "source": [
    "queue.isEmpty()"
   ]
  },
  {
   "cell_type": "code",
   "execution_count": 4,
   "id": "481fb919",
   "metadata": {},
   "outputs": [
    {
     "name": "stdout",
     "output_type": "stream",
     "text": [
      "10\n",
      "40\n",
      "30\n",
      "70\n"
     ]
    }
   ],
   "source": [
    "while queue.isEmpty() is False:\n",
    "    #print(queue.front())\n",
    "    print(queue.dequeue())"
   ]
  },
  {
   "cell_type": "code",
   "execution_count": 5,
   "id": "b9e4689f",
   "metadata": {},
   "outputs": [],
   "source": [
    "class Node:\n",
    "    def __init__(self, data):\n",
    "        self.data = data\n",
    "        self.next = None\n",
    "        \n",
    "class Queue:\n",
    "    def __init__(self):\n",
    "        self.__head = None\n",
    "        self.__tail = None\n",
    "        self.__count = 0\n",
    "        \n",
    "    def enqueue(self, val):\n",
    "        newNode = Node(val)\n",
    "        if self.__head is None:\n",
    "            self.__head = newNode\n",
    "            #self.__tail = newNode\n",
    "        else:\n",
    "            self.__tail.next = newNode\n",
    "        self.__tail = newNode\n",
    "        self.__count += 1\n",
    "            \n",
    "    def dequeue(self):\n",
    "        if self.isEmpty():\n",
    "            print(\"Hey brother your queue is empty\")\n",
    "            return \n",
    "        data = self.__head.data\n",
    "        self.__head = self.__head.next\n",
    "        self.__count -= 1\n",
    "        return data\n",
    "    \n",
    "    def front(self):\n",
    "        if self.isEmpty():\n",
    "            print(\"Hey brother your queue is empty\")\n",
    "            return\n",
    "        data = self.__head.data\n",
    "        return data\n",
    "    \n",
    "    def size(self):\n",
    "        return self.__count\n",
    "    \n",
    "    def isEmpty(self):\n",
    "        return self.__count == 0\n",
    "    \n",
    "q = Queue()\n",
    "q.enqueue(1)\n",
    "q.enqueue(2)\n",
    "q.enqueue(3)"
   ]
  },
  {
   "cell_type": "code",
   "execution_count": 6,
   "id": "5ecadad9",
   "metadata": {},
   "outputs": [
    {
     "data": {
      "text/plain": [
       "3"
      ]
     },
     "execution_count": 6,
     "metadata": {},
     "output_type": "execute_result"
    }
   ],
   "source": [
    "q.size()"
   ]
  },
  {
   "cell_type": "code",
   "execution_count": 7,
   "id": "939b3ed4",
   "metadata": {},
   "outputs": [
    {
     "data": {
      "text/plain": [
       "False"
      ]
     },
     "execution_count": 7,
     "metadata": {},
     "output_type": "execute_result"
    }
   ],
   "source": [
    "q.isEmpty()"
   ]
  },
  {
   "cell_type": "code",
   "execution_count": 8,
   "id": "88271902",
   "metadata": {},
   "outputs": [
    {
     "data": {
      "text/plain": [
       "1"
      ]
     },
     "execution_count": 8,
     "metadata": {},
     "output_type": "execute_result"
    }
   ],
   "source": [
    "q.front()"
   ]
  },
  {
   "cell_type": "code",
   "execution_count": 9,
   "id": "1f04b324",
   "metadata": {},
   "outputs": [
    {
     "name": "stdout",
     "output_type": "stream",
     "text": [
      "1\n",
      "2\n",
      "3\n"
     ]
    }
   ],
   "source": [
    "while q.isEmpty() is False:\n",
    "    print(q.dequeue())"
   ]
  },
  {
   "cell_type": "markdown",
   "id": "40b0cc29",
   "metadata": {},
   "source": [
    "### In queue we can use it as a list but it cant be efficient as compared to stack so python3 onwards the python provided queue library"
   ]
  },
  {
   "cell_type": "code",
   "execution_count": 10,
   "id": "c063d771",
   "metadata": {},
   "outputs": [
    {
     "name": "stdout",
     "output_type": "stream",
     "text": [
      "5\n",
      "4\n"
     ]
    }
   ],
   "source": [
    "# inbuilt stack as a list\n",
    "s = [1,2,3]\n",
    "s.append(4)\n",
    "s.append(5)\n",
    "print(s.pop())\n",
    "print(s.pop())"
   ]
  },
  {
   "cell_type": "code",
   "execution_count": 11,
   "id": "179e75fa",
   "metadata": {},
   "outputs": [],
   "source": [
    "# now we use queue library for queue\n",
    "# in queue to enqueue the element we use put\n",
    "# in queue to dequeue the element we use get \n",
    "import queue\n",
    "# here Queue is a inbuilt class\n",
    "q = queue.Queue()\n",
    "q.put(1)\n",
    "q.put(2)\n",
    "q.put(3)"
   ]
  },
  {
   "cell_type": "code",
   "execution_count": 12,
   "id": "e96cb32e",
   "metadata": {},
   "outputs": [
    {
     "name": "stdout",
     "output_type": "stream",
     "text": [
      "1\n",
      "2\n",
      "3\n"
     ]
    }
   ],
   "source": [
    "while q.empty() is False:\n",
    "    print(q.get())"
   ]
  },
  {
   "cell_type": "markdown",
   "id": "eb01a521",
   "metadata": {},
   "source": [
    "### we can implement stack also using these queue library which has LifoQueue which is actually a stack"
   ]
  },
  {
   "cell_type": "code",
   "execution_count": 13,
   "id": "e3971474",
   "metadata": {},
   "outputs": [],
   "source": [
    "# stack implementation using queue library\n",
    "q = queue.LifoQueue()\n",
    "q.put(1)\n",
    "q.put(2)\n",
    "q.put(3)"
   ]
  },
  {
   "cell_type": "code",
   "execution_count": 14,
   "id": "f9890ae7",
   "metadata": {},
   "outputs": [
    {
     "data": {
      "text/plain": [
       "3"
      ]
     },
     "execution_count": 14,
     "metadata": {},
     "output_type": "execute_result"
    }
   ],
   "source": [
    "q.qsize()"
   ]
  },
  {
   "cell_type": "code",
   "execution_count": 15,
   "id": "b3d9f2f5",
   "metadata": {},
   "outputs": [
    {
     "name": "stdout",
     "output_type": "stream",
     "text": [
      "3\n",
      "2\n",
      "1\n"
     ]
    }
   ],
   "source": [
    "while q.empty() is False:\n",
    "    print(q.get())"
   ]
  },
  {
   "cell_type": "markdown",
   "id": "f52edecd",
   "metadata": {},
   "source": [
    "### in queue library to get the size of queue use qsize(), to append the element use put() to remove the element use get()"
   ]
  },
  {
   "cell_type": "markdown",
   "id": "13376507",
   "metadata": {},
   "source": [
    "### and in collection.deque to append element at the right use append() and to append element at the left use appendleft()"
   ]
  },
  {
   "cell_type": "code",
   "execution_count": 16,
   "id": "c4bc5199",
   "metadata": {},
   "outputs": [],
   "source": [
    "from collections import deque\n",
    "arr = deque([1,2,3])\n",
    "arr.append(4)"
   ]
  },
  {
   "cell_type": "code",
   "execution_count": 17,
   "id": "6be3743b",
   "metadata": {},
   "outputs": [
    {
     "data": {
      "text/plain": [
       "deque([1, 2, 3, 4])"
      ]
     },
     "execution_count": 17,
     "metadata": {},
     "output_type": "execute_result"
    }
   ],
   "source": [
    "arr"
   ]
  },
  {
   "cell_type": "code",
   "execution_count": 18,
   "id": "597cbbb0",
   "metadata": {},
   "outputs": [],
   "source": [
    "arr.appendleft(5)"
   ]
  },
  {
   "cell_type": "code",
   "execution_count": 19,
   "id": "9b2c8d95",
   "metadata": {},
   "outputs": [
    {
     "data": {
      "text/plain": [
       "deque([5, 1, 2, 3, 4])"
      ]
     },
     "execution_count": 19,
     "metadata": {},
     "output_type": "execute_result"
    }
   ],
   "source": [
    "arr"
   ]
  },
  {
   "cell_type": "code",
   "execution_count": 20,
   "id": "d62ffd54",
   "metadata": {},
   "outputs": [
    {
     "data": {
      "text/plain": [
       "4"
      ]
     },
     "execution_count": 20,
     "metadata": {},
     "output_type": "execute_result"
    }
   ],
   "source": [
    "arr.pop()"
   ]
  },
  {
   "cell_type": "code",
   "execution_count": 21,
   "id": "432a8f29",
   "metadata": {},
   "outputs": [
    {
     "data": {
      "text/plain": [
       "5"
      ]
     },
     "execution_count": 21,
     "metadata": {},
     "output_type": "execute_result"
    }
   ],
   "source": [
    "arr.popleft()"
   ]
  },
  {
   "cell_type": "code",
   "execution_count": 23,
   "id": "a0c5bbe6",
   "metadata": {},
   "outputs": [
    {
     "data": {
      "text/plain": [
       "3"
      ]
     },
     "execution_count": 23,
     "metadata": {},
     "output_type": "execute_result"
    }
   ],
   "source": [
    "len(arr)"
   ]
  },
  {
   "cell_type": "code",
   "execution_count": null,
   "id": "7e81b356",
   "metadata": {},
   "outputs": [],
   "source": []
  }
 ],
 "metadata": {
  "kernelspec": {
   "display_name": "Python 3 (ipykernel)",
   "language": "python",
   "name": "python3"
  },
  "language_info": {
   "codemirror_mode": {
    "name": "ipython",
    "version": 3
   },
   "file_extension": ".py",
   "mimetype": "text/x-python",
   "name": "python",
   "nbconvert_exporter": "python",
   "pygments_lexer": "ipython3",
   "version": "3.10.7"
  }
 },
 "nbformat": 4,
 "nbformat_minor": 5
}
